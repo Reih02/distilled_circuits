{
 "cells": [
  {
   "cell_type": "code",
   "execution_count": 1,
   "metadata": {
    "executionInfo": {
     "elapsed": 19,
     "status": "ok",
     "timestamp": 1743470818725,
     "user": {
      "displayName": "Reilly H",
      "userId": "05616995266737589283"
     },
     "user_tz": -780
    },
    "id": "10ZwHh64kLjS"
   },
   "outputs": [],
   "source": [
    "import random\n",
    "random.seed(42)"
   ]
  },
  {
   "cell_type": "code",
   "execution_count": 2,
   "metadata": {
    "executionInfo": {
     "elapsed": 21,
     "status": "ok",
     "timestamp": 1743470818747,
     "user": {
      "displayName": "Reilly H",
      "userId": "05616995266737589283"
     },
     "user_tz": -780
    },
    "id": "bul-a9dBkLjU"
   },
   "outputs": [],
   "source": [
    "NUM_SAMPLES = 100 # number of samples from the dataset to use"
   ]
  },
  {
   "cell_type": "code",
   "execution_count": 3,
   "metadata": {
    "colab": {
     "base_uri": "https://localhost:8080/"
    },
    "executionInfo": {
     "elapsed": 17298,
     "status": "ok",
     "timestamp": 1743470836043,
     "user": {
      "displayName": "Reilly H",
      "userId": "05616995266737589283"
     },
     "user_tz": -780
    },
    "id": "B0IPETOkkLjU",
    "outputId": "cfae5b06-a830-4d27-cbda-a4f3f53dc729"
   },
   "outputs": [
    {
     "name": "stdout",
     "output_type": "stream",
     "text": [
      "Collecting git+https://github.com/neelnanda-io/TransformerLens.git\n",
      "  Cloning https://github.com/neelnanda-io/TransformerLens.git to c:\\users\\reill\\appdata\\local\\temp\\pip-req-build-k4j5e78m\n",
      "  Resolved https://github.com/neelnanda-io/TransformerLens.git to commit e65fafb4791c66076bc54ec9731920de1e8c676f\n",
      "  Installing build dependencies: started\n",
      "  Installing build dependencies: finished with status 'done'\n",
      "  Getting requirements to build wheel: started\n",
      "  Getting requirements to build wheel: finished with status 'done'\n",
      "  Preparing metadata (pyproject.toml): started\n",
      "  Preparing metadata (pyproject.toml): finished with status 'done'\n",
      "Requirement already satisfied: accelerate>=0.23.0 in c:\\users\\reill\\appdata\\local\\programs\\python\\python312\\lib\\site-packages (from transformer-lens==0.0.0) (1.5.2)\n",
      "Requirement already satisfied: beartype<0.15.0,>=0.14.1 in c:\\users\\reill\\appdata\\local\\programs\\python\\python312\\lib\\site-packages (from transformer-lens==0.0.0) (0.14.1)\n",
      "Requirement already satisfied: better-abc<0.0.4,>=0.0.3 in c:\\users\\reill\\appdata\\local\\programs\\python\\python312\\lib\\site-packages (from transformer-lens==0.0.0) (0.0.3)\n",
      "Requirement already satisfied: datasets>=2.7.1 in c:\\users\\reill\\appdata\\local\\programs\\python\\python312\\lib\\site-packages (from transformer-lens==0.0.0) (2.20.0)\n",
      "Requirement already satisfied: einops>=0.6.0 in c:\\users\\reill\\appdata\\local\\programs\\python\\python312\\lib\\site-packages (from transformer-lens==0.0.0) (0.8.1)\n",
      "Requirement already satisfied: fancy-einsum>=0.0.3 in c:\\users\\reill\\appdata\\local\\programs\\python\\python312\\lib\\site-packages (from transformer-lens==0.0.0) (0.0.3)\n",
      "Requirement already satisfied: jaxtyping>=0.2.11 in c:\\users\\reill\\appdata\\local\\programs\\python\\python312\\lib\\site-packages (from transformer-lens==0.0.0) (0.3.0)\n",
      "Requirement already satisfied: numpy>=1.26 in c:\\users\\reill\\appdata\\local\\programs\\python\\python312\\lib\\site-packages (from transformer-lens==0.0.0) (1.26.4)\n",
      "Requirement already satisfied: pandas>=1.1.5 in c:\\users\\reill\\appdata\\local\\programs\\python\\python312\\lib\\site-packages (from transformer-lens==0.0.0) (2.2.2)\n",
      "Requirement already satisfied: rich>=12.6.0 in c:\\users\\reill\\appdata\\local\\programs\\python\\python312\\lib\\site-packages (from transformer-lens==0.0.0) (13.7.1)\n",
      "Requirement already satisfied: sentencepiece in c:\\users\\reill\\appdata\\local\\programs\\python\\python312\\lib\\site-packages (from transformer-lens==0.0.0) (0.2.0)\n",
      "Requirement already satisfied: torch>=2.2 in c:\\users\\reill\\appdata\\local\\programs\\python\\python312\\lib\\site-packages (from transformer-lens==0.0.0) (2.3.1)\n",
      "Requirement already satisfied: tqdm>=4.64.1 in c:\\users\\reill\\appdata\\local\\programs\\python\\python312\\lib\\site-packages (from transformer-lens==0.0.0) (4.66.4)\n",
      "Requirement already satisfied: transformers>=4.43 in c:\\users\\reill\\appdata\\local\\programs\\python\\python312\\lib\\site-packages (from transformer-lens==0.0.0) (4.44.2)\n",
      "Requirement already satisfied: transformers-stream-generator<0.0.6,>=0.0.5 in c:\\users\\reill\\appdata\\local\\programs\\python\\python312\\lib\\site-packages (from transformer-lens==0.0.0) (0.0.5)\n",
      "Requirement already satisfied: typeguard<5.0,>=4.2 in c:\\users\\reill\\appdata\\local\\programs\\python\\python312\\lib\\site-packages (from transformer-lens==0.0.0) (4.4.2)\n",
      "Requirement already satisfied: typing-extensions in c:\\users\\reill\\appdata\\local\\programs\\python\\python312\\lib\\site-packages (from transformer-lens==0.0.0) (4.12.1)\n",
      "Requirement already satisfied: wandb>=0.13.5 in c:\\users\\reill\\appdata\\local\\programs\\python\\python312\\lib\\site-packages (from transformer-lens==0.0.0) (0.19.8)\n",
      "Requirement already satisfied: packaging>=20.0 in c:\\users\\reill\\appdata\\local\\programs\\python\\python312\\lib\\site-packages (from accelerate>=0.23.0->transformer-lens==0.0.0) (23.2)\n",
      "Requirement already satisfied: psutil in c:\\users\\reill\\appdata\\roaming\\python\\python312\\site-packages (from accelerate>=0.23.0->transformer-lens==0.0.0) (7.0.0)\n",
      "Requirement already satisfied: pyyaml in c:\\users\\reill\\appdata\\local\\programs\\python\\python312\\lib\\site-packages (from accelerate>=0.23.0->transformer-lens==0.0.0) (6.0.1)\n",
      "Requirement already satisfied: huggingface-hub>=0.21.0 in c:\\users\\reill\\appdata\\local\\programs\\python\\python312\\lib\\site-packages (from accelerate>=0.23.0->transformer-lens==0.0.0) (0.24.6)\n",
      "Requirement already satisfied: safetensors>=0.4.3 in c:\\users\\reill\\appdata\\local\\programs\\python\\python312\\lib\\site-packages (from accelerate>=0.23.0->transformer-lens==0.0.0) (0.4.5)\n",
      "Requirement already satisfied: filelock in c:\\users\\reill\\appdata\\local\\programs\\python\\python312\\lib\\site-packages (from datasets>=2.7.1->transformer-lens==0.0.0) (3.15.4)\n",
      "Requirement already satisfied: pyarrow>=15.0.0 in c:\\users\\reill\\appdata\\local\\programs\\python\\python312\\lib\\site-packages (from datasets>=2.7.1->transformer-lens==0.0.0) (16.1.0)\n",
      "Requirement already satisfied: pyarrow-hotfix in c:\\users\\reill\\appdata\\local\\programs\\python\\python312\\lib\\site-packages (from datasets>=2.7.1->transformer-lens==0.0.0) (0.6)\n",
      "Requirement already satisfied: dill<0.3.9,>=0.3.0 in c:\\users\\reill\\appdata\\local\\programs\\python\\python312\\lib\\site-packages (from datasets>=2.7.1->transformer-lens==0.0.0) (0.3.8)\n",
      "Requirement already satisfied: requests>=2.32.2 in c:\\users\\reill\\appdata\\local\\programs\\python\\python312\\lib\\site-packages (from datasets>=2.7.1->transformer-lens==0.0.0) (2.32.3)\n",
      "Requirement already satisfied: xxhash in c:\\users\\reill\\appdata\\local\\programs\\python\\python312\\lib\\site-packages (from datasets>=2.7.1->transformer-lens==0.0.0) (3.4.1)\n",
      "Requirement already satisfied: multiprocess in c:\\users\\reill\\appdata\\local\\programs\\python\\python312\\lib\\site-packages (from datasets>=2.7.1->transformer-lens==0.0.0) (0.70.16)\n",
      "Requirement already satisfied: fsspec<=2024.5.0,>=2023.1.0 in c:\\users\\reill\\appdata\\local\\programs\\python\\python312\\lib\\site-packages (from fsspec[http]<=2024.5.0,>=2023.1.0->datasets>=2.7.1->transformer-lens==0.0.0) (2024.5.0)\n",
      "Requirement already satisfied: aiohttp in c:\\users\\reill\\appdata\\local\\programs\\python\\python312\\lib\\site-packages (from datasets>=2.7.1->transformer-lens==0.0.0) (3.9.5)\n",
      "Requirement already satisfied: wadler-lindig>=0.1.3 in c:\\users\\reill\\appdata\\local\\programs\\python\\python312\\lib\\site-packages (from jaxtyping>=0.2.11->transformer-lens==0.0.0) (0.1.4)\n",
      "Requirement already satisfied: python-dateutil>=2.8.2 in c:\\users\\reill\\appdata\\local\\programs\\python\\python312\\lib\\site-packages (from pandas>=1.1.5->transformer-lens==0.0.0) (2.9.0.post0)\n",
      "Requirement already satisfied: pytz>=2020.1 in c:\\users\\reill\\appdata\\local\\programs\\python\\python312\\lib\\site-packages (from pandas>=1.1.5->transformer-lens==0.0.0) (2024.1)\n",
      "Requirement already satisfied: tzdata>=2022.7 in c:\\users\\reill\\appdata\\local\\programs\\python\\python312\\lib\\site-packages (from pandas>=1.1.5->transformer-lens==0.0.0) (2024.1)\n",
      "Requirement already satisfied: markdown-it-py>=2.2.0 in c:\\users\\reill\\appdata\\local\\programs\\python\\python312\\lib\\site-packages (from rich>=12.6.0->transformer-lens==0.0.0) (3.0.0)\n",
      "Requirement already satisfied: pygments<3.0.0,>=2.13.0 in c:\\users\\reill\\appdata\\local\\programs\\python\\python312\\lib\\site-packages (from rich>=12.6.0->transformer-lens==0.0.0) (2.18.0)\n",
      "Requirement already satisfied: sympy in c:\\users\\reill\\appdata\\local\\programs\\python\\python312\\lib\\site-packages (from torch>=2.2->transformer-lens==0.0.0) (1.12.1)\n",
      "Requirement already satisfied: networkx in c:\\users\\reill\\appdata\\local\\programs\\python\\python312\\lib\\site-packages (from torch>=2.2->transformer-lens==0.0.0) (3.3)\n",
      "Requirement already satisfied: jinja2 in c:\\users\\reill\\appdata\\local\\programs\\python\\python312\\lib\\site-packages (from torch>=2.2->transformer-lens==0.0.0) (3.1.4)\n",
      "Requirement already satisfied: mkl<=2021.4.0,>=2021.1.1 in c:\\users\\reill\\appdata\\local\\programs\\python\\python312\\lib\\site-packages (from torch>=2.2->transformer-lens==0.0.0) (2021.4.0)\n",
      "Requirement already satisfied: colorama in c:\\users\\reill\\appdata\\local\\programs\\python\\python312\\lib\\site-packages (from tqdm>=4.64.1->transformer-lens==0.0.0) (0.4.6)\n",
      "Requirement already satisfied: regex!=2019.12.17 in c:\\users\\reill\\appdata\\local\\programs\\python\\python312\\lib\\site-packages (from transformers>=4.43->transformer-lens==0.0.0) (2024.5.15)\n",
      "Requirement already satisfied: tokenizers<0.20,>=0.19 in c:\\users\\reill\\appdata\\local\\programs\\python\\python312\\lib\\site-packages (from transformers>=4.43->transformer-lens==0.0.0) (0.19.1)\n",
      "Requirement already satisfied: click!=8.0.0,>=7.1 in c:\\users\\reill\\appdata\\local\\programs\\python\\python312\\lib\\site-packages (from wandb>=0.13.5->transformer-lens==0.0.0) (8.1.7)\n",
      "Requirement already satisfied: docker-pycreds>=0.4.0 in c:\\users\\reill\\appdata\\local\\programs\\python\\python312\\lib\\site-packages (from wandb>=0.13.5->transformer-lens==0.0.0) (0.4.0)\n",
      "Requirement already satisfied: gitpython!=3.1.29,>=1.0.0 in c:\\users\\reill\\appdata\\local\\programs\\python\\python312\\lib\\site-packages (from wandb>=0.13.5->transformer-lens==0.0.0) (3.1.44)\n",
      "Requirement already satisfied: platformdirs in c:\\users\\reill\\appdata\\local\\programs\\python\\python312\\lib\\site-packages (from wandb>=0.13.5->transformer-lens==0.0.0) (4.2.2)\n",
      "Requirement already satisfied: protobuf!=4.21.0,!=5.28.0,<6,>=3.19.0 in c:\\users\\reill\\appdata\\local\\programs\\python\\python312\\lib\\site-packages (from wandb>=0.13.5->transformer-lens==0.0.0) (4.25.3)\n",
      "Requirement already satisfied: pydantic<3,>=2.6 in c:\\users\\reill\\appdata\\local\\programs\\python\\python312\\lib\\site-packages (from wandb>=0.13.5->transformer-lens==0.0.0) (2.7.4)\n",
      "Requirement already satisfied: sentry-sdk>=2.0.0 in c:\\users\\reill\\appdata\\local\\programs\\python\\python312\\lib\\site-packages (from wandb>=0.13.5->transformer-lens==0.0.0) (2.24.1)\n",
      "Requirement already satisfied: setproctitle in c:\\users\\reill\\appdata\\local\\programs\\python\\python312\\lib\\site-packages (from wandb>=0.13.5->transformer-lens==0.0.0) (1.3.5)\n",
      "Requirement already satisfied: setuptools in c:\\users\\reill\\appdata\\local\\programs\\python\\python312\\lib\\site-packages (from wandb>=0.13.5->transformer-lens==0.0.0) (73.0.1)\n",
      "Requirement already satisfied: six>=1.4.0 in c:\\users\\reill\\appdata\\local\\programs\\python\\python312\\lib\\site-packages (from docker-pycreds>=0.4.0->wandb>=0.13.5->transformer-lens==0.0.0) (1.16.0)\n",
      "Requirement already satisfied: aiosignal>=1.1.2 in c:\\users\\reill\\appdata\\local\\programs\\python\\python312\\lib\\site-packages (from aiohttp->datasets>=2.7.1->transformer-lens==0.0.0) (1.3.1)\n",
      "Requirement already satisfied: attrs>=17.3.0 in c:\\users\\reill\\appdata\\local\\programs\\python\\python312\\lib\\site-packages (from aiohttp->datasets>=2.7.1->transformer-lens==0.0.0) (23.2.0)\n",
      "Requirement already satisfied: frozenlist>=1.1.1 in c:\\users\\reill\\appdata\\local\\programs\\python\\python312\\lib\\site-packages (from aiohttp->datasets>=2.7.1->transformer-lens==0.0.0) (1.4.1)\n",
      "Requirement already satisfied: multidict<7.0,>=4.5 in c:\\users\\reill\\appdata\\local\\programs\\python\\python312\\lib\\site-packages (from aiohttp->datasets>=2.7.1->transformer-lens==0.0.0) (6.0.5)\n",
      "Requirement already satisfied: yarl<2.0,>=1.0 in c:\\users\\reill\\appdata\\local\\programs\\python\\python312\\lib\\site-packages (from aiohttp->datasets>=2.7.1->transformer-lens==0.0.0) (1.9.4)\n",
      "Requirement already satisfied: gitdb<5,>=4.0.1 in c:\\users\\reill\\appdata\\local\\programs\\python\\python312\\lib\\site-packages (from gitpython!=3.1.29,>=1.0.0->wandb>=0.13.5->transformer-lens==0.0.0) (4.0.12)\n",
      "Requirement already satisfied: mdurl~=0.1 in c:\\users\\reill\\appdata\\local\\programs\\python\\python312\\lib\\site-packages (from markdown-it-py>=2.2.0->rich>=12.6.0->transformer-lens==0.0.0) (0.1.2)\n",
      "Requirement already satisfied: intel-openmp==2021.* in c:\\users\\reill\\appdata\\local\\programs\\python\\python312\\lib\\site-packages (from mkl<=2021.4.0,>=2021.1.1->torch>=2.2->transformer-lens==0.0.0) (2021.4.0)\n",
      "Requirement already satisfied: tbb==2021.* in c:\\users\\reill\\appdata\\local\\programs\\python\\python312\\lib\\site-packages (from mkl<=2021.4.0,>=2021.1.1->torch>=2.2->transformer-lens==0.0.0) (2021.13.0)\n",
      "Requirement already satisfied: annotated-types>=0.4.0 in c:\\users\\reill\\appdata\\local\\programs\\python\\python312\\lib\\site-packages (from pydantic<3,>=2.6->wandb>=0.13.5->transformer-lens==0.0.0) (0.7.0)\n",
      "Requirement already satisfied: pydantic-core==2.18.4 in c:\\users\\reill\\appdata\\local\\programs\\python\\python312\\lib\\site-packages (from pydantic<3,>=2.6->wandb>=0.13.5->transformer-lens==0.0.0) (2.18.4)\n",
      "Requirement already satisfied: charset-normalizer<4,>=2 in c:\\users\\reill\\appdata\\local\\programs\\python\\python312\\lib\\site-packages (from requests>=2.32.2->datasets>=2.7.1->transformer-lens==0.0.0) (3.3.2)\n",
      "Requirement already satisfied: idna<4,>=2.5 in c:\\users\\reill\\appdata\\local\\programs\\python\\python312\\lib\\site-packages (from requests>=2.32.2->datasets>=2.7.1->transformer-lens==0.0.0) (3.7)\n",
      "Requirement already satisfied: urllib3<3,>=1.21.1 in c:\\users\\reill\\appdata\\local\\programs\\python\\python312\\lib\\site-packages (from requests>=2.32.2->datasets>=2.7.1->transformer-lens==0.0.0) (2.2.1)\n",
      "Requirement already satisfied: certifi>=2017.4.17 in c:\\users\\reill\\appdata\\local\\programs\\python\\python312\\lib\\site-packages (from requests>=2.32.2->datasets>=2.7.1->transformer-lens==0.0.0) (2024.6.2)\n",
      "Requirement already satisfied: MarkupSafe>=2.0 in c:\\users\\reill\\appdata\\local\\programs\\python\\python312\\lib\\site-packages (from jinja2->torch>=2.2->transformer-lens==0.0.0) (2.1.5)\n",
      "Requirement already satisfied: mpmath<1.4.0,>=1.1.0 in c:\\users\\reill\\appdata\\local\\programs\\python\\python312\\lib\\site-packages (from sympy->torch>=2.2->transformer-lens==0.0.0) (1.3.0)\n",
      "Requirement already satisfied: smmap<6,>=3.0.1 in c:\\users\\reill\\appdata\\local\\programs\\python\\python312\\lib\\site-packages (from gitdb<5,>=4.0.1->gitpython!=3.1.29,>=1.0.0->wandb>=0.13.5->transformer-lens==0.0.0) (5.0.2)\n",
      "Note: you may need to restart the kernel to use updated packages.\n"
     ]
    },
    {
     "name": "stderr",
     "output_type": "stream",
     "text": [
      "  Running command git clone --filter=blob:none --quiet https://github.com/neelnanda-io/TransformerLens.git 'C:\\Users\\reill\\AppData\\Local\\Temp\\pip-req-build-k4j5e78m'\n",
      "\n",
      "[notice] A new release of pip is available: 24.0 -> 25.0.1\n",
      "[notice] To update, run: python.exe -m pip install --upgrade pip\n"
     ]
    }
   ],
   "source": [
    "%pip install git+https://github.com/neelnanda-io/TransformerLens.git"
   ]
  },
  {
   "cell_type": "code",
   "execution_count": 4,
   "metadata": {
    "colab": {
     "base_uri": "https://localhost:8080/"
    },
    "executionInfo": {
     "elapsed": 11618,
     "status": "ok",
     "timestamp": 1743470847663,
     "user": {
      "displayName": "Reilly H",
      "userId": "05616995266737589283"
     },
     "user_tz": -780
    },
    "id": "QEH-I5cKkLjW",
    "outputId": "9cb059ae-c6f2-497c-ecdf-2ffd619dd4f6"
   },
   "outputs": [
    {
     "name": "stderr",
     "output_type": "stream",
     "text": [
      "c:\\Users\\reill\\AppData\\Local\\Programs\\Python\\Python312\\Lib\\site-packages\\tqdm\\auto.py:21: TqdmWarning: IProgress not found. Please update jupyter and ipywidgets. See https://ipywidgets.readthedocs.io/en/stable/user_install.html\n",
      "  from .autonotebook import tqdm as notebook_tqdm\n"
     ]
    },
    {
     "data": {
      "text/plain": [
       "<torch.autograd.grad_mode.set_grad_enabled at 0x1dbddf4d700>"
      ]
     },
     "execution_count": 4,
     "metadata": {},
     "output_type": "execute_result"
    }
   ],
   "source": [
    "from transformer_lens import HookedTransformer\n",
    "import torch\n",
    "torch.manual_seed(0)\n",
    "torch.set_grad_enabled(False)  # turn automatic differentiation off to save mem"
   ]
  },
  {
   "cell_type": "code",
   "execution_count": 5,
   "metadata": {
    "executionInfo": {
     "elapsed": 10,
     "status": "ok",
     "timestamp": 1743470847675,
     "user": {
      "displayName": "Reilly H",
      "userId": "05616995266737589283"
     },
     "user_tz": -780
    },
    "id": "l7mjs2d2kLjW"
   },
   "outputs": [],
   "source": [
    "teacher_str = 'gpt2-small'\n",
    "student_str = 'distillgpt2'"
   ]
  },
  {
   "cell_type": "code",
   "execution_count": 6,
   "metadata": {
    "colab": {
     "base_uri": "https://localhost:8080/"
    },
    "executionInfo": {
     "elapsed": 10833,
     "status": "ok",
     "timestamp": 1743470858509,
     "user": {
      "displayName": "Reilly H",
      "userId": "05616995266737589283"
     },
     "user_tz": -780
    },
    "id": "_rQxYU7fkLjW",
    "outputId": "8d3de47a-964f-4803-8509-462f0e340341"
   },
   "outputs": [
    {
     "name": "stderr",
     "output_type": "stream",
     "text": [
      "c:\\Users\\reill\\AppData\\Local\\Programs\\Python\\Python312\\Lib\\site-packages\\transformers\\tokenization_utils_base.py:1601: FutureWarning: `clean_up_tokenization_spaces` was not set. It will be set to `True` by default. This behavior will be depracted in transformers v4.45, and will be then set to `False` by default. For more details check this issue: https://github.com/huggingface/transformers/issues/31884\n",
      "  warnings.warn(\n"
     ]
    },
    {
     "name": "stdout",
     "output_type": "stream",
     "text": [
      "Loaded pretrained model gpt2-small into HookedTransformer\n",
      "Loaded pretrained model distillgpt2 into HookedTransformer\n"
     ]
    }
   ],
   "source": [
    "teacher = HookedTransformer.from_pretrained(\n",
    "    teacher_str,\n",
    "    center_unembed=True,\n",
    "    center_writing_weights=True,\n",
    "    fold_ln=True,\n",
    "    refactor_factored_attn_matrices=True,\n",
    ")\n",
    "\n",
    "student = HookedTransformer.from_pretrained(\n",
    "    student_str,\n",
    "    center_unembed=True,\n",
    "    center_writing_weights=True,\n",
    "    fold_ln=True,\n",
    "    refactor_factored_attn_matrices=True,\n",
    ")"
   ]
  },
  {
   "cell_type": "code",
   "execution_count": 7,
   "metadata": {
    "executionInfo": {
     "elapsed": 3586,
     "status": "ok",
     "timestamp": 1743470862096,
     "user": {
      "displayName": "Reilly H",
      "userId": "05616995266737589283"
     },
     "user_tz": -780
    },
    "id": "9fhDoqOrkLjX"
   },
   "outputs": [
    {
     "name": "stderr",
     "output_type": "stream",
     "text": [
      "Downloading readme: 100%|██████████| 506/506 [00:00<?, ?B/s] \n",
      "Downloading data: 100%|██████████| 2.01M/2.01M [00:00<00:00, 4.67MB/s]\n",
      "Generating test split: 100%|██████████| 4326/4326 [00:00<00:00, 98798.05 examples/s]\n"
     ]
    }
   ],
   "source": [
    "from datasets import load_dataset\n",
    "\n",
    "ds = load_dataset(\"basicv8vc/SimpleQA\", split=\"test[:10%]\")"
   ]
  },
  {
   "cell_type": "code",
   "execution_count": 8,
   "metadata": {
    "executionInfo": {
     "elapsed": 33,
     "status": "ok",
     "timestamp": 1743470862140,
     "user": {
      "displayName": "Reilly H",
      "userId": "05616995266737589283"
     },
     "user_tz": -780
    },
    "id": "GlZlBbiVkLjX"
   },
   "outputs": [],
   "source": [
    "train_data = ds\n",
    "\n",
    "corr_sample = []\n",
    "incorr_sample = []\n",
    "\n",
    "for i in range(train_data.num_rows):\n",
    "    if i < 300:\n",
    "        corr_sample.append(train_data[i])\n",
    "    else:\n",
    "        incorr_sample.append(train_data[i])"
   ]
  },
  {
   "cell_type": "code",
   "execution_count": 9,
   "metadata": {
    "colab": {
     "base_uri": "https://localhost:8080/"
    },
    "executionInfo": {
     "elapsed": 17,
     "status": "ok",
     "timestamp": 1743470862156,
     "user": {
      "displayName": "Reilly H",
      "userId": "05616995266737589283"
     },
     "user_tz": -780
    },
    "id": "HsEZjG-ikLjY",
    "outputId": "320db0ba-8d6e-410c-ddd8-6768508241ff"
   },
   "outputs": [
    {
     "data": {
      "text/plain": [
       "{'metadata': \"{'topic': 'Geography', 'answer_type': 'Date', 'urls': ['https://en.wikipedia.org/wiki/Dolmar-Salzbr%C3%BCcke', 'https://en.wikipedia.org/wiki/Dolmar-Salzbr%C3%BCcke', 'https://www.vg-dolmar-salzbruecke.de/verzeichnis/visitenkarte.php?mandat=70081', 'https://de.wikipedia.org/wiki/Verwaltungsgemeinschaft_Dolmar-Salzbr%C3%BCcke']}\",\n",
       " 'problem': 'On which day, month, and year was Dolmar-Salzbrücke formed as a Verwaltungsgemeinschaft?',\n",
       " 'answer': '1 January 2012 '}"
      ]
     },
     "execution_count": 9,
     "metadata": {},
     "output_type": "execute_result"
    }
   ],
   "source": [
    "#selected_data = corr_sample.shuffle(seed=42).select(range(100))\n",
    "selected_data = random.sample(corr_sample, NUM_SAMPLES)\n",
    "selected_data[0]"
   ]
  },
  {
   "cell_type": "code",
   "execution_count": 10,
   "metadata": {
    "executionInfo": {
     "elapsed": 23,
     "status": "ok",
     "timestamp": 1743470862186,
     "user": {
      "displayName": "Reilly H",
      "userId": "05616995266737589283"
     },
     "user_tz": -780
    },
    "id": "hrkpSFG_kLjY"
   },
   "outputs": [],
   "source": [
    "prompts_list = []\n",
    "prompts_list_2 = []\n",
    "for i in range(len(selected_data)):\n",
    "    curr_entry = {}\n",
    "    curr_entry['text'] = selected_data[i]['problem']\n",
    "    curr_entry['corr'] = selected_data[i]['answer']\n",
    "    curr_entry['incorr'] = random.sample(incorr_sample, 1)[0]['answer']\n",
    "    prompts_list.append(curr_entry)\n",
    "\n",
    "    curr_entry_2 = {}\n",
    "    curr_entry_2['text'] = selected_data[i]['problem']\n",
    "    curr_entry_2['corr'] = random.sample(incorr_sample, 1)[0]['answer']\n",
    "    curr_entry_2['incorr'] = selected_data[i]['answer']\n",
    "    prompts_list_2.append(curr_entry_2)"
   ]
  },
  {
   "cell_type": "code",
   "execution_count": 11,
   "metadata": {
    "colab": {
     "base_uri": "https://localhost:8080/"
    },
    "executionInfo": {
     "elapsed": 13,
     "status": "ok",
     "timestamp": 1743470862198,
     "user": {
      "displayName": "Reilly H",
      "userId": "05616995266737589283"
     },
     "user_tz": -780
    },
    "id": "nxLhnJZ5kLjZ",
    "outputId": "9198ed1f-0a76-4cf5-c062-72ea43d91a01"
   },
   "outputs": [
    {
     "data": {
      "text/plain": [
       "[{'text': 'On which day, month, and year was Dolmar-Salzbrücke formed as a Verwaltungsgemeinschaft?',\n",
       "  'corr': '1 January 2012 ',\n",
       "  'incorr': 'March 2011'},\n",
       " {'text': 'The \"Un\\'alma innamorata\" was written by what composer in 1707?',\n",
       "  'corr': 'George Frideric Handel',\n",
       "  'incorr': 'Frank Harold Spedding'},\n",
       " {'text': 'What did Daemon Targaryen say to Rhaenyra about living life in fear in Episode 4, Season 1 of House of the Dragon?',\n",
       "  'corr': 'You cannot live your life in fear, or you will forsake the best parts of it.',\n",
       "  'incorr': '1982'}]"
      ]
     },
     "execution_count": 11,
     "metadata": {},
     "output_type": "execute_result"
    }
   ],
   "source": [
    "prompts_list[:3]"
   ]
  },
  {
   "cell_type": "code",
   "execution_count": 12,
   "metadata": {
    "colab": {
     "base_uri": "https://localhost:8080/"
    },
    "executionInfo": {
     "elapsed": 21,
     "status": "ok",
     "timestamp": 1743470862228,
     "user": {
      "displayName": "Reilly H",
      "userId": "05616995266737589283"
     },
     "user_tz": -780
    },
    "id": "wSSQ61_qkLjZ",
    "outputId": "68f27e4e-3d10-4cf6-91c9-d50c1d7644a8"
   },
   "outputs": [
    {
     "data": {
      "text/plain": [
       "100"
      ]
     },
     "execution_count": 12,
     "metadata": {},
     "output_type": "execute_result"
    }
   ],
   "source": [
    "prompts = [a['text'] for a in prompts_list]\n",
    "len(prompts)"
   ]
  },
  {
   "cell_type": "code",
   "execution_count": 13,
   "metadata": {
    "executionInfo": {
     "elapsed": 331,
     "status": "ok",
     "timestamp": 1743470862558,
     "user": {
      "displayName": "Reilly H",
      "userId": "05616995266737589283"
     },
     "user_tz": -780
    },
    "id": "yvgGEk4ikLjZ"
   },
   "outputs": [],
   "source": [
    "tokens_t = teacher.to_tokens(prompts, prepend_bos=True)\n",
    "tokens_s = student.to_tokens(prompts, prepend_bos=True)\n",
    "# tokens = tokens.cuda() # Move the tokens to the GPU\n",
    "\n",
    "original_logits_t, local_cache_t = teacher.run_with_cache(tokens_t)\n",
    "original_logits_s, local_cache_s = student.run_with_cache(tokens_s)"
   ]
  },
  {
   "cell_type": "code",
   "execution_count": null,
   "metadata": {
    "executionInfo": {
     "elapsed": 4,
     "status": "ok",
     "timestamp": 1743470862559,
     "user": {
      "displayName": "Reilly H",
      "userId": "05616995266737589283"
     },
     "user_tz": -780
    },
    "id": "etZ1qNghkLjZ"
   },
   "outputs": [],
   "source": [
    "import torch\n",
    "import numpy as np\n",
    "\n",
    "class TriviaDataset:\n",
    "    def __init__(self, prompts, tokenizer, max_length=None):\n",
    "        self.prompts = prompts\n",
    "        self.tokenizer = tokenizer\n",
    "        self.N = len(prompts)\n",
    "\n",
    "        if max_length is None:\n",
    "            self.max_length = max(len(self.tokenizer(prompt[\"text\"]).input_ids) for prompt in self.prompts)\n",
    "        else:\n",
    "            self.max_length = max_length\n",
    "\n",
    "        tokenized_texts = self.tokenizer(\n",
    "            [prompt[\"text\"] for prompt in self.prompts],\n",
    "            padding=True,\n",
    "            truncation=True,\n",
    "            max_length=self.max_length,\n",
    "            return_tensors=\"pt\"\n",
    "        )\n",
    "\n",
    "        self.toks = tokenized_texts.input_ids  # preserves compatibility with dataset.toks\n",
    "        self.attention_masks = tokenized_texts.attention_mask\n",
    "\n",
    "        self.corr_tokenIDs = torch.tensor([\n",
    "            self.tokenizer.encode(prompt[\"corr\"], add_special_tokens=False)[0]\n",
    "            for prompt in self.prompts\n",
    "        ])\n",
    "\n",
    "        self.incorr_tokenIDs = torch.tensor([\n",
    "            self.tokenizer.encode(prompt[\"incorr\"], add_special_tokens=False)[0]\n",
    "            for prompt in self.prompts\n",
    "        ])\n",
    "\n",
    "        self.word_idx = {\n",
    "            \"end\": torch.tensor([\n",
    "                (input_ids != 0).sum().item() - 1\n",
    "                for input_ids in self.toks\n",
    "            ])\n",
    "        }\n",
    "\n",
    "    def __len__(self):\n",
    "        return self.N\n",
    "\n",
    "    def __getitem__(self, idx):\n",
    "        return {\n",
    "            \"input_ids\": self.toks[idx],\n",
    "            \"attention_mask\": self.attention_masks[idx],\n",
    "            \"corr_token\": self.corr_tokenIDs[idx],\n",
    "            \"incorr_token\": self.incorr_tokenIDs[idx],\n",
    "        }\n"
   ]
  },
  {
   "cell_type": "code",
   "execution_count": 15,
   "metadata": {
    "executionInfo": {
     "elapsed": 36,
     "status": "ok",
     "timestamp": 1743470862593,
     "user": {
      "displayName": "Reilly H",
      "userId": "05616995266737589283"
     },
     "user_tz": -780
    },
    "id": "l2kVPUoHkLjZ"
   },
   "outputs": [],
   "source": [
    "dataset = TriviaDataset(prompts_list, teacher.tokenizer)\n",
    "dataset_2 = TriviaDataset(prompts_list_2, teacher.tokenizer)"
   ]
  },
  {
   "cell_type": "code",
   "execution_count": null,
   "metadata": {
    "colab": {
     "base_uri": "https://localhost:8080/"
    },
    "executionInfo": {
     "elapsed": 12,
     "status": "ok",
     "timestamp": 1743470862624,
     "user": {
      "displayName": "Reilly H",
      "userId": "05616995266737589283"
     },
     "user_tz": -780
    },
    "id": "HK_Oy9F3kLja",
    "outputId": "471cea40-76c3-479e-901e-36772bb8fefe"
   },
   "outputs": [
    {
     "data": {
      "text/plain": [
       "<torch.autograd.grad_mode.set_grad_enabled at 0x1db8df90410>"
      ]
     },
     "execution_count": 17,
     "metadata": {},
     "output_type": "execute_result"
    }
   ],
   "source": [
    "import torch\n",
    "import torch.nn as nn\n",
    "import torch.nn.functional as F\n",
    "import torch.optim as optim\n",
    "import numpy as np\n",
    "import einops\n",
    "from fancy_einsum import einsum\n",
    "import tqdm.notebook as tqdm\n",
    "import random\n",
    "from pathlib import Path\n",
    "# import plotly.express as px\n",
    "from torch.utils.data import DataLoader\n",
    "\n",
    "from jaxtyping import Float, Int\n",
    "from typing import List, Union, Optional\n",
    "from functools import partial\n",
    "import copy\n",
    "\n",
    "import itertools\n",
    "from transformers import AutoModelForCausalLM, AutoConfig, AutoTokenizer\n",
    "import dataclasses\n",
    "import datasets\n",
    "from IPython.display import HTML\n",
    "\n",
    "import pickle\n",
    "\n",
    "import matplotlib.pyplot as plt\n",
    "import statistics\n",
    "\n",
    "import transformer_lens\n",
    "import transformer_lens.utils as utils\n",
    "from transformer_lens.hook_points import (\n",
    "    HookedRootModule,\n",
    "    HookPoint,\n",
    ")\n",
    "from transformer_lens import HookedTransformer, HookedTransformerConfig, FactoredMatrix, ActivationCache\n",
    "\n",
    "torch.set_grad_enabled(False)"
   ]
  },
  {
   "cell_type": "code",
   "execution_count": null,
   "metadata": {
    "executionInfo": {
     "elapsed": 2,
     "status": "ok",
     "timestamp": 1743470862628,
     "user": {
      "displayName": "Reilly H",
      "userId": "05616995266737589283"
     },
     "user_tz": -780
    },
    "id": "juHJE8bAkLja"
   },
   "outputs": [],
   "source": [
    "from typing import List, Union, Optional\n",
    "import torch\n",
    "from torch import Tensor\n",
    "\n",
    "import torch\n",
    "\n",
    "def get_logit_diff(logits: Float[Tensor, \"batch seq d_vocab\"], dataset: TriviaDataset, per_prompt=False):\n",
    "    batch_size = logits.size(0)\n",
    "\n",
    "    end_positions = dataset.word_idx[\"end\"].to(dtype=torch.long)\n",
    "    corr_tokenIDs = dataset.corr_tokenIDs.to(dtype=torch.long)\n",
    "    incorr_tokenIDs = dataset.incorr_tokenIDs.to(dtype=torch.long)\n",
    "\n",
    "    assert end_positions.shape == (batch_size,)\n",
    "    assert corr_tokenIDs.shape == (batch_size,)\n",
    "    assert incorr_tokenIDs.shape == (batch_size,)\n",
    "\n",
    "    corr_logits = logits[torch.arange(batch_size), end_positions, corr_tokenIDs]\n",
    "    incorr_logits = logits[torch.arange(batch_size), end_positions, incorr_tokenIDs]\n",
    "\n",
    "    answer_logit_diff = corr_logits - incorr_logits\n",
    "    return answer_logit_diff if per_prompt else answer_logit_diff.mean()\n",
    "\n",
    "\n",
    "\n",
    "def logit_diff_perc(\n",
    "    logits: Float[Tensor, \"batch seq d_vocab\"],\n",
    "    clean_logit_diff: float,\n",
    "    dataset_1: TriviaDataset,\n",
    ") -> float:\n",
    "    patched_logit_diff = get_logit_diff(logits, dataset_1)\n",
    "    return (patched_logit_diff / clean_logit_diff)"
   ]
  },
  {
   "cell_type": "code",
   "execution_count": 19,
   "metadata": {
    "executionInfo": {
     "elapsed": 1085,
     "status": "ok",
     "timestamp": 1743470863725,
     "user": {
      "displayName": "Reilly H",
      "userId": "05616995266737589283"
     },
     "user_tz": -780
    },
    "id": "xhdZXf9UkLja"
   },
   "outputs": [],
   "source": [
    "teacher.reset_hooks(including_permanent=True)\n",
    "logits_original_t = teacher(dataset.toks)\n",
    "logits_original_s = student(dataset.toks)"
   ]
  },
  {
   "cell_type": "code",
   "execution_count": 20,
   "metadata": {
    "executionInfo": {
     "elapsed": 219,
     "status": "ok",
     "timestamp": 1743470863943,
     "user": {
      "displayName": "Reilly H",
      "userId": "05616995266737589283"
     },
     "user_tz": -780
    },
    "id": "etbh9wRxkLja"
   },
   "outputs": [],
   "source": [
    "orig_score_t = get_logit_diff(logits_original_t, dataset)\n",
    "orig_score_s = get_logit_diff(logits_original_s, dataset)"
   ]
  },
  {
   "cell_type": "code",
   "execution_count": null,
   "metadata": {
    "colab": {
     "base_uri": "https://localhost:8080/"
    },
    "executionInfo": {
     "elapsed": 65,
     "status": "ok",
     "timestamp": 1743470864006,
     "user": {
      "displayName": "Reilly H",
      "userId": "05616995266737589283"
     },
     "user_tz": -780
    },
    "id": "BtzEswsQlh6i",
    "outputId": "a17bee5a-b320-42e5-c31e-18764c6cdef5"
   },
   "outputs": [
    {
     "name": "stdout",
     "output_type": "stream",
     "text": [
      "tensor(-0.1016) tensor(-0.2043)\n"
     ]
    }
   ],
   "source": [
    "print(orig_score_s, orig_score_t) # logit scores of student and teacher models"
   ]
  },
  {
   "cell_type": "code",
   "execution_count": 22,
   "metadata": {
    "colab": {
     "base_uri": "https://localhost:8080/"
    },
    "executionInfo": {
     "elapsed": 388,
     "status": "ok",
     "timestamp": 1743470864395,
     "user": {
      "displayName": "Reilly H",
      "userId": "05616995266737589283"
     },
     "user_tz": -780
    },
    "id": "3Cyyotv4kLja",
    "outputId": "90d7da64-0f93-4901-d428-84b049fda83d"
   },
   "outputs": [
    {
     "data": {
      "text/plain": [
       "20"
      ]
     },
     "execution_count": 22,
     "metadata": {},
     "output_type": "execute_result"
    }
   ],
   "source": [
    "import gc\n",
    "\n",
    "del(logits_original_t)\n",
    "del(logits_original_s)\n",
    "torch.cuda.empty_cache()\n",
    "gc.collect()"
   ]
  },
  {
   "cell_type": "code",
   "execution_count": null,
   "metadata": {
    "colab": {
     "base_uri": "https://localhost:8080/"
    },
    "executionInfo": {
     "elapsed": 94133,
     "status": "ok",
     "timestamp": 1743470958547,
     "user": {
      "displayName": "Reilly H",
      "userId": "05616995266737589283"
     },
     "user_tz": -780
    },
    "id": "-xoC6vISkLja",
    "outputId": "d150c16e-1fd2-40ba-f786-5d8cfbecb99d"
   },
   "outputs": [
    {
     "name": "stdout",
     "output_type": "stream",
     "text": [
      "Layer 0, Head 0: Impact = 4.94%, Retained = 95.06%\n",
      "Layer 0, Head 1: Impact = -1.25%, Retained = 101.25%\n",
      "Layer 0, Head 2: Impact = 20.81%, Retained = 79.19%\n",
      "Layer 0, Head 3: Impact = -0.29%, Retained = 100.29%\n",
      "Layer 0, Head 4: Impact = 8.63%, Retained = 91.37%\n",
      "Layer 0, Head 5: Impact = 23.12%, Retained = 76.88%\n",
      "Layer 0, Head 6: Impact = -61.86%, Retained = 161.86%\n",
      "Layer 0, Head 7: Impact = -57.23%, Retained = 157.23%\n",
      "Layer 0, Head 8: Impact = 4.91%, Retained = 95.09%\n",
      "Layer 0, Head 9: Impact = -22.57%, Retained = 122.57%\n",
      "Layer 0, Head 10: Impact = 5.92%, Retained = 94.08%\n",
      "Layer 0, Head 11: Impact = 10.62%, Retained = 89.38%\n",
      "Layer 1, Head 0: Impact = -0.35%, Retained = 100.35%\n",
      "Layer 1, Head 1: Impact = -12.77%, Retained = 112.77%\n",
      "Layer 1, Head 2: Impact = 2.22%, Retained = 97.78%\n",
      "Layer 1, Head 3: Impact = 2.99%, Retained = 97.01%\n",
      "Layer 1, Head 4: Impact = 7.90%, Retained = 92.10%\n",
      "Layer 1, Head 5: Impact = -8.51%, Retained = 108.51%\n",
      "Layer 1, Head 6: Impact = -1.85%, Retained = 101.85%\n",
      "Layer 1, Head 7: Impact = 7.20%, Retained = 92.80%\n",
      "Layer 1, Head 8: Impact = -4.50%, Retained = 104.50%\n",
      "Layer 1, Head 9: Impact = 9.32%, Retained = 90.68%\n",
      "Layer 1, Head 10: Impact = 23.30%, Retained = 76.70%\n",
      "Layer 1, Head 11: Impact = 7.93%, Retained = 92.07%\n",
      "Layer 2, Head 0: Impact = -3.26%, Retained = 103.26%\n",
      "Layer 2, Head 1: Impact = 1.35%, Retained = 98.65%\n",
      "Layer 2, Head 2: Impact = -3.61%, Retained = 103.61%\n",
      "Layer 2, Head 3: Impact = -3.95%, Retained = 103.95%\n",
      "Layer 2, Head 4: Impact = 24.14%, Retained = 75.86%\n",
      "Layer 2, Head 5: Impact = -7.98%, Retained = 107.98%\n",
      "Layer 2, Head 6: Impact = 3.88%, Retained = 96.12%\n",
      "Layer 2, Head 7: Impact = 15.00%, Retained = 85.00%\n",
      "Layer 2, Head 8: Impact = -2.35%, Retained = 102.35%\n",
      "Layer 2, Head 9: Impact = 0.10%, Retained = 99.90%\n",
      "Layer 2, Head 10: Impact = 6.91%, Retained = 93.09%\n",
      "Layer 2, Head 11: Impact = -0.82%, Retained = 100.82%\n",
      "Layer 3, Head 0: Impact = -2.98%, Retained = 102.98%\n",
      "Layer 3, Head 1: Impact = -6.28%, Retained = 106.28%\n",
      "Layer 3, Head 2: Impact = 5.76%, Retained = 94.24%\n",
      "Layer 3, Head 3: Impact = -3.90%, Retained = 103.90%\n",
      "Layer 3, Head 4: Impact = -3.03%, Retained = 103.03%\n",
      "Layer 3, Head 5: Impact = -5.00%, Retained = 105.00%\n",
      "Layer 3, Head 6: Impact = 13.11%, Retained = 86.89%\n",
      "Layer 3, Head 7: Impact = 19.69%, Retained = 80.31%\n",
      "Layer 3, Head 8: Impact = 2.59%, Retained = 97.41%\n",
      "Layer 3, Head 9: Impact = 1.58%, Retained = 98.42%\n",
      "Layer 3, Head 10: Impact = -8.91%, Retained = 108.91%\n",
      "Layer 3, Head 11: Impact = 0.70%, Retained = 99.30%\n",
      "Layer 4, Head 0: Impact = -9.27%, Retained = 109.27%\n",
      "Layer 4, Head 1: Impact = -3.34%, Retained = 103.34%\n",
      "Layer 4, Head 2: Impact = -7.27%, Retained = 107.27%\n",
      "Layer 4, Head 3: Impact = -7.12%, Retained = 107.12%\n",
      "Layer 4, Head 4: Impact = -7.51%, Retained = 107.51%\n",
      "Layer 4, Head 5: Impact = 5.54%, Retained = 94.46%\n",
      "Layer 4, Head 6: Impact = -2.88%, Retained = 102.88%\n",
      "Layer 4, Head 7: Impact = 0.27%, Retained = 99.73%\n",
      "Layer 4, Head 8: Impact = -5.52%, Retained = 105.52%\n",
      "Layer 4, Head 9: Impact = -5.53%, Retained = 105.53%\n",
      "Layer 4, Head 10: Impact = 10.40%, Retained = 89.60%\n",
      "Layer 4, Head 11: Impact = 13.85%, Retained = 86.15%\n",
      "Layer 5, Head 0: Impact = -3.70%, Retained = 103.70%\n",
      "Layer 5, Head 1: Impact = 4.45%, Retained = 95.55%\n",
      "Layer 5, Head 2: Impact = 1.57%, Retained = 98.43%\n",
      "Layer 5, Head 3: Impact = -0.81%, Retained = 100.81%\n",
      "Layer 5, Head 4: Impact = 3.65%, Retained = 96.35%\n",
      "Layer 5, Head 5: Impact = -12.60%, Retained = 112.60%\n",
      "Layer 5, Head 6: Impact = 10.13%, Retained = 89.87%\n",
      "Layer 5, Head 7: Impact = 1.82%, Retained = 98.18%\n",
      "Layer 5, Head 8: Impact = -26.64%, Retained = 126.64%\n",
      "Layer 5, Head 9: Impact = 7.07%, Retained = 92.93%\n",
      "Layer 5, Head 10: Impact = -6.57%, Retained = 106.57%\n",
      "Layer 5, Head 11: Impact = -5.02%, Retained = 105.02%\n",
      "Layer 0, Head 0: Impact = -0.62%, Retained = 100.62%\n",
      "Layer 0, Head 1: Impact = 2.56%, Retained = 97.44%\n",
      "Layer 0, Head 2: Impact = 4.41%, Retained = 95.59%\n",
      "Layer 0, Head 3: Impact = -7.42%, Retained = 107.42%\n",
      "Layer 0, Head 4: Impact = 7.33%, Retained = 92.67%\n",
      "Layer 0, Head 5: Impact = 0.32%, Retained = 99.68%\n",
      "Layer 0, Head 6: Impact = -4.34%, Retained = 104.34%\n",
      "Layer 0, Head 7: Impact = 1.21%, Retained = 98.79%\n",
      "Layer 0, Head 8: Impact = -73.00%, Retained = 173.00%\n",
      "Layer 0, Head 9: Impact = -10.14%, Retained = 110.14%\n",
      "Layer 0, Head 10: Impact = 49.44%, Retained = 50.56%\n",
      "Layer 0, Head 11: Impact = -52.09%, Retained = 152.09%\n",
      "Layer 1, Head 0: Impact = 0.75%, Retained = 99.25%\n",
      "Layer 1, Head 1: Impact = 4.83%, Retained = 95.17%\n",
      "Layer 1, Head 2: Impact = -0.54%, Retained = 100.54%\n",
      "Layer 1, Head 3: Impact = -2.88%, Retained = 102.88%\n",
      "Layer 1, Head 4: Impact = 1.79%, Retained = 98.21%\n",
      "Layer 1, Head 5: Impact = 0.66%, Retained = 99.34%\n",
      "Layer 1, Head 6: Impact = 4.85%, Retained = 95.15%\n",
      "Layer 1, Head 7: Impact = -1.69%, Retained = 101.69%\n",
      "Layer 1, Head 8: Impact = -2.91%, Retained = 102.91%\n",
      "Layer 1, Head 9: Impact = 6.92%, Retained = 93.08%\n",
      "Layer 1, Head 10: Impact = 7.23%, Retained = 92.77%\n",
      "Layer 1, Head 11: Impact = 5.08%, Retained = 94.92%\n",
      "Layer 2, Head 0: Impact = -5.08%, Retained = 105.08%\n",
      "Layer 2, Head 1: Impact = 5.00%, Retained = 95.00%\n",
      "Layer 2, Head 2: Impact = 0.26%, Retained = 99.74%\n",
      "Layer 2, Head 3: Impact = -5.39%, Retained = 105.39%\n",
      "Layer 2, Head 4: Impact = -0.18%, Retained = 100.18%\n",
      "Layer 2, Head 5: Impact = -0.78%, Retained = 100.78%\n",
      "Layer 2, Head 6: Impact = -4.36%, Retained = 104.36%\n",
      "Layer 2, Head 7: Impact = 0.82%, Retained = 99.18%\n",
      "Layer 2, Head 8: Impact = 3.45%, Retained = 96.55%\n",
      "Layer 2, Head 9: Impact = 2.15%, Retained = 97.85%\n",
      "Layer 2, Head 10: Impact = 4.83%, Retained = 95.17%\n",
      "Layer 2, Head 11: Impact = 0.43%, Retained = 99.57%\n",
      "Layer 3, Head 0: Impact = 2.74%, Retained = 97.26%\n",
      "Layer 3, Head 1: Impact = -1.82%, Retained = 101.82%\n",
      "Layer 3, Head 2: Impact = -1.13%, Retained = 101.13%\n",
      "Layer 3, Head 3: Impact = 0.62%, Retained = 99.38%\n",
      "Layer 3, Head 4: Impact = 0.50%, Retained = 99.50%\n",
      "Layer 3, Head 5: Impact = 1.92%, Retained = 98.08%\n",
      "Layer 3, Head 6: Impact = 1.07%, Retained = 98.93%\n",
      "Layer 3, Head 7: Impact = 2.88%, Retained = 97.12%\n",
      "Layer 3, Head 8: Impact = -0.59%, Retained = 100.59%\n",
      "Layer 3, Head 9: Impact = 1.42%, Retained = 98.58%\n",
      "Layer 3, Head 10: Impact = 5.33%, Retained = 94.67%\n",
      "Layer 3, Head 11: Impact = -5.91%, Retained = 105.91%\n",
      "Layer 4, Head 0: Impact = -0.67%, Retained = 100.67%\n",
      "Layer 4, Head 1: Impact = 0.79%, Retained = 99.21%\n",
      "Layer 4, Head 2: Impact = 1.14%, Retained = 98.86%\n",
      "Layer 4, Head 3: Impact = 0.93%, Retained = 99.07%\n",
      "Layer 4, Head 4: Impact = 0.60%, Retained = 99.40%\n",
      "Layer 4, Head 5: Impact = -0.00%, Retained = 100.00%\n",
      "Layer 4, Head 6: Impact = -3.19%, Retained = 103.19%\n",
      "Layer 4, Head 7: Impact = 0.96%, Retained = 99.04%\n",
      "Layer 4, Head 8: Impact = 0.76%, Retained = 99.24%\n",
      "Layer 4, Head 9: Impact = -1.17%, Retained = 101.17%\n",
      "Layer 4, Head 10: Impact = -0.97%, Retained = 100.97%\n",
      "Layer 4, Head 11: Impact = -0.12%, Retained = 100.12%\n",
      "Layer 5, Head 0: Impact = 1.05%, Retained = 98.95%\n",
      "Layer 5, Head 1: Impact = -3.48%, Retained = 103.48%\n",
      "Layer 5, Head 2: Impact = 0.35%, Retained = 99.65%\n",
      "Layer 5, Head 3: Impact = 0.55%, Retained = 99.45%\n",
      "Layer 5, Head 4: Impact = -1.50%, Retained = 101.50%\n",
      "Layer 5, Head 5: Impact = 5.74%, Retained = 94.26%\n",
      "Layer 5, Head 6: Impact = 1.11%, Retained = 98.89%\n",
      "Layer 5, Head 7: Impact = 2.01%, Retained = 97.99%\n",
      "Layer 5, Head 8: Impact = -0.46%, Retained = 100.46%\n",
      "Layer 5, Head 9: Impact = -1.48%, Retained = 101.48%\n",
      "Layer 5, Head 10: Impact = 2.86%, Retained = 97.14%\n",
      "Layer 5, Head 11: Impact = 4.83%, Retained = 95.17%\n",
      "Layer 6, Head 0: Impact = -2.13%, Retained = 102.13%\n",
      "Layer 6, Head 1: Impact = -0.77%, Retained = 100.77%\n",
      "Layer 6, Head 2: Impact = 2.05%, Retained = 97.95%\n",
      "Layer 6, Head 3: Impact = 1.96%, Retained = 98.04%\n",
      "Layer 6, Head 4: Impact = 0.67%, Retained = 99.33%\n",
      "Layer 6, Head 5: Impact = -1.41%, Retained = 101.41%\n",
      "Layer 6, Head 6: Impact = 2.85%, Retained = 97.15%\n",
      "Layer 6, Head 7: Impact = -7.43%, Retained = 107.43%\n",
      "Layer 6, Head 8: Impact = 2.76%, Retained = 97.24%\n",
      "Layer 6, Head 9: Impact = -0.30%, Retained = 100.30%\n",
      "Layer 6, Head 10: Impact = -0.23%, Retained = 100.23%\n",
      "Layer 6, Head 11: Impact = -0.49%, Retained = 100.49%\n",
      "Layer 7, Head 0: Impact = 0.14%, Retained = 99.86%\n",
      "Layer 7, Head 1: Impact = 2.06%, Retained = 97.94%\n",
      "Layer 7, Head 2: Impact = 1.63%, Retained = 98.37%\n",
      "Layer 7, Head 3: Impact = 2.13%, Retained = 97.87%\n",
      "Layer 7, Head 4: Impact = 2.91%, Retained = 97.09%\n",
      "Layer 7, Head 5: Impact = -0.80%, Retained = 100.80%\n",
      "Layer 7, Head 6: Impact = 0.52%, Retained = 99.48%\n",
      "Layer 7, Head 7: Impact = -1.55%, Retained = 101.55%\n",
      "Layer 7, Head 8: Impact = 1.70%, Retained = 98.30%\n",
      "Layer 7, Head 9: Impact = -0.53%, Retained = 100.53%\n",
      "Layer 7, Head 10: Impact = -0.67%, Retained = 100.67%\n",
      "Layer 7, Head 11: Impact = -1.43%, Retained = 101.43%\n",
      "Layer 8, Head 0: Impact = -6.04%, Retained = 106.04%\n",
      "Layer 8, Head 1: Impact = 2.39%, Retained = 97.61%\n",
      "Layer 8, Head 2: Impact = -0.05%, Retained = 100.05%\n",
      "Layer 8, Head 3: Impact = -9.49%, Retained = 109.49%\n",
      "Layer 8, Head 4: Impact = -3.57%, Retained = 103.57%\n",
      "Layer 8, Head 5: Impact = -5.46%, Retained = 105.46%\n",
      "Layer 8, Head 6: Impact = 3.83%, Retained = 96.17%\n",
      "Layer 8, Head 7: Impact = -0.79%, Retained = 100.79%\n",
      "Layer 8, Head 8: Impact = -2.05%, Retained = 102.05%\n",
      "Layer 8, Head 9: Impact = 5.71%, Retained = 94.29%\n",
      "Layer 8, Head 10: Impact = 6.51%, Retained = 93.49%\n",
      "Layer 8, Head 11: Impact = 4.15%, Retained = 95.85%\n",
      "Layer 9, Head 0: Impact = 1.55%, Retained = 98.45%\n",
      "Layer 9, Head 1: Impact = -2.16%, Retained = 102.16%\n",
      "Layer 9, Head 2: Impact = -1.53%, Retained = 101.53%\n",
      "Layer 9, Head 3: Impact = -2.73%, Retained = 102.73%\n",
      "Layer 9, Head 4: Impact = -5.30%, Retained = 105.30%\n",
      "Layer 9, Head 5: Impact = 6.24%, Retained = 93.76%\n",
      "Layer 9, Head 6: Impact = -2.48%, Retained = 102.48%\n",
      "Layer 9, Head 7: Impact = 2.28%, Retained = 97.72%\n",
      "Layer 9, Head 8: Impact = -0.81%, Retained = 100.81%\n",
      "Layer 9, Head 9: Impact = -1.08%, Retained = 101.08%\n",
      "Layer 9, Head 10: Impact = 2.44%, Retained = 97.56%\n",
      "Layer 9, Head 11: Impact = -4.70%, Retained = 104.70%\n",
      "Layer 10, Head 0: Impact = 1.93%, Retained = 98.07%\n",
      "Layer 10, Head 1: Impact = 1.39%, Retained = 98.61%\n",
      "Layer 10, Head 2: Impact = -6.03%, Retained = 106.03%\n",
      "Layer 10, Head 3: Impact = 1.48%, Retained = 98.52%\n",
      "Layer 10, Head 4: Impact = -20.96%, Retained = 120.96%\n",
      "Layer 10, Head 5: Impact = -0.33%, Retained = 100.33%\n",
      "Layer 10, Head 6: Impact = -0.23%, Retained = 100.23%\n",
      "Layer 10, Head 7: Impact = 3.08%, Retained = 96.92%\n",
      "Layer 10, Head 8: Impact = 4.93%, Retained = 95.07%\n",
      "Layer 10, Head 9: Impact = -0.30%, Retained = 100.30%\n",
      "Layer 10, Head 10: Impact = 0.06%, Retained = 99.94%\n",
      "Layer 10, Head 11: Impact = -3.03%, Retained = 103.03%\n",
      "Layer 11, Head 0: Impact = -16.74%, Retained = 116.74%\n",
      "Layer 11, Head 1: Impact = 1.22%, Retained = 98.78%\n",
      "Layer 11, Head 2: Impact = -2.13%, Retained = 102.13%\n",
      "Layer 11, Head 3: Impact = -0.89%, Retained = 100.89%\n",
      "Layer 11, Head 4: Impact = -7.33%, Retained = 107.33%\n",
      "Layer 11, Head 5: Impact = -2.36%, Retained = 102.36%\n",
      "Layer 11, Head 6: Impact = 3.02%, Retained = 96.98%\n",
      "Layer 11, Head 7: Impact = -4.48%, Retained = 104.48%\n",
      "Layer 11, Head 8: Impact = 2.14%, Retained = 97.86%\n",
      "Layer 11, Head 9: Impact = 2.70%, Retained = 97.30%\n",
      "Layer 11, Head 10: Impact = 0.02%, Retained = 99.98%\n",
      "Layer 11, Head 11: Impact = 1.88%, Retained = 98.12%\n"
     ]
    }
   ],
   "source": [
    "def direct_ablate_single_head(\n",
    "    model: HookedTransformer,\n",
    "    dataset: TriviaDataset,\n",
    "    layer: int,\n",
    "    head: int,\n",
    "    orig_score: float,\n",
    "    ablation_type=\"zero\",\n",
    "    print_output: bool = True\n",
    ") -> float:\n",
    "    model.reset_hooks(including_permanent=True)\n",
    "\n",
    "    if ablation_type == \"mean\":\n",
    "        _, cache = model.run_with_cache(\n",
    "            dataset.toks.long(),\n",
    "            return_type=None,\n",
    "            names_filter=lambda name: name.endswith(\"z\") and f\"blocks.{layer}\" in name\n",
    "        )\n",
    "        z_mean = cache[utils.get_act_name(\"z\", layer)].mean(dim=0, keepdim=True)\n",
    "\n",
    "    def hook_fn(z, hook):\n",
    "        if hook.layer() == layer:\n",
    "            z_modified = z.clone()\n",
    "            if ablation_type == \"zero\":\n",
    "                z_modified[:, :, head] = 0\n",
    "            else:\n",
    "                z_modified[:, :, head] = z_mean.expand_as(z[:, :, head])\n",
    "            return z_modified\n",
    "        return z\n",
    "\n",
    "    model.add_hook(lambda name: name.endswith(\"z\"), hook_fn, is_permanent=False)\n",
    "\n",
    "    ablated_logits = model(dataset.toks)\n",
    "\n",
    "    new_score = get_logit_diff(ablated_logits, dataset)\n",
    "\n",
    "    percent_retained = 100 * (new_score / orig_score)\n",
    "\n",
    "    if print_output:\n",
    "        impact = 100 - percent_retained\n",
    "        print(f\"Layer {layer}, Head {head}: Impact = {impact:.2f}%, Retained = {percent_retained:.2f}%\")\n",
    "\n",
    "    model.reset_hooks()\n",
    "    return percent_retained\n",
    "\n",
    "student_scores = {}\n",
    "for layer in range(6):\n",
    "    for head in range(12):\n",
    "        retained = direct_ablate_single_head(\n",
    "            student, dataset, layer, head, orig_score_s, ablation_type=\"zero\"\n",
    "        )\n",
    "        student_scores[(layer, head)] = retained\n",
    "\n",
    "teacher_scores = {}\n",
    "for layer in range(12):\n",
    "    for head in range(12):\n",
    "        retained = direct_ablate_single_head(\n",
    "            teacher, dataset, layer, head, orig_score_t, ablation_type=\"zero\"\n",
    "        )\n",
    "        teacher_scores[(layer, head)] = retained\n",
    "\n"
   ]
  },
  {
   "cell_type": "code",
   "execution_count": 24,
   "metadata": {
    "executionInfo": {
     "elapsed": 25,
     "status": "ok",
     "timestamp": 1743470958591,
     "user": {
      "displayName": "Reilly H",
      "userId": "05616995266737589283"
     },
     "user_tz": -780
    },
    "id": "VY3JlLXRlU_t"
   },
   "outputs": [],
   "source": [
    "lh_scores_t = teacher_scores\n",
    "lh_scores_s = student_scores\n",
    "\n",
    "sorted_lh_scores_t = sorted(lh_scores_t.items(), key=lambda item: -item[1], reverse=True)\n",
    "modified_scores_t = []\n",
    "\n",
    "sorted_lh_scores_s = sorted(lh_scores_s.items(), key=lambda item: -item[1], reverse=True)\n",
    "modified_scores_s = []\n",
    "\n",
    "for lh, score in sorted_lh_scores_t:\n",
    "    modified_score = -round(100 - score.item(), 2)\n",
    "    modified_scores_t.append((lh, modified_score))\n",
    "scores_attn_t = modified_scores_t\n",
    "\n",
    "for lh, score in sorted_lh_scores_s:\n",
    "    modified_score = -round(100 - score.item(), 2)\n",
    "    modified_scores_s.append((lh, modified_score))\n",
    "scores_attn_s = modified_scores_s"
   ]
  },
  {
   "cell_type": "code",
   "execution_count": null,
   "metadata": {
    "colab": {
     "base_uri": "https://localhost:8080/",
     "height": 472
    },
    "executionInfo": {
     "elapsed": 348,
     "status": "ok",
     "timestamp": 1743470958953,
     "user": {
      "displayName": "Reilly H",
      "userId": "05616995266737589283"
     },
     "user_tz": -780
    },
    "id": "noX3GabSl7ZO",
    "outputId": "2b9d12e0-8c01-4402-d09e-208b8a9286da"
   },
   "outputs": [
    {
     "data": {
      "image/png": "[encoded data removed]",
      "text/plain": [
       "<Figure size 640x480 with 1 Axes>"
      ]
     },
     "metadata": {},
     "output_type": "display_data"
    }
   ],
   "source": [
    "lh_scores_drop = {key: min(0, val-100) for key, val in lh_scores_t.items()}\n",
    "scores = list(lh_scores_drop.values())\n",
    "scores = [s.cpu().numpy() if isinstance(s, torch.Tensor) else s for s in scores]\n",
    "plt.hist(scores, bins=10, edgecolor='black')\n",
    "n, bins, patches = plt.hist(scores, bins=10, edgecolor='black')\n",
    "\n",
    "for i in range(len(n)):\n",
    "    plt.text(bins[i]+5, n[i], str(int(n[i])), va='bottom', ha='center')\n",
    "\n",
    "plt.xticks(range(-100, 0, 10))\n",
    "plt.xlabel('Percentage Drop from Full Performance')\n",
    "plt.ylabel('Number of Attention Heads')\n",
    "plt.title('Distribution of Attention Head Performance Drop Percentages')\n",
    "\n",
    "plt.show()"
   ]
  },
  {
   "cell_type": "code",
   "execution_count": 26,
   "metadata": {
    "colab": {
     "base_uri": "https://localhost:8080/",
     "height": 472
    },
    "executionInfo": {
     "elapsed": 76,
     "status": "ok",
     "timestamp": 1743470959027,
     "user": {
      "displayName": "Reilly H",
      "userId": "05616995266737589283"
     },
     "user_tz": -780
    },
    "id": "vUjmv75rl8Q9",
    "outputId": "78a4ed27-efe2-4c5c-ba9c-5795619547a3"
   },
   "outputs": [
    {
     "data": {
      "image/png": "[encoded data removed]",
      "text/plain": [
       "<Figure size 640x480 with 1 Axes>"
      ]
     },
     "metadata": {},
     "output_type": "display_data"
    }
   ],
   "source": [
    "lh_scores_drop = {key: min(0, val-100) for key, val in lh_scores_s.items()}\n",
    "scores = list(lh_scores_drop.values())\n",
    "scores = [s.cpu().numpy() if isinstance(s, torch.Tensor) else s for s in scores]\n",
    "plt.hist(scores, bins=10, edgecolor='black')\n",
    "n, bins, patches = plt.hist(scores, bins=10, edgecolor='black')\n",
    "\n",
    "for i in range(len(n)):\n",
    "    plt.text(bins[i]+5, n[i], str(int(n[i])), va='bottom', ha='center')\n",
    "\n",
    "plt.xticks(range(-100, 0, 10))\n",
    "plt.xlabel('Percentage Drop from Full Performance')\n",
    "plt.ylabel('Number of Attention Heads')\n",
    "plt.title('Distribution of Attention Head Performance Drop Percentages')\n",
    "\n",
    "plt.show()"
   ]
  },
  {
   "cell_type": "code",
   "execution_count": null,
   "metadata": {
    "colab": {
     "base_uri": "https://localhost:8080/"
    },
    "executionInfo": {
     "elapsed": 7531,
     "status": "ok",
     "timestamp": 1743470966559,
     "user": {
      "displayName": "Reilly H",
      "userId": "05616995266737589283"
     },
     "user_tz": -780
    },
    "id": "6FgCQoLpl8nW",
    "outputId": "2d6cb830-358a-4e9b-9484-0ebe130ac136"
   },
   "outputs": [
    {
     "name": "stdout",
     "output_type": "stream",
     "text": [
      "Analyzing teacher model MLPs...\n",
      "Completed Layer 0 MLP: Retained = 69.71%\n",
      "Completed Layer 1 MLP: Retained = 80.00%\n",
      "Completed Layer 2 MLP: Retained = 96.66%\n",
      "Completed Layer 3 MLP: Retained = 99.93%\n",
      "Completed Layer 4 MLP: Retained = 89.81%\n",
      "Completed Layer 5 MLP: Retained = 96.02%\n",
      "Completed Layer 6 MLP: Retained = 98.66%\n",
      "Completed Layer 7 MLP: Retained = 116.48%\n",
      "Completed Layer 8 MLP: Retained = 103.10%\n",
      "Completed Layer 9 MLP: Retained = 96.27%\n",
      "Completed Layer 10 MLP: Retained = 91.79%\n",
      "Completed Layer 11 MLP: Retained = 41.57%\n",
      "\n",
      "Analyzing student model MLPs...\n",
      "Completed Layer 0 MLP: Retained = 590.56%\n",
      "Completed Layer 1 MLP: Retained = 114.55%\n",
      "Completed Layer 2 MLP: Retained = 100.13%\n",
      "Completed Layer 3 MLP: Retained = 121.69%\n",
      "Completed Layer 4 MLP: Retained = 107.33%\n",
      "Completed Layer 5 MLP: Retained = 78.21%\n"
     ]
    }
   ],
   "source": [
    "def direct_ablate_single_mlp(\n",
    "    model: HookedTransformer,\n",
    "    dataset: TriviaDataset,\n",
    "    layer: int,\n",
    "    orig_score: float,\n",
    "    ablation_type=\"zero\",\n",
    "    print_output: bool = True\n",
    ") -> float:\n",
    "    model.reset_hooks(including_permanent=True)\n",
    "\n",
    "    if ablation_type == \"mean\":\n",
    "        _, cache = model.run_with_cache(\n",
    "            dataset.toks.long(),\n",
    "            return_type=None,\n",
    "            names_filter=lambda name: name.endswith(\"mlp_out\") and f\"blocks.{layer}\" in name\n",
    "        )\n",
    "        mlp_mean = cache[utils.get_act_name(\"mlp_out\", layer)].mean(dim=0, keepdim=True)\n",
    "\n",
    "    def hook_fn(mlp_out, hook):\n",
    "        if hook.layer() == layer:\n",
    "            if ablation_type == \"zero\":\n",
    "                return torch.zeros_like(mlp_out)\n",
    "            else:\n",
    "                return mlp_mean.expand_as(mlp_out)\n",
    "        return mlp_out\n",
    "\n",
    "    model.add_hook(lambda name: name.endswith(\"mlp_out\"), hook_fn, is_permanent=False)\n",
    "\n",
    "    ablated_logits = model(dataset.toks)\n",
    "\n",
    "    new_score = get_logit_diff(ablated_logits, dataset)\n",
    "\n",
    "    percent_retained = 100 * (new_score / orig_score)\n",
    "\n",
    "    if print_output:\n",
    "        impact = 100 - percent_retained\n",
    "        print(f\"Layer {layer} MLP: Impact = {impact:.2f}%, Retained = {percent_retained:.2f}%\")\n",
    "\n",
    "    model.reset_hooks()\n",
    "    return percent_retained\n",
    "\n",
    "\n",
    "scores_mlp_t = []\n",
    "scores_mlp_s = []\n",
    "\n",
    "print(\"Analyzing teacher model MLPs...\")\n",
    "for layer in range(12):\n",
    "    retained = max(0, direct_ablate_single_mlp(teacher, dataset, layer, orig_score_t, ablation_type=\"zero\", print_output=False))\n",
    "    try:\n",
    "      scores_mlp_t.append((layer, -round(100 - retained.item(), 2)))\n",
    "    except:\n",
    "      scores_mlp_t.append((layer, -round(100 - retained, 2)))\n",
    "    print(f\"Completed Layer {layer} MLP: Retained = {retained:.2f}%\")\n",
    "\n",
    "print(\"\\nAnalyzing student model MLPs...\")\n",
    "for layer in range(6):\n",
    "    retained = max(0, direct_ablate_single_mlp(student, dataset, layer, orig_score_s, ablation_type=\"zero\", print_output=False))\n",
    "    try:\n",
    "      scores_mlp_s.append((layer, -round(100 - retained.item(), 2)))\n",
    "    except:\n",
    "      scores_mlp_s.append((layer, -round(100 - retained, 2)))\n",
    "    print(f\"Completed Layer {layer} MLP: Retained = {retained:.2f}%\")\n"
   ]
  },
  {
   "cell_type": "code",
   "execution_count": null,
   "metadata": {},
   "outputs": [],
   "source": [
    "scores_combined_t = scores_mlp_t + scores_attn_t\n",
    "scores_combined_s = scores_mlp_s + scores_attn_s"
   ]
  },
  {
   "cell_type": "code",
   "execution_count": null,
   "metadata": {
    "colab": {
     "base_uri": "https://localhost:8080/"
    },
    "executionInfo": {
     "elapsed": 2836,
     "status": "ok",
     "timestamp": 1743470969415,
     "user": {
      "displayName": "Reilly H",
      "userId": "05616995266737589283"
     },
     "user_tz": -780
    },
    "id": "qidLmrn_mF8P",
    "outputId": "1d369674-4efe-4bd6-f542-246900309a8c"
   },
   "outputs": [
    {
     "name": "stdout",
     "output_type": "stream",
     "text": [
      "Similarity between TL9H11/SL4H11: 0.9400879144668579\n",
      "Mean similarity across all heads: 0.7091394662857056\n"
     ]
    }
   ],
   "source": [
    "import torch\n",
    "import torch.nn.functional as F\n",
    "\n",
    "sims = {}\n",
    "max_vals_attn = {}\n",
    "\n",
    "for student_layer in range(6):\n",
    "    for student_head in range(12):\n",
    "        curr_comb = (student_layer, student_head)\n",
    "        if curr_comb not in max_vals_attn.keys():\n",
    "            max_vals_attn[curr_comb] = (None, 0)\n",
    "        for teacher_layer in range(12):\n",
    "            for teacher_head in range(12):\n",
    "                curr_s = local_cache_s[\"attn\", student_layer][:, student_head].mean(dim=0)\n",
    "                curr_t = local_cache_t[\"attn\", teacher_layer][:, teacher_head].mean(dim=0)\n",
    "                sim = torch.mean(F.cosine_similarity(curr_s.unsqueeze(1), curr_t.unsqueeze(1), dim=2))\n",
    "                if sim >= max_vals_attn[curr_comb][1]:\n",
    "                    max_vals_attn[curr_comb] = ((teacher_layer, teacher_head), sim)\n",
    "                sims[(student_layer, student_head, teacher_layer, teacher_head)] = sim\n",
    "student_layer = 4\n",
    "student_head = 11\n",
    "teacher_layer = 9\n",
    "teacher_head = 11\n",
    "\n",
    "print(f\"Similarity between TL{teacher_layer}H{teacher_head}/SL{student_layer}H{student_head}: {sims[(student_layer, student_head, teacher_layer, teacher_head)]}\")\n",
    "\n",
    "mean_val = torch.mean(torch.stack(list(sims.values())))\n",
    "print(f\"Mean similarity across all heads: {mean_val}\")\n"
   ]
  },
  {
   "cell_type": "code",
   "execution_count": 31,
   "metadata": {
    "colab": {
     "base_uri": "https://localhost:8080/"
    },
    "executionInfo": {
     "elapsed": 63,
     "status": "ok",
     "timestamp": 1743470969476,
     "user": {
      "displayName": "Reilly H",
      "userId": "05616995266737589283"
     },
     "user_tz": -780
    },
    "id": "hxmivg8XmZo4",
    "outputId": "f38204f0-e902-4acf-f207-03d484b2c21f"
   },
   "outputs": [
    {
     "data": {
      "text/plain": [
       "{(0, 0): ((0, 0), tensor(0.9692)),\n",
       " (0, 1): ((0, 5), tensor(0.9868)),\n",
       " (0, 2): ((0, 11), tensor(0.9836)),\n",
       " (0, 3): ((0, 3), tensor(0.9904)),\n",
       " (0, 4): ((0, 4), tensor(0.9802)),\n",
       " (0, 5): ((0, 5), tensor(0.9926)),\n",
       " (0, 6): ((0, 6), tensor(0.9765)),\n",
       " (0, 7): ((1, 0), tensor(0.9822)),\n",
       " (0, 8): ((0, 11), tensor(0.9816)),\n",
       " (0, 9): ((1, 9), tensor(0.9624)),\n",
       " (0, 10): ((0, 2), tensor(0.9630)),\n",
       " (0, 11): ((1, 8), tensor(0.8901)),\n",
       " (1, 0): ((2, 0), tensor(0.9779)),\n",
       " (1, 1): ((8, 0), tensor(0.9819)),\n",
       " (1, 2): ((1, 0), tensor(0.9485)),\n",
       " (1, 3): ((1, 0), tensor(0.9905)),\n",
       " (1, 4): ((9, 3), tensor(0.9703)),\n",
       " (1, 5): ((1, 1), tensor(0.9732)),\n",
       " (1, 6): ((1, 6), tensor(0.9890)),\n",
       " (1, 7): ((11, 4), tensor(0.9933)),\n",
       " (1, 8): ((1, 0), tensor(0.9770)),\n",
       " (1, 9): ((1, 0), tensor(0.9786)),\n",
       " (1, 10): ((1, 6), tensor(0.9934)),\n",
       " (1, 11): ((4, 4), tensor(0.9989)),\n",
       " (2, 0): ((4, 0), tensor(0.9727)),\n",
       " (2, 1): ((9, 3), tensor(0.9498)),\n",
       " (2, 2): ((8, 0), tensor(0.9880)),\n",
       " (2, 3): ((4, 0), tensor(0.9511)),\n",
       " (2, 4): ((8, 0), tensor(0.9880)),\n",
       " (2, 5): ((9, 3), tensor(0.9489)),\n",
       " (2, 6): ((8, 0), tensor(0.9890)),\n",
       " (2, 7): ((1, 11), tensor(0.9590)),\n",
       " (2, 8): ((8, 0), tensor(0.9849)),\n",
       " (2, 9): ((11, 3), tensor(0.9872)),\n",
       " (2, 10): ((8, 0), tensor(0.9871)),\n",
       " (2, 11): ((1, 0), tensor(0.8506)),\n",
       " (3, 0): ((11, 3), tensor(0.9585)),\n",
       " (3, 1): ((10, 8), tensor(0.9866)),\n",
       " (3, 2): ((8, 0), tensor(0.9828)),\n",
       " (3, 3): ((4, 4), tensor(0.9910)),\n",
       " (3, 4): ((10, 4), tensor(0.9918)),\n",
       " (3, 5): ((11, 3), tensor(0.9841)),\n",
       " (3, 6): ((8, 0), tensor(0.9840)),\n",
       " (3, 7): ((11, 3), tensor(0.9800)),\n",
       " (3, 8): ((11, 3), tensor(0.9896)),\n",
       " (3, 9): ((11, 3), tensor(0.9924)),\n",
       " (3, 10): ((11, 3), tensor(0.9811)),\n",
       " (3, 11): ((10, 8), tensor(0.9813)),\n",
       " (4, 0): ((11, 3), tensor(0.9889)),\n",
       " (4, 1): ((4, 4), tensor(0.9853)),\n",
       " (4, 2): ((11, 3), tensor(0.9843)),\n",
       " (4, 3): ((9, 3), tensor(0.9578)),\n",
       " (4, 4): ((11, 3), tensor(0.9834)),\n",
       " (4, 5): ((8, 0), tensor(0.9880)),\n",
       " (4, 6): ((10, 8), tensor(0.9918)),\n",
       " (4, 7): ((8, 3), tensor(0.9975)),\n",
       " (4, 8): ((11, 3), tensor(0.9904)),\n",
       " (4, 9): ((11, 7), tensor(0.9939)),\n",
       " (4, 10): ((4, 4), tensor(0.9931)),\n",
       " (4, 11): ((11, 3), tensor(0.9811)),\n",
       " (5, 0): ((1, 9), tensor(0.9362)),\n",
       " (5, 1): ((4, 4), tensor(0.9939)),\n",
       " (5, 2): ((8, 3), tensor(0.9967)),\n",
       " (5, 3): ((10, 4), tensor(0.9967)),\n",
       " (5, 4): ((1, 6), tensor(0.9644)),\n",
       " (5, 5): ((10, 2), tensor(0.9966)),\n",
       " (5, 6): ((10, 2), tensor(0.9971)),\n",
       " (5, 7): ((4, 4), tensor(0.9931)),\n",
       " (5, 8): ((11, 8), tensor(0.9221)),\n",
       " (5, 9): ((11, 7), tensor(0.9950)),\n",
       " (5, 10): ((10, 4), tensor(0.9941)),\n",
       " (5, 11): ((8, 2), tensor(0.9981))}"
      ]
     },
     "execution_count": 31,
     "metadata": {},
     "output_type": "execute_result"
    }
   ],
   "source": [
    "max_vals_attn"
   ]
  },
  {
   "cell_type": "code",
   "execution_count": null,
   "metadata": {
    "executionInfo": {
     "elapsed": 1,
     "status": "ok",
     "timestamp": 1743470969478,
     "user": {
      "displayName": "Reilly H",
      "userId": "05616995266737589283"
     },
     "user_tz": -780
    },
    "id": "VJdf_4_-mGg9"
   },
   "outputs": [],
   "source": [
    "import numpy as np\n",
    "from scipy.linalg import svd\n",
    "from sklearn.metrics.pairwise import cosine_similarity\n",
    "\n",
    "def activation_eigenvector_similarity(layer1, layer2, k=3):\n",
    "    acts1 = np.array(local_cache_t[f'blocks.{layer1}.hook_mlp_out'].cpu())\n",
    "    acts2 = np.array(local_cache_s[f'blocks.{layer2}.hook_mlp_out'].cpu())\n",
    "\n",
    "    acts1_flattened = acts1.reshape(-1, acts1.shape[-1])\n",
    "    acts2_flattened = acts2.reshape(-1, acts2.shape[-1])\n",
    "\n",
    "    cov1 = np.dot(acts1_flattened.T, acts1_flattened) / acts1_flattened.shape[0] # covariance matrices\n",
    "    cov2 = np.dot(acts2_flattened.T, acts2_flattened) / acts2_flattened.shape[0]\n",
    "\n",
    "    # get eigenvectors with singular value decomp\n",
    "    U1, _, _ = svd(cov1)\n",
    "    U2, _, _ = svd(cov2)\n",
    "    U1_topk = U1[:, :k]\n",
    "    U2_topk = U2[:, :k]\n",
    "\n",
    "    similarity_matrix = cosine_similarity(U1_topk.T, U2_topk.T)\n",
    "    avg_similarity = np.mean(similarity_matrix)\n",
    "\n",
    "    return avg_similarity"
   ]
  },
  {
   "cell_type": "code",
   "execution_count": null,
   "metadata": {
    "executionInfo": {
     "elapsed": 61181,
     "status": "ok",
     "timestamp": 1743471030660,
     "user": {
      "displayName": "Reilly H",
      "userId": "05616995266737589283"
     },
     "user_tz": -780
    },
    "id": "lREqq-5Bmb-W"
   },
   "outputs": [],
   "source": [
    "sims_mlp = {}\n",
    "\n",
    "for i in range(0, 6):\n",
    "    for j in range(0, 12):\n",
    "        curr_sim = abs(activation_eigenvector_similarity(j, i))\n",
    "        sims_mlp[(i, j)] = curr_sim"
   ]
  },
  {
   "cell_type": "code",
   "execution_count": 34,
   "metadata": {
    "executionInfo": {
     "elapsed": 118,
     "status": "ok",
     "timestamp": 1743471030762,
     "user": {
      "displayName": "Reilly H",
      "userId": "05616995266737589283"
     },
     "user_tz": -780
    },
    "id": "nfVtcQt7mdFO"
   },
   "outputs": [],
   "source": [
    "import torch\n",
    "import numpy as np\n",
    "\n",
    "mlp_keys = [k for k, v in sims_mlp.items() if v > 0]\n",
    "mlp_values = np.array([v for v in sims_mlp.values() if v > 0])\n",
    "\n",
    "attn_values = torch.tensor([v.item() for v in sims.values()])\n",
    "\n",
    "mlp_mean, mlp_std = np.mean(mlp_values), np.std(mlp_values)\n",
    "attn_mean, attn_std = torch.mean(attn_values), torch.std(attn_values)\n",
    "\n",
    "if mlp_values.size > 0:\n",
    "    mlp_min, mlp_max = np.min(mlp_values), np.max(mlp_values)\n",
    "else:\n",
    "    mlp_min, mlp_max = 0, 0\n",
    "if attn_values.numel() > 0:\n",
    "    attn_min, attn_max = torch.min(attn_values), torch.max(attn_values)\n",
    "else:\n",
    "    attn_min, attn_max = 0, 0\n",
    "\n",
    "mlp_values_normalized = ((mlp_values - mlp_mean) / mlp_std) * attn_std.item() + attn_mean.item()\n",
    "\n",
    "mlp_adjusted_values = mlp_values_normalized\n",
    "\n",
    "sims_mlp_adjusted = {k: v for k, v in zip(mlp_keys, mlp_adjusted_values)}\n",
    "\n",
    "sims_mlp_adjusted.update({k: 0 for k in sims_mlp if k not in sims_mlp_adjusted})\n",
    "\n",
    "max_val = max(sims_mlp_adjusted.values())\n",
    "\n",
    "if max_val == 0:\n",
    "    sim_mlp_scaled = {key: 0 for key in sims_mlp_adjusted.keys()}\n",
    "else:\n",
    "    sim_mlp_scaled = {key: val / max_val for key, val in sims_mlp_adjusted.items()}\n",
    "\n",
    "\n"
   ]
  },
  {
   "cell_type": "code",
   "execution_count": 35,
   "metadata": {
    "executionInfo": {
     "elapsed": 1,
     "status": "ok",
     "timestamp": 1743471030779,
     "user": {
      "displayName": "Reilly H",
      "userId": "05616995266737589283"
     },
     "user_tz": -780
    },
    "id": "QEuivzQameGq"
   },
   "outputs": [],
   "source": [
    "sims_mlp = sim_mlp_scaled"
   ]
  },
  {
   "cell_type": "code",
   "execution_count": 36,
   "metadata": {
    "colab": {
     "base_uri": "https://localhost:8080/"
    },
    "executionInfo": {
     "elapsed": 11,
     "status": "ok",
     "timestamp": 1743471030791,
     "user": {
      "displayName": "Reilly H",
      "userId": "05616995266737589283"
     },
     "user_tz": -780
    },
    "id": "fSTorQLnmexB",
    "outputId": "e24c4c56-adb9-4e28-aba6-5bded82445fd"
   },
   "outputs": [
    {
     "data": {
      "text/plain": [
       "{(0, 0): 0.31188947,\n",
       " (0, 1): 0.520239,\n",
       " (0, 2): 0.25778723,\n",
       " (0, 3): 0.32660085,\n",
       " (0, 4): 0.34923178,\n",
       " (0, 5): 0.2712322,\n",
       " (0, 6): 0.22443229,\n",
       " (0, 7): 0.35297254,\n",
       " (0, 8): 0.20614006,\n",
       " (0, 9): 0.23280938,\n",
       " (0, 10): 0.26221025,\n",
       " (0, 11): 0.42868578,\n",
       " (1, 0): 0.28632304,\n",
       " (1, 1): 0.20374303,\n",
       " (1, 2): 0.6097447,\n",
       " (1, 3): 0.29399192,\n",
       " (1, 4): 0.45151642,\n",
       " (1, 5): 0.5072657,\n",
       " (1, 6): 0.74414206,\n",
       " (1, 7): 0.2892293,\n",
       " (1, 8): 0.6157124,\n",
       " (1, 9): 0.5684113,\n",
       " (1, 10): 0.47857526,\n",
       " (1, 11): 0.5608996,\n",
       " (2, 0): 0.8750816,\n",
       " (2, 1): 0.8326812,\n",
       " (2, 2): 0.57632947,\n",
       " (2, 3): 0.7622476,\n",
       " (2, 4): 0.60215414,\n",
       " (2, 5): 0.5514144,\n",
       " (2, 6): 0.74919593,\n",
       " (2, 7): 0.23603144,\n",
       " (2, 8): 0.5768035,\n",
       " (2, 9): 0.43189055,\n",
       " (2, 10): 0.5565014,\n",
       " (2, 11): 0.63715625,\n",
       " (3, 0): 0.5206203,\n",
       " (3, 1): 0.5777837,\n",
       " (3, 2): 0.71421546,\n",
       " (3, 3): 0.645264,\n",
       " (3, 4): 0.65706354,\n",
       " (3, 5): 0.62145275,\n",
       " (3, 6): 1.0,\n",
       " (3, 7): 0.35748395,\n",
       " (3, 8): 0.83950955,\n",
       " (3, 9): 0.67868245,\n",
       " (3, 10): 0.5841515,\n",
       " (3, 11): 0.21057874,\n",
       " (4, 0): 0.2564012,\n",
       " (4, 1): 0.19461416,\n",
       " (4, 2): 0.29565066,\n",
       " (4, 3): 0.41003016,\n",
       " (4, 4): 0.4462899,\n",
       " (4, 5): 0.23478055,\n",
       " (4, 6): 0.37583253,\n",
       " (4, 7): 0.67505574,\n",
       " (4, 8): 0.25287023,\n",
       " (4, 9): 0.5242054,\n",
       " (4, 10): 0.39369825,\n",
       " (4, 11): 0.59872514,\n",
       " (5, 0): 0.46303484,\n",
       " (5, 1): 0.34863067,\n",
       " (5, 2): 0.4511995,\n",
       " (5, 3): 0.4170884,\n",
       " (5, 4): 0.4474612,\n",
       " (5, 5): 0.4202998,\n",
       " (5, 6): 0.59497046,\n",
       " (5, 7): 0.31201276,\n",
       " (5, 8): 0.6054399,\n",
       " (5, 9): 0.61119694,\n",
       " (5, 10): 0.5143318,\n",
       " (5, 11): 0.6065042}"
      ]
     },
     "execution_count": 36,
     "metadata": {},
     "output_type": "execute_result"
    }
   ],
   "source": [
    "sims_mlp"
   ]
  },
  {
   "cell_type": "code",
   "execution_count": 37,
   "metadata": {
    "colab": {
     "base_uri": "https://localhost:8080/"
    },
    "executionInfo": {
     "elapsed": 3,
     "status": "ok",
     "timestamp": 1743471030795,
     "user": {
      "displayName": "Reilly H",
      "userId": "05616995266737589283"
     },
     "user_tz": -780
    },
    "id": "VFmqwmqlmhGS",
    "outputId": "16ddf650-8861-4e0f-e5a9-160563692c1b"
   },
   "outputs": [
    {
     "data": {
      "text/plain": [
       "{0: (1, 0.520239),\n",
       " 1: (6, 0.74414206),\n",
       " 2: (0, 0.8750816),\n",
       " 3: (6, 1.0),\n",
       " 4: (7, 0.67505574),\n",
       " 5: (9, 0.61119694)}"
      ]
     },
     "execution_count": 37,
     "metadata": {},
     "output_type": "execute_result"
    }
   ],
   "source": [
    "max_vals_mlp = {}\n",
    "\n",
    "for (i, j), val in sims_mlp.items():\n",
    "    if i not in max_vals_mlp or val > max_vals_mlp[i][1]:\n",
    "        max_vals_mlp[i] = (j, val)\n",
    "\n",
    "max_vals_mlp"
   ]
  },
  {
   "cell_type": "code",
   "execution_count": null,
   "metadata": {},
   "outputs": [],
   "source": [
    "component_influence_teacher = scores_combined_t\n",
    "component_influence_student = scores_combined_s"
   ]
  },
  {
   "cell_type": "code",
   "execution_count": 39,
   "metadata": {
    "colab": {
     "base_uri": "https://localhost:8080/"
    },
    "executionInfo": {
     "elapsed": 99,
     "status": "ok",
     "timestamp": 1743471030909,
     "user": {
      "displayName": "Reilly H",
      "userId": "05616995266737589283"
     },
     "user_tz": -780
    },
    "id": "qcTZcG-8mjBu",
    "outputId": "f66a3a38-4a14-4999-e15e-31da0605e17e"
   },
   "outputs": [
    {
     "name": "stdout",
     "output_type": "stream",
     "text": [
      "[((1, 11), ((4, 4), tensor(0.9989))), ((5, 11), ((8, 2), tensor(0.9981))), ((4, 7), ((8, 3), tensor(0.9975))), ((5, 6), ((10, 2), tensor(0.9971))), ((5, 2), ((8, 3), tensor(0.9967))), ((5, 3), ((10, 4), tensor(0.9967))), ((5, 5), ((10, 2), tensor(0.9966))), ((5, 9), ((11, 7), tensor(0.9950))), ((5, 10), ((10, 4), tensor(0.9941))), ((5, 1), ((4, 4), tensor(0.9939))), ((4, 9), ((11, 7), tensor(0.9939))), ((1, 10), ((1, 6), tensor(0.9934))), ((1, 7), ((11, 4), tensor(0.9933))), ((5, 7), ((4, 4), tensor(0.9931))), ((4, 10), ((4, 4), tensor(0.9931))), ((0, 5), ((0, 5), tensor(0.9926))), ((3, 9), ((11, 3), tensor(0.9924))), ((4, 6), ((10, 8), tensor(0.9918))), ((3, 4), ((10, 4), tensor(0.9918))), ((3, 3), ((4, 4), tensor(0.9910))), ((1, 3), ((1, 0), tensor(0.9905))), ((4, 8), ((11, 3), tensor(0.9904))), ((0, 3), ((0, 3), tensor(0.9904))), ((3, 8), ((11, 3), tensor(0.9896))), ((1, 6), ((1, 6), tensor(0.9890))), ((2, 6), ((8, 0), tensor(0.9890))), ((4, 0), ((11, 3), tensor(0.9889))), ((2, 2), ((8, 0), tensor(0.9880))), ((2, 4), ((8, 0), tensor(0.9880))), ((4, 5), ((8, 0), tensor(0.9880))), ((2, 9), ((11, 3), tensor(0.9872))), ((2, 10), ((8, 0), tensor(0.9871))), ((0, 1), ((0, 5), tensor(0.9868))), ((3, 1), ((10, 8), tensor(0.9866))), ((4, 1), ((4, 4), tensor(0.9853))), ((2, 8), ((8, 0), tensor(0.9849))), ((4, 2), ((11, 3), tensor(0.9843))), ((3, 5), ((11, 3), tensor(0.9841))), ((3, 6), ((8, 0), tensor(0.9840))), ((0, 2), ((0, 11), tensor(0.9836))), ((4, 4), ((11, 3), tensor(0.9834))), ((3, 2), ((8, 0), tensor(0.9828))), ((0, 7), ((1, 0), tensor(0.9822))), ((1, 1), ((8, 0), tensor(0.9819))), ((0, 8), ((0, 11), tensor(0.9816))), ((3, 11), ((10, 8), tensor(0.9813))), ((4, 11), ((11, 3), tensor(0.9811))), ((3, 10), ((11, 3), tensor(0.9811))), ((0, 4), ((0, 4), tensor(0.9802))), ((3, 7), ((11, 3), tensor(0.9800))), ((1, 9), ((1, 0), tensor(0.9786))), ((1, 0), ((2, 0), tensor(0.9779))), ((1, 8), ((1, 0), tensor(0.9770))), ((0, 6), ((0, 6), tensor(0.9765))), ((1, 5), ((1, 1), tensor(0.9732))), ((2, 0), ((4, 0), tensor(0.9727))), ((1, 4), ((9, 3), tensor(0.9703))), ((0, 0), ((0, 0), tensor(0.9692))), ((5, 4), ((1, 6), tensor(0.9644))), ((0, 10), ((0, 2), tensor(0.9630))), ((0, 9), ((1, 9), tensor(0.9624))), ((2, 7), ((1, 11), tensor(0.9590))), ((3, 0), ((11, 3), tensor(0.9585))), ((4, 3), ((9, 3), tensor(0.9578))), ((2, 3), ((4, 0), tensor(0.9511))), ((2, 1), ((9, 3), tensor(0.9498))), ((2, 5), ((9, 3), tensor(0.9489))), ((1, 2), ((1, 0), tensor(0.9485))), ((5, 0), ((1, 9), tensor(0.9362))), ((5, 8), ((11, 8), tensor(0.9221))), ((0, 11), ((1, 8), tensor(0.8901))), ((2, 11), ((1, 0), tensor(0.8506)))]\n",
      "[(3, (6, 1.0)), (2, (0, 0.8750816)), (1, (6, 0.74414206)), (4, (7, 0.67505574)), (5, (9, 0.61119694)), (0, (1, 0.520239))]\n"
     ]
    }
   ],
   "source": [
    "attn_matches = max_vals_attn\n",
    "mlp_matches = max_vals_mlp\n",
    "print(sorted(attn_matches.items(), key=lambda x: x[1][1], reverse=True))\n",
    "print(sorted(mlp_matches.items(), key=lambda x: x[1][1], reverse=True))"
   ]
  },
  {
   "cell_type": "code",
   "execution_count": null,
   "metadata": {
    "executionInfo": {
     "elapsed": 23,
     "status": "ok",
     "timestamp": 1743471030930,
     "user": {
      "displayName": "Reilly H",
      "userId": "05616995266737589283"
     },
     "user_tz": -780
    },
    "id": "ReKTsQ7smkJT"
   },
   "outputs": [],
   "source": [
    "teacher_influences = {comp: abs(score) for comp, score in component_influence_teacher}\n",
    "student_influences = {comp: abs(score) for comp, score in component_influence_student}\n",
    "teacher_probs, student_probs = teacher_influences, student_influences"
   ]
  },
  {
   "cell_type": "code",
   "execution_count": 42,
   "metadata": {
    "executionInfo": {
     "elapsed": 1,
     "status": "ok",
     "timestamp": 1743471030943,
     "user": {
      "displayName": "Reilly H",
      "userId": "05616995266737589283"
     },
     "user_tz": -780
    },
    "id": "GwveztQLmmzm"
   },
   "outputs": [],
   "source": [
    "attn_sims = []"
   ]
  },
  {
   "cell_type": "code",
   "execution_count": 44,
   "metadata": {
    "colab": {
     "base_uri": "https://localhost:8080/"
    },
    "executionInfo": {
     "elapsed": 60,
     "status": "ok",
     "timestamp": 1743471031005,
     "user": {
      "displayName": "Reilly H",
      "userId": "05616995266737589283"
     },
     "user_tz": -780
    },
    "id": "J7Pati-9mocS",
    "outputId": "43f63e65-cdda-4ca8-a6bb-3b4e138f4fb6"
   },
   "outputs": [
    {
     "data": {
      "text/plain": [
       "{(0, 0): ((0, 0), tensor(0.9692)),\n",
       " (0, 1): ((0, 5), tensor(0.9868)),\n",
       " (0, 2): ((0, 11), tensor(0.9836)),\n",
       " (0, 3): ((0, 3), tensor(0.9904)),\n",
       " (0, 4): ((0, 4), tensor(0.9802)),\n",
       " (0, 5): ((0, 5), tensor(0.9926)),\n",
       " (0, 6): ((0, 6), tensor(0.9765)),\n",
       " (0, 7): ((1, 0), tensor(0.9822)),\n",
       " (0, 8): ((0, 11), tensor(0.9816)),\n",
       " (0, 9): ((1, 9), tensor(0.9624)),\n",
       " (0, 10): ((0, 2), tensor(0.9630)),\n",
       " (0, 11): ((1, 8), tensor(0.8901)),\n",
       " (1, 0): ((2, 0), tensor(0.9779)),\n",
       " (1, 1): ((8, 0), tensor(0.9819)),\n",
       " (1, 2): ((1, 0), tensor(0.9485)),\n",
       " (1, 3): ((1, 0), tensor(0.9905)),\n",
       " (1, 4): ((9, 3), tensor(0.9703)),\n",
       " (1, 5): ((1, 1), tensor(0.9732)),\n",
       " (1, 6): ((1, 6), tensor(0.9890)),\n",
       " (1, 7): ((11, 4), tensor(0.9933)),\n",
       " (1, 8): ((1, 0), tensor(0.9770)),\n",
       " (1, 9): ((1, 0), tensor(0.9786)),\n",
       " (1, 10): ((1, 6), tensor(0.9934)),\n",
       " (1, 11): ((4, 4), tensor(0.9989)),\n",
       " (2, 0): ((4, 0), tensor(0.9727)),\n",
       " (2, 1): ((9, 3), tensor(0.9498)),\n",
       " (2, 2): ((8, 0), tensor(0.9880)),\n",
       " (2, 3): ((4, 0), tensor(0.9511)),\n",
       " (2, 4): ((8, 0), tensor(0.9880)),\n",
       " (2, 5): ((9, 3), tensor(0.9489)),\n",
       " (2, 6): ((8, 0), tensor(0.9890)),\n",
       " (2, 7): ((1, 11), tensor(0.9590)),\n",
       " (2, 8): ((8, 0), tensor(0.9849)),\n",
       " (2, 9): ((11, 3), tensor(0.9872)),\n",
       " (2, 10): ((8, 0), tensor(0.9871)),\n",
       " (2, 11): ((1, 0), tensor(0.8506)),\n",
       " (3, 0): ((11, 3), tensor(0.9585)),\n",
       " (3, 1): ((10, 8), tensor(0.9866)),\n",
       " (3, 2): ((8, 0), tensor(0.9828)),\n",
       " (3, 3): ((4, 4), tensor(0.9910)),\n",
       " (3, 4): ((10, 4), tensor(0.9918)),\n",
       " (3, 5): ((11, 3), tensor(0.9841)),\n",
       " (3, 6): ((8, 0), tensor(0.9840)),\n",
       " (3, 7): ((11, 3), tensor(0.9800)),\n",
       " (3, 8): ((11, 3), tensor(0.9896)),\n",
       " (3, 9): ((11, 3), tensor(0.9924)),\n",
       " (3, 10): ((11, 3), tensor(0.9811)),\n",
       " (3, 11): ((10, 8), tensor(0.9813)),\n",
       " (4, 0): ((11, 3), tensor(0.9889)),\n",
       " (4, 1): ((4, 4), tensor(0.9853)),\n",
       " (4, 2): ((11, 3), tensor(0.9843)),\n",
       " (4, 3): ((9, 3), tensor(0.9578)),\n",
       " (4, 4): ((11, 3), tensor(0.9834)),\n",
       " (4, 5): ((8, 0), tensor(0.9880)),\n",
       " (4, 6): ((10, 8), tensor(0.9918)),\n",
       " (4, 7): ((8, 3), tensor(0.9975)),\n",
       " (4, 8): ((11, 3), tensor(0.9904)),\n",
       " (4, 9): ((11, 7), tensor(0.9939)),\n",
       " (4, 10): ((4, 4), tensor(0.9931)),\n",
       " (4, 11): ((11, 3), tensor(0.9811)),\n",
       " (5, 0): ((1, 9), tensor(0.9362)),\n",
       " (5, 1): ((4, 4), tensor(0.9939)),\n",
       " (5, 2): ((8, 3), tensor(0.9967)),\n",
       " (5, 3): ((10, 4), tensor(0.9967)),\n",
       " (5, 4): ((1, 6), tensor(0.9644)),\n",
       " (5, 5): ((10, 2), tensor(0.9966)),\n",
       " (5, 6): ((10, 2), tensor(0.9971)),\n",
       " (5, 7): ((4, 4), tensor(0.9931)),\n",
       " (5, 8): ((11, 8), tensor(0.9221)),\n",
       " (5, 9): ((11, 7), tensor(0.9950)),\n",
       " (5, 10): ((10, 4), tensor(0.9941)),\n",
       " (5, 11): ((8, 2), tensor(0.9981))}"
      ]
     },
     "execution_count": 44,
     "metadata": {},
     "output_type": "execute_result"
    }
   ],
   "source": [
    "attn_matches"
   ]
  },
  {
   "cell_type": "code",
   "execution_count": null,
   "metadata": {
    "executionInfo": {
     "elapsed": 2,
     "status": "ok",
     "timestamp": 1743471031006,
     "user": {
      "displayName": "Reilly H",
      "userId": "05616995266737589283"
     },
     "user_tz": -780
    },
    "id": "0IwvTtmrmpn0"
   },
   "outputs": [],
   "source": [
    "filtered_attn = [match for match in attn_matches.items()]\n",
    "\n",
    "matched_attn_sim = set(attn_matches.items())\n",
    "unmatched_attn_sim = set(attn_matches.items()) - set(filtered_attn)\n",
    "\n",
    "filtered_attn_list = [x[0] for x in filtered_attn]"
   ]
  },
  {
   "cell_type": "code",
   "execution_count": 46,
   "metadata": {
    "colab": {
     "base_uri": "https://localhost:8080/"
    },
    "executionInfo": {
     "elapsed": 25,
     "status": "ok",
     "timestamp": 1743471031030,
     "user": {
      "displayName": "Reilly H",
      "userId": "05616995266737589283"
     },
     "user_tz": -780
    },
    "id": "S5aN-DxLmrG6",
    "outputId": "00cf25f2-be3e-4739-a783-ba1947b5189a"
   },
   "outputs": [
    {
     "data": {
      "text/plain": [
       "{((0, 0), ((0, 0), tensor(0.9692))),\n",
       " ((0, 1), ((0, 5), tensor(0.9868))),\n",
       " ((0, 2), ((0, 11), tensor(0.9836))),\n",
       " ((0, 3), ((0, 3), tensor(0.9904))),\n",
       " ((0, 4), ((0, 4), tensor(0.9802))),\n",
       " ((0, 5), ((0, 5), tensor(0.9926))),\n",
       " ((0, 6), ((0, 6), tensor(0.9765))),\n",
       " ((0, 7), ((1, 0), tensor(0.9822))),\n",
       " ((0, 8), ((0, 11), tensor(0.9816))),\n",
       " ((0, 9), ((1, 9), tensor(0.9624))),\n",
       " ((0, 10), ((0, 2), tensor(0.9630))),\n",
       " ((0, 11), ((1, 8), tensor(0.8901))),\n",
       " ((1, 0), ((2, 0), tensor(0.9779))),\n",
       " ((1, 1), ((8, 0), tensor(0.9819))),\n",
       " ((1, 2), ((1, 0), tensor(0.9485))),\n",
       " ((1, 3), ((1, 0), tensor(0.9905))),\n",
       " ((1, 4), ((9, 3), tensor(0.9703))),\n",
       " ((1, 5), ((1, 1), tensor(0.9732))),\n",
       " ((1, 6), ((1, 6), tensor(0.9890))),\n",
       " ((1, 7), ((11, 4), tensor(0.9933))),\n",
       " ((1, 8), ((1, 0), tensor(0.9770))),\n",
       " ((1, 9), ((1, 0), tensor(0.9786))),\n",
       " ((1, 10), ((1, 6), tensor(0.9934))),\n",
       " ((1, 11), ((4, 4), tensor(0.9989))),\n",
       " ((2, 0), ((4, 0), tensor(0.9727))),\n",
       " ((2, 1), ((9, 3), tensor(0.9498))),\n",
       " ((2, 2), ((8, 0), tensor(0.9880))),\n",
       " ((2, 3), ((4, 0), tensor(0.9511))),\n",
       " ((2, 4), ((8, 0), tensor(0.9880))),\n",
       " ((2, 5), ((9, 3), tensor(0.9489))),\n",
       " ((2, 6), ((8, 0), tensor(0.9890))),\n",
       " ((2, 7), ((1, 11), tensor(0.9590))),\n",
       " ((2, 8), ((8, 0), tensor(0.9849))),\n",
       " ((2, 9), ((11, 3), tensor(0.9872))),\n",
       " ((2, 10), ((8, 0), tensor(0.9871))),\n",
       " ((2, 11), ((1, 0), tensor(0.8506))),\n",
       " ((3, 0), ((11, 3), tensor(0.9585))),\n",
       " ((3, 1), ((10, 8), tensor(0.9866))),\n",
       " ((3, 2), ((8, 0), tensor(0.9828))),\n",
       " ((3, 3), ((4, 4), tensor(0.9910))),\n",
       " ((3, 4), ((10, 4), tensor(0.9918))),\n",
       " ((3, 5), ((11, 3), tensor(0.9841))),\n",
       " ((3, 6), ((8, 0), tensor(0.9840))),\n",
       " ((3, 7), ((11, 3), tensor(0.9800))),\n",
       " ((3, 8), ((11, 3), tensor(0.9896))),\n",
       " ((3, 9), ((11, 3), tensor(0.9924))),\n",
       " ((3, 10), ((11, 3), tensor(0.9811))),\n",
       " ((3, 11), ((10, 8), tensor(0.9813))),\n",
       " ((4, 0), ((11, 3), tensor(0.9889))),\n",
       " ((4, 1), ((4, 4), tensor(0.9853))),\n",
       " ((4, 2), ((11, 3), tensor(0.9843))),\n",
       " ((4, 3), ((9, 3), tensor(0.9578))),\n",
       " ((4, 4), ((11, 3), tensor(0.9834))),\n",
       " ((4, 5), ((8, 0), tensor(0.9880))),\n",
       " ((4, 6), ((10, 8), tensor(0.9918))),\n",
       " ((4, 7), ((8, 3), tensor(0.9975))),\n",
       " ((4, 8), ((11, 3), tensor(0.9904))),\n",
       " ((4, 9), ((11, 7), tensor(0.9939))),\n",
       " ((4, 10), ((4, 4), tensor(0.9931))),\n",
       " ((4, 11), ((11, 3), tensor(0.9811))),\n",
       " ((5, 0), ((1, 9), tensor(0.9362))),\n",
       " ((5, 1), ((4, 4), tensor(0.9939))),\n",
       " ((5, 2), ((8, 3), tensor(0.9967))),\n",
       " ((5, 3), ((10, 4), tensor(0.9967))),\n",
       " ((5, 4), ((1, 6), tensor(0.9644))),\n",
       " ((5, 5), ((10, 2), tensor(0.9966))),\n",
       " ((5, 6), ((10, 2), tensor(0.9971))),\n",
       " ((5, 7), ((4, 4), tensor(0.9931))),\n",
       " ((5, 8), ((11, 8), tensor(0.9221))),\n",
       " ((5, 9), ((11, 7), tensor(0.9950))),\n",
       " ((5, 10), ((10, 4), tensor(0.9941))),\n",
       " ((5, 11), ((8, 2), tensor(0.9981)))}"
      ]
     },
     "execution_count": 46,
     "metadata": {},
     "output_type": "execute_result"
    }
   ],
   "source": [
    "matched_attn_sim"
   ]
  },
  {
   "cell_type": "code",
   "execution_count": 47,
   "metadata": {
    "colab": {
     "base_uri": "https://localhost:8080/"
    },
    "executionInfo": {
     "elapsed": 25,
     "status": "ok",
     "timestamp": 1743471031055,
     "user": {
      "displayName": "Reilly H",
      "userId": "05616995266737589283"
     },
     "user_tz": -780
    },
    "id": "UO4vdqtjmtLK",
    "outputId": "718ff72a-d480-4d46-c001-2f1de8df200a"
   },
   "outputs": [
    {
     "data": {
      "text/plain": [
       "{((0, 11), ((1, 8), tensor(0.8901))),\n",
       " ((1, 2), ((1, 0), tensor(0.9485))),\n",
       " ((2, 1), ((9, 3), tensor(0.9498))),\n",
       " ((2, 5), ((9, 3), tensor(0.9489))),\n",
       " ((2, 11), ((1, 0), tensor(0.8506))),\n",
       " ((5, 0), ((1, 9), tensor(0.9362))),\n",
       " ((5, 8), ((11, 8), tensor(0.9221)))}"
      ]
     },
     "execution_count": 47,
     "metadata": {},
     "output_type": "execute_result"
    }
   ],
   "source": [
    "unmatched_attn_sim"
   ]
  },
  {
   "cell_type": "code",
   "execution_count": 48,
   "metadata": {
    "colab": {
     "base_uri": "https://localhost:8080/"
    },
    "executionInfo": {
     "elapsed": 14,
     "status": "ok",
     "timestamp": 1743471031091,
     "user": {
      "displayName": "Reilly H",
      "userId": "05616995266737589283"
     },
     "user_tz": -780
    },
    "id": "bVvsp_ZEmt_R",
    "outputId": "a61c3617-44dc-41cd-e715-abb92a4f2226"
   },
   "outputs": [
    {
     "data": {
      "text/plain": [
       "dict_items([(0, (1, 0.520239)), (1, (6, 0.74414206)), (2, (0, 0.8750816)), (3, (6, 1.0)), (4, (7, 0.67505574)), (5, (9, 0.61119694))])"
      ]
     },
     "execution_count": 48,
     "metadata": {},
     "output_type": "execute_result"
    }
   ],
   "source": [
    "mlp_matches.items()"
   ]
  },
  {
   "cell_type": "code",
   "execution_count": null,
   "metadata": {
    "colab": {
     "base_uri": "https://localhost:8080/"
    },
    "executionInfo": {
     "elapsed": 3,
     "status": "ok",
     "timestamp": 1743471031094,
     "user": {
      "displayName": "Reilly H",
      "userId": "05616995266737589283"
     },
     "user_tz": -780
    },
    "id": "eV8Hvg7tmuxk",
    "outputId": "7ef4ea54-3e9d-40c3-d999-5a06fc4a02d4"
   },
   "outputs": [
    {
     "data": {
      "text/plain": [
       "[0, 1, 2, 3, 4, 5]"
      ]
     },
     "execution_count": 49,
     "metadata": {},
     "output_type": "execute_result"
    }
   ],
   "source": [
    "filtered_mlp = [match for match in mlp_matches.items()]\n",
    "\n",
    "matched_mlp_sim = set(filtered_mlp)\n",
    "unmatched_mlp_sim = set(mlp_matches.items()) - set(filtered_mlp)\n",
    "\n",
    "filtered_mlp_list = [a[0] for a in filtered_mlp]\n",
    "filtered_mlp_list\n"
   ]
  },
  {
   "cell_type": "code",
   "execution_count": 50,
   "metadata": {
    "colab": {
     "base_uri": "https://localhost:8080/"
    },
    "executionInfo": {
     "elapsed": 13,
     "status": "ok",
     "timestamp": 1743471031108,
     "user": {
      "displayName": "Reilly H",
      "userId": "05616995266737589283"
     },
     "user_tz": -780
    },
    "id": "uPt1Q4Qemvqx",
    "outputId": "50873212-9121-416e-b1ee-23e15bbe4780"
   },
   "outputs": [
    {
     "data": {
      "text/plain": [
       "{(0, (1, 0.520239)),\n",
       " (1, (6, 0.74414206)),\n",
       " (2, (0, 0.8750816)),\n",
       " (3, (6, 1.0)),\n",
       " (4, (7, 0.67505574)),\n",
       " (5, (9, 0.61119694))}"
      ]
     },
     "execution_count": 50,
     "metadata": {},
     "output_type": "execute_result"
    }
   ],
   "source": [
    "matched_mlp_sim"
   ]
  },
  {
   "cell_type": "code",
   "execution_count": 51,
   "metadata": {
    "colab": {
     "base_uri": "https://localhost:8080/"
    },
    "executionInfo": {
     "elapsed": 3,
     "status": "ok",
     "timestamp": 1743471031108,
     "user": {
      "displayName": "Reilly H",
      "userId": "05616995266737589283"
     },
     "user_tz": -780
    },
    "id": "aH8MUJpimyjd",
    "outputId": "f7834450-2dc7-41be-dbac-48bbddd5736f"
   },
   "outputs": [
    {
     "data": {
      "text/plain": [
       "set()"
      ]
     },
     "execution_count": 51,
     "metadata": {},
     "output_type": "execute_result"
    }
   ],
   "source": [
    "unmatched_mlp_sim"
   ]
  },
  {
   "cell_type": "code",
   "execution_count": 52,
   "metadata": {
    "executionInfo": {
     "elapsed": 18,
     "status": "ok",
     "timestamp": 1743471031125,
     "user": {
      "displayName": "Reilly H",
      "userId": "05616995266737589283"
     },
     "user_tz": -780
    },
    "id": "Cz7qBAnXmzw0"
   },
   "outputs": [],
   "source": [
    "matched = list(matched_attn_sim) + list(matched_mlp_sim)\n",
    "unmatched = list(unmatched_attn_sim) + list(unmatched_mlp_sim)"
   ]
  },
  {
   "cell_type": "code",
   "execution_count": 53,
   "metadata": {
    "colab": {
     "base_uri": "https://localhost:8080/"
    },
    "executionInfo": {
     "elapsed": 48,
     "status": "ok",
     "timestamp": 1743471031174,
     "user": {
      "displayName": "Reilly H",
      "userId": "05616995266737589283"
     },
     "user_tz": -780
    },
    "id": "TjGt2NnRm0k2",
    "outputId": "c6923a8c-5887-4eb1-c2f5-2681defc8c27"
   },
   "outputs": [
    {
     "data": {
      "text/plain": [
       "[((0, 8), ((0, 11), tensor(0.9816))),\n",
       " ((1, 10), ((1, 6), tensor(0.9934))),\n",
       " ((1, 1), ((8, 0), tensor(0.9819))),\n",
       " ((2, 4), ((8, 0), tensor(0.9880))),\n",
       " ((2, 8), ((8, 0), tensor(0.9849))),\n",
       " ((2, 0), ((4, 0), tensor(0.9727))),\n",
       " ((3, 5), ((11, 3), tensor(0.9841))),\n",
       " ((0, 11), ((1, 8), tensor(0.8901))),\n",
       " ((1, 4), ((9, 3), tensor(0.9703))),\n",
       " ((4, 9), ((11, 7), tensor(0.9939))),\n",
       " ((5, 3), ((10, 4), tensor(0.9967))),\n",
       " ((4, 8), ((11, 3), tensor(0.9904))),\n",
       " ((4, 3), ((9, 3), tensor(0.9578))),\n",
       " ((1, 8), ((1, 0), tensor(0.9770))),\n",
       " ((1, 7), ((11, 4), tensor(0.9933))),\n",
       " ((2, 6), ((8, 0), tensor(0.9890))),\n",
       " ((4, 6), ((10, 8), tensor(0.9918))),\n",
       " ((0, 10), ((0, 2), tensor(0.9630))),\n",
       " ((5, 11), ((8, 2), tensor(0.9981))),\n",
       " ((5, 2), ((8, 3), tensor(0.9967))),\n",
       " ((2, 9), ((11, 3), tensor(0.9872))),\n",
       " ((1, 2), ((1, 0), tensor(0.9485))),\n",
       " ((2, 3), ((4, 0), tensor(0.9511))),\n",
       " ((2, 7), ((1, 11), tensor(0.9590))),\n",
       " ((2, 11), ((1, 0), tensor(0.8506))),\n",
       " ((5, 1), ((4, 4), tensor(0.9939))),\n",
       " ((1, 11), ((4, 4), tensor(0.9989))),\n",
       " ((2, 1), ((9, 3), tensor(0.9498))),\n",
       " ((3, 0), ((11, 3), tensor(0.9585))),\n",
       " ((5, 7), ((4, 4), tensor(0.9931))),\n",
       " ((1, 9), ((1, 0), tensor(0.9786))),\n",
       " ((2, 5), ((9, 3), tensor(0.9489))),\n",
       " ((0, 0), ((0, 0), tensor(0.9692))),\n",
       " ((0, 5), ((0, 5), tensor(0.9926))),\n",
       " ((2, 10), ((8, 0), tensor(0.9871))),\n",
       " ((3, 4), ((10, 4), tensor(0.9918))),\n",
       " ((3, 8), ((11, 3), tensor(0.9896))),\n",
       " ((4, 4), ((11, 3), tensor(0.9834))),\n",
       " ((4, 7), ((8, 3), tensor(0.9975))),\n",
       " ((3, 10), ((11, 3), tensor(0.9811))),\n",
       " ((0, 7), ((1, 0), tensor(0.9822))),\n",
       " ((3, 9), ((11, 3), tensor(0.9924))),\n",
       " ((4, 2), ((11, 3), tensor(0.9843))),\n",
       " ((5, 0), ((1, 9), tensor(0.9362))),\n",
       " ((4, 5), ((8, 0), tensor(0.9880))),\n",
       " ((3, 11), ((10, 8), tensor(0.9813))),\n",
       " ((1, 0), ((2, 0), tensor(0.9779))),\n",
       " ((0, 1), ((0, 5), tensor(0.9868))),\n",
       " ((3, 6), ((8, 0), tensor(0.9840))),\n",
       " ((5, 4), ((1, 6), tensor(0.9644))),\n",
       " ((4, 10), ((4, 4), tensor(0.9931))),\n",
       " ((0, 2), ((0, 11), tensor(0.9836))),\n",
       " ((4, 11), ((11, 3), tensor(0.9811))),\n",
       " ((1, 3), ((1, 0), tensor(0.9905))),\n",
       " ((3, 7), ((11, 3), tensor(0.9800))),\n",
       " ((5, 9), ((11, 7), tensor(0.9950))),\n",
       " ((3, 2), ((8, 0), tensor(0.9828))),\n",
       " ((3, 1), ((10, 8), tensor(0.9866))),\n",
       " ((3, 3), ((4, 4), tensor(0.9910))),\n",
       " ((5, 8), ((11, 8), tensor(0.9221))),\n",
       " ((5, 5), ((10, 2), tensor(0.9966))),\n",
       " ((0, 6), ((0, 6), tensor(0.9765))),\n",
       " ((1, 6), ((1, 6), tensor(0.9890))),\n",
       " ((2, 2), ((8, 0), tensor(0.9880))),\n",
       " ((5, 10), ((10, 4), tensor(0.9941))),\n",
       " ((0, 3), ((0, 3), tensor(0.9904))),\n",
       " ((0, 4), ((0, 4), tensor(0.9802))),\n",
       " ((4, 1), ((4, 4), tensor(0.9853))),\n",
       " ((0, 9), ((1, 9), tensor(0.9624))),\n",
       " ((1, 5), ((1, 1), tensor(0.9732))),\n",
       " ((5, 6), ((10, 2), tensor(0.9971))),\n",
       " ((4, 0), ((11, 3), tensor(0.9889))),\n",
       " (0, (1, 0.520239)),\n",
       " (5, (9, 0.61119694)),\n",
       " (4, (7, 0.67505574)),\n",
       " (2, (0, 0.8750816)),\n",
       " (1, (6, 0.74414206)),\n",
       " (3, (6, 1.0))]"
      ]
     },
     "execution_count": 53,
     "metadata": {},
     "output_type": "execute_result"
    }
   ],
   "source": [
    "matched"
   ]
  },
  {
   "cell_type": "code",
   "execution_count": 54,
   "metadata": {
    "colab": {
     "base_uri": "https://localhost:8080/"
    },
    "executionInfo": {
     "elapsed": 20,
     "status": "ok",
     "timestamp": 1743471031194,
     "user": {
      "displayName": "Reilly H",
      "userId": "05616995266737589283"
     },
     "user_tz": -780
    },
    "id": "e1fQnPJLm2uW",
    "outputId": "4fa1e44f-5dc2-42dd-a131-00b89b0cd7d5"
   },
   "outputs": [
    {
     "data": {
      "text/plain": [
       "[((2, 11), ((1, 0), tensor(0.8506))),\n",
       " ((1, 2), ((1, 0), tensor(0.9485))),\n",
       " ((5, 0), ((1, 9), tensor(0.9362))),\n",
       " ((5, 8), ((11, 8), tensor(0.9221))),\n",
       " ((2, 1), ((9, 3), tensor(0.9498))),\n",
       " ((0, 11), ((1, 8), tensor(0.8901))),\n",
       " ((2, 5), ((9, 3), tensor(0.9489)))]"
      ]
     },
     "execution_count": 54,
     "metadata": {},
     "output_type": "execute_result"
    }
   ],
   "source": [
    "unmatched"
   ]
  },
  {
   "cell_type": "code",
   "execution_count": null,
   "metadata": {
    "executionInfo": {
     "elapsed": 36,
     "status": "ok",
     "timestamp": 1743471031229,
     "user": {
      "displayName": "Reilly H",
      "userId": "05616995266737589283"
     },
     "user_tz": -780
    },
    "id": "b1JzhXBym3s0"
   },
   "outputs": [],
   "source": [
    "all_sims = matched + unmatched\n",
    "matched_norm = [\n",
    "    (entry[0], (entry[1][0], entry[1][1]))\n",
    "    for entry in matched\n",
    "]\n",
    "\n",
    "unmatched_norm = [\n",
    "    (entry[0], (entry[1][0], entry[1][1]))\n",
    "    for entry in unmatched\n",
    "]"
   ]
  },
  {
   "cell_type": "code",
   "execution_count": 56,
   "metadata": {
    "colab": {
     "base_uri": "https://localhost:8080/"
    },
    "executionInfo": {
     "elapsed": 19,
     "status": "ok",
     "timestamp": 1743471031246,
     "user": {
      "displayName": "Reilly H",
      "userId": "05616995266737589283"
     },
     "user_tz": -780
    },
    "id": "3yd79gBYm4xC",
    "outputId": "ad67bdfe-85d0-4a91-fe66-fbb8cbeae004"
   },
   "outputs": [
    {
     "data": {
      "text/plain": [
       "[((0, 8), ((0, 11), tensor(0.9816))),\n",
       " ((1, 10), ((1, 6), tensor(0.9934))),\n",
       " ((1, 1), ((8, 0), tensor(0.9819))),\n",
       " ((2, 4), ((8, 0), tensor(0.9880))),\n",
       " ((2, 8), ((8, 0), tensor(0.9849))),\n",
       " ((2, 0), ((4, 0), tensor(0.9727))),\n",
       " ((3, 5), ((11, 3), tensor(0.9841))),\n",
       " ((0, 11), ((1, 8), tensor(0.8901))),\n",
       " ((1, 4), ((9, 3), tensor(0.9703))),\n",
       " ((4, 9), ((11, 7), tensor(0.9939))),\n",
       " ((5, 3), ((10, 4), tensor(0.9967))),\n",
       " ((4, 8), ((11, 3), tensor(0.9904))),\n",
       " ((4, 3), ((9, 3), tensor(0.9578))),\n",
       " ((1, 8), ((1, 0), tensor(0.9770))),\n",
       " ((1, 7), ((11, 4), tensor(0.9933))),\n",
       " ((2, 6), ((8, 0), tensor(0.9890))),\n",
       " ((4, 6), ((10, 8), tensor(0.9918))),\n",
       " ((0, 10), ((0, 2), tensor(0.9630))),\n",
       " ((5, 11), ((8, 2), tensor(0.9981))),\n",
       " ((5, 2), ((8, 3), tensor(0.9967))),\n",
       " ((2, 9), ((11, 3), tensor(0.9872))),\n",
       " ((1, 2), ((1, 0), tensor(0.9485))),\n",
       " ((2, 3), ((4, 0), tensor(0.9511))),\n",
       " ((2, 7), ((1, 11), tensor(0.9590))),\n",
       " ((2, 11), ((1, 0), tensor(0.8506))),\n",
       " ((5, 1), ((4, 4), tensor(0.9939))),\n",
       " ((1, 11), ((4, 4), tensor(0.9989))),\n",
       " ((2, 1), ((9, 3), tensor(0.9498))),\n",
       " ((3, 0), ((11, 3), tensor(0.9585))),\n",
       " ((5, 7), ((4, 4), tensor(0.9931))),\n",
       " ((1, 9), ((1, 0), tensor(0.9786))),\n",
       " ((2, 5), ((9, 3), tensor(0.9489))),\n",
       " ((0, 0), ((0, 0), tensor(0.9692))),\n",
       " ((0, 5), ((0, 5), tensor(0.9926))),\n",
       " ((2, 10), ((8, 0), tensor(0.9871))),\n",
       " ((3, 4), ((10, 4), tensor(0.9918))),\n",
       " ((3, 8), ((11, 3), tensor(0.9896))),\n",
       " ((4, 4), ((11, 3), tensor(0.9834))),\n",
       " ((4, 7), ((8, 3), tensor(0.9975))),\n",
       " ((3, 10), ((11, 3), tensor(0.9811))),\n",
       " ((0, 7), ((1, 0), tensor(0.9822))),\n",
       " ((3, 9), ((11, 3), tensor(0.9924))),\n",
       " ((4, 2), ((11, 3), tensor(0.9843))),\n",
       " ((5, 0), ((1, 9), tensor(0.9362))),\n",
       " ((4, 5), ((8, 0), tensor(0.9880))),\n",
       " ((3, 11), ((10, 8), tensor(0.9813))),\n",
       " ((1, 0), ((2, 0), tensor(0.9779))),\n",
       " ((0, 1), ((0, 5), tensor(0.9868))),\n",
       " ((3, 6), ((8, 0), tensor(0.9840))),\n",
       " ((5, 4), ((1, 6), tensor(0.9644))),\n",
       " ((4, 10), ((4, 4), tensor(0.9931))),\n",
       " ((0, 2), ((0, 11), tensor(0.9836))),\n",
       " ((4, 11), ((11, 3), tensor(0.9811))),\n",
       " ((1, 3), ((1, 0), tensor(0.9905))),\n",
       " ((3, 7), ((11, 3), tensor(0.9800))),\n",
       " ((5, 9), ((11, 7), tensor(0.9950))),\n",
       " ((3, 2), ((8, 0), tensor(0.9828))),\n",
       " ((3, 1), ((10, 8), tensor(0.9866))),\n",
       " ((3, 3), ((4, 4), tensor(0.9910))),\n",
       " ((5, 8), ((11, 8), tensor(0.9221))),\n",
       " ((5, 5), ((10, 2), tensor(0.9966))),\n",
       " ((0, 6), ((0, 6), tensor(0.9765))),\n",
       " ((1, 6), ((1, 6), tensor(0.9890))),\n",
       " ((2, 2), ((8, 0), tensor(0.9880))),\n",
       " ((5, 10), ((10, 4), tensor(0.9941))),\n",
       " ((0, 3), ((0, 3), tensor(0.9904))),\n",
       " ((0, 4), ((0, 4), tensor(0.9802))),\n",
       " ((4, 1), ((4, 4), tensor(0.9853))),\n",
       " ((0, 9), ((1, 9), tensor(0.9624))),\n",
       " ((1, 5), ((1, 1), tensor(0.9732))),\n",
       " ((5, 6), ((10, 2), tensor(0.9971))),\n",
       " ((4, 0), ((11, 3), tensor(0.9889))),\n",
       " (0, (1, 0.520239)),\n",
       " (5, (9, 0.61119694)),\n",
       " (4, (7, 0.67505574)),\n",
       " (2, (0, 0.8750816)),\n",
       " (1, (6, 0.74414206)),\n",
       " (3, (6, 1.0))]"
      ]
     },
     "execution_count": 56,
     "metadata": {},
     "output_type": "execute_result"
    }
   ],
   "source": [
    "matched_norm"
   ]
  },
  {
   "cell_type": "code",
   "execution_count": 57,
   "metadata": {
    "executionInfo": {
     "elapsed": 11,
     "status": "ok",
     "timestamp": 1743471031271,
     "user": {
      "displayName": "Reilly H",
      "userId": "05616995266737589283"
     },
     "user_tz": -780
    },
    "id": "akLLm2NOm58L"
   },
   "outputs": [],
   "source": [
    "student_matched = []\n",
    "student_unmatched = []\n",
    "\n",
    "for student_comp, (teacher_comp, similarity) in matched_norm:\n",
    "    try:\n",
    "        student_matched.append((student_probs[student_comp], teacher_probs[teacher_comp], similarity.item()))\n",
    "    except:\n",
    "        student_matched.append((student_probs[student_comp], teacher_probs[teacher_comp], similarity))\n",
    "\n",
    "for student_comp, (teacher_comp, similarity) in unmatched_norm:\n",
    "    try:\n",
    "        student_unmatched.append((student_probs[student_comp], teacher_probs[teacher_comp], similarity.item()))\n",
    "    except:\n",
    "        student_unmatched.append((student_probs[student_comp], teacher_probs[teacher_comp], similarity))"
   ]
  },
  {
   "cell_type": "code",
   "execution_count": 58,
   "metadata": {
    "colab": {
     "base_uri": "https://localhost:8080/"
    },
    "executionInfo": {
     "elapsed": 2,
     "status": "ok",
     "timestamp": 1743471031274,
     "user": {
      "displayName": "Reilly H",
      "userId": "05616995266737589283"
     },
     "user_tz": -780
    },
    "id": "YMeKehSpm69b",
    "outputId": "a365e132-bce1-49fc-84d2-f883ea5d49e4"
   },
   "outputs": [
    {
     "data": {
      "text/plain": [
       "[(0.82, 0.75, 0.850647509098053),\n",
       " (2.22, 0.75, 0.9484831094741821),\n",
       " (3.7, 6.92, 0.9361526370048523),\n",
       " (26.64, 2.14, 0.9220694303512573),\n",
       " (1.35, 2.73, 0.9498333930969238),\n",
       " (10.62, 2.91, 0.8901138305664062),\n",
       " (7.98, 2.73, 0.948900580406189)]"
      ]
     },
     "execution_count": 58,
     "metadata": {},
     "output_type": "execute_result"
    }
   ],
   "source": [
    "student_unmatched"
   ]
  },
  {
   "cell_type": "code",
   "execution_count": 59,
   "metadata": {
    "colab": {
     "base_uri": "https://localhost:8080/"
    },
    "executionInfo": {
     "elapsed": 52,
     "status": "ok",
     "timestamp": 1743471031327,
     "user": {
      "displayName": "Reilly H",
      "userId": "05616995266737589283"
     },
     "user_tz": -780
    },
    "id": "hLKP_v8pm8Jb",
    "outputId": "c1d46cc7-1ee5-4a00-f266-6f3ad276dd05"
   },
   "outputs": [
    {
     "data": {
      "text/plain": [
       "[(4.91, 52.09, 0.9815571904182434),\n",
       " (23.3, 4.85, 0.9933798313140869),\n",
       " (12.77, 6.04, 0.9818674921989441),\n",
       " (24.14, 6.04, 0.9880269169807434),\n",
       " (2.35, 6.04, 0.9848790168762207),\n",
       " (3.26, 0.67, 0.972711980342865),\n",
       " (5.0, 0.89, 0.9841490387916565),\n",
       " (10.62, 2.91, 0.8901138305664062),\n",
       " (7.9, 2.73, 0.97028648853302),\n",
       " (5.53, 4.48, 0.9938607811927795),\n",
       " (0.81, 20.96, 0.996719479560852),\n",
       " (5.52, 0.89, 0.9903883934020996),\n",
       " (7.12, 2.73, 0.9577918648719788),\n",
       " (4.5, 0.75, 0.9769898653030396),\n",
       " (7.2, 7.33, 0.9932501912117004),\n",
       " (3.88, 6.04, 0.9889573454856873),\n",
       " (2.88, 4.93, 0.9918315410614014),\n",
       " (5.92, 4.41, 0.9630400538444519),\n",
       " (5.02, 0.05, 0.99814373254776),\n",
       " (1.57, 9.49, 0.9967337250709534),\n",
       " (0.1, 0.89, 0.9872490763664246),\n",
       " (2.22, 0.75, 0.9484831094741821),\n",
       " (3.95, 0.67, 0.9511080384254456),\n",
       " (15.0, 5.08, 0.9590470790863037),\n",
       " (0.82, 0.75, 0.850647509098053),\n",
       " (4.45, 0.6, 0.9938924312591553),\n",
       " (7.93, 0.6, 0.9989297986030579),\n",
       " (1.35, 2.73, 0.9498333930969238),\n",
       " (2.98, 0.89, 0.9585316777229309),\n",
       " (1.82, 0.6, 0.993148148059845),\n",
       " (9.32, 0.75, 0.978594183921814),\n",
       " (7.98, 2.73, 0.948900580406189),\n",
       " (4.94, 0.62, 0.9692202806472778),\n",
       " (23.12, 0.32, 0.9925635457038879),\n",
       " (6.91, 6.04, 0.9870760440826416),\n",
       " (3.03, 20.96, 0.9917513728141785),\n",
       " (2.59, 0.89, 0.9895515441894531),\n",
       " (7.51, 0.89, 0.9834312200546265),\n",
       " (0.27, 9.49, 0.9975348114967346),\n",
       " (8.91, 0.89, 0.9811030030250549),\n",
       " (57.23, 0.75, 0.9822389483451843),\n",
       " (1.58, 0.89, 0.9923878312110901),\n",
       " (7.27, 0.89, 0.9843223690986633),\n",
       " (3.7, 6.92, 0.9361526370048523),\n",
       " (5.54, 6.04, 0.9879851341247559),\n",
       " (0.7, 4.93, 0.9813283085823059),\n",
       " (0.35, 5.08, 0.9779143333435059),\n",
       " (1.25, 0.32, 0.9868098497390747),\n",
       " (13.11, 6.04, 0.9840455055236816),\n",
       " (3.65, 4.85, 0.9643986225128174),\n",
       " (10.4, 0.6, 0.9930681586265564),\n",
       " (20.81, 52.09, 0.98361736536026),\n",
       " (13.85, 0.89, 0.9811385869979858),\n",
       " (2.99, 0.75, 0.9904701113700867),\n",
       " (19.69, 0.89, 0.9800336360931396),\n",
       " (7.07, 4.48, 0.9950433969497681),\n",
       " (5.76, 6.04, 0.9827845692634583),\n",
       " (6.28, 4.93, 0.9866105914115906),\n",
       " (3.9, 0.6, 0.9910361170768738),\n",
       " (26.64, 2.14, 0.9220694303512573),\n",
       " (12.6, 6.03, 0.9966316223144531),\n",
       " (61.86, 4.34, 0.9764772653579712),\n",
       " (1.85, 4.85, 0.9890420436859131),\n",
       " (3.61, 6.04, 0.988041341304779),\n",
       " (6.57, 20.96, 0.9941189885139465),\n",
       " (0.29, 7.42, 0.9903715252876282),\n",
       " (8.63, 7.33, 0.9802424311637878),\n",
       " (3.34, 0.6, 0.9853342771530151),\n",
       " (22.57, 6.92, 0.9623852372169495),\n",
       " (8.51, 4.83, 0.973234236240387),\n",
       " (10.13, 6.03, 0.9970972537994385),\n",
       " (9.27, 0.89, 0.9888843894004822),\n",
       " (490.56, 20.0, 0.520238995552063),\n",
       " (21.79, 3.73, 0.6111969351768494),\n",
       " (7.33, 16.48, 0.675055742263794),\n",
       " (0.13, 30.29, 0.8750815987586975),\n",
       " (14.55, 1.34, 0.7441420555114746),\n",
       " (21.69, 1.34, 1.0)]"
      ]
     },
     "execution_count": 59,
     "metadata": {},
     "output_type": "execute_result"
    }
   ],
   "source": [
    "student_matched"
   ]
  },
  {
   "cell_type": "code",
   "execution_count": 60,
   "metadata": {
    "executionInfo": {
     "elapsed": 2,
     "status": "ok",
     "timestamp": 1743471031330,
     "user": {
      "displayName": "Reilly H",
      "userId": "05616995266737589283"
     },
     "user_tz": -780
    },
    "id": "u-mIY2e5m9SO"
   },
   "outputs": [],
   "source": [
    "all_student = student_unmatched + student_matched"
   ]
  },
  {
   "cell_type": "code",
   "execution_count": 61,
   "metadata": {
    "colab": {
     "base_uri": "https://localhost:8080/"
    },
    "executionInfo": {
     "elapsed": 13,
     "status": "ok",
     "timestamp": 1743471031343,
     "user": {
      "displayName": "Reilly H",
      "userId": "05616995266737589283"
     },
     "user_tz": -780
    },
    "id": "v87CuDzNm-Ad",
    "outputId": "4ee7e327-b148-4a4f-c4a6-384a02b1f6ea"
   },
   "outputs": [
    {
     "data": {
      "text/plain": [
       "[(0.82, 0.75, 0.850647509098053),\n",
       " (2.22, 0.75, 0.9484831094741821),\n",
       " (3.7, 6.92, 0.9361526370048523),\n",
       " (26.64, 2.14, 0.9220694303512573),\n",
       " (1.35, 2.73, 0.9498333930969238),\n",
       " (10.62, 2.91, 0.8901138305664062),\n",
       " (7.98, 2.73, 0.948900580406189),\n",
       " (4.91, 52.09, 0.9815571904182434),\n",
       " (23.3, 4.85, 0.9933798313140869),\n",
       " (12.77, 6.04, 0.9818674921989441),\n",
       " (24.14, 6.04, 0.9880269169807434),\n",
       " (2.35, 6.04, 0.9848790168762207),\n",
       " (3.26, 0.67, 0.972711980342865),\n",
       " (5.0, 0.89, 0.9841490387916565),\n",
       " (10.62, 2.91, 0.8901138305664062),\n",
       " (7.9, 2.73, 0.97028648853302),\n",
       " (5.53, 4.48, 0.9938607811927795),\n",
       " (0.81, 20.96, 0.996719479560852),\n",
       " (5.52, 0.89, 0.9903883934020996),\n",
       " (7.12, 2.73, 0.9577918648719788),\n",
       " (4.5, 0.75, 0.9769898653030396),\n",
       " (7.2, 7.33, 0.9932501912117004),\n",
       " (3.88, 6.04, 0.9889573454856873),\n",
       " (2.88, 4.93, 0.9918315410614014),\n",
       " (5.92, 4.41, 0.9630400538444519),\n",
       " (5.02, 0.05, 0.99814373254776),\n",
       " (1.57, 9.49, 0.9967337250709534),\n",
       " (0.1, 0.89, 0.9872490763664246),\n",
       " (2.22, 0.75, 0.9484831094741821),\n",
       " (3.95, 0.67, 0.9511080384254456),\n",
       " (15.0, 5.08, 0.9590470790863037),\n",
       " (0.82, 0.75, 0.850647509098053),\n",
       " (4.45, 0.6, 0.9938924312591553),\n",
       " (7.93, 0.6, 0.9989297986030579),\n",
       " (1.35, 2.73, 0.9498333930969238),\n",
       " (2.98, 0.89, 0.9585316777229309),\n",
       " (1.82, 0.6, 0.993148148059845),\n",
       " (9.32, 0.75, 0.978594183921814),\n",
       " (7.98, 2.73, 0.948900580406189),\n",
       " (4.94, 0.62, 0.9692202806472778),\n",
       " (23.12, 0.32, 0.9925635457038879),\n",
       " (6.91, 6.04, 0.9870760440826416),\n",
       " (3.03, 20.96, 0.9917513728141785),\n",
       " (2.59, 0.89, 0.9895515441894531),\n",
       " (7.51, 0.89, 0.9834312200546265),\n",
       " (0.27, 9.49, 0.9975348114967346),\n",
       " (8.91, 0.89, 0.9811030030250549),\n",
       " (57.23, 0.75, 0.9822389483451843),\n",
       " (1.58, 0.89, 0.9923878312110901),\n",
       " (7.27, 0.89, 0.9843223690986633),\n",
       " (3.7, 6.92, 0.9361526370048523),\n",
       " (5.54, 6.04, 0.9879851341247559),\n",
       " (0.7, 4.93, 0.9813283085823059),\n",
       " (0.35, 5.08, 0.9779143333435059),\n",
       " (1.25, 0.32, 0.9868098497390747),\n",
       " (13.11, 6.04, 0.9840455055236816),\n",
       " (3.65, 4.85, 0.9643986225128174),\n",
       " (10.4, 0.6, 0.9930681586265564),\n",
       " (20.81, 52.09, 0.98361736536026),\n",
       " (13.85, 0.89, 0.9811385869979858),\n",
       " (2.99, 0.75, 0.9904701113700867),\n",
       " (19.69, 0.89, 0.9800336360931396),\n",
       " (7.07, 4.48, 0.9950433969497681),\n",
       " (5.76, 6.04, 0.9827845692634583),\n",
       " (6.28, 4.93, 0.9866105914115906),\n",
       " (3.9, 0.6, 0.9910361170768738),\n",
       " (26.64, 2.14, 0.9220694303512573),\n",
       " (12.6, 6.03, 0.9966316223144531),\n",
       " (61.86, 4.34, 0.9764772653579712),\n",
       " (1.85, 4.85, 0.9890420436859131),\n",
       " (3.61, 6.04, 0.988041341304779),\n",
       " (6.57, 20.96, 0.9941189885139465),\n",
       " (0.29, 7.42, 0.9903715252876282),\n",
       " (8.63, 7.33, 0.9802424311637878),\n",
       " (3.34, 0.6, 0.9853342771530151),\n",
       " (22.57, 6.92, 0.9623852372169495),\n",
       " (8.51, 4.83, 0.973234236240387),\n",
       " (10.13, 6.03, 0.9970972537994385),\n",
       " (9.27, 0.89, 0.9888843894004822),\n",
       " (490.56, 20.0, 0.520238995552063),\n",
       " (21.79, 3.73, 0.6111969351768494),\n",
       " (7.33, 16.48, 0.675055742263794),\n",
       " (0.13, 30.29, 0.8750815987586975),\n",
       " (14.55, 1.34, 0.7441420555114746),\n",
       " (21.69, 1.34, 1.0)]"
      ]
     },
     "execution_count": 61,
     "metadata": {},
     "output_type": "execute_result"
    }
   ],
   "source": [
    "all_student"
   ]
  },
  {
   "cell_type": "code",
   "execution_count": 62,
   "metadata": {
    "colab": {
     "base_uri": "https://localhost:8080/"
    },
    "executionInfo": {
     "elapsed": 2,
     "status": "ok",
     "timestamp": 1743471031343,
     "user": {
      "displayName": "Reilly H",
      "userId": "05616995266737589283"
     },
     "user_tz": -780
    },
    "id": "bFhGV18fm_O3",
    "outputId": "b6ec3285-0d2a-40ce-971e-34d1ffad4113"
   },
   "outputs": [
    {
     "name": "stdout",
     "output_type": "stream",
     "text": [
      "Teacher performance: -0.20427601039409637\n",
      "Student performance: -0.10163521021604538\n",
      "Performance drop: -0.102640800178051\n",
      "Mean performance: -0.15295560657978058\n"
     ]
    }
   ],
   "source": [
    "print(f\"Teacher performance: {orig_score_t}\")\n",
    "print(f\"Student performance: {orig_score_s}\")\n",
    "print(f\"Performance drop: {orig_score_t - orig_score_s}\")\n",
    "print(f\"Mean performance: {(orig_score_t + orig_score_s) / 2}\")"
   ]
  },
  {
   "cell_type": "code",
   "execution_count": 66,
   "metadata": {
    "executionInfo": {
     "elapsed": 2,
     "status": "ok",
     "timestamp": 1743471031475,
     "user": {
      "displayName": "Reilly H",
      "userId": "05616995266737589283"
     },
     "user_tz": -780
    },
    "id": "HN7yX2wV85eb"
   },
   "outputs": [
    {
     "data": {
      "text/plain": [
       "[(0.05667680398119989, 0.1328318713145667, 0.850647509098053),\n",
       " (0.15344207907105337, 0.1328318713145667, 0.9484831094741821),\n",
       " (0.2557367984517556, 1.225595399329069, 0.9361526370048523),\n",
       " (1.8413049488526403, 0.37901360615089696, 0.9220694303512573),\n",
       " (0.093309372408073, 0.4835080115850228, 0.9498333930969238),\n",
       " (0.7340337296101741, 0.5153876607005189, 0.8901138305664062),\n",
       " (0.5515620680121648, 0.4835080115850228, 0.948900580406189),\n",
       " (0.33936964335084324, 9.22561623570104, 0.9815571904182434),\n",
       " (1.6104506497097042, 0.8589794345008647, 0.9933798313140869),\n",
       " (0.8826375449267347, 1.069739336986644, 0.9818674921989441),\n",
       " (1.6685098147636164, 1.069739336986644, 0.9880269169807434),\n",
       " (0.16242742604368263, 1.069739336986644, 0.9848790168762207),\n",
       " (0.22532485485208736, 0.11866313837434626, 0.972711980342865),\n",
       " (0.3455902681780481, 0.1576271539599525, 0.9841490387916565),\n",
       " (0.7340337296101741, 0.5153876607005189, 0.8901138305664062),\n",
       " (0.546032623721316, 0.4835080115850228, 0.97028648853302),\n",
       " (0.38222283660492123, 0.7934490446523452, 0.9938607811927795),\n",
       " (0.0559856234448438, 3.7122080303377576, 0.996719479560852),\n",
       " (0.38153165606856504, 0.1576271539599525, 0.9903883934020996),\n",
       " (0.4921205418855405, 0.4835080115850228, 0.9577918648719788),\n",
       " (0.3110312413602433, 0.1328318713145667, 0.9769898653030396),\n",
       " (0.4976499861763893, 1.2982101556476986, 0.9932501912117004),\n",
       " (0.2681780481061653, 1.069739336986644, 0.9889573454856873),\n",
       " (0.1990599944705557, 0.873148167441085, 0.9918315410614014),\n",
       " (0.40917887752280896, 0.7810514033296522, 0.9630400538444519),\n",
       " (0.34697262925076033, 0.00885545808763778, 0.99814373254776),\n",
       " (0.10851534420790711, 1.6807659450336507, 0.9967337250709534),\n",
       " (0.006911805363560963, 0.1576271539599525, 0.9872490763664246),\n",
       " (0.15344207907105337, 0.1328318713145667, 0.9484831094741821),\n",
       " (0.273016311860658, 0.11866313837434626, 0.9511080384254456),\n",
       " (1.0367708045341444, 0.8997145417039986, 0.9590470790863037),\n",
       " (0.05667680398119989, 0.1328318713145667, 0.850647509098053),\n",
       " (0.3075753386784628, 0.10626549705165335, 0.9938924312591553),\n",
       " (0.5481061653303844, 0.10626549705165335, 0.9989297986030579),\n",
       " (0.093309372408073, 0.4835080115850228, 0.9498333930969238),\n",
       " (0.20597179983411668, 0.1576271539599525, 0.9585316777229309),\n",
       " (0.12579485761680953, 0.10626549705165335, 0.993148148059845),\n",
       " (0.6441802598838817, 0.1328318713145667, 0.978594183921814),\n",
       " (0.5515620680121648, 0.4835080115850228, 0.948900580406189),\n",
       " (0.3414431849599116, 0.10980768028670848, 0.9692202806472778),\n",
       " (1.5980094000552945, 0.05667493176088179, 0.9925635457038879),\n",
       " (0.47760575062206256, 1.069739336986644, 0.9870760440826416),\n",
       " (0.20942770251589715, 3.7122080303377576, 0.9917513728141785),\n",
       " (0.1790157589162289, 0.1576271539599525, 0.9895515441894531),\n",
       " (0.5190765828034283, 0.1576271539599525, 0.9834312200546265),\n",
       " (0.0186618744816146, 1.6807659450336507, 0.9975348114967346),\n",
       " (0.6158418578932817, 0.1576271539599525, 0.9811030030250549),\n",
       " (3.955626209565938, 0.1328318713145667, 0.9822389483451843),\n",
       " (0.1092065247442632, 0.1576271539599525, 0.9923878312110901),\n",
       " (0.5024882499308819, 0.1576271539599525, 0.9843223690986633),\n",
       " (0.2557367984517556, 1.225595399329069, 0.9361526370048523),\n",
       " (0.3829140171412773, 1.069739336986644, 0.9879851341247559),\n",
       " (0.04838263754492673, 0.873148167441085, 0.9813283085823059),\n",
       " (0.024191318772463364, 0.8997145417039986, 0.9779143333435059),\n",
       " (0.08639756704451203, 0.05667493176088179, 0.9868098497390747),\n",
       " (0.9061376831628422, 1.069739336986644, 0.9840455055236816),\n",
       " (0.2522808957699751, 0.8589794345008647, 0.9643986225128174),\n",
       " (0.7188277578103401, 0.10626549705165335, 0.9930681586265564),\n",
       " (1.4383466961570361, 9.22561623570104, 0.98361736536026),\n",
       " (0.9572850428531933, 0.1576271539599525, 0.9811385869979858),\n",
       " (0.2066629803704728, 0.1328318713145667, 0.9904701113700867),\n",
       " (1.3609344760851534, 0.1576271539599525, 0.9800336360931396),\n",
       " (0.48866463920376, 0.7934490446523452, 0.9950433969497681),\n",
       " (0.3981199889411114, 1.069739336986644, 0.9827845692634583),\n",
       " (0.43406137683162843, 0.873148167441085, 0.9866105914115906),\n",
       " (0.2695604091788775, 0.10626549705165335, 0.9910361170768738),\n",
       " (1.8413049488526403, 0.37901360615089696, 0.9220694303512573),\n",
       " (0.8708874758086813, 1.0679682453691164, 0.9966316223144531),\n",
       " (4.275642797898811, 0.7686537620069593, 0.9764772653579712),\n",
       " (0.1278683992258778, 0.8589794345008647, 0.9890420436859131),\n",
       " (0.24951617362455072, 1.069739336986644, 0.988041341304779),\n",
       " (0.45410561238595526, 3.7122080303377576, 0.9941189885139465),\n",
       " (0.02004423555432679, 1.3141499802054466, 0.9903715252876282),\n",
       " (0.5964888028753111, 1.2982101556476986, 0.9802424311637878),\n",
       " (0.23085429914293615, 0.10626549705165335, 0.9853342771530151),\n",
       " (1.5599944705557094, 1.225595399329069, 0.9623852372169495),\n",
       " (0.5881946364390378, 0.8554372512658096, 0.973234236240387),\n",
       " (0.7001658833287255, 1.0679682453691164, 0.9970972537994385),\n",
       " (0.6407243572021012, 0.1576271539599525, 0.9888843894004822),\n",
       " (33.90655239148466, 3.542183235055112, 0.520238995552063),\n",
       " (1.5060823887199337, 0.6606171733377785, 0.6111969351768494),\n",
       " (0.5066353331490185, 2.9187589856854124, 0.675055742263794),\n",
       " (0.008985346972629251, 5.364636509490967, 0.8750815987586975),\n",
       " (1.0056676803981202, 0.23732627674869253, 0.7441420555114746),\n",
       " (1.4991705833563727, 0.23732627674869253, 1.0)]"
      ]
     },
     "execution_count": 66,
     "metadata": {},
     "output_type": "execute_result"
    }
   ],
   "source": [
    "# scale influences by length of pairs\n",
    "all_student_scaled = all_student.copy()\n",
    "\n",
    "for i in range(len(all_student)):\n",
    "    (I_S, I_T, S) = all_student[i]\n",
    "    all_student_scaled[i] = (I_S * len(all_student), I_T * len(all_student), S)\n",
    "\n",
    "all_student_normalised = all_student.copy()\n",
    "sum_I_T = sum(I_T for _, I_T, _ in all_student)\n",
    "sum_I_S = sum(I_S for I_S, _, _ in all_student)\n",
    "for i in range(len(all_student_normalised)):\n",
    "    (I_S, I_T, S) = all_student[i]\n",
    "    all_student_normalised[i] = (I_S / sum_I_S, I_T / sum_I_T, S)\n",
    "    \n",
    "# normalise scaled influences\n",
    "all_student_scaled_normalised = all_student_normalised.copy()\n",
    "sum_I_T = sum(I_T for _, I_T, _ in all_student_normalised)\n",
    "sum_I_S = sum(I_S for I_S, _, _ in all_student_normalised)\n",
    "for i in range(len(all_student_scaled_normalised)):\n",
    "    (I_S, I_T, S) = all_student_normalised[i]\n",
    "    all_student_scaled_normalised[i] = (I_S * len(all_student), I_T * len(all_student), S)\n",
    "\n",
    "all_student_scaled_normalised"
   ]
  },
  {
   "cell_type": "code",
   "execution_count": 67,
   "metadata": {},
   "outputs": [],
   "source": [
    "def alignment(pairs):\n",
    "    return sum(S * (1 - abs(I_S - I_T)) for I_S, I_T, S in pairs) / len(pairs)"
   ]
  },
  {
   "cell_type": "code",
   "execution_count": 68,
   "metadata": {},
   "outputs": [
    {
     "name": "stdout",
     "output_type": "stream",
     "text": [
      "Alignment score: 0.9436\n"
     ]
    }
   ],
   "source": [
    "print(f\"Alignment score: {round(alignment(all_student_normalised), 4)}\")"
   ]
  }
 ],
 "metadata": {
  "accelerator": "GPU",
  "colab": {
   "gpuType": "T4",
   "provenance": []
  },
  "kernelspec": {
   "display_name": "Python 3",
   "name": "python3"
  },
  "language_info": {
   "codemirror_mode": {
    "name": "ipython",
    "version": 3
   },
   "file_extension": ".py",
   "mimetype": "text/x-python",
   "name": "python",
   "nbconvert_exporter": "python",
   "pygments_lexer": "ipython3",
   "version": "3.12.3"
  }
 },
 "nbformat": 4,
 "nbformat_minor": 0
}
