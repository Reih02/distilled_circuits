{
  "cells": [
    {
      "cell_type": "markdown",
      "source": [
        "#**NOTE: Code adapted from \"Towards Interpretable Sequence Continuation: Analyzing Shared Circuits in Large Language Models\"** (Mary Phuong and Christoph Lampert. Towards understanding knowledge distillation. In International conference on machine learning, pages 5142–5151. PMLR, 2019.)\n",
        "\n"
      ],
      "metadata": {
        "id": "J4mko81f0c3J"
      }
    },
    {
      "cell_type": "code",
      "execution_count": null,
      "metadata": {
        "id": "pfnvJNq0b7sx"
      },
      "outputs": [],
      "source": [
        "task = \"numerals\"  # choose: numerals, numwords, months\n",
        "prompt_types = ['done', 'lost', 'names']\n",
        "num_samps_per_ptype = 128 #768 512\n",
        "\n",
        "model_name = \"gpt2-small\"\n",
        "\n",
        "save_files = True"
      ]
    },
    {
      "cell_type": "markdown",
      "metadata": {
        "id": "zncGPvTVcR36"
      },
      "source": [
        "# Setup"
      ]
    },
    {
      "cell_type": "code",
      "execution_count": null,
      "metadata": {
        "id": "sSkYutKx1Aff"
      },
      "outputs": [],
      "source": [
        "!rm -rf /content/*"
      ]
    },
    {
      "cell_type": "code",
      "execution_count": null,
      "metadata": {
        "id": "Ht75cIiscQpq"
      },
      "outputs": [],
      "source": [
        "import seaborn as sns\n",
        "import matplotlib.pyplot as plt\n",
        "import matplotlib.patches as patches\n",
        "import numpy as np\n",
        "import pickle"
      ]
    },
    {
      "cell_type": "code",
      "execution_count": null,
      "metadata": {
        "colab": {
          "base_uri": "https://localhost:8080/"
        },
        "id": "bb67qeuXcRmq",
        "outputId": "330cd62b-19d1-42b5-9137-3de5c2394c16"
      },
      "outputs": [
        {
          "output_type": "stream",
          "name": "stdout",
          "text": [
            "Collecting git+https://github.com/neelnanda-io/TransformerLens.git\n",
            "  Cloning https://github.com/neelnanda-io/TransformerLens.git to /tmp/pip-req-build-df3t2ulz\n",
            "  Running command git clone --filter=blob:none --quiet https://github.com/neelnanda-io/TransformerLens.git /tmp/pip-req-build-df3t2ulz\n",
            "  Resolved https://github.com/neelnanda-io/TransformerLens.git to commit e65fafb4791c66076bc54ec9731920de1e8c676f\n",
            "  Installing build dependencies ... \u001b[?25l\u001b[?25hdone\n",
            "  Getting requirements to build wheel ... \u001b[?25l\u001b[?25hdone\n",
            "  Preparing metadata (pyproject.toml) ... \u001b[?25l\u001b[?25hdone\n",
            "Requirement already satisfied: accelerate>=0.23.0 in /usr/local/lib/python3.11/dist-packages (from transformer-lens==0.0.0) (1.3.0)\n",
            "Collecting beartype<0.15.0,>=0.14.1 (from transformer-lens==0.0.0)\n",
            "  Downloading beartype-0.14.1-py3-none-any.whl.metadata (28 kB)\n",
            "Collecting better-abc<0.0.4,>=0.0.3 (from transformer-lens==0.0.0)\n",
            "  Downloading better_abc-0.0.3-py3-none-any.whl.metadata (1.4 kB)\n",
            "Collecting datasets>=2.7.1 (from transformer-lens==0.0.0)\n",
            "  Downloading datasets-3.3.2-py3-none-any.whl.metadata (19 kB)\n",
            "Requirement already satisfied: einops>=0.6.0 in /usr/local/lib/python3.11/dist-packages (from transformer-lens==0.0.0) (0.8.1)\n",
            "Collecting fancy-einsum>=0.0.3 (from transformer-lens==0.0.0)\n",
            "  Downloading fancy_einsum-0.0.3-py3-none-any.whl.metadata (1.2 kB)\n",
            "Collecting jaxtyping>=0.2.11 (from transformer-lens==0.0.0)\n",
            "  Downloading jaxtyping-0.2.38-py3-none-any.whl.metadata (6.6 kB)\n",
            "Requirement already satisfied: numpy>=1.24 in /usr/local/lib/python3.11/dist-packages (from transformer-lens==0.0.0) (1.26.4)\n",
            "Requirement already satisfied: pandas>=1.1.5 in /usr/local/lib/python3.11/dist-packages (from transformer-lens==0.0.0) (2.2.2)\n",
            "Requirement already satisfied: rich>=12.6.0 in /usr/local/lib/python3.11/dist-packages (from transformer-lens==0.0.0) (13.9.4)\n",
            "Requirement already satisfied: sentencepiece in /usr/local/lib/python3.11/dist-packages (from transformer-lens==0.0.0) (0.2.0)\n",
            "Requirement already satisfied: torch>=2.2 in /usr/local/lib/python3.11/dist-packages (from transformer-lens==0.0.0) (2.5.1+cu124)\n",
            "Requirement already satisfied: tqdm>=4.64.1 in /usr/local/lib/python3.11/dist-packages (from transformer-lens==0.0.0) (4.67.1)\n",
            "Requirement already satisfied: transformers>=4.43 in /usr/local/lib/python3.11/dist-packages (from transformer-lens==0.0.0) (4.48.3)\n",
            "Collecting transformers-stream-generator<0.0.6,>=0.0.5 (from transformer-lens==0.0.0)\n",
            "  Downloading transformers-stream-generator-0.0.5.tar.gz (13 kB)\n",
            "  Preparing metadata (setup.py) ... \u001b[?25l\u001b[?25hdone\n",
            "Requirement already satisfied: typeguard<5.0,>=4.2 in /usr/local/lib/python3.11/dist-packages (from transformer-lens==0.0.0) (4.4.2)\n",
            "Requirement already satisfied: typing-extensions in /usr/local/lib/python3.11/dist-packages (from transformer-lens==0.0.0) (4.12.2)\n",
            "Requirement already satisfied: wandb>=0.13.5 in /usr/local/lib/python3.11/dist-packages (from transformer-lens==0.0.0) (0.19.6)\n",
            "Requirement already satisfied: packaging>=20.0 in /usr/local/lib/python3.11/dist-packages (from accelerate>=0.23.0->transformer-lens==0.0.0) (24.2)\n",
            "Requirement already satisfied: psutil in /usr/local/lib/python3.11/dist-packages (from accelerate>=0.23.0->transformer-lens==0.0.0) (5.9.5)\n",
            "Requirement already satisfied: pyyaml in /usr/local/lib/python3.11/dist-packages (from accelerate>=0.23.0->transformer-lens==0.0.0) (6.0.2)\n",
            "Requirement already satisfied: huggingface-hub>=0.21.0 in /usr/local/lib/python3.11/dist-packages (from accelerate>=0.23.0->transformer-lens==0.0.0) (0.28.1)\n",
            "Requirement already satisfied: safetensors>=0.4.3 in /usr/local/lib/python3.11/dist-packages (from accelerate>=0.23.0->transformer-lens==0.0.0) (0.5.2)\n",
            "Requirement already satisfied: filelock in /usr/local/lib/python3.11/dist-packages (from datasets>=2.7.1->transformer-lens==0.0.0) (3.17.0)\n",
            "Requirement already satisfied: pyarrow>=15.0.0 in /usr/local/lib/python3.11/dist-packages (from datasets>=2.7.1->transformer-lens==0.0.0) (17.0.0)\n",
            "Collecting dill<0.3.9,>=0.3.0 (from datasets>=2.7.1->transformer-lens==0.0.0)\n",
            "  Downloading dill-0.3.8-py3-none-any.whl.metadata (10 kB)\n",
            "Requirement already satisfied: requests>=2.32.2 in /usr/local/lib/python3.11/dist-packages (from datasets>=2.7.1->transformer-lens==0.0.0) (2.32.3)\n",
            "Collecting xxhash (from datasets>=2.7.1->transformer-lens==0.0.0)\n",
            "  Downloading xxhash-3.5.0-cp311-cp311-manylinux_2_17_x86_64.manylinux2014_x86_64.whl.metadata (12 kB)\n",
            "Collecting multiprocess<0.70.17 (from datasets>=2.7.1->transformer-lens==0.0.0)\n",
            "  Downloading multiprocess-0.70.16-py311-none-any.whl.metadata (7.2 kB)\n",
            "Requirement already satisfied: fsspec<=2024.12.0,>=2023.1.0 in /usr/local/lib/python3.11/dist-packages (from fsspec[http]<=2024.12.0,>=2023.1.0->datasets>=2.7.1->transformer-lens==0.0.0) (2024.10.0)\n",
            "Requirement already satisfied: aiohttp in /usr/local/lib/python3.11/dist-packages (from datasets>=2.7.1->transformer-lens==0.0.0) (3.11.12)\n",
            "Collecting wadler-lindig>=0.1.3 (from jaxtyping>=0.2.11->transformer-lens==0.0.0)\n",
            "  Downloading wadler_lindig-0.1.3-py3-none-any.whl.metadata (17 kB)\n",
            "Requirement already satisfied: python-dateutil>=2.8.2 in /usr/local/lib/python3.11/dist-packages (from pandas>=1.1.5->transformer-lens==0.0.0) (2.8.2)\n",
            "Requirement already satisfied: pytz>=2020.1 in /usr/local/lib/python3.11/dist-packages (from pandas>=1.1.5->transformer-lens==0.0.0) (2025.1)\n",
            "Requirement already satisfied: tzdata>=2022.7 in /usr/local/lib/python3.11/dist-packages (from pandas>=1.1.5->transformer-lens==0.0.0) (2025.1)\n",
            "Requirement already satisfied: markdown-it-py>=2.2.0 in /usr/local/lib/python3.11/dist-packages (from rich>=12.6.0->transformer-lens==0.0.0) (3.0.0)\n",
            "Requirement already satisfied: pygments<3.0.0,>=2.13.0 in /usr/local/lib/python3.11/dist-packages (from rich>=12.6.0->transformer-lens==0.0.0) (2.18.0)\n",
            "Requirement already satisfied: networkx in /usr/local/lib/python3.11/dist-packages (from torch>=2.2->transformer-lens==0.0.0) (3.4.2)\n",
            "Requirement already satisfied: jinja2 in /usr/local/lib/python3.11/dist-packages (from torch>=2.2->transformer-lens==0.0.0) (3.1.5)\n",
            "Collecting nvidia-cuda-nvrtc-cu12==12.4.127 (from torch>=2.2->transformer-lens==0.0.0)\n",
            "  Downloading nvidia_cuda_nvrtc_cu12-12.4.127-py3-none-manylinux2014_x86_64.whl.metadata (1.5 kB)\n",
            "Collecting nvidia-cuda-runtime-cu12==12.4.127 (from torch>=2.2->transformer-lens==0.0.0)\n",
            "  Downloading nvidia_cuda_runtime_cu12-12.4.127-py3-none-manylinux2014_x86_64.whl.metadata (1.5 kB)\n",
            "Collecting nvidia-cuda-cupti-cu12==12.4.127 (from torch>=2.2->transformer-lens==0.0.0)\n",
            "  Downloading nvidia_cuda_cupti_cu12-12.4.127-py3-none-manylinux2014_x86_64.whl.metadata (1.6 kB)\n",
            "Collecting nvidia-cudnn-cu12==9.1.0.70 (from torch>=2.2->transformer-lens==0.0.0)\n",
            "  Downloading nvidia_cudnn_cu12-9.1.0.70-py3-none-manylinux2014_x86_64.whl.metadata (1.6 kB)\n",
            "Collecting nvidia-cublas-cu12==12.4.5.8 (from torch>=2.2->transformer-lens==0.0.0)\n",
            "  Downloading nvidia_cublas_cu12-12.4.5.8-py3-none-manylinux2014_x86_64.whl.metadata (1.5 kB)\n",
            "Collecting nvidia-cufft-cu12==11.2.1.3 (from torch>=2.2->transformer-lens==0.0.0)\n",
            "  Downloading nvidia_cufft_cu12-11.2.1.3-py3-none-manylinux2014_x86_64.whl.metadata (1.5 kB)\n",
            "Collecting nvidia-curand-cu12==10.3.5.147 (from torch>=2.2->transformer-lens==0.0.0)\n",
            "  Downloading nvidia_curand_cu12-10.3.5.147-py3-none-manylinux2014_x86_64.whl.metadata (1.5 kB)\n",
            "Collecting nvidia-cusolver-cu12==11.6.1.9 (from torch>=2.2->transformer-lens==0.0.0)\n",
            "  Downloading nvidia_cusolver_cu12-11.6.1.9-py3-none-manylinux2014_x86_64.whl.metadata (1.6 kB)\n",
            "Collecting nvidia-cusparse-cu12==12.3.1.170 (from torch>=2.2->transformer-lens==0.0.0)\n",
            "  Downloading nvidia_cusparse_cu12-12.3.1.170-py3-none-manylinux2014_x86_64.whl.metadata (1.6 kB)\n",
            "Requirement already satisfied: nvidia-nccl-cu12==2.21.5 in /usr/local/lib/python3.11/dist-packages (from torch>=2.2->transformer-lens==0.0.0) (2.21.5)\n",
            "Requirement already satisfied: nvidia-nvtx-cu12==12.4.127 in /usr/local/lib/python3.11/dist-packages (from torch>=2.2->transformer-lens==0.0.0) (12.4.127)\n",
            "Collecting nvidia-nvjitlink-cu12==12.4.127 (from torch>=2.2->transformer-lens==0.0.0)\n",
            "  Downloading nvidia_nvjitlink_cu12-12.4.127-py3-none-manylinux2014_x86_64.whl.metadata (1.5 kB)\n",
            "Requirement already satisfied: triton==3.1.0 in /usr/local/lib/python3.11/dist-packages (from torch>=2.2->transformer-lens==0.0.0) (3.1.0)\n",
            "Requirement already satisfied: sympy==1.13.1 in /usr/local/lib/python3.11/dist-packages (from torch>=2.2->transformer-lens==0.0.0) (1.13.1)\n",
            "Requirement already satisfied: mpmath<1.4,>=1.1.0 in /usr/local/lib/python3.11/dist-packages (from sympy==1.13.1->torch>=2.2->transformer-lens==0.0.0) (1.3.0)\n",
            "Requirement already satisfied: regex!=2019.12.17 in /usr/local/lib/python3.11/dist-packages (from transformers>=4.43->transformer-lens==0.0.0) (2024.11.6)\n",
            "Requirement already satisfied: tokenizers<0.22,>=0.21 in /usr/local/lib/python3.11/dist-packages (from transformers>=4.43->transformer-lens==0.0.0) (0.21.0)\n",
            "Requirement already satisfied: click!=8.0.0,>=7.1 in /usr/local/lib/python3.11/dist-packages (from wandb>=0.13.5->transformer-lens==0.0.0) (8.1.8)\n",
            "Requirement already satisfied: docker-pycreds>=0.4.0 in /usr/local/lib/python3.11/dist-packages (from wandb>=0.13.5->transformer-lens==0.0.0) (0.4.0)\n",
            "Requirement already satisfied: gitpython!=3.1.29,>=1.0.0 in /usr/local/lib/python3.11/dist-packages (from wandb>=0.13.5->transformer-lens==0.0.0) (3.1.44)\n",
            "Requirement already satisfied: platformdirs in /usr/local/lib/python3.11/dist-packages (from wandb>=0.13.5->transformer-lens==0.0.0) (4.3.6)\n",
            "Requirement already satisfied: protobuf!=4.21.0,!=5.28.0,<6,>=3.19.0 in /usr/local/lib/python3.11/dist-packages (from wandb>=0.13.5->transformer-lens==0.0.0) (4.25.6)\n",
            "Requirement already satisfied: pydantic<3,>=2.6 in /usr/local/lib/python3.11/dist-packages (from wandb>=0.13.5->transformer-lens==0.0.0) (2.10.6)\n",
            "Requirement already satisfied: sentry-sdk>=2.0.0 in /usr/local/lib/python3.11/dist-packages (from wandb>=0.13.5->transformer-lens==0.0.0) (2.22.0)\n",
            "Requirement already satisfied: setproctitle in /usr/local/lib/python3.11/dist-packages (from wandb>=0.13.5->transformer-lens==0.0.0) (1.3.4)\n",
            "Requirement already satisfied: setuptools in /usr/local/lib/python3.11/dist-packages (from wandb>=0.13.5->transformer-lens==0.0.0) (75.1.0)\n",
            "Requirement already satisfied: six>=1.4.0 in /usr/local/lib/python3.11/dist-packages (from docker-pycreds>=0.4.0->wandb>=0.13.5->transformer-lens==0.0.0) (1.17.0)\n",
            "Requirement already satisfied: aiohappyeyeballs>=2.3.0 in /usr/local/lib/python3.11/dist-packages (from aiohttp->datasets>=2.7.1->transformer-lens==0.0.0) (2.4.6)\n",
            "Requirement already satisfied: aiosignal>=1.1.2 in /usr/local/lib/python3.11/dist-packages (from aiohttp->datasets>=2.7.1->transformer-lens==0.0.0) (1.3.2)\n",
            "Requirement already satisfied: attrs>=17.3.0 in /usr/local/lib/python3.11/dist-packages (from aiohttp->datasets>=2.7.1->transformer-lens==0.0.0) (25.1.0)\n",
            "Requirement already satisfied: frozenlist>=1.1.1 in /usr/local/lib/python3.11/dist-packages (from aiohttp->datasets>=2.7.1->transformer-lens==0.0.0) (1.5.0)\n",
            "Requirement already satisfied: multidict<7.0,>=4.5 in /usr/local/lib/python3.11/dist-packages (from aiohttp->datasets>=2.7.1->transformer-lens==0.0.0) (6.1.0)\n",
            "Requirement already satisfied: propcache>=0.2.0 in /usr/local/lib/python3.11/dist-packages (from aiohttp->datasets>=2.7.1->transformer-lens==0.0.0) (0.2.1)\n",
            "Requirement already satisfied: yarl<2.0,>=1.17.0 in /usr/local/lib/python3.11/dist-packages (from aiohttp->datasets>=2.7.1->transformer-lens==0.0.0) (1.18.3)\n",
            "Requirement already satisfied: gitdb<5,>=4.0.1 in /usr/local/lib/python3.11/dist-packages (from gitpython!=3.1.29,>=1.0.0->wandb>=0.13.5->transformer-lens==0.0.0) (4.0.12)\n",
            "Requirement already satisfied: mdurl~=0.1 in /usr/local/lib/python3.11/dist-packages (from markdown-it-py>=2.2.0->rich>=12.6.0->transformer-lens==0.0.0) (0.1.2)\n",
            "Requirement already satisfied: annotated-types>=0.6.0 in /usr/local/lib/python3.11/dist-packages (from pydantic<3,>=2.6->wandb>=0.13.5->transformer-lens==0.0.0) (0.7.0)\n",
            "Requirement already satisfied: pydantic-core==2.27.2 in /usr/local/lib/python3.11/dist-packages (from pydantic<3,>=2.6->wandb>=0.13.5->transformer-lens==0.0.0) (2.27.2)\n",
            "Requirement already satisfied: charset-normalizer<4,>=2 in /usr/local/lib/python3.11/dist-packages (from requests>=2.32.2->datasets>=2.7.1->transformer-lens==0.0.0) (3.4.1)\n",
            "Requirement already satisfied: idna<4,>=2.5 in /usr/local/lib/python3.11/dist-packages (from requests>=2.32.2->datasets>=2.7.1->transformer-lens==0.0.0) (3.10)\n",
            "Requirement already satisfied: urllib3<3,>=1.21.1 in /usr/local/lib/python3.11/dist-packages (from requests>=2.32.2->datasets>=2.7.1->transformer-lens==0.0.0) (2.3.0)\n",
            "Requirement already satisfied: certifi>=2017.4.17 in /usr/local/lib/python3.11/dist-packages (from requests>=2.32.2->datasets>=2.7.1->transformer-lens==0.0.0) (2025.1.31)\n",
            "Requirement already satisfied: MarkupSafe>=2.0 in /usr/local/lib/python3.11/dist-packages (from jinja2->torch>=2.2->transformer-lens==0.0.0) (3.0.2)\n",
            "Requirement already satisfied: smmap<6,>=3.0.1 in /usr/local/lib/python3.11/dist-packages (from gitdb<5,>=4.0.1->gitpython!=3.1.29,>=1.0.0->wandb>=0.13.5->transformer-lens==0.0.0) (5.0.2)\n",
            "Downloading beartype-0.14.1-py3-none-any.whl (739 kB)\n",
            "\u001b[2K   \u001b[90m━━━━━━━━━━━━━━━━━━━━━━━━━━━━━━━━━━━━━━━━\u001b[0m \u001b[32m739.7/739.7 kB\u001b[0m \u001b[31m15.1 MB/s\u001b[0m eta \u001b[36m0:00:00\u001b[0m\n",
            "\u001b[?25hDownloading better_abc-0.0.3-py3-none-any.whl (3.5 kB)\n",
            "Downloading datasets-3.3.2-py3-none-any.whl (485 kB)\n",
            "\u001b[2K   \u001b[90m━━━━━━━━━━━━━━━━━━━━━━━━━━━━━━━━━━━━━━━━\u001b[0m \u001b[32m485.4/485.4 kB\u001b[0m \u001b[31m32.8 MB/s\u001b[0m eta \u001b[36m0:00:00\u001b[0m\n",
            "\u001b[?25hDownloading fancy_einsum-0.0.3-py3-none-any.whl (6.2 kB)\n",
            "Downloading jaxtyping-0.2.38-py3-none-any.whl (56 kB)\n",
            "\u001b[2K   \u001b[90m━━━━━━━━━━━━━━━━━━━━━━━━━━━━━━━━━━━━━━━━\u001b[0m \u001b[32m56.4/56.4 kB\u001b[0m \u001b[31m6.6 MB/s\u001b[0m eta \u001b[36m0:00:00\u001b[0m\n",
            "\u001b[?25hDownloading nvidia_cublas_cu12-12.4.5.8-py3-none-manylinux2014_x86_64.whl (363.4 MB)\n",
            "\u001b[2K   \u001b[90m━━━━━━━━━━━━━━━━━━━━━━━━━━━━━━━━━━━━━━━━\u001b[0m \u001b[32m363.4/363.4 MB\u001b[0m \u001b[31m2.8 MB/s\u001b[0m eta \u001b[36m0:00:00\u001b[0m\n",
            "\u001b[?25hDownloading nvidia_cuda_cupti_cu12-12.4.127-py3-none-manylinux2014_x86_64.whl (13.8 MB)\n",
            "\u001b[2K   \u001b[90m━━━━━━━━━━━━━━━━━━━━━━━━━━━━━━━━━━━━━━━━\u001b[0m \u001b[32m13.8/13.8 MB\u001b[0m \u001b[31m100.9 MB/s\u001b[0m eta \u001b[36m0:00:00\u001b[0m\n",
            "\u001b[?25hDownloading nvidia_cuda_nvrtc_cu12-12.4.127-py3-none-manylinux2014_x86_64.whl (24.6 MB)\n",
            "\u001b[2K   \u001b[90m━━━━━━━━━━━━━━━━━━━━━━━━━━━━━━━━━━━━━━━━\u001b[0m \u001b[32m24.6/24.6 MB\u001b[0m \u001b[31m90.8 MB/s\u001b[0m eta \u001b[36m0:00:00\u001b[0m\n",
            "\u001b[?25hDownloading nvidia_cuda_runtime_cu12-12.4.127-py3-none-manylinux2014_x86_64.whl (883 kB)\n",
            "\u001b[2K   \u001b[90m━━━━━━━━━━━━━━━━━━━━━━━━━━━━━━━━━━━━━━━━\u001b[0m \u001b[32m883.7/883.7 kB\u001b[0m \u001b[31m62.9 MB/s\u001b[0m eta \u001b[36m0:00:00\u001b[0m\n",
            "\u001b[?25hDownloading nvidia_cudnn_cu12-9.1.0.70-py3-none-manylinux2014_x86_64.whl (664.8 MB)\n",
            "\u001b[2K   \u001b[90m━━━━━━━━━━━━━━━━━━━━━━━━━━━━━━━━━━━━━━━━\u001b[0m \u001b[32m664.8/664.8 MB\u001b[0m \u001b[31m1.9 MB/s\u001b[0m eta \u001b[36m0:00:00\u001b[0m\n",
            "\u001b[?25hDownloading nvidia_cufft_cu12-11.2.1.3-py3-none-manylinux2014_x86_64.whl (211.5 MB)\n",
            "\u001b[2K   \u001b[90m━━━━━━━━━━━━━━━━━━━━━━━━━━━━━━━━━━━━━━━━\u001b[0m \u001b[32m211.5/211.5 MB\u001b[0m \u001b[31m10.6 MB/s\u001b[0m eta \u001b[36m0:00:00\u001b[0m\n",
            "\u001b[?25hDownloading nvidia_curand_cu12-10.3.5.147-py3-none-manylinux2014_x86_64.whl (56.3 MB)\n",
            "\u001b[2K   \u001b[90m━━━━━━━━━━━━━━━━━━━━━━━━━━━━━━━━━━━━━━━━\u001b[0m \u001b[32m56.3/56.3 MB\u001b[0m \u001b[31m37.5 MB/s\u001b[0m eta \u001b[36m0:00:00\u001b[0m\n",
            "\u001b[?25hDownloading nvidia_cusolver_cu12-11.6.1.9-py3-none-manylinux2014_x86_64.whl (127.9 MB)\n",
            "\u001b[2K   \u001b[90m━━━━━━━━━━━━━━━━━━━━━━━━━━━━━━━━━━━━━━━━\u001b[0m \u001b[32m127.9/127.9 MB\u001b[0m \u001b[31m13.4 MB/s\u001b[0m eta \u001b[36m0:00:00\u001b[0m\n",
            "\u001b[?25hDownloading nvidia_cusparse_cu12-12.3.1.170-py3-none-manylinux2014_x86_64.whl (207.5 MB)\n",
            "\u001b[2K   \u001b[90m━━━━━━━━━━━━━━━━━━━━━━━━━━━━━━━━━━━━━━━━\u001b[0m \u001b[32m207.5/207.5 MB\u001b[0m \u001b[31m4.2 MB/s\u001b[0m eta \u001b[36m0:00:00\u001b[0m\n",
            "\u001b[?25hDownloading nvidia_nvjitlink_cu12-12.4.127-py3-none-manylinux2014_x86_64.whl (21.1 MB)\n",
            "\u001b[2K   \u001b[90m━━━━━━━━━━━━━━━━━━━━━━━━━━━━━━━━━━━━━━━━\u001b[0m \u001b[32m21.1/21.1 MB\u001b[0m \u001b[31m85.8 MB/s\u001b[0m eta \u001b[36m0:00:00\u001b[0m\n",
            "\u001b[?25hDownloading dill-0.3.8-py3-none-any.whl (116 kB)\n",
            "\u001b[2K   \u001b[90m━━━━━━━━━━━━━━━━━━━━━━━━━━━━━━━━━━━━━━━━\u001b[0m \u001b[32m116.3/116.3 kB\u001b[0m \u001b[31m15.8 MB/s\u001b[0m eta \u001b[36m0:00:00\u001b[0m\n",
            "\u001b[?25hDownloading multiprocess-0.70.16-py311-none-any.whl (143 kB)\n",
            "\u001b[2K   \u001b[90m━━━━━━━━━━━━━━━━━━━━━━━━━━━━━━━━━━━━━━━━\u001b[0m \u001b[32m143.5/143.5 kB\u001b[0m \u001b[31m17.5 MB/s\u001b[0m eta \u001b[36m0:00:00\u001b[0m\n",
            "\u001b[?25hDownloading wadler_lindig-0.1.3-py3-none-any.whl (20 kB)\n",
            "Downloading xxhash-3.5.0-cp311-cp311-manylinux_2_17_x86_64.manylinux2014_x86_64.whl (194 kB)\n",
            "\u001b[2K   \u001b[90m━━━━━━━━━━━━━━━━━━━━━━━━━━━━━━━━━━━━━━━━\u001b[0m \u001b[32m194.8/194.8 kB\u001b[0m \u001b[31m22.0 MB/s\u001b[0m eta \u001b[36m0:00:00\u001b[0m\n",
            "\u001b[?25hBuilding wheels for collected packages: transformer-lens, transformers-stream-generator\n",
            "  Building wheel for transformer-lens (pyproject.toml) ... \u001b[?25l\u001b[?25hdone\n",
            "  Created wheel for transformer-lens: filename=transformer_lens-0.0.0-py3-none-any.whl size=189214 sha256=29b569a3cb383c2a63be16d80cb43273670aec745d334052026ca60ac03984e4\n",
            "  Stored in directory: /tmp/pip-ephem-wheel-cache-jixw44uu/wheels/4e/4c/34/af273baf55ed48f833ca557bd89a92f82aa46384cf9adaccbc\n",
            "  Building wheel for transformers-stream-generator (setup.py) ... \u001b[?25l\u001b[?25hdone\n",
            "  Created wheel for transformers-stream-generator: filename=transformers_stream_generator-0.0.5-py3-none-any.whl size=12425 sha256=0af17c844ed134f06605b1a91d7f6f6e4d1f7bc6c42b4f169109ff8c0b350f4a\n",
            "  Stored in directory: /root/.cache/pip/wheels/23/e8/f0/b3c58c12d1ffe60bcc8c7d121115f26b2c1878653edfca48db\n",
            "Successfully built transformer-lens transformers-stream-generator\n",
            "Installing collected packages: better-abc, xxhash, wadler-lindig, nvidia-nvjitlink-cu12, nvidia-curand-cu12, nvidia-cufft-cu12, nvidia-cuda-runtime-cu12, nvidia-cuda-nvrtc-cu12, nvidia-cuda-cupti-cu12, nvidia-cublas-cu12, fancy-einsum, dill, beartype, nvidia-cusparse-cu12, nvidia-cudnn-cu12, multiprocess, jaxtyping, nvidia-cusolver-cu12, datasets, transformers-stream-generator, transformer-lens\n",
            "  Attempting uninstall: nvidia-nvjitlink-cu12\n",
            "    Found existing installation: nvidia-nvjitlink-cu12 12.5.82\n",
            "    Uninstalling nvidia-nvjitlink-cu12-12.5.82:\n",
            "      Successfully uninstalled nvidia-nvjitlink-cu12-12.5.82\n",
            "  Attempting uninstall: nvidia-curand-cu12\n",
            "    Found existing installation: nvidia-curand-cu12 10.3.6.82\n",
            "    Uninstalling nvidia-curand-cu12-10.3.6.82:\n",
            "      Successfully uninstalled nvidia-curand-cu12-10.3.6.82\n",
            "  Attempting uninstall: nvidia-cufft-cu12\n",
            "    Found existing installation: nvidia-cufft-cu12 11.2.3.61\n",
            "    Uninstalling nvidia-cufft-cu12-11.2.3.61:\n",
            "      Successfully uninstalled nvidia-cufft-cu12-11.2.3.61\n",
            "  Attempting uninstall: nvidia-cuda-runtime-cu12\n",
            "    Found existing installation: nvidia-cuda-runtime-cu12 12.5.82\n",
            "    Uninstalling nvidia-cuda-runtime-cu12-12.5.82:\n",
            "      Successfully uninstalled nvidia-cuda-runtime-cu12-12.5.82\n",
            "  Attempting uninstall: nvidia-cuda-nvrtc-cu12\n",
            "    Found existing installation: nvidia-cuda-nvrtc-cu12 12.5.82\n",
            "    Uninstalling nvidia-cuda-nvrtc-cu12-12.5.82:\n",
            "      Successfully uninstalled nvidia-cuda-nvrtc-cu12-12.5.82\n",
            "  Attempting uninstall: nvidia-cuda-cupti-cu12\n",
            "    Found existing installation: nvidia-cuda-cupti-cu12 12.5.82\n",
            "    Uninstalling nvidia-cuda-cupti-cu12-12.5.82:\n",
            "      Successfully uninstalled nvidia-cuda-cupti-cu12-12.5.82\n",
            "  Attempting uninstall: nvidia-cublas-cu12\n",
            "    Found existing installation: nvidia-cublas-cu12 12.5.3.2\n",
            "    Uninstalling nvidia-cublas-cu12-12.5.3.2:\n",
            "      Successfully uninstalled nvidia-cublas-cu12-12.5.3.2\n",
            "  Attempting uninstall: nvidia-cusparse-cu12\n",
            "    Found existing installation: nvidia-cusparse-cu12 12.5.1.3\n",
            "    Uninstalling nvidia-cusparse-cu12-12.5.1.3:\n",
            "      Successfully uninstalled nvidia-cusparse-cu12-12.5.1.3\n",
            "  Attempting uninstall: nvidia-cudnn-cu12\n",
            "    Found existing installation: nvidia-cudnn-cu12 9.3.0.75\n",
            "    Uninstalling nvidia-cudnn-cu12-9.3.0.75:\n",
            "      Successfully uninstalled nvidia-cudnn-cu12-9.3.0.75\n",
            "  Attempting uninstall: nvidia-cusolver-cu12\n",
            "    Found existing installation: nvidia-cusolver-cu12 11.6.3.83\n",
            "    Uninstalling nvidia-cusolver-cu12-11.6.3.83:\n",
            "      Successfully uninstalled nvidia-cusolver-cu12-11.6.3.83\n",
            "Successfully installed beartype-0.14.1 better-abc-0.0.3 datasets-3.3.2 dill-0.3.8 fancy-einsum-0.0.3 jaxtyping-0.2.38 multiprocess-0.70.16 nvidia-cublas-cu12-12.4.5.8 nvidia-cuda-cupti-cu12-12.4.127 nvidia-cuda-nvrtc-cu12-12.4.127 nvidia-cuda-runtime-cu12-12.4.127 nvidia-cudnn-cu12-9.1.0.70 nvidia-cufft-cu12-11.2.1.3 nvidia-curand-cu12-10.3.5.147 nvidia-cusolver-cu12-11.6.1.9 nvidia-cusparse-cu12-12.3.1.170 nvidia-nvjitlink-cu12-12.4.127 transformer-lens-0.0.0 transformers-stream-generator-0.0.5 wadler-lindig-0.1.3 xxhash-3.5.0\n"
          ]
        }
      ],
      "source": [
        "%pip install git+https://github.com/neelnanda-io/TransformerLens.git"
      ]
    },
    {
      "cell_type": "code",
      "execution_count": null,
      "metadata": {
        "colab": {
          "base_uri": "https://localhost:8080/"
        },
        "id": "Srb3uqG9cUms",
        "outputId": "dccb5fb3-8a3a-4286-fdc8-fed7fc7c23df"
      },
      "outputs": [
        {
          "output_type": "execute_result",
          "data": {
            "text/plain": [
              "<torch.autograd.grad_mode.set_grad_enabled at 0x7fedcaabc6d0>"
            ]
          },
          "metadata": {},
          "execution_count": 5
        }
      ],
      "source": [
        "from transformer_lens import HookedTransformer\n",
        "import torch\n",
        "torch.set_grad_enabled(False)  # turn automatic differentiation off"
      ]
    },
    {
      "cell_type": "code",
      "execution_count": null,
      "metadata": {
        "colab": {
          "base_uri": "https://localhost:8080/"
        },
        "id": "V0dYwiQvcVrA",
        "outputId": "4fd3f624-339a-49d8-89d3-2a77c9466c88"
      },
      "outputs": [
        {
          "output_type": "stream",
          "name": "stdout",
          "text": [
            "Cloning into 'seqcont_circ_expms'...\n",
            "remote: Enumerating objects: 875, done.\u001b[K\n",
            "remote: Counting objects: 100% (264/264), done.\u001b[K\n",
            "remote: Compressing objects: 100% (133/133), done.\u001b[K\n",
            "remote: Total 875 (delta 180), reused 208 (delta 131), pack-reused 611 (from 1)\u001b[K\n",
            "Receiving objects: 100% (875/875), 19.38 MiB | 27.79 MiB/s, done.\n",
            "Resolving deltas: 100% (553/553), done.\n"
          ]
        }
      ],
      "source": [
        "!git clone https://github.com/wlg1/seqcont_circ_expms.git"
      ]
    },
    {
      "cell_type": "code",
      "execution_count": null,
      "metadata": {
        "colab": {
          "base_uri": "https://localhost:8080/"
        },
        "id": "aBr3odMwcW36",
        "outputId": "4d89f74b-a6d2-4aca-ce3c-7a13adaf358c"
      },
      "outputs": [
        {
          "output_type": "stream",
          "name": "stdout",
          "text": [
            "/content/seqcont_circ_expms/src/attn_pats\n"
          ]
        }
      ],
      "source": [
        "%cd seqcont_circ_expms/src/attn_pats"
      ]
    },
    {
      "cell_type": "code",
      "execution_count": null,
      "metadata": {
        "id": "hy2mVNTmcYAh"
      },
      "outputs": [],
      "source": [
        "from viz_attn_pat import *"
      ]
    },
    {
      "cell_type": "markdown",
      "metadata": {
        "id": "pKs3m06hcaBY"
      },
      "source": [
        "## Load model & Dataset"
      ]
    },
    {
      "cell_type": "code",
      "execution_count": null,
      "metadata": {
        "colab": {
          "base_uri": "https://localhost:8080/",
          "height": 369,
          "referenced_widgets": [
            "25dd65a4b4044bba85e665a24a7a1c04",
            "91e663e3239d4f92b23c42868d5a1d25",
            "54fb4d6e3f77468592fb9922f56568e9",
            "5fc044d9177448f2b977ad2f3946bed3",
            "e4d09c5d4e7742e5813ef9920bcdca3a",
            "c63b38e9fdeb480abfae97468979a0ce",
            "821f1a4153a64099b7c95fc3f397cbef",
            "3d9b8f0141174a4c8666c9635aac4f22",
            "fb3c29bcbbd84afdafff28de97cc7880",
            "41f296029b88433a85f84ae703888fb4",
            "ee6411325eca4185b339262e836866e6",
            "6b779240dab34cd3bc0b7419d7abecce",
            "7dce32b031a74b739124fdd7ce96e21a",
            "24e62302906a45b5a4a8c8fe0b1ee666",
            "ec1ffbc7d71f4a6d8fdf63eb62ea9694",
            "51e4968a341d43b09c9b806da80ab19c",
            "d062e39ecf924c03a227ad42103425b8",
            "80a991cbbbfd442bbbbe2ef6ed738539",
            "7e931e718c6048c0b147b91a9ea79cdb",
            "812b62b80d0f4893abc32c476aa8d94c",
            "257b1ccf3dcd4ecc9ea77ad6584433a3",
            "4e77effd8cd54d84956ae7aa1d84437d",
            "8da06e838fe94bf2b2326e6fcf20dbd9",
            "4a5a543169764c988bb9a60454881f88",
            "3906afbf81514a16bd192f19556df7ac",
            "faa0077f00da43e292850cb82a997827",
            "0ef618b840c5417ea87f6aaf9e8b7b54",
            "898f541eb3f64ac4ac5c8edb5b380ff3",
            "613e1610a40047f38f39843e87d9fa15",
            "15035836ce384deba73d2b9f2c86a144",
            "a8965d1434bb4747aa1c241b5dd8538e",
            "4af94ba8447e4ba889788f798a9d247a",
            "102be75f91944c2e8a53e95fcd2c6517",
            "d28be8093120484a8da6205e371fd55e",
            "26a54a8d54fe408c9449c181c3add340",
            "89a010e35fce498883f65f14a7a8a71c",
            "3d34ee5657dc431aaad13c66eb073334",
            "9e1a4272065448b6a0dd6eb42f88ba46",
            "fa7e4901a4884f0182395757c1649d8e",
            "a20a8161b01b4c91b62e08eaf5ecc805",
            "171adc89d0714d06976453ecd3f87349",
            "2a567b9822ca4b05bc5d7f88a432669f",
            "3128c04f0dfe4d6695b82a194262ebed",
            "8021ac2bc1a4405f89335673dbf255a7",
            "06692dce95e84b5ca246a1b8f8da9865",
            "311c6ce5c8244514b482540febc3ab4b",
            "657cea1d7ea740de8c087c42fb6c40d3",
            "267734e1a2f34a8cb59031ce66e5210c",
            "f535e680a89e41da9d53705e75469934",
            "e5acd5166bbc4ed18a1bb89a2af3ccc4",
            "2c9f0afefa284cb89002747c3a732774",
            "e3d80d03bf8b44ccb1b29485ea6574f4",
            "bb9b05854c914f688f2131f5ce37f186",
            "a6cc8e044a014a1f936b5e0ad1792ec0",
            "ddd0b61bd82a4230a245c82acbc6f18c",
            "fa41ce2a89af4322aae70689a33933ea",
            "a485f5f9401042b1bdc1a4202735c1d0",
            "4b78afc878964f99aa7cf1fe95aa4025",
            "6954431b49084aa29844d0e4fc265e4a",
            "9cefe394a26046bc856b3f95cdaea544",
            "2ecf605b0ddd444ea05bd71452be6428",
            "d1d1b194923546339434b034bb83002a",
            "544e02fdf7f846ab93872068c0186c66",
            "f332bb720e734df8a7ceec500f414dd8",
            "faab0c1e38674badbc5a4b9421d51f74",
            "d368b3d6bf214030b5a3d832e2589ede",
            "df5cef827d5d486f9d6e2556ffa13be6",
            "340f4d5bf5a34e7c954998a187a8305a",
            "8134538672804f2780853358569dcefa",
            "9d5fac235bfb4d699a175b0658d5f412",
            "ec795e65b857476a99487bd9d1d81ce8",
            "eb26e86b195440eabd5923aeef63dd8c",
            "cad85349d0a942f8bf40681f578b0836",
            "cb761647592749e9bc20802f68495e5f",
            "43d96f32153847ea8ff0156a1398184c",
            "fa0a2ef65db146bc9b03dd52c40a12a8",
            "2c678ac796bb425d8b9924ca78df65be"
          ]
        },
        "id": "xlH5ga2BcchO",
        "outputId": "bbfcc956-78d6-4aa9-c2e8-6e43326209fb"
      },
      "outputs": [
        {
          "output_type": "stream",
          "name": "stderr",
          "text": [
            "/usr/local/lib/python3.11/dist-packages/huggingface_hub/utils/_auth.py:94: UserWarning: \n",
            "The secret `HF_TOKEN` does not exist in your Colab secrets.\n",
            "To authenticate with the Hugging Face Hub, create a token in your settings tab (https://huggingface.co/settings/tokens), set it as secret in your Google Colab and restart your session.\n",
            "You will be able to reuse this secret in all of your notebooks.\n",
            "Please note that authentication is recommended but still optional to access public models or datasets.\n",
            "  warnings.warn(\n"
          ]
        },
        {
          "output_type": "display_data",
          "data": {
            "text/plain": [
              "config.json:   0%|          | 0.00/665 [00:00<?, ?B/s]"
            ],
            "application/vnd.jupyter.widget-view+json": {
              "version_major": 2,
              "version_minor": 0,
              "model_id": "25dd65a4b4044bba85e665a24a7a1c04"
            }
          },
          "metadata": {}
        },
        {
          "output_type": "display_data",
          "data": {
            "text/plain": [
              "model.safetensors:   0%|          | 0.00/548M [00:00<?, ?B/s]"
            ],
            "application/vnd.jupyter.widget-view+json": {
              "version_major": 2,
              "version_minor": 0,
              "model_id": "6b779240dab34cd3bc0b7419d7abecce"
            }
          },
          "metadata": {}
        },
        {
          "output_type": "display_data",
          "data": {
            "text/plain": [
              "generation_config.json:   0%|          | 0.00/124 [00:00<?, ?B/s]"
            ],
            "application/vnd.jupyter.widget-view+json": {
              "version_major": 2,
              "version_minor": 0,
              "model_id": "8da06e838fe94bf2b2326e6fcf20dbd9"
            }
          },
          "metadata": {}
        },
        {
          "output_type": "display_data",
          "data": {
            "text/plain": [
              "tokenizer_config.json:   0%|          | 0.00/26.0 [00:00<?, ?B/s]"
            ],
            "application/vnd.jupyter.widget-view+json": {
              "version_major": 2,
              "version_minor": 0,
              "model_id": "d28be8093120484a8da6205e371fd55e"
            }
          },
          "metadata": {}
        },
        {
          "output_type": "display_data",
          "data": {
            "text/plain": [
              "vocab.json:   0%|          | 0.00/1.04M [00:00<?, ?B/s]"
            ],
            "application/vnd.jupyter.widget-view+json": {
              "version_major": 2,
              "version_minor": 0,
              "model_id": "06692dce95e84b5ca246a1b8f8da9865"
            }
          },
          "metadata": {}
        },
        {
          "output_type": "display_data",
          "data": {
            "text/plain": [
              "merges.txt:   0%|          | 0.00/456k [00:00<?, ?B/s]"
            ],
            "application/vnd.jupyter.widget-view+json": {
              "version_major": 2,
              "version_minor": 0,
              "model_id": "fa41ce2a89af4322aae70689a33933ea"
            }
          },
          "metadata": {}
        },
        {
          "output_type": "display_data",
          "data": {
            "text/plain": [
              "tokenizer.json:   0%|          | 0.00/1.36M [00:00<?, ?B/s]"
            ],
            "application/vnd.jupyter.widget-view+json": {
              "version_major": 2,
              "version_minor": 0,
              "model_id": "df5cef827d5d486f9d6e2556ffa13be6"
            }
          },
          "metadata": {}
        },
        {
          "output_type": "stream",
          "name": "stdout",
          "text": [
            "Loaded pretrained model gpt2-small into HookedTransformer\n"
          ]
        }
      ],
      "source": [
        "model = HookedTransformer.from_pretrained(\n",
        "    \"gpt2-small\",\n",
        "    center_unembed=True,\n",
        "    center_writing_weights=True,\n",
        "    fold_ln=True,\n",
        "    refactor_factored_attn_matrices=True,\n",
        ")"
      ]
    },
    {
      "cell_type": "code",
      "execution_count": null,
      "metadata": {
        "colab": {
          "base_uri": "https://localhost:8080/"
        },
        "id": "sJSPglVIceGd",
        "outputId": "3c7633ca-da57-4c9e-a221-b4947b74d403"
      },
      "outputs": [
        {
          "output_type": "stream",
          "name": "stdout",
          "text": [
            "Van done in 1. Hat done in 2. Ring done in 3. Desk done in 4. Sun done in\n",
            "Oil lost in 1. Apple lost in 2. Tree lost in 3. Snow lost in 4. Apple lost in\n",
            "Marcus born in 1. Victoria born in 2. George born in 3. Brandon born in 4. Jamie born in\n"
          ]
        }
      ],
      "source": [
        "prompts_list = []\n",
        "\n",
        "for i in prompt_types:\n",
        "    file_name = f'/content/seqcont_circ_expms/data/{task}/{task}_prompts_{i}.pkl'\n",
        "    with open(file_name, 'rb') as file:\n",
        "        filelist = pickle.load(file)\n",
        "\n",
        "    print(filelist[0]['text'])\n",
        "    prompts_list += filelist [:num_samps_per_ptype] #768 512 256 128\n",
        "\n",
        "prompts = [prompt['text'] for prompt in prompts_list]"
      ]
    },
    {
      "cell_type": "code",
      "execution_count": null,
      "metadata": {
        "id": "qXA24s2VcfjV"
      },
      "outputs": [],
      "source": [
        "tokens = model.to_tokens(prompts, prepend_bos=True)\n",
        "original_logits, local_cache = model.run_with_cache(tokens) # run the model and cache all activations"
      ]
    },
    {
      "cell_type": "markdown",
      "metadata": {
        "id": "3i-CQeO5ciZv"
      },
      "source": [
        "# Functions"
      ]
    },
    {
      "cell_type": "code",
      "execution_count": null,
      "metadata": {
        "id": "mJ4oKOGZcjSe"
      },
      "outputs": [],
      "source": [
        "token1 = \" 3\"\n",
        "token2 = \" 2\"\n",
        "\n",
        "local_tokens = tokens[0]\n",
        "token_list = model.to_str_tokens(local_tokens)"
      ]
    },
    {
      "cell_type": "code",
      "execution_count": null,
      "metadata": {
        "colab": {
          "base_uri": "https://localhost:8080/"
        },
        "id": "wdFOdqDgclXy",
        "outputId": "fe91976d-9a58-4915-bf7c-475bc375e1de"
      },
      "outputs": [
        {
          "output_type": "stream",
          "name": "stdout",
          "text": [
            "The avg heatmap value at \" 3\" \" 2\" is 0.3398568630218506 for 4.4\n"
          ]
        }
      ],
      "source": [
        "def get_attn_val(token_list, token1, token2, layer, head_index):\n",
        "    # Find the indices of the tokens in the tokenized sentence\n",
        "    try:\n",
        "        query_ind = token_list.index(token1)\n",
        "        key_ind = token_list.index(token2)\n",
        "    except ValueError as e:\n",
        "        print(f\"Token not found: {e}\")\n",
        "    else:\n",
        "\n",
        "        patterns = local_cache[\"attn\", layer][:, head_index].mean(dim=0)\n",
        "        heatmap_value = patterns[query_ind, key_ind]\n",
        "        print(f'The avg heatmap value at \"{token1}\" \"{token2}\" is {heatmap_value} for {layer}.{head_index}')\n",
        "\n",
        "get_attn_val(token_list, token1, token2, 4, 4)"
      ]
    },
    {
      "cell_type": "code",
      "execution_count": null,
      "metadata": {
        "colab": {
          "base_uri": "https://localhost:8080/"
        },
        "id": "xoKCoAWydXpn",
        "outputId": "6777de65-7e7f-460f-8d4d-b8da9a1f04b9"
      },
      "outputs": [
        {
          "output_type": "stream",
          "name": "stdout",
          "text": [
            "The avg heatmap value at last token to \" 3\" is 0.08864983916282654 for 9.1\n",
            "The avg heatmap value at last token to \" 2\" is 0.015232603996992111 for 9.1\n"
          ]
        }
      ],
      "source": [
        "def get_attn_val_fromEnd(token_list, token2, layer, head_index):\n",
        "    # Find the indices of the tokens in the tokenized sentence\n",
        "    try:\n",
        "        query_ind = -1\n",
        "        key_ind = token_list.index(token2)\n",
        "    except ValueError as e:\n",
        "        print(f\"Token not found: {e}\")\n",
        "    else:\n",
        "\n",
        "        patterns = local_cache[\"attn\", layer][:, head_index].mean(dim=0)\n",
        "        heatmap_value = patterns[query_ind, key_ind]\n",
        "        print(f'The avg heatmap value at last token to \"{token2}\" is {heatmap_value} for {layer}.{head_index}')\n",
        "\n",
        "get_attn_val_fromEnd(token_list, token1, 9, 1)\n",
        "get_attn_val_fromEnd(token_list, token2, 9, 1)"
      ]
    },
    {
      "cell_type": "code",
      "execution_count": null,
      "metadata": {
        "colab": {
          "base_uri": "https://localhost:8080/"
        },
        "id": "-MqXMhG2dZ-N",
        "outputId": "79da85de-5714-4dc9-8a40-b6e8766983ec"
      },
      "outputs": [
        {
          "output_type": "stream",
          "name": "stdout",
          "text": [
            "The index of ' 3' is 14\n",
            "The index of ' 2' is 9\n"
          ]
        },
        {
          "output_type": "execute_result",
          "data": {
            "text/plain": [
              "(14, 9)"
            ]
          },
          "metadata": {},
          "execution_count": 15
        }
      ],
      "source": [
        "get_ind(token_list, \" 3\", \" 2\", printInd=True)"
      ]
    },
    {
      "cell_type": "markdown",
      "metadata": {
        "id": "DxejgVmEeq8k"
      },
      "source": [
        "# Edge Pruning"
      ]
    },
    {
      "cell_type": "markdown",
      "metadata": {
        "id": "Lrb8aQoyfRzA"
      },
      "source": [
        "## Setup"
      ]
    },
    {
      "cell_type": "code",
      "execution_count": null,
      "metadata": {
        "id": "NKFres00e5v9"
      },
      "outputs": [],
      "source": [
        "task = \"numerals\"  # choose: numerals, numwords, months\n",
        "prompt_types = ['done', 'lost', 'names']\n",
        "num_samps_per_ptype = 512 #768 512\n",
        "\n",
        "model_name = \"gpt2-small\"\n",
        "\n",
        "# ablation is performed by patching\n",
        "# in the mean activations of a corrupted dataset at\n",
        "# N \\ C, which are the nodes that are not part of\n",
        "# of the current candidate circuit. Then, the mean\n",
        "# activations of the corrupted dataset are also patched\n",
        "# in at new candidate node nc. If performance falls\n",
        "# below Tn, a user-defined performance threshold,\n",
        "# node nc is kept in the candidate circuit C, as it is\n",
        "# deemed necessary for the task. Else, it is removed.\n",
        "\n",
        "# choose heads and MLPs that are suspected to play an important role.\n",
        "# do not ablate these, as we want to measure the effect of ablation of the rest\n",
        "# of the network on these components (determined by node pruning section)\n",
        "heads_not_ablate = [(0, 1), (1, 5), (4, 4), (4, 10), (5, 0), (6, 1), (6, 6), (6, 10), (7, 11), (8, 1), (8, 6), (8, 8), (8, 9), (9, 1)]\n",
        "mlps_not_ablate = [0, 1, 2, 3, 4, 6, 7, 8, 9, 10, 11]\n",
        "\n",
        "threshold = 0.8\n",
        "save_files = True\n",
        "load_graph_files = False\n",
        "run_on_other_tasks = True"
      ]
    },
    {
      "cell_type": "code",
      "execution_count": null,
      "metadata": {
        "id": "Qs4E28m-fCHp"
      },
      "outputs": [],
      "source": [
        "%%capture\n",
        "%pip install git+https://github.com/neelnanda-io/TransformerLens.git"
      ]
    },
    {
      "cell_type": "code",
      "execution_count": null,
      "metadata": {
        "id": "KBsaW18QfCvI"
      },
      "outputs": [],
      "source": [
        "import torch as t\n",
        "from torch import Tensor\n",
        "from jaxtyping import Float\n",
        "from typing import List, Optional, Callable, Tuple\n",
        "from functools import partial\n",
        "\n",
        "import pickle\n",
        "from google.colab import files\n",
        "\n",
        "from graphviz import Digraph, Source\n",
        "from IPython.display import display"
      ]
    },
    {
      "cell_type": "code",
      "execution_count": null,
      "metadata": {
        "colab": {
          "base_uri": "https://localhost:8080/"
        },
        "id": "Al3etO02fEGm",
        "outputId": "b9838f66-d1db-40bc-e52d-2d059d204a97"
      },
      "outputs": [
        {
          "output_type": "execute_result",
          "data": {
            "text/plain": [
              "<torch.autograd.grad_mode.set_grad_enabled at 0x7fec9c659710>"
            ]
          },
          "metadata": {},
          "execution_count": 19
        }
      ],
      "source": [
        "import transformer_lens.utils as utils\n",
        "from transformer_lens.hook_points import (\n",
        "    HookPoint,\n",
        ")  # Hooking utilities\n",
        "from transformer_lens import HookedTransformer, ActivationCache\n",
        "\n",
        "t.set_grad_enabled(False)"
      ]
    },
    {
      "cell_type": "code",
      "execution_count": null,
      "metadata": {
        "colab": {
          "base_uri": "https://localhost:8080/"
        },
        "id": "UP_cZLv3fE6J",
        "outputId": "323131b1-01ed-417a-d70c-b3c535d1357d"
      },
      "outputs": [
        {
          "output_type": "stream",
          "name": "stdout",
          "text": [
            "Loaded pretrained model gpt2-small into HookedTransformer\n"
          ]
        }
      ],
      "source": [
        "model = HookedTransformer.from_pretrained(\n",
        "    model_name,\n",
        "    center_unembed=True,\n",
        "    center_writing_weights=True,\n",
        "    fold_ln=True,\n",
        "    refactor_factored_attn_matrices=True,\n",
        ")"
      ]
    },
    {
      "cell_type": "code",
      "execution_count": null,
      "metadata": {
        "colab": {
          "base_uri": "https://localhost:8080/"
        },
        "id": "kiG8niNpfGYR",
        "outputId": "0af28047-d8eb-482a-e475-b08aa4ce8117"
      },
      "outputs": [
        {
          "output_type": "stream",
          "name": "stdout",
          "text": [
            "/content\n",
            "Cloning into 'seqcont_circuits'...\n",
            "remote: Enumerating objects: 1098, done.\u001b[K\n",
            "remote: Counting objects: 100% (564/564), done.\u001b[K\n",
            "remote: Compressing objects: 100% (327/327), done.\u001b[K\n",
            "remote: Total 1098 (delta 353), reused 430 (delta 226), pack-reused 534 (from 1)\u001b[K\n",
            "Receiving objects: 100% (1098/1098), 19.99 MiB | 28.87 MiB/s, done.\n",
            "Resolving deltas: 100% (716/716), done.\n"
          ]
        }
      ],
      "source": [
        "%cd ../../../../../../../content\n",
        "!git clone https://github.com/apartresearch/seqcont_circuits.git"
      ]
    },
    {
      "cell_type": "code",
      "execution_count": null,
      "metadata": {
        "colab": {
          "base_uri": "https://localhost:8080/"
        },
        "id": "lx80v7SmfHUA",
        "outputId": "93b52efc-562f-421b-cc17-15ea4bc91f20"
      },
      "outputs": [
        {
          "output_type": "stream",
          "name": "stdout",
          "text": [
            "/content/seqcont_circuits/src/iter_edge_pruning\n",
            "/content/seqcont_circuits/src/iter_node_pruning\n"
          ]
        }
      ],
      "source": [
        "\n",
        "%cd seqcont_circuits/src/iter_edge_pruning\n",
        "from dataset import Dataset\n",
        "from metrics import *\n",
        "%cd ../iter_node_pruning\n",
        "from head_ablation_fns import *\n",
        "from mlp_ablation_fns import *\n",
        "from node_ablation_fns import *\n",
        "from loop_node_ablation_fns import *"
      ]
    },
    {
      "cell_type": "code",
      "execution_count": null,
      "metadata": {
        "colab": {
          "base_uri": "https://localhost:8080/"
        },
        "id": "OKviATLZfIEX",
        "outputId": "17a4c597-c52c-4b7f-d483-0f54fcef0afa"
      },
      "outputs": [
        {
          "output_type": "stream",
          "name": "stdout",
          "text": [
            "/content/seqcont_circuits/src/iter_edge_pruning\n"
          ]
        }
      ],
      "source": [
        "%cd ../iter_edge_pruning\n",
        "\n",
        "from edge_pruning_fns import *\n",
        "from viz_circuits import *"
      ]
    },
    {
      "cell_type": "code",
      "source": [
        "%cd ../../../../../../../content"
      ],
      "metadata": {
        "colab": {
          "base_uri": "https://localhost:8080/"
        },
        "id": "VizbhdNO2X09",
        "outputId": "0410df36-2dbf-42df-b8d7-bca11c4b487d"
      },
      "execution_count": null,
      "outputs": [
        {
          "output_type": "stream",
          "name": "stdout",
          "text": [
            "/content\n"
          ]
        }
      ]
    },
    {
      "cell_type": "code",
      "execution_count": null,
      "metadata": {
        "colab": {
          "base_uri": "https://localhost:8080/"
        },
        "id": "Z0IHMBbdfI-X",
        "outputId": "74ab71ef-c7d9-463c-8a20-3eb6fdad679f"
      },
      "outputs": [
        {
          "output_type": "stream",
          "name": "stdout",
          "text": [
            "Van done in 1. Hat done in 2. Ring done in 3. Desk done in 4. Sun done in\n",
            "Oil lost in 1. Apple lost in 2. Tree lost in 3. Snow lost in 4. Apple lost in\n",
            "Marcus born in 1. Victoria born in 2. George born in 3. Brandon born in 4. Jamie born in\n"
          ]
        },
        {
          "output_type": "execute_result",
          "data": {
            "text/plain": [
              "1536"
            ]
          },
          "metadata": {},
          "execution_count": 25
        }
      ],
      "source": [
        "prompts_list = []\n",
        "\n",
        "for i in prompt_types:\n",
        "    file_name = f'/content/seqcont_circuits/data/{task}/{task}_prompts_{i}.pkl'\n",
        "    with open(file_name, 'rb') as file:\n",
        "        filelist = pickle.load(file)\n",
        "\n",
        "    print(filelist[0]['text'])\n",
        "    prompts_list += filelist [:num_samps_per_ptype]\n",
        "\n",
        "len(prompts_list)"
      ]
    },
    {
      "cell_type": "code",
      "execution_count": null,
      "metadata": {
        "id": "Z6L5eguHfJ49"
      },
      "outputs": [],
      "source": [
        "pos_dict = {}\n",
        "for i in range(len(model.tokenizer.tokenize(prompts_list[0]['text']))):\n",
        "    pos_dict['S'+str(i)] = i\n",
        "dataset_1 = Dataset(prompts_list, pos_dict, model.tokenizer)\n",
        "\n",
        "file_name = f'/content/seqcont_circuits/data/{task}/randDS_{task}.pkl'\n",
        "with open(file_name, 'rb') as file:\n",
        "    prompts_list_2 = pickle.load(file)\n",
        "dataset_2 = Dataset(prompts_list_2, pos_dict, model.tokenizer)"
      ]
    },
    {
      "cell_type": "code",
      "execution_count": null,
      "metadata": {
        "id": "9JhiZRZFfOpU"
      },
      "outputs": [],
      "source": [
        "model.reset_hooks(including_permanent=True)\n",
        "logits_original = model(dataset_1.toks)\n",
        "orig_score = get_logit_diff(logits_original, dataset_1)\n"
      ]
    },
    {
      "cell_type": "code",
      "execution_count": null,
      "metadata": {
        "id": "uFc1XAYlfPhE"
      },
      "outputs": [],
      "source": [
        "def logit_diff_perc(\n",
        "    logits: Float[Tensor, \"batch seq d_vocab\"],\n",
        "    clean_logit_diff: float = orig_score,\n",
        "    dataset_1: Dataset = dataset_1,\n",
        ") -> float:\n",
        "    patched_logit_diff = get_logit_diff(logits, dataset_1)\n",
        "    return (patched_logit_diff / clean_logit_diff)"
      ]
    },
    {
      "cell_type": "code",
      "execution_count": null,
      "metadata": {
        "colab": {
          "base_uri": "https://localhost:8080/"
        },
        "id": "4Z6qu6GrfQRB",
        "outputId": "ff016068-594f-42f7-9471-6b79cabc3dc0"
      },
      "outputs": [
        {
          "output_type": "execute_result",
          "data": {
            "text/plain": [
              "319"
            ]
          },
          "metadata": {},
          "execution_count": 29
        }
      ],
      "source": [
        "import gc\n",
        "\n",
        "del(logits_original)\n",
        "# del(logits_corrup)\n",
        "t.cuda.empty_cache()\n",
        "gc.collect()"
      ]
    },
    {
      "cell_type": "markdown",
      "metadata": {
        "id": "ZtL0-4MjfUE8"
      },
      "source": [
        "## Find Circuit"
      ]
    },
    {
      "cell_type": "code",
      "execution_count": null,
      "metadata": {
        "colab": {
          "base_uri": "https://localhost:8080/"
        },
        "id": "N5QqYSM_fVDk",
        "outputId": "797e2e13-878c-469f-fcd4-d770970077d4"
      },
      "outputs": [
        {
          "output_type": "stream",
          "name": "stdout",
          "text": [
            "(cand circuit / full) %: 81.0075\n"
          ]
        }
      ],
      "source": [
        "model.reset_hooks(including_permanent=True)  #must do this after running with mean ablation hook\n",
        "abl_model = add_ablation_hook_MLP_head(model, dataset_2, heads_not_ablate, mlps_not_ablate)\n",
        "\n",
        "new_logits = model(dataset_1.toks)\n",
        "new_score = get_logit_diff(new_logits, dataset_1)\n",
        "circ_score = (100 * new_score / orig_score).item()\n",
        "print(f\"(cand circuit / full) %: {circ_score:.4f}\")\n",
        "del(new_logits)"
      ]
    },
    {
      "cell_type": "markdown",
      "metadata": {
        "id": "kky0D6uOfZlz"
      },
      "source": [
        "### Head to head"
      ]
    },
    {
      "cell_type": "code",
      "execution_count": null,
      "metadata": {
        "colab": {
          "base_uri": "https://localhost:8080/"
        },
        "id": "2WPfYDwZfWui",
        "outputId": "a440bf66-c8f0-4315-a5da-f2250fac5aca"
      },
      "outputs": [
        {
          "output_type": "stream",
          "name": "stdout",
          "text": [
            "q (0, 1)\n",
            "q (1, 5)\n",
            "q (4, 4)\n",
            "q (4, 10)\n",
            "q (5, 0)\n",
            "q (6, 1)\n",
            "q (6, 6)\n",
            "q (6, 10)\n",
            "q (7, 11)\n",
            "q (8, 1)\n",
            "q (8, 6)\n",
            "q (8, 8)\n",
            "q (8, 9)\n",
            "q (9, 1)\n",
            "k (0, 1)\n",
            "k (1, 5)\n",
            "k (4, 4)\n",
            "k (4, 10)\n",
            "k (5, 0)\n",
            "k (6, 1)\n",
            "k (6, 6)\n",
            "k (6, 10)\n",
            "k (7, 11)\n",
            "k (8, 1)\n",
            "k (8, 6)\n",
            "k (8, 8)\n",
            "k (8, 9)\n",
            "k (9, 1)\n",
            "v (0, 1)\n",
            "v (1, 5)\n",
            "v (4, 4)\n",
            "v (4, 10)\n",
            "v (5, 0)\n",
            "v (6, 1)\n",
            "v (6, 6)\n",
            "v (6, 10)\n",
            "v (7, 11)\n",
            "v (8, 1)\n",
            "v (8, 6)\n",
            "v (8, 8)\n",
            "v (8, 9)\n",
            "v (9, 1)\n"
          ]
        }
      ],
      "source": [
        "qkv_to_HH = {} # qkv to dict\n",
        "\n",
        "for head_type in [\"q\", \"k\", \"v\"]:\n",
        "    head_to_head_results = {}\n",
        "    for head in heads_not_ablate:\n",
        "        print(head_type, head)\n",
        "        model.reset_hooks()\n",
        "        model = add_ablation_hook_MLP_head(model, dataset_2, heads_not_ablate, mlps_not_ablate)\n",
        "\n",
        "        result = circ_path_patch_head_to_heads(\n",
        "            circuit = heads_not_ablate,\n",
        "            receiver_heads = [head],\n",
        "            receiver_input = head_type,\n",
        "            model = model,\n",
        "            patching_metric = logit_diff_perc,\n",
        "            new_dataset = dataset_2,\n",
        "            orig_dataset = dataset_1\n",
        "        )\n",
        "        head_to_head_results[head] = result\n",
        "    qkv_to_HH[head_type] = head_to_head_results"
      ]
    },
    {
      "cell_type": "code",
      "execution_count": null,
      "metadata": {
        "id": "m-hYdr0FfYJ7"
      },
      "outputs": [],
      "source": [
        "head_to_head_adjList = {}\n",
        "for head_type in [\"q\", \"k\", \"v\"]:\n",
        "    for head in heads_not_ablate:\n",
        "        result = qkv_to_HH[head_type][head]\n",
        "        filtered_indices = (result < threshold) & (result != 0.0)\n",
        "        rows, cols = filtered_indices.nonzero(as_tuple=True)\n",
        "        sender_nodes = list(zip(rows.tolist(), cols.tolist()))\n",
        "        head_with_type = head + (head_type,)\n",
        "        head_to_head_adjList[head_with_type] = sender_nodes"
      ]
    },
    {
      "cell_type": "markdown",
      "metadata": {
        "id": "r1PRvq4efb6Q"
      },
      "source": [
        "### MLP to MLP"
      ]
    },
    {
      "cell_type": "code",
      "execution_count": null,
      "metadata": {
        "colab": {
          "base_uri": "https://localhost:8080/"
        },
        "id": "62Uuqi21fd9x",
        "outputId": "73520c7f-fc78-41a9-ed10-360728eddeec"
      },
      "outputs": [
        {
          "output_type": "stream",
          "name": "stdout",
          "text": [
            "11\n",
            "10\n",
            "9\n",
            "8\n",
            "7\n",
            "6\n",
            "4\n",
            "3\n",
            "2\n",
            "1\n",
            "0\n"
          ]
        }
      ],
      "source": [
        "mlp_to_mlp_results = {}\n",
        "\n",
        "for layer in reversed(mlps_not_ablate):\n",
        "    print(layer)\n",
        "    model.reset_hooks()\n",
        "    model = add_ablation_hook_MLP_head(model, dataset_2, heads_not_ablate, mlps_not_ablate)\n",
        "    result = circ_path_patch_MLPs_to_MLPs(\n",
        "        mlp_circuit = mlps_not_ablate,\n",
        "        receiver_layers = [layer],\n",
        "        model = model,\n",
        "        patching_metric = logit_diff_perc,\n",
        "        new_dataset = dataset_2,\n",
        "        orig_dataset = dataset_1\n",
        "    )\n",
        "    mlp_to_mlp_results[layer] = result"
      ]
    },
    {
      "cell_type": "code",
      "execution_count": null,
      "metadata": {
        "id": "hr0QCrojffaq"
      },
      "outputs": [],
      "source": [
        "mlp_to_mlp_adjList = {}\n",
        "for mlp in mlps_not_ablate:\n",
        "    result = mlp_to_mlp_results[mlp]\n",
        "    filtered_indices = (result < threshold) & (result != 0.0)\n",
        "    filtered_indices = filtered_indices.nonzero(as_tuple=True)[0]\n",
        "    mlp_to_mlp_adjList[mlp] = filtered_indices.tolist()"
      ]
    },
    {
      "cell_type": "markdown",
      "metadata": {
        "id": "g59BimpRgzlZ"
      },
      "source": [
        "### Head to MLP"
      ]
    },
    {
      "cell_type": "code",
      "execution_count": null,
      "metadata": {
        "colab": {
          "base_uri": "https://localhost:8080/"
        },
        "id": "WGG-6Q7_g0xL",
        "outputId": "aff69907-a60b-433e-8ddc-dc3bdec31c21"
      },
      "outputs": [
        {
          "output_type": "stream",
          "name": "stdout",
          "text": [
            "11\n",
            "10\n",
            "9\n",
            "8\n",
            "7\n",
            "6\n",
            "4\n",
            "3\n",
            "2\n",
            "1\n",
            "0\n"
          ]
        }
      ],
      "source": [
        "head_to_mlp_results = {}\n",
        "\n",
        "for layer in reversed(mlps_not_ablate):\n",
        "    print(layer)\n",
        "    model.reset_hooks()\n",
        "    model = add_ablation_hook_MLP_head(model, dataset_2, heads_not_ablate, mlps_not_ablate)\n",
        "    result = circ_path_patch_head_to_mlp(\n",
        "        circuit = heads_not_ablate,\n",
        "        receiver_layers = [layer],\n",
        "        model = model,\n",
        "        patching_metric = logit_diff_perc,\n",
        "        new_dataset = dataset_2,\n",
        "        orig_dataset = dataset_1\n",
        "    )\n",
        "    head_to_mlp_results[layer] = result"
      ]
    },
    {
      "cell_type": "code",
      "execution_count": null,
      "metadata": {
        "id": "btGr3TeYg2tQ"
      },
      "outputs": [],
      "source": [
        "head_to_mlp_adjList = {}\n",
        "for layer in mlps_not_ablate:\n",
        "    result = head_to_mlp_results[layer]\n",
        "    filtered_indices = (result < threshold) & (result != 0.0)\n",
        "    rows, cols = filtered_indices.nonzero(as_tuple=True)\n",
        "    sender_nodes = list(zip(rows.tolist(), cols.tolist()))\n",
        "    head_to_mlp_adjList[layer] = sender_nodes"
      ]
    },
    {
      "cell_type": "markdown",
      "metadata": {
        "id": "JC19CJS_g3eg"
      },
      "source": [
        "### MLP to head"
      ]
    },
    {
      "cell_type": "code",
      "execution_count": null,
      "metadata": {
        "colab": {
          "base_uri": "https://localhost:8080/"
        },
        "id": "HEZRrJbrg4Ty",
        "outputId": "a5ea1090-f2ee-40a7-cadf-22f7311a82aa"
      },
      "outputs": [
        {
          "output_type": "stream",
          "name": "stdout",
          "text": [
            "q (0, 1)\n",
            "q (1, 5)\n",
            "q (4, 4)\n",
            "q (4, 10)\n",
            "q (5, 0)\n",
            "q (6, 1)\n",
            "q (6, 6)\n",
            "q (6, 10)\n",
            "q (7, 11)\n",
            "q (8, 1)\n",
            "q (8, 6)\n",
            "q (8, 8)\n",
            "q (8, 9)\n",
            "q (9, 1)\n",
            "k (0, 1)\n",
            "k (1, 5)\n",
            "k (4, 4)\n",
            "k (4, 10)\n",
            "k (5, 0)\n",
            "k (6, 1)\n",
            "k (6, 6)\n",
            "k (6, 10)\n",
            "k (7, 11)\n",
            "k (8, 1)\n",
            "k (8, 6)\n",
            "k (8, 8)\n",
            "k (8, 9)\n",
            "k (9, 1)\n",
            "v (0, 1)\n",
            "v (1, 5)\n",
            "v (4, 4)\n",
            "v (4, 10)\n",
            "v (5, 0)\n",
            "v (6, 1)\n",
            "v (6, 6)\n",
            "v (6, 10)\n",
            "v (7, 11)\n",
            "v (8, 1)\n",
            "v (8, 6)\n",
            "v (8, 8)\n",
            "v (8, 9)\n",
            "v (9, 1)\n"
          ]
        }
      ],
      "source": [
        "qkv_mlp_to_HH = {} # qkv to dict\n",
        "\n",
        "for head_type in [\"q\", \"k\", \"v\"]:\n",
        "    mlp_to_head_results = {}\n",
        "    for head in heads_not_ablate:\n",
        "        print(head_type, head)\n",
        "        model.reset_hooks()\n",
        "        model = add_ablation_hook_MLP_head(model, dataset_2, heads_not_ablate, mlps_not_ablate)\n",
        "\n",
        "        result = circ_path_patch_mlp_to_head(\n",
        "            mlp_circuit = mlps_not_ablate,\n",
        "            receiver_heads = [head],\n",
        "            receiver_input = head_type,\n",
        "            model = model,\n",
        "            patching_metric = logit_diff_perc,\n",
        "            new_dataset = dataset_2,\n",
        "            orig_dataset = dataset_1\n",
        "        )\n",
        "        mlp_to_head_results[head] = result\n",
        "    qkv_mlp_to_HH[head_type] = mlp_to_head_results"
      ]
    },
    {
      "cell_type": "code",
      "execution_count": null,
      "metadata": {
        "id": "PONw4brKg5Pp"
      },
      "outputs": [],
      "source": [
        "mlp_to_head_adjList = {}\n",
        "for head_type in [\"q\", \"k\", \"v\"]:\n",
        "    for head in heads_not_ablate:\n",
        "        result = qkv_mlp_to_HH[head_type][head]\n",
        "        filtered_indices = (result < threshold) & (result != 0.0)\n",
        "        filtered_indices = filtered_indices.nonzero(as_tuple=True)[0]\n",
        "        head_with_type = head + (head_type,)\n",
        "        mlp_to_head_adjList[head_with_type] = filtered_indices.tolist()"
      ]
    },
    {
      "cell_type": "markdown",
      "metadata": {
        "id": "NKWYMqJlg7Ly"
      },
      "source": [
        "### Save graph files"
      ]
    },
    {
      "cell_type": "code",
      "execution_count": null,
      "metadata": {
        "colab": {
          "base_uri": "https://localhost:8080/",
          "height": 17
        },
        "id": "2aWZ7QoWg8SM",
        "outputId": "0db3849c-2295-4684-ecc4-b54578826df7"
      },
      "outputs": [
        {
          "output_type": "display_data",
          "data": {
            "text/plain": [
              "<IPython.core.display.Javascript object>"
            ],
            "application/javascript": [
              "\n",
              "    async function download(id, filename, size) {\n",
              "      if (!google.colab.kernel.accessAllowed) {\n",
              "        return;\n",
              "      }\n",
              "      const div = document.createElement('div');\n",
              "      const label = document.createElement('label');\n",
              "      label.textContent = `Downloading \"${filename}\": `;\n",
              "      div.appendChild(label);\n",
              "      const progress = document.createElement('progress');\n",
              "      progress.max = size;\n",
              "      div.appendChild(progress);\n",
              "      document.body.appendChild(div);\n",
              "\n",
              "      const buffers = [];\n",
              "      let downloaded = 0;\n",
              "\n",
              "      const channel = await google.colab.kernel.comms.open(id);\n",
              "      // Send a message to notify the kernel that we're ready.\n",
              "      channel.send({})\n",
              "\n",
              "      for await (const message of channel.messages) {\n",
              "        // Send a message to notify the kernel that we're ready.\n",
              "        channel.send({})\n",
              "        if (message.buffers) {\n",
              "          for (const buffer of message.buffers) {\n",
              "            buffers.push(buffer);\n",
              "            downloaded += buffer.byteLength;\n",
              "            progress.value = downloaded;\n",
              "          }\n",
              "        }\n",
              "      }\n",
              "      const blob = new Blob(buffers, {type: 'application/binary'});\n",
              "      const a = document.createElement('a');\n",
              "      a.href = window.URL.createObjectURL(blob);\n",
              "      a.download = filename;\n",
              "      div.appendChild(a);\n",
              "      a.click();\n",
              "      div.remove();\n",
              "    }\n",
              "  "
            ]
          },
          "metadata": {}
        },
        {
          "output_type": "display_data",
          "data": {
            "text/plain": [
              "<IPython.core.display.Javascript object>"
            ],
            "application/javascript": [
              "download(\"download_cbdd6fd7-77a9-42a5-acf3-2d4d9f331c94\", \"numerals_head_to_head_results.pkl\", 7998)"
            ]
          },
          "metadata": {}
        },
        {
          "output_type": "display_data",
          "data": {
            "text/plain": [
              "<IPython.core.display.Javascript object>"
            ],
            "application/javascript": [
              "\n",
              "    async function download(id, filename, size) {\n",
              "      if (!google.colab.kernel.accessAllowed) {\n",
              "        return;\n",
              "      }\n",
              "      const div = document.createElement('div');\n",
              "      const label = document.createElement('label');\n",
              "      label.textContent = `Downloading \"${filename}\": `;\n",
              "      div.appendChild(label);\n",
              "      const progress = document.createElement('progress');\n",
              "      progress.max = size;\n",
              "      div.appendChild(progress);\n",
              "      document.body.appendChild(div);\n",
              "\n",
              "      const buffers = [];\n",
              "      let downloaded = 0;\n",
              "\n",
              "      const channel = await google.colab.kernel.comms.open(id);\n",
              "      // Send a message to notify the kernel that we're ready.\n",
              "      channel.send({})\n",
              "\n",
              "      for await (const message of channel.messages) {\n",
              "        // Send a message to notify the kernel that we're ready.\n",
              "        channel.send({})\n",
              "        if (message.buffers) {\n",
              "          for (const buffer of message.buffers) {\n",
              "            buffers.push(buffer);\n",
              "            downloaded += buffer.byteLength;\n",
              "            progress.value = downloaded;\n",
              "          }\n",
              "        }\n",
              "      }\n",
              "      const blob = new Blob(buffers, {type: 'application/binary'});\n",
              "      const a = document.createElement('a');\n",
              "      a.href = window.URL.createObjectURL(blob);\n",
              "      a.download = filename;\n",
              "      div.appendChild(a);\n",
              "      a.click();\n",
              "      div.remove();\n",
              "    }\n",
              "  "
            ]
          },
          "metadata": {}
        },
        {
          "output_type": "display_data",
          "data": {
            "text/plain": [
              "<IPython.core.display.Javascript object>"
            ],
            "application/javascript": [
              "download(\"download_1cda8116-7f98-4e08-ba7b-5959a7e9063a\", \"numerals_mlp_to_mlp_results.pkl\", 3445)"
            ]
          },
          "metadata": {}
        },
        {
          "output_type": "display_data",
          "data": {
            "text/plain": [
              "<IPython.core.display.Javascript object>"
            ],
            "application/javascript": [
              "\n",
              "    async function download(id, filename, size) {\n",
              "      if (!google.colab.kernel.accessAllowed) {\n",
              "        return;\n",
              "      }\n",
              "      const div = document.createElement('div');\n",
              "      const label = document.createElement('label');\n",
              "      label.textContent = `Downloading \"${filename}\": `;\n",
              "      div.appendChild(label);\n",
              "      const progress = document.createElement('progress');\n",
              "      progress.max = size;\n",
              "      div.appendChild(progress);\n",
              "      document.body.appendChild(div);\n",
              "\n",
              "      const buffers = [];\n",
              "      let downloaded = 0;\n",
              "\n",
              "      const channel = await google.colab.kernel.comms.open(id);\n",
              "      // Send a message to notify the kernel that we're ready.\n",
              "      channel.send({})\n",
              "\n",
              "      for await (const message of channel.messages) {\n",
              "        // Send a message to notify the kernel that we're ready.\n",
              "        channel.send({})\n",
              "        if (message.buffers) {\n",
              "          for (const buffer of message.buffers) {\n",
              "            buffers.push(buffer);\n",
              "            downloaded += buffer.byteLength;\n",
              "            progress.value = downloaded;\n",
              "          }\n",
              "        }\n",
              "      }\n",
              "      const blob = new Blob(buffers, {type: 'application/binary'});\n",
              "      const a = document.createElement('a');\n",
              "      a.href = window.URL.createObjectURL(blob);\n",
              "      a.download = filename;\n",
              "      div.appendChild(a);\n",
              "      a.click();\n",
              "      div.remove();\n",
              "    }\n",
              "  "
            ]
          },
          "metadata": {}
        },
        {
          "output_type": "display_data",
          "data": {
            "text/plain": [
              "<IPython.core.display.Javascript object>"
            ],
            "application/javascript": [
              "download(\"download_9fa9e320-7ee5-4093-bc13-4a3c01f25542\", \"numerals_head_to_mlp_results.pkl\", 6177)"
            ]
          },
          "metadata": {}
        },
        {
          "output_type": "display_data",
          "data": {
            "text/plain": [
              "<IPython.core.display.Javascript object>"
            ],
            "application/javascript": [
              "\n",
              "    async function download(id, filename, size) {\n",
              "      if (!google.colab.kernel.accessAllowed) {\n",
              "        return;\n",
              "      }\n",
              "      const div = document.createElement('div');\n",
              "      const label = document.createElement('label');\n",
              "      label.textContent = `Downloading \"${filename}\": `;\n",
              "      div.appendChild(label);\n",
              "      const progress = document.createElement('progress');\n",
              "      progress.max = size;\n",
              "      div.appendChild(progress);\n",
              "      document.body.appendChild(div);\n",
              "\n",
              "      const buffers = [];\n",
              "      let downloaded = 0;\n",
              "\n",
              "      const channel = await google.colab.kernel.comms.open(id);\n",
              "      // Send a message to notify the kernel that we're ready.\n",
              "      channel.send({})\n",
              "\n",
              "      for await (const message of channel.messages) {\n",
              "        // Send a message to notify the kernel that we're ready.\n",
              "        channel.send({})\n",
              "        if (message.buffers) {\n",
              "          for (const buffer of message.buffers) {\n",
              "            buffers.push(buffer);\n",
              "            downloaded += buffer.byteLength;\n",
              "            progress.value = downloaded;\n",
              "          }\n",
              "        }\n",
              "      }\n",
              "      const blob = new Blob(buffers, {type: 'application/binary'});\n",
              "      const a = document.createElement('a');\n",
              "      a.href = window.URL.createObjectURL(blob);\n",
              "      a.download = filename;\n",
              "      div.appendChild(a);\n",
              "      a.click();\n",
              "      div.remove();\n",
              "    }\n",
              "  "
            ]
          },
          "metadata": {}
        },
        {
          "output_type": "display_data",
          "data": {
            "text/plain": [
              "<IPython.core.display.Javascript object>"
            ],
            "application/javascript": [
              "download(\"download_e52759d7-acd2-4362-a8f7-1b0bc99b4f94\", \"numerals_mlp_to_head_results.pkl\", 4421)"
            ]
          },
          "metadata": {}
        }
      ],
      "source": [
        "if save_files:\n",
        "    with open(task + \"_head_to_head_results.pkl\", \"wb\") as file:\n",
        "        pickle.dump(head_to_head_results, file)\n",
        "    files.download(task + \"_head_to_head_results.pkl\")\n",
        "\n",
        "    with open(task + \"_mlp_to_mlp_results.pkl\", \"wb\") as file:\n",
        "        pickle.dump(mlp_to_mlp_results, file)\n",
        "    files.download(task + \"_mlp_to_mlp_results.pkl\")\n",
        "\n",
        "    with open(task + \"_head_to_mlp_results.pkl\", \"wb\") as file:\n",
        "        pickle.dump(head_to_mlp_results, file)\n",
        "    files.download(task + \"_head_to_mlp_results.pkl\")\n",
        "\n",
        "    with open(task + \"_mlp_to_head_results.pkl\", \"wb\") as file:\n",
        "        pickle.dump(mlp_to_head_results, file)\n",
        "    files.download(task + \"_mlp_to_head_results.pkl\")\n",
        "\n",
        "del(head_to_head_results)\n",
        "del(mlp_to_mlp_results)\n",
        "del(head_to_mlp_results)\n",
        "del(mlp_to_head_results)"
      ]
    },
    {
      "cell_type": "markdown",
      "metadata": {
        "id": "Uq3ytfhThCGt"
      },
      "source": [
        "## Run iterative edge pruning - residual post"
      ]
    },
    {
      "cell_type": "markdown",
      "metadata": {
        "id": "KfjErHaPhAa9"
      },
      "source": [
        "### Head to resid"
      ]
    },
    {
      "cell_type": "code",
      "execution_count": null,
      "metadata": {
        "id": "w5hVaY42hCjg"
      },
      "outputs": [],
      "source": [
        "model.reset_hooks()\n",
        "model = add_ablation_hook_MLP_head(model, dataset_2, heads_not_ablate, mlps_not_ablate)\n",
        "\n",
        "path_patch_head_to_final_resid_post = get_path_patch_head_to_final_resid_post(heads_not_ablate, model, logit_diff_perc,\n",
        "                                                                new_dataset = dataset_2, orig_dataset = dataset_1)"
      ]
    },
    {
      "cell_type": "code",
      "execution_count": null,
      "metadata": {
        "id": "k07f1NNNhD0F"
      },
      "outputs": [],
      "source": [
        "heads_to_resid = {}\n",
        "result = path_patch_head_to_final_resid_post\n",
        "filtered_indices = (result < threshold) & (result != 0.0)\n",
        "rows, cols = filtered_indices.nonzero(as_tuple=True)\n",
        "heads_to_resid['resid'] = list(zip(rows.tolist(), cols.tolist()))"
      ]
    },
    {
      "cell_type": "markdown",
      "metadata": {
        "id": "gR_A2zd_hEr4"
      },
      "source": [
        "### MLP to resid"
      ]
    },
    {
      "cell_type": "code",
      "execution_count": null,
      "metadata": {
        "id": "bLVRhnPPhFll"
      },
      "outputs": [],
      "source": [
        "model.reset_hooks()\n",
        "model = add_ablation_hook_MLP_head(model, dataset_2, heads_not_ablate, mlps_not_ablate)\n",
        "\n",
        "path_patch_mlp_to_final_resid_post = get_path_patch_mlp_to_final_resid_post(mlps_not_ablate, model, logit_diff_perc,\n",
        "                                                                new_dataset = dataset_2, orig_dataset = dataset_1)"
      ]
    },
    {
      "cell_type": "code",
      "execution_count": null,
      "metadata": {
        "id": "i6QAIj8UhGWV"
      },
      "outputs": [],
      "source": [
        "mlps_to_resid = {}\n",
        "result = path_patch_mlp_to_final_resid_post\n",
        "filtered_indices = (result < threshold) & (result != 0.0)\n",
        "filtered_indices = filtered_indices.nonzero(as_tuple=True)[0]\n",
        "mlps_to_resid['resid'] = filtered_indices.tolist()"
      ]
    },
    {
      "cell_type": "markdown",
      "metadata": {
        "id": "9Pi6XAXZhHXH"
      },
      "source": [
        "### Filter out nodes with no ingoing edges"
      ]
    },
    {
      "cell_type": "code",
      "execution_count": null,
      "metadata": {
        "id": "1X2m5_ZyhIx5"
      },
      "outputs": [],
      "source": [
        "head_to_head_adjList = {node: neighbors for node, neighbors in head_to_head_adjList.items() if neighbors}"
      ]
    },
    {
      "cell_type": "code",
      "execution_count": null,
      "metadata": {
        "id": "VNdbYe2ehJi_"
      },
      "outputs": [],
      "source": [
        "mlp_to_head_adjList = {node: neighbors for node, neighbors in mlp_to_head_adjList.items() if neighbors}"
      ]
    },
    {
      "cell_type": "markdown",
      "metadata": {
        "id": "W4FgYeU4hKNd"
      },
      "source": [
        "### Save graph files"
      ]
    },
    {
      "cell_type": "code",
      "execution_count": null,
      "metadata": {
        "colab": {
          "base_uri": "https://localhost:8080/",
          "height": 17
        },
        "id": "gnW3xTenhL6-",
        "outputId": "7fb0b34c-3173-4ea0-bbc5-d538e2ddbd22"
      },
      "outputs": [
        {
          "output_type": "display_data",
          "data": {
            "text/plain": [
              "<IPython.core.display.Javascript object>"
            ],
            "application/javascript": [
              "\n",
              "    async function download(id, filename, size) {\n",
              "      if (!google.colab.kernel.accessAllowed) {\n",
              "        return;\n",
              "      }\n",
              "      const div = document.createElement('div');\n",
              "      const label = document.createElement('label');\n",
              "      label.textContent = `Downloading \"${filename}\": `;\n",
              "      div.appendChild(label);\n",
              "      const progress = document.createElement('progress');\n",
              "      progress.max = size;\n",
              "      div.appendChild(progress);\n",
              "      document.body.appendChild(div);\n",
              "\n",
              "      const buffers = [];\n",
              "      let downloaded = 0;\n",
              "\n",
              "      const channel = await google.colab.kernel.comms.open(id);\n",
              "      // Send a message to notify the kernel that we're ready.\n",
              "      channel.send({})\n",
              "\n",
              "      for await (const message of channel.messages) {\n",
              "        // Send a message to notify the kernel that we're ready.\n",
              "        channel.send({})\n",
              "        if (message.buffers) {\n",
              "          for (const buffer of message.buffers) {\n",
              "            buffers.push(buffer);\n",
              "            downloaded += buffer.byteLength;\n",
              "            progress.value = downloaded;\n",
              "          }\n",
              "        }\n",
              "      }\n",
              "      const blob = new Blob(buffers, {type: 'application/binary'});\n",
              "      const a = document.createElement('a');\n",
              "      a.href = window.URL.createObjectURL(blob);\n",
              "      a.download = filename;\n",
              "      div.appendChild(a);\n",
              "      a.click();\n",
              "      div.remove();\n",
              "    }\n",
              "  "
            ]
          },
          "metadata": {}
        },
        {
          "output_type": "display_data",
          "data": {
            "text/plain": [
              "<IPython.core.display.Javascript object>"
            ],
            "application/javascript": [
              "download(\"download_2b969641-ed04-4e0b-b172-20109d3dada6\", \"numerals_head_to_head_adjList.pkl\", 507)"
            ]
          },
          "metadata": {}
        },
        {
          "output_type": "display_data",
          "data": {
            "text/plain": [
              "<IPython.core.display.Javascript object>"
            ],
            "application/javascript": [
              "\n",
              "    async function download(id, filename, size) {\n",
              "      if (!google.colab.kernel.accessAllowed) {\n",
              "        return;\n",
              "      }\n",
              "      const div = document.createElement('div');\n",
              "      const label = document.createElement('label');\n",
              "      label.textContent = `Downloading \"${filename}\": `;\n",
              "      div.appendChild(label);\n",
              "      const progress = document.createElement('progress');\n",
              "      progress.max = size;\n",
              "      div.appendChild(progress);\n",
              "      document.body.appendChild(div);\n",
              "\n",
              "      const buffers = [];\n",
              "      let downloaded = 0;\n",
              "\n",
              "      const channel = await google.colab.kernel.comms.open(id);\n",
              "      // Send a message to notify the kernel that we're ready.\n",
              "      channel.send({})\n",
              "\n",
              "      for await (const message of channel.messages) {\n",
              "        // Send a message to notify the kernel that we're ready.\n",
              "        channel.send({})\n",
              "        if (message.buffers) {\n",
              "          for (const buffer of message.buffers) {\n",
              "            buffers.push(buffer);\n",
              "            downloaded += buffer.byteLength;\n",
              "            progress.value = downloaded;\n",
              "          }\n",
              "        }\n",
              "      }\n",
              "      const blob = new Blob(buffers, {type: 'application/binary'});\n",
              "      const a = document.createElement('a');\n",
              "      a.href = window.URL.createObjectURL(blob);\n",
              "      a.download = filename;\n",
              "      div.appendChild(a);\n",
              "      a.click();\n",
              "      div.remove();\n",
              "    }\n",
              "  "
            ]
          },
          "metadata": {}
        },
        {
          "output_type": "display_data",
          "data": {
            "text/plain": [
              "<IPython.core.display.Javascript object>"
            ],
            "application/javascript": [
              "download(\"download_1add25b8-1ec1-4970-a816-29a7f6aa59ba\", \"numerals_mlp_to_mlp_adjList.pkl\", 175)"
            ]
          },
          "metadata": {}
        },
        {
          "output_type": "display_data",
          "data": {
            "text/plain": [
              "<IPython.core.display.Javascript object>"
            ],
            "application/javascript": [
              "\n",
              "    async function download(id, filename, size) {\n",
              "      if (!google.colab.kernel.accessAllowed) {\n",
              "        return;\n",
              "      }\n",
              "      const div = document.createElement('div');\n",
              "      const label = document.createElement('label');\n",
              "      label.textContent = `Downloading \"${filename}\": `;\n",
              "      div.appendChild(label);\n",
              "      const progress = document.createElement('progress');\n",
              "      progress.max = size;\n",
              "      div.appendChild(progress);\n",
              "      document.body.appendChild(div);\n",
              "\n",
              "      const buffers = [];\n",
              "      let downloaded = 0;\n",
              "\n",
              "      const channel = await google.colab.kernel.comms.open(id);\n",
              "      // Send a message to notify the kernel that we're ready.\n",
              "      channel.send({})\n",
              "\n",
              "      for await (const message of channel.messages) {\n",
              "        // Send a message to notify the kernel that we're ready.\n",
              "        channel.send({})\n",
              "        if (message.buffers) {\n",
              "          for (const buffer of message.buffers) {\n",
              "            buffers.push(buffer);\n",
              "            downloaded += buffer.byteLength;\n",
              "            progress.value = downloaded;\n",
              "          }\n",
              "        }\n",
              "      }\n",
              "      const blob = new Blob(buffers, {type: 'application/binary'});\n",
              "      const a = document.createElement('a');\n",
              "      a.href = window.URL.createObjectURL(blob);\n",
              "      a.download = filename;\n",
              "      div.appendChild(a);\n",
              "      a.click();\n",
              "      div.remove();\n",
              "    }\n",
              "  "
            ]
          },
          "metadata": {}
        },
        {
          "output_type": "display_data",
          "data": {
            "text/plain": [
              "<IPython.core.display.Javascript object>"
            ],
            "application/javascript": [
              "download(\"download_54a5fc34-07e0-4db8-83d9-e99a7a20e889\", \"numerals_head_to_mlp_adjList.pkl\", 290)"
            ]
          },
          "metadata": {}
        },
        {
          "output_type": "display_data",
          "data": {
            "text/plain": [
              "<IPython.core.display.Javascript object>"
            ],
            "application/javascript": [
              "\n",
              "    async function download(id, filename, size) {\n",
              "      if (!google.colab.kernel.accessAllowed) {\n",
              "        return;\n",
              "      }\n",
              "      const div = document.createElement('div');\n",
              "      const label = document.createElement('label');\n",
              "      label.textContent = `Downloading \"${filename}\": `;\n",
              "      div.appendChild(label);\n",
              "      const progress = document.createElement('progress');\n",
              "      progress.max = size;\n",
              "      div.appendChild(progress);\n",
              "      document.body.appendChild(div);\n",
              "\n",
              "      const buffers = [];\n",
              "      let downloaded = 0;\n",
              "\n",
              "      const channel = await google.colab.kernel.comms.open(id);\n",
              "      // Send a message to notify the kernel that we're ready.\n",
              "      channel.send({})\n",
              "\n",
              "      for await (const message of channel.messages) {\n",
              "        // Send a message to notify the kernel that we're ready.\n",
              "        channel.send({})\n",
              "        if (message.buffers) {\n",
              "          for (const buffer of message.buffers) {\n",
              "            buffers.push(buffer);\n",
              "            downloaded += buffer.byteLength;\n",
              "            progress.value = downloaded;\n",
              "          }\n",
              "        }\n",
              "      }\n",
              "      const blob = new Blob(buffers, {type: 'application/binary'});\n",
              "      const a = document.createElement('a');\n",
              "      a.href = window.URL.createObjectURL(blob);\n",
              "      a.download = filename;\n",
              "      div.appendChild(a);\n",
              "      a.click();\n",
              "      div.remove();\n",
              "    }\n",
              "  "
            ]
          },
          "metadata": {}
        },
        {
          "output_type": "display_data",
          "data": {
            "text/plain": [
              "<IPython.core.display.Javascript object>"
            ],
            "application/javascript": [
              "download(\"download_83eea9b4-77b5-4db8-98e9-b51defbfeffd\", \"numerals_mlp_to_head_adjList.pkl\", 315)"
            ]
          },
          "metadata": {}
        },
        {
          "output_type": "display_data",
          "data": {
            "text/plain": [
              "<IPython.core.display.Javascript object>"
            ],
            "application/javascript": [
              "\n",
              "    async function download(id, filename, size) {\n",
              "      if (!google.colab.kernel.accessAllowed) {\n",
              "        return;\n",
              "      }\n",
              "      const div = document.createElement('div');\n",
              "      const label = document.createElement('label');\n",
              "      label.textContent = `Downloading \"${filename}\": `;\n",
              "      div.appendChild(label);\n",
              "      const progress = document.createElement('progress');\n",
              "      progress.max = size;\n",
              "      div.appendChild(progress);\n",
              "      document.body.appendChild(div);\n",
              "\n",
              "      const buffers = [];\n",
              "      let downloaded = 0;\n",
              "\n",
              "      const channel = await google.colab.kernel.comms.open(id);\n",
              "      // Send a message to notify the kernel that we're ready.\n",
              "      channel.send({})\n",
              "\n",
              "      for await (const message of channel.messages) {\n",
              "        // Send a message to notify the kernel that we're ready.\n",
              "        channel.send({})\n",
              "        if (message.buffers) {\n",
              "          for (const buffer of message.buffers) {\n",
              "            buffers.push(buffer);\n",
              "            downloaded += buffer.byteLength;\n",
              "            progress.value = downloaded;\n",
              "          }\n",
              "        }\n",
              "      }\n",
              "      const blob = new Blob(buffers, {type: 'application/binary'});\n",
              "      const a = document.createElement('a');\n",
              "      a.href = window.URL.createObjectURL(blob);\n",
              "      a.download = filename;\n",
              "      div.appendChild(a);\n",
              "      a.click();\n",
              "      div.remove();\n",
              "    }\n",
              "  "
            ]
          },
          "metadata": {}
        },
        {
          "output_type": "display_data",
          "data": {
            "text/plain": [
              "<IPython.core.display.Javascript object>"
            ],
            "application/javascript": [
              "download(\"download_af4fd7d9-e5e3-423d-806e-d99a68ee17ef\", \"numerals_heads_to_resid.pkl\", 81)"
            ]
          },
          "metadata": {}
        },
        {
          "output_type": "display_data",
          "data": {
            "text/plain": [
              "<IPython.core.display.Javascript object>"
            ],
            "application/javascript": [
              "\n",
              "    async function download(id, filename, size) {\n",
              "      if (!google.colab.kernel.accessAllowed) {\n",
              "        return;\n",
              "      }\n",
              "      const div = document.createElement('div');\n",
              "      const label = document.createElement('label');\n",
              "      label.textContent = `Downloading \"${filename}\": `;\n",
              "      div.appendChild(label);\n",
              "      const progress = document.createElement('progress');\n",
              "      progress.max = size;\n",
              "      div.appendChild(progress);\n",
              "      document.body.appendChild(div);\n",
              "\n",
              "      const buffers = [];\n",
              "      let downloaded = 0;\n",
              "\n",
              "      const channel = await google.colab.kernel.comms.open(id);\n",
              "      // Send a message to notify the kernel that we're ready.\n",
              "      channel.send({})\n",
              "\n",
              "      for await (const message of channel.messages) {\n",
              "        // Send a message to notify the kernel that we're ready.\n",
              "        channel.send({})\n",
              "        if (message.buffers) {\n",
              "          for (const buffer of message.buffers) {\n",
              "            buffers.push(buffer);\n",
              "            downloaded += buffer.byteLength;\n",
              "            progress.value = downloaded;\n",
              "          }\n",
              "        }\n",
              "      }\n",
              "      const blob = new Blob(buffers, {type: 'application/binary'});\n",
              "      const a = document.createElement('a');\n",
              "      a.href = window.URL.createObjectURL(blob);\n",
              "      a.download = filename;\n",
              "      div.appendChild(a);\n",
              "      a.click();\n",
              "      div.remove();\n",
              "    }\n",
              "  "
            ]
          },
          "metadata": {}
        },
        {
          "output_type": "display_data",
          "data": {
            "text/plain": [
              "<IPython.core.display.Javascript object>"
            ],
            "application/javascript": [
              "download(\"download_36f303c1-03a5-4eed-8630-703eac20f263\", \"numerals_mlps_to_resid.pkl\", 49)"
            ]
          },
          "metadata": {}
        },
        {
          "output_type": "display_data",
          "data": {
            "text/plain": [
              "<IPython.core.display.Javascript object>"
            ],
            "application/javascript": [
              "\n",
              "    async function download(id, filename, size) {\n",
              "      if (!google.colab.kernel.accessAllowed) {\n",
              "        return;\n",
              "      }\n",
              "      const div = document.createElement('div');\n",
              "      const label = document.createElement('label');\n",
              "      label.textContent = `Downloading \"${filename}\": `;\n",
              "      div.appendChild(label);\n",
              "      const progress = document.createElement('progress');\n",
              "      progress.max = size;\n",
              "      div.appendChild(progress);\n",
              "      document.body.appendChild(div);\n",
              "\n",
              "      const buffers = [];\n",
              "      let downloaded = 0;\n",
              "\n",
              "      const channel = await google.colab.kernel.comms.open(id);\n",
              "      // Send a message to notify the kernel that we're ready.\n",
              "      channel.send({})\n",
              "\n",
              "      for await (const message of channel.messages) {\n",
              "        // Send a message to notify the kernel that we're ready.\n",
              "        channel.send({})\n",
              "        if (message.buffers) {\n",
              "          for (const buffer of message.buffers) {\n",
              "            buffers.push(buffer);\n",
              "            downloaded += buffer.byteLength;\n",
              "            progress.value = downloaded;\n",
              "          }\n",
              "        }\n",
              "      }\n",
              "      const blob = new Blob(buffers, {type: 'application/binary'});\n",
              "      const a = document.createElement('a');\n",
              "      a.href = window.URL.createObjectURL(blob);\n",
              "      a.download = filename;\n",
              "      div.appendChild(a);\n",
              "      a.click();\n",
              "      div.remove();\n",
              "    }\n",
              "  "
            ]
          },
          "metadata": {}
        },
        {
          "output_type": "display_data",
          "data": {
            "text/plain": [
              "<IPython.core.display.Javascript object>"
            ],
            "application/javascript": [
              "download(\"download_79993335-120d-4959-aa8a-26b7b191e440\", \"numerals_heads_to_resid_results.pkl\", 970)"
            ]
          },
          "metadata": {}
        },
        {
          "output_type": "display_data",
          "data": {
            "text/plain": [
              "<IPython.core.display.Javascript object>"
            ],
            "application/javascript": [
              "\n",
              "    async function download(id, filename, size) {\n",
              "      if (!google.colab.kernel.accessAllowed) {\n",
              "        return;\n",
              "      }\n",
              "      const div = document.createElement('div');\n",
              "      const label = document.createElement('label');\n",
              "      label.textContent = `Downloading \"${filename}\": `;\n",
              "      div.appendChild(label);\n",
              "      const progress = document.createElement('progress');\n",
              "      progress.max = size;\n",
              "      div.appendChild(progress);\n",
              "      document.body.appendChild(div);\n",
              "\n",
              "      const buffers = [];\n",
              "      let downloaded = 0;\n",
              "\n",
              "      const channel = await google.colab.kernel.comms.open(id);\n",
              "      // Send a message to notify the kernel that we're ready.\n",
              "      channel.send({})\n",
              "\n",
              "      for await (const message of channel.messages) {\n",
              "        // Send a message to notify the kernel that we're ready.\n",
              "        channel.send({})\n",
              "        if (message.buffers) {\n",
              "          for (const buffer of message.buffers) {\n",
              "            buffers.push(buffer);\n",
              "            downloaded += buffer.byteLength;\n",
              "            progress.value = downloaded;\n",
              "          }\n",
              "        }\n",
              "      }\n",
              "      const blob = new Blob(buffers, {type: 'application/binary'});\n",
              "      const a = document.createElement('a');\n",
              "      a.href = window.URL.createObjectURL(blob);\n",
              "      a.download = filename;\n",
              "      div.appendChild(a);\n",
              "      a.click();\n",
              "      div.remove();\n",
              "    }\n",
              "  "
            ]
          },
          "metadata": {}
        },
        {
          "output_type": "display_data",
          "data": {
            "text/plain": [
              "<IPython.core.display.Javascript object>"
            ],
            "application/javascript": [
              "download(\"download_723cbc65-161c-47e3-81eb-0f0307301759\", \"numerals_mlps_to_resid_results.pkl\", 438)"
            ]
          },
          "metadata": {}
        }
      ],
      "source": [
        "if save_files:\n",
        "    # graphs\n",
        "    with open(task + \"_head_to_head_adjList.pkl\", \"wb\") as file:\n",
        "        pickle.dump(head_to_head_adjList, file)\n",
        "    files.download(task + \"_head_to_head_adjList.pkl\")\n",
        "\n",
        "    with open(task + \"_mlp_to_mlp_adjList.pkl\", \"wb\") as file:\n",
        "        pickle.dump(mlp_to_mlp_adjList, file)\n",
        "    files.download(task + \"_mlp_to_mlp_adjList.pkl\")\n",
        "\n",
        "    with open(task + \"_head_to_mlp_adjList.pkl\", \"wb\") as file:\n",
        "        pickle.dump(head_to_mlp_adjList, file)\n",
        "    files.download(task + \"_head_to_mlp_adjList.pkl\")\n",
        "\n",
        "    with open(task + \"_mlp_to_head_adjList.pkl\", \"wb\") as file:\n",
        "        pickle.dump(mlp_to_head_adjList, file)\n",
        "    files.download(task + \"_mlp_to_head_adjList.pkl\")\n",
        "\n",
        "    with open(task + \"_heads_to_resid.pkl\", \"wb\") as file:\n",
        "        pickle.dump(heads_to_resid, file)\n",
        "    files.download(task + \"_heads_to_resid.pkl\")\n",
        "\n",
        "    with open(task + \"_mlps_to_resid.pkl\", \"wb\") as file:\n",
        "        pickle.dump(mlps_to_resid, file)\n",
        "    files.download(task + \"_mlps_to_resid.pkl\")\n",
        "\n",
        "    # score results\n",
        "    with open(task + \"_heads_to_resid_results.pkl\", \"wb\") as file:\n",
        "        pickle.dump(path_patch_head_to_final_resid_post, file)\n",
        "    files.download(task + \"_heads_to_resid_results.pkl\")\n",
        "\n",
        "    with open(task + \"_mlps_to_resid_results.pkl\", \"wb\") as file:\n",
        "        pickle.dump(path_patch_mlp_to_final_resid_post, file)\n",
        "    files.download(task + \"_mlps_to_resid_results.pkl\")"
      ]
    },
    {
      "cell_type": "markdown",
      "metadata": {
        "id": "8sRJPl5EhN33"
      },
      "source": [
        "## Circuit graph plot"
      ]
    },
    {
      "cell_type": "markdown",
      "metadata": {
        "id": "0gOSKhKyhPBa"
      },
      "source": [
        "### Load data"
      ]
    },
    {
      "cell_type": "code",
      "execution_count": null,
      "metadata": {
        "id": "N2intYNdhQBL"
      },
      "outputs": [],
      "source": [
        "if load_graph_files:\n",
        "    with open(task + \"_head_to_head_adjList.pkl\", \"rb\") as file:\n",
        "        head_to_head_adjList = pickle.load(file)\n",
        "\n",
        "    with open(task + \"_mlp_to_mlp_adjList.pkl\", \"rb\") as file:\n",
        "        mlp_to_mlp_adjList = pickle.load(file)\n",
        "\n",
        "    with open(task + \"_head_to_mlp_adjList.pkl\", \"rb\") as file:\n",
        "        head_to_mlp_adjList = pickle.load(file)\n",
        "\n",
        "    with open(task + \"_mlp_to_head_adjList.pkl\", \"rb\") as file:\n",
        "        mlp_to_head_adjList = pickle.load(file)\n",
        "\n",
        "    with open(task + \"_heads_to_resid.pkl\", \"rb\") as file:\n",
        "        heads_to_resid = pickle.load(file)\n",
        "\n",
        "    with open(task + \"_mlps_to_resid.pkl\", \"rb\") as file:\n",
        "        mlps_to_resid = pickle.load(file)"
      ]
    },
    {
      "cell_type": "markdown",
      "metadata": {
        "id": "Ln7M7InVhRQk"
      },
      "source": [
        "### Plot QKV"
      ]
    },
    {
      "cell_type": "code",
      "execution_count": null,
      "metadata": {
        "id": "75k59t5bhSN8"
      },
      "outputs": [],
      "source": [
        "plot_graph_adjacency_qkv(head_to_head_adjList, mlp_to_mlp_adjList, head_to_mlp_adjList,\n",
        "                         mlp_to_head_adjList, heads_to_resid, mlps_to_resid, filename=\"qkv\")"
      ]
    },
    {
      "cell_type": "markdown",
      "metadata": {
        "id": "9Wa8C03VhS-k"
      },
      "source": [
        "### Plot no QKV filename"
      ]
    },
    {
      "cell_type": "code",
      "execution_count": null,
      "metadata": {
        "id": "MiyWS65MhU2S"
      },
      "outputs": [],
      "source": [
        "plot_graph_adjacency(head_to_head_adjList, mlp_to_mlp_adjList, head_to_mlp_adjList,\n",
        "                         mlp_to_head_adjList, heads_to_resid, mlps_to_resid, filename=\"no qkv\")"
      ]
    },
    {
      "cell_type": "code",
      "source": [
        "!zip -r /content/seqcont_circ_expms_zip_edge.zip /content/seqcont_circ_expms\n",
        "!zip -r /content/seqcont_circuits_zip_edge.zip /content/seqcont_circuits\n",
        "# from google.colab import files\n",
        "# files.download(\"/content/edge_pruning.zip\")"
      ],
      "metadata": {
        "colab": {
          "base_uri": "https://localhost:8080/"
        },
        "id": "297H6ijF2nzm",
        "outputId": "0cce0f00-b428-4997-dfa0-b32afb1dcb10"
      },
      "execution_count": null,
      "outputs": [
        {
          "output_type": "stream",
          "name": "stdout",
          "text": [
            "  adding: content/seqcont_circ_expms/ (stored 0%)\n",
            "  adding: content/seqcont_circ_expms/nbs_as_py/ (stored 0%)\n",
            "  adding: content/seqcont_circ_expms/nbs_as_py/iter_edge_pruning/ (stored 0%)\n",
            "  adding: content/seqcont_circ_expms/nbs_as_py/iter_edge_pruning/numwords_iteredgepruning.py (deflated 80%)\n",
            "  adding: content/seqcont_circ_expms/nbs_as_py/iter_edge_pruning/numerals_iteredgepruning.py (deflated 77%)\n",
            "  adding: content/seqcont_circ_expms/nbs_as_py/iter_edge_pruning/months_iteredgepruning.py (deflated 77%)\n",
            "  adding: content/seqcont_circ_expms/nbs_as_py/attn_pats/ (stored 0%)\n",
            "  adding: content/seqcont_circ_expms/nbs_as_py/attn_pats/randorderdigitsmonths_attnpat.py (deflated 63%)\n",
            "  adding: content/seqcont_circ_expms/nbs_as_py/attn_pats/months_attnpats.py (deflated 64%)\n",
            "  adding: content/seqcont_circ_expms/nbs_as_py/attn_pats/inorderdigitsmonths_attnpat.py (deflated 59%)\n",
            "  adding: content/seqcont_circ_expms/nbs_as_py/attn_pats/numerals_attnpats.py (deflated 66%)\n",
            "  adding: content/seqcont_circ_expms/nbs_as_py/attn_pats/numwords_attnpats.py (deflated 65%)\n",
            "  adding: content/seqcont_circ_expms/nbs_as_py/iter_node_pruning/ (stored 0%)\n",
            "  adding: content/seqcont_circ_expms/nbs_as_py/iter_node_pruning/numerals_iternodepruning.py (deflated 71%)\n",
            "  adding: content/seqcont_circ_expms/nbs_as_py/iter_node_pruning/numwords_iternodepruning.py (deflated 71%)\n",
            "  adding: content/seqcont_circ_expms/nbs_as_py/iter_node_pruning/months_iternodepruning.py (deflated 71%)\n",
            "  adding: content/seqcont_circ_expms/nbs_as_py/_run_scripts/ (stored 0%)\n",
            "  adding: content/seqcont_circ_expms/nbs_as_py/_run_scripts/run_attn_pats.py (deflated 44%)\n",
            "  adding: content/seqcont_circ_expms/nbs_as_py/_run_scripts/run_node_ablation.py (deflated 53%)\n",
            "  adding: content/seqcont_circ_expms/nbs_as_py/logit_lens/ (stored 0%)\n",
            "  adding: content/seqcont_circ_expms/nbs_as_py/logit_lens/seq_cont_logit_lens.py (deflated 80%)\n",
            "  adding: content/seqcont_circ_expms/nbs_as_py/generate_data.py (deflated 73%)\n",
            "  adding: content/seqcont_circ_expms/nbs_as_py/OV_scores/ (stored 0%)\n",
            "  adding: content/seqcont_circ_expms/nbs_as_py/OV_scores/alltasks_nextscores.py (deflated 76%)\n",
            "  adding: content/seqcont_circ_expms/notebooks/ (stored 0%)\n",
            "  adding: content/seqcont_circ_expms/notebooks/gpt2_expms/ (stored 0%)\n",
            "  adding: content/seqcont_circ_expms/notebooks/gpt2_expms/generate_data.ipynb (deflated 66%)\n",
            "  adding: content/seqcont_circ_expms/notebooks/gpt2_expms/seqLen_corrToken_plot.ipynb (deflated 32%)\n",
            "  adding: content/seqcont_circ_expms/notebooks/gpt2_expms/iter_edge_pruning/ (stored 0%)\n",
            "  adding: content/seqcont_circ_expms/notebooks/gpt2_expms/iter_edge_pruning/months_iterEdgePruning.ipynb (deflated 84%)\n",
            "  adding: content/seqcont_circ_expms/notebooks/gpt2_expms/iter_edge_pruning/numerals_iterEdgePruning.ipynb (deflated 92%)\n",
            "  adding: content/seqcont_circ_expms/notebooks/gpt2_expms/iter_edge_pruning/numwords_iterEdgePruning.ipynb (deflated 92%)\n",
            "  adding: content/seqcont_circ_expms/notebooks/gpt2_expms/test prompts/ (stored 0%)\n",
            "  adding: content/seqcont_circ_expms/notebooks/gpt2_expms/test prompts/multiprompt_test_pt1.ipynb (deflated 74%)\n",
            "  adding: content/seqcont_circ_expms/notebooks/gpt2_expms/test prompts/shorten_len4_multiprompt.ipynb (deflated 88%)\n",
            "  adding: content/seqcont_circ_expms/notebooks/gpt2_expms/test prompts/multiprompt_test_pt3.ipynb (deflated 90%)\n",
            "  adding: content/seqcont_circ_expms/notebooks/gpt2_expms/test prompts/multiprompt_test_pt2.ipynb (deflated 88%)\n",
            "  adding: content/seqcont_circ_expms/notebooks/gpt2_expms/test prompts/numseq_test_prompts_SMALL.ipynb (deflated 93%)\n",
            "  adding: content/seqcont_circ_expms/notebooks/gpt2_expms/test prompts/numseq_prompts, small, pt2.ipynb (deflated 90%)\n",
            "  adding: content/seqcont_circ_expms/notebooks/gpt2_expms/attnPat/ (stored 0%)\n",
            "  adding: content/seqcont_circ_expms/notebooks/gpt2_expms/attnPat/months_attnpats.ipynb (deflated 37%)\n",
            "  adding: content/seqcont_circ_expms/notebooks/gpt2_expms/attnPat/inOrderDigitsMonths_attnPat.ipynb (deflated 69%)\n",
            "  adding: content/seqcont_circ_expms/notebooks/gpt2_expms/attnPat/numerals_attnpats.ipynb (deflated 53%)\n",
            "  adding: content/seqcont_circ_expms/notebooks/gpt2_expms/attnPat/numwords_attnpats.ipynb (deflated 50%)\n",
            "  adding: content/seqcont_circ_expms/notebooks/gpt2_expms/attnPat/randOrderDigitsMonths_attnPat.ipynb (deflated 69%)\n",
            "  adding: content/seqcont_circ_expms/notebooks/gpt2_expms/iter_node_pruning/ (stored 0%)\n",
            "  adding: content/seqcont_circ_expms/notebooks/gpt2_expms/iter_node_pruning/numerals_iterNodePruning.ipynb (deflated 82%)\n",
            "  adding: content/seqcont_circ_expms/notebooks/gpt2_expms/iter_node_pruning/numwords_iterNodePruning.ipynb (deflated 82%)\n",
            "  adding: content/seqcont_circ_expms/notebooks/gpt2_expms/iter_node_pruning/months_iterNodePruning.ipynb (deflated 81%)\n",
            "  adding: content/seqcont_circ_expms/notebooks/gpt2_expms/logit_lens/ (stored 0%)\n",
            "  adding: content/seqcont_circ_expms/notebooks/gpt2_expms/logit_lens/seq_cont_logit_lens.ipynb (deflated 91%)\n",
            "  adding: content/seqcont_circ_expms/notebooks/gpt2_expms/OV_scores/ (stored 0%)\n",
            "  adding: content/seqcont_circ_expms/notebooks/gpt2_expms/OV_scores/allTasks_nextScores.ipynb (deflated 90%)\n",
            "  adding: content/seqcont_circ_expms/notebooks/gpt2_expms/viz_circuit_diagrams/ (stored 0%)\n",
            "  adding: content/seqcont_circ_expms/notebooks/gpt2_expms/viz_circuit_diagrams/final_circuit.ipynb (deflated 88%)\n",
            "  adding: content/seqcont_circ_expms/notebooks/llama2_expms/ (stored 0%)\n",
            "  adding: content/seqcont_circ_expms/notebooks/llama2_expms/attn_pats/ (stored 0%)\n",
            "  adding: content/seqcont_circ_expms/notebooks/llama2_expms/attn_pats/Llama2_inAndRandOrder_attnPat.ipynb (deflated 59%)\n",
            "  adding: content/seqcont_circ_expms/notebooks/llama2_expms/attn_pats/Llama2_SPmonths_attnpats.ipynb (deflated 53%)\n",
            "  adding: content/seqcont_circ_expms/notebooks/llama2_expms/attn_pats/Llama2_intervals_giveFirstDigit_attnpats.ipynb (deflated 41%)\n",
            "  adding: content/seqcont_circ_expms/notebooks/llama2_expms/attn_pats/Llama2_intervals_attnpats.ipynb (deflated 41%)\n",
            "  adding: content/seqcont_circ_expms/notebooks/llama2_expms/attn_pats/Llama2_months_attnpats.ipynb (deflated 48%)\n",
            "  adding: content/seqcont_circ_expms/notebooks/llama2_expms/iter_node_pruning/ (stored 0%)\n",
            "  adding: content/seqcont_circ_expms/notebooks/llama2_expms/iter_node_pruning/Llama2_numerals_1to9.ipynb (deflated 81%)\n",
            "  adding: content/seqcont_circ_expms/notebooks/llama2_expms/iter_node_pruning/Llama2_numwords.ipynb (deflated 76%)\n",
            "  adding: content/seqcont_circ_expms/notebooks/llama2_expms/iter_node_pruning/Llama2_months.ipynb (deflated 77%)\n",
            "  adding: content/seqcont_circ_expms/notebooks/llama2_expms/ablate_other_tasks/ (stored 0%)\n",
            "  adding: content/seqcont_circ_expms/notebooks/llama2_expms/ablate_other_tasks/llama2_ablate_intervaled.ipynb (deflated 83%)\n",
            "  adding: content/seqcont_circ_expms/notebooks/llama2_expms/ablate_other_tasks/llama2_ablate_spanish.ipynb (deflated 88%)\n",
            "  adding: content/seqcont_circ_expms/notebooks/llama2_expms/ablate_other_tasks/llama2_ablate_word_problems.ipynb (deflated 88%)\n",
            "  adding: content/seqcont_circ_expms/notebooks/llama2_expms/ablate_other_tasks/llama2_ablate_arithmetic.ipynb (deflated 81%)\n",
            "  adding: content/seqcont_circ_expms/notebooks/llama2_expms/OV_scores/ (stored 0%)\n",
            "  adding: content/seqcont_circ_expms/notebooks/llama2_expms/OV_scores/llama2_plus2_nextScores.ipynb (deflated 89%)\n",
            "  adding: content/seqcont_circ_expms/data/ (stored 0%)\n",
            "  adding: content/seqcont_circ_expms/data/numwords/ (stored 0%)\n",
            "  adding: content/seqcont_circ_expms/data/numwords/randDS_numwords.pkl (deflated 84%)\n",
            "  adding: content/seqcont_circ_expms/data/numwords/numwords_prompts_done.pkl (deflated 88%)\n",
            "  adding: content/seqcont_circ_expms/data/numwords/numwords_prompts_lost.pkl (deflated 88%)\n",
            "  adding: content/seqcont_circ_expms/data/numwords/numwords_prompts_names.pkl (deflated 88%)\n",
            "  adding: content/seqcont_circ_expms/data/months/ (stored 0%)\n",
            "  adding: content/seqcont_circ_expms/data/months/months_prompts_lost.pkl (deflated 89%)\n",
            "  adding: content/seqcont_circ_expms/data/months/months_prompts_names.pkl (deflated 88%)\n",
            "  adding: content/seqcont_circ_expms/data/months/months_prompts_done.pkl (deflated 89%)\n",
            "  adding: content/seqcont_circ_expms/data/months/randDS_months.pkl (deflated 85%)\n",
            "  adding: content/seqcont_circ_expms/data/numerals/ (stored 0%)\n",
            "  adding: content/seqcont_circ_expms/data/numerals/numerals_prompts_done.pkl (deflated 87%)\n",
            "  adding: content/seqcont_circ_expms/data/numerals/numerals_prompts_names.pkl (deflated 87%)\n",
            "  adding: content/seqcont_circ_expms/data/numerals/numerals_prompts_lost.pkl (deflated 87%)\n",
            "  adding: content/seqcont_circ_expms/data/numerals/randDS_numerals.pkl (deflated 84%)\n",
            "  adding: content/seqcont_circ_expms/.git/ (stored 0%)\n",
            "  adding: content/seqcont_circ_expms/.git/refs/ (stored 0%)\n",
            "  adding: content/seqcont_circ_expms/.git/refs/tags/ (stored 0%)\n",
            "  adding: content/seqcont_circ_expms/.git/refs/remotes/ (stored 0%)\n",
            "  adding: content/seqcont_circ_expms/.git/refs/remotes/origin/ (stored 0%)\n",
            "  adding: content/seqcont_circ_expms/.git/refs/remotes/origin/HEAD (stored 0%)\n",
            "  adding: content/seqcont_circ_expms/.git/refs/heads/ (stored 0%)\n",
            "  adding: content/seqcont_circ_expms/.git/refs/heads/main (stored 0%)\n",
            "  adding: content/seqcont_circ_expms/.git/packed-refs (deflated 8%)\n",
            "  adding: content/seqcont_circ_expms/.git/config (deflated 33%)\n",
            "  adding: content/seqcont_circ_expms/.git/hooks/ (stored 0%)\n",
            "  adding: content/seqcont_circ_expms/.git/hooks/fsmonitor-watchman.sample (deflated 62%)\n",
            "  adding: content/seqcont_circ_expms/.git/hooks/update.sample (deflated 68%)\n",
            "  adding: content/seqcont_circ_expms/.git/hooks/push-to-checkout.sample (deflated 55%)\n",
            "  adding: content/seqcont_circ_expms/.git/hooks/pre-rebase.sample (deflated 59%)\n",
            "  adding: content/seqcont_circ_expms/.git/hooks/post-update.sample (deflated 27%)\n",
            "  adding: content/seqcont_circ_expms/.git/hooks/applypatch-msg.sample (deflated 42%)\n",
            "  adding: content/seqcont_circ_expms/.git/hooks/pre-push.sample (deflated 49%)\n",
            "  adding: content/seqcont_circ_expms/.git/hooks/pre-applypatch.sample (deflated 38%)\n",
            "  adding: content/seqcont_circ_expms/.git/hooks/pre-receive.sample (deflated 40%)\n",
            "  adding: content/seqcont_circ_expms/.git/hooks/pre-commit.sample (deflated 45%)\n",
            "  adding: content/seqcont_circ_expms/.git/hooks/prepare-commit-msg.sample (deflated 50%)\n",
            "  adding: content/seqcont_circ_expms/.git/hooks/commit-msg.sample (deflated 44%)\n",
            "  adding: content/seqcont_circ_expms/.git/hooks/pre-merge-commit.sample (deflated 39%)\n",
            "  adding: content/seqcont_circ_expms/.git/HEAD (stored 0%)\n",
            "  adding: content/seqcont_circ_expms/.git/objects/ (stored 0%)\n",
            "  adding: content/seqcont_circ_expms/.git/objects/pack/ (stored 0%)\n",
            "  adding: content/seqcont_circ_expms/.git/objects/pack/pack-3923c9cace6294ceac6061079456df3763e099f4.pack (deflated 0%)\n",
            "  adding: content/seqcont_circ_expms/.git/objects/pack/pack-3923c9cace6294ceac6061079456df3763e099f4.idx (deflated 2%)\n",
            "  adding: content/seqcont_circ_expms/.git/objects/info/ (stored 0%)\n",
            "  adding: content/seqcont_circ_expms/.git/branches/ (stored 0%)\n",
            "  adding: content/seqcont_circ_expms/.git/description (deflated 14%)\n",
            "  adding: content/seqcont_circ_expms/.git/logs/ (stored 0%)\n",
            "  adding: content/seqcont_circ_expms/.git/logs/refs/ (stored 0%)\n",
            "  adding: content/seqcont_circ_expms/.git/logs/refs/remotes/ (stored 0%)\n",
            "  adding: content/seqcont_circ_expms/.git/logs/refs/remotes/origin/ (stored 0%)\n",
            "  adding: content/seqcont_circ_expms/.git/logs/refs/remotes/origin/HEAD (deflated 27%)\n",
            "  adding: content/seqcont_circ_expms/.git/logs/refs/heads/ (stored 0%)\n",
            "  adding: content/seqcont_circ_expms/.git/logs/refs/heads/main (deflated 27%)\n",
            "  adding: content/seqcont_circ_expms/.git/logs/HEAD (deflated 27%)\n",
            "  adding: content/seqcont_circ_expms/.git/info/ (stored 0%)\n",
            "  adding: content/seqcont_circ_expms/.git/info/exclude (deflated 28%)\n",
            "  adding: content/seqcont_circ_expms/.git/index (deflated 69%)\n",
            "  adding: content/seqcont_circ_expms/LICENSE (deflated 41%)\n",
            "  adding: content/seqcont_circ_expms/results/ (stored 0%)\n",
            "  adding: content/seqcont_circ_expms/results/numwords_circuit_thres_0.8.json (deflated 72%)\n",
            "  adding: content/seqcont_circ_expms/results/numerals_circuit_thres_0.8.json (deflated 69%)\n",
            "  adding: content/seqcont_circ_expms/results/months_circuit_thres_0.8.json (deflated 68%)\n",
            "  adding: content/seqcont_circ_expms/.gitignore (deflated 52%)\n",
            "  adding: content/seqcont_circ_expms/README.md (deflated 52%)\n",
            "  adding: content/seqcont_circ_expms/src/ (stored 0%)\n",
            "  adding: content/seqcont_circ_expms/src/iter_edge_pruning/ (stored 0%)\n",
            "  adding: content/seqcont_circ_expms/src/iter_edge_pruning/edge_pruning_fns.py (deflated 88%)\n",
            "  adding: content/seqcont_circ_expms/src/iter_edge_pruning/metrics.py (deflated 63%)\n",
            "  adding: content/seqcont_circ_expms/src/iter_edge_pruning/viz_circuits.py (deflated 84%)\n",
            "  adding: content/seqcont_circ_expms/src/iter_edge_pruning/dataset.py (deflated 70%)\n",
            "  adding: content/seqcont_circ_expms/src/iter_edge_pruning/run_edge_ablation.py (deflated 79%)\n",
            "  adding: content/seqcont_circ_expms/src/attn_pats/ (stored 0%)\n",
            "  adding: content/seqcont_circ_expms/src/attn_pats/__pycache__/ (stored 0%)\n",
            "  adding: content/seqcont_circ_expms/src/attn_pats/__pycache__/viz_attn_pat.cpython-311.pyc (deflated 46%)\n",
            "  adding: content/seqcont_circ_expms/src/attn_pats/run_attn_pats.py (deflated 67%)\n",
            "  adding: content/seqcont_circ_expms/src/attn_pats/viz_attn_pat.py (deflated 65%)\n",
            "  adding: content/seqcont_circ_expms/src/iter_node_pruning/ (stored 0%)\n",
            "  adding: content/seqcont_circ_expms/src/iter_node_pruning/loop_node_ablation_fns.py (deflated 83%)\n",
            "  adding: content/seqcont_circ_expms/src/iter_node_pruning/metrics.py (deflated 58%)\n",
            "  adding: content/seqcont_circ_expms/src/iter_node_pruning/dataset.py (deflated 70%)\n",
            "  adding: content/seqcont_circ_expms/src/iter_node_pruning/mlp_ablation_fns.py (deflated 67%)\n",
            "  adding: content/seqcont_circ_expms/src/iter_node_pruning/node_ablation_fns.py (deflated 73%)\n",
            "  adding: content/seqcont_circ_expms/src/iter_node_pruning/head_ablation_fns.py (deflated 68%)\n",
            "  adding: content/seqcont_circ_expms/src/iter_node_pruning/run_node_ablation.py (deflated 67%)\n",
            "  adding: content/seqcont_circ_expms/src/logit_lens/ (stored 0%)\n",
            "  adding: content/seqcont_circ_expms/src/logit_lens/logit_lens_fns.py (deflated 58%)\n",
            "  adding: content/seqcont_circ_expms/src/logit_lens/run_logit_lens.py (deflated 61%)\n",
            "  adding: content/seqcont_circ_expms/src/generate_data/ (stored 0%)\n",
            "  adding: content/seqcont_circ_expms/src/generate_data/common_words.json (deflated 59%)\n",
            "  adding: content/seqcont_circ_expms/src/generate_data/run_gen_data.py (deflated 75%)\n",
            "  adding: content/seqcont_circ_expms/src/generate_data/generate_data.py (deflated 72%)\n",
            "  adding: content/seqcont_circ_expms/src/OV_scores/ (stored 0%)\n",
            "  adding: content/seqcont_circ_expms/src/OV_scores/OV_score_fns.py (deflated 74%)\n",
            "  adding: content/seqcont_circ_expms/other_nbs_explora/ (stored 0%)\n",
            "  adding: content/seqcont_circ_expms/other_nbs_explora/llama2_seqContCircs_explora/ (stored 0%)\n",
            "  adding: content/seqcont_circ_expms/other_nbs_explora/llama2_seqContCircs_explora/lllama2_plus2_logit_lens.ipynb (deflated 88%)\n",
            "  adding: content/seqcont_circ_expms/other_nbs_explora/llama2_seqContCircs_explora/llama2_.ipynb (deflated 29%)\n",
            "  adding: content/seqcont_circ_expms/other_nbs_explora/llama2_seqContCircs_explora/ablation prompts/ (stored 0%)\n",
            "  adding: content/seqcont_circ_expms/other_nbs_explora/llama2_seqContCircs_explora/ablation prompts/llama2_ablate_prompts_explora_v2.ipynb (deflated 91%)\n",
            "  adding: content/seqcont_circ_expms/other_nbs_explora/llama2_seqContCircs_explora/ablation prompts/llama2_ablate_prompts_FRcircs.ipynb (deflated 89%)\n",
            "  adding: content/seqcont_circ_expms/other_nbs_explora/llama2_seqContCircs_explora/ablation prompts/auto_prompt_test_simple_intv_v4.ipynb (deflated 83%)\n",
            "  adding: content/seqcont_circ_expms/other_nbs_explora/llama2_seqContCircs_explora/ablation prompts/Copy of auto_prompt_test_simple_arithm_v2.ipynb (deflated 87%)\n",
            "  adding: content/seqcont_circ_expms/other_nbs_explora/llama2_seqContCircs_explora/ablation prompts/llama2_ablate_prompts_SPcircs.ipynb (deflated 89%)\n",
            "  adding: content/seqcont_circ_expms/other_nbs_explora/llama2_seqContCircs_explora/ablation prompts/llama2_ablate_prompts_explora_v1.ipynb (deflated 88%)\n",
            "  adding: content/seqcont_circ_expms/other_nbs_explora/llama2_seqContCircs_explora/ablation prompts/Copy of llama2_ablate_prompts_ENcircs_v4.ipynb (deflated 87%)\n",
            "  adding: content/seqcont_circ_expms/other_nbs_explora/llama2_seqContCircs_explora/ablation prompts/faster_ablation.ipynb (deflated 77%)\n",
            "  adding: content/seqcont_circ_expms/other_nbs_explora/llama2_seqContCircs_explora/ablation prompts/llama2_ablate_prompts_ENcircs.ipynb (deflated 89%)\n",
            "  adding: content/seqcont_circ_expms/other_nbs_explora/llama2_seqContCircs_explora/ablation prompts/auto_prompt_test_simple_arithm_v2.ipynb (deflated 83%)\n",
            "  adding: content/seqcont_circ_expms/other_nbs_explora/llama2_seqContCircs_explora/ablation prompts/llama2_ablate_prompts_SPcircs_v2.ipynb (deflated 88%)\n",
            "  adding: content/seqcont_circ_expms/other_nbs_explora/llama2_seqContCircs_explora/ablation prompts/llama2_ablate_prompts_ENcircs_v3.ipynb (deflated 86%)\n",
            "  adding: content/seqcont_circ_expms/other_nbs_explora/llama2_seqContCircs_explora/ablation prompts/llama2_testPrompts.ipynb (deflated 88%)\n",
            "  adding: content/seqcont_circ_expms/other_nbs_explora/llama2_seqContCircs_explora/ablation prompts/llama2_ablate_prompts_numwords_circ.ipynb (deflated 90%)\n",
            "  adding: content/seqcont_circ_expms/other_nbs_explora/llama2_seqContCircs_explora/ablation prompts/llama2_ablate_prompts_explora_v3.ipynb (deflated 91%)\n",
            "  adding: content/seqcont_circ_expms/other_nbs_explora/llama2_seqContCircs_explora/ablation prompts/auto_prompt_test_simple_intv_v2.ipynb (deflated 87%)\n",
            "  adding: content/seqcont_circ_expms/other_nbs_explora/llama2_seqContCircs_explora/ablation prompts/llama2_ablate_prompts_diff_circs_v2.ipynb (deflated 90%)\n",
            "  adding: content/seqcont_circ_expms/other_nbs_explora/llama2_seqContCircs_explora/ablation prompts/llama2_testPrompts_gsm8k.ipynb (deflated 87%)\n",
            "  adding: content/seqcont_circ_expms/other_nbs_explora/llama2_seqContCircs_explora/ablation prompts/Copy of auto_prompt_test_simple_intv_v3.ipynb (deflated 79%)\n",
            "  adding: content/seqcont_circ_expms/other_nbs_explora/llama2_seqContCircs_explora/ablation prompts/auto_prompt_test_simple_arithm.ipynb (deflated 87%)\n",
            "  adding: content/seqcont_circ_expms/other_nbs_explora/llama2_seqContCircs_explora/ablation prompts/llama2_ablate_prompts_ENcircs_v4.ipynb (deflated 87%)\n",
            "  adding: content/seqcont_circ_expms/other_nbs_explora/llama2_seqContCircs_explora/ablation prompts/llama2_ablate_prompts_diff_circs.ipynb (deflated 90%)\n",
            "  adding: content/seqcont_circ_expms/other_nbs_explora/llama2_seqContCircs_explora/ablation prompts/auto_prompt_test_simple_intv.ipynb (deflated 87%)\n",
            "  adding: content/seqcont_circ_expms/other_nbs_explora/llama2_seqContCircs_explora/ablation prompts/auto_prompt_test_simple_intv_noSpaceEnd.ipynb (deflated 87%)\n",
            "  adding: content/seqcont_circ_expms/other_nbs_explora/llama2_seqContCircs_explora/ablation prompts/llama2_ablate_prompts_ENcircs_v2.ipynb (deflated 86%)\n",
            "  adding: content/seqcont_circ_expms/other_nbs_explora/llama2_seqContCircs_explora/attn_pats/ (stored 0%)\n",
            "  adding: content/seqcont_circ_expms/other_nbs_explora/llama2_seqContCircs_explora/attn_pats/Llama2_inAndRandOrder_attnPat.ipynb (deflated 58%)\n",
            "  adding: content/seqcont_circ_expms/other_nbs_explora/llama2_seqContCircs_explora/attn_pats/Llama2_SPmonths_attnpats.ipynb (deflated 53%)\n",
            "  adding: content/seqcont_circ_expms/other_nbs_explora/llama2_seqContCircs_explora/attn_pats/Llama2_intervals_giveFirstDigit_attnpats.ipynb (deflated 41%)\n",
            "  adding: content/seqcont_circ_expms/other_nbs_explora/llama2_seqContCircs_explora/attn_pats/Llama2_doubleDigitNumerals_attnpats.ipynb (deflated 54%)\n",
            "  adding: content/seqcont_circ_expms/other_nbs_explora/llama2_seqContCircs_explora/attn_pats/Copy of randOrderDigitsMonths_attnPat.ipynb (deflated 62%)\n",
            "  adding: content/seqcont_circ_expms/other_nbs_explora/llama2_seqContCircs_explora/attn_pats/Llama2_intervals_attnpats.ipynb (deflated 41%)\n",
            "  adding: content/seqcont_circ_expms/other_nbs_explora/llama2_seqContCircs_explora/attn_pats/Llama2_months_attnpats.ipynb (deflated 48%)\n",
            "  adding: content/seqcont_circ_expms/other_nbs_explora/llama2_seqContCircs_explora/iter node pruning/ (stored 0%)\n",
            "  adding: content/seqcont_circ_expms/other_nbs_explora/llama2_seqContCircs_explora/iter node pruning/Llama2_singleTokMultp.ipynb (deflated 76%)\n",
            "  adding: content/seqcont_circ_expms/other_nbs_explora/llama2_seqContCircs_explora/iter node pruning/Llama2_singleDigitFibo.ipynb (deflated 78%)\n",
            "  adding: content/seqcont_circ_expms/other_nbs_explora/llama2_seqContCircs_explora/iter node pruning/Llama2_2468.ipynb (deflated 82%)\n",
            "  adding: content/seqcont_circ_expms/other_nbs_explora/llama2_seqContCircs_explora/iter node pruning/Llama2_spanish.ipynb (deflated 75%)\n",
            "  adding: content/seqcont_circ_expms/other_nbs_explora/llama2_seqContCircs_explora/iter node pruning/Llama2_numerals_multiTok.ipynb (deflated 76%)\n",
            "  adding: content/seqcont_circ_expms/other_nbs_explora/llama2_seqContCircs_explora/iter node pruning/Llama2_spanish_tokenizerV2.ipynb (deflated 75%)\n",
            "  adding: content/seqcont_circ_expms/other_nbs_explora/llama2_seqContCircs_explora/iter node pruning/Llama2_1234.ipynb (deflated 82%)\n",
            "  adding: content/seqcont_circ_expms/other_nbs_explora/llama2_seqContCircs_explora/iter node pruning/Llama2_singleTokAddition.ipynb (deflated 76%)\n",
            "  adding: content/seqcont_circ_expms/other_nbs_explora/llama2_seqContCircs_explora/iter node pruning/Llama2_numerals_1to10.ipynb (deflated 77%)\n",
            "  adding: content/seqcont_circ_expms/other_nbs_explora/llama2_seqContCircs_explora/iter node pruning/Llama_2_multiTok_1234.ipynb (deflated 76%)\n",
            "  adding: content/seqcont_circ_expms/other_nbs_explora/llama2_seqContCircs_explora/iter node pruning/Llama2_days.ipynb (deflated 75%)\n",
            "  adding: content/seqcont_circ_expms/other_nbs_explora/llama2_seqContCircs_explora/iter node pruning/Llama2_nw.ipynb (deflated 76%)\n",
            "  adding: content/seqcont_circ_expms/other_nbs_explora/llama2_seqContCircs_explora/iter node pruning/Llama2_promptsGiveFirstDigit_draft_v1.ipynb (deflated 76%)\n",
            "  adding: content/seqcont_circ_expms/other_nbs_explora/llama2_seqContCircs_explora/iter node pruning/Llama2_036.ipynb (deflated 75%)\n",
            "  adding: content/seqcont_circ_expms/other_nbs_explora/llama2_seqContCircs_explora/iter node pruning/Llama2_fibonacci.ipynb (deflated 87%)\n",
            "  adding: content/seqcont_circ_expms/other_nbs_explora/llama2_seqContCircs_explora/iter node pruning/Llama2_numerals.ipynb (deflated 75%)\n",
            "  adding: content/seqcont_circ_expms/other_nbs_explora/llama2_seqContCircs_explora/iter node pruning/Llama2_spanish_months.ipynb (deflated 79%)\n",
            "  adding: content/seqcont_circ_expms/other_nbs_explora/llama2_seqContCircs_explora/iter node pruning/Llama2_spanish_nw.ipynb (deflated 77%)\n",
            "  adding: content/seqcont_circ_expms/other_nbs_explora/llama2_seqContCircs_explora/iter node pruning/Llama2_124.ipynb (deflated 77%)\n",
            "  adding: content/seqcont_circ_expms/other_nbs_explora/llama2_seqContCircs_explora/iter node pruning/Llama2_months.ipynb (deflated 77%)\n",
            "  adding: content/seqcont_circ_expms/other_nbs_explora/llama2_seqContCircs_explora/iter node pruning/Llama2_promptsGiveFirstDigit.ipynb (deflated 75%)\n",
            "  adding: content/seqcont_circ_expms/other_nbs_explora/llama2_seqContCircs_explora/iter node pruning/Llama2_multiTok_logitDiff_+2.ipynb (deflated 77%)\n",
            "  adding: content/seqcont_circ_expms/other_nbs_explora/llama2_seqContCircs_explora/iter node pruning/Llama2_plus3seq_GiveFirstDigit.ipynb (deflated 73%)\n",
            "  adding: content/seqcont_circ_expms/other_nbs_explora/llama2_seqContCircs_explora/iter node pruning/find_circ_overlap.ipynb (deflated 79%)\n",
            "  adding: content/seqcont_circ_expms/other_nbs_explora/llama2_seqContCircs_explora/iter node pruning/Llama2_plus2seq_GiveFirstDigit.ipynb (deflated 73%)\n",
            "  adding: content/seqcont_circ_expms/other_nbs_explora/llama2_seqContCircs_explora/prompt_llama2-7b_TLgen.ipynb (deflated 91%)\n",
            "  adding: content/seqcont_circ_expms/other_nbs_explora/llama2_seqContCircs_explora/OV_scores/ (stored 0%)\n",
            "  adding: content/seqcont_circ_expms/other_nbs_explora/llama2_seqContCircs_explora/OV_scores/llama2_plus2_nextScores.ipynb (deflated 89%)\n",
            "  adding: content/seqcont_circ_expms/other_nbs_explora/gpt2_seqContCircs_explora/ (stored 0%)\n",
            "  adding: content/seqcont_circ_expms/other_nbs_explora/gpt2_seqContCircs_explora/ablate_seqcont_then_math__explora.ipynb (deflated 89%)\n",
            "  adding: content/seqcont_circ_expms/other_nbs_explora/gpt2_seqContCircs_explora/ablate_attnLayer_thenHeads/ (stored 0%)\n",
            "  adding: content/seqcont_circ_expms/other_nbs_explora/gpt2_seqContCircs_explora/ablate_attnLayer_thenHeads/ablate_attnLayer_thenHeads_GPT2.ipynb (deflated 86%)\n",
            "  adding: content/seqcont_circ_expms/other_nbs_explora/gpt2_seqContCircs_explora/test_ablate_then_modelGen.ipynb (deflated 89%)\n",
            "  adding: content/seqcont_circ_expms/other_nbs_explora/gpt2_seqContCircs_explora/test_logit_diff_multToks.ipynb (deflated 89%)\n",
            "  adding: content/seqcont_circ_expms/other_nbs_explora/gpt2_seqContCircs_explora/ablate_seqcont_thenMath_explora_v2.ipynb (deflated 89%)\n",
            "  adding: content/seqcont_circ_expms/other_nbs_explora/__nbs_as_py/ (stored 0%)\n",
            "  adding: content/seqcont_circ_expms/other_nbs_explora/__nbs_as_py/llama2_seqContCircs_explora/ (stored 0%)\n",
            "  adding: content/seqcont_circ_expms/other_nbs_explora/__nbs_as_py/llama2_seqContCircs_explora/llama2_.py (deflated 4%)\n",
            "  adding: content/seqcont_circ_expms/other_nbs_explora/__nbs_as_py/llama2_seqContCircs_explora/lllama2_plus2_logit_lens.py (deflated 71%)\n",
            "  adding: content/seqcont_circ_expms/other_nbs_explora/__nbs_as_py/llama2_seqContCircs_explora/ablation prompts/ (stored 0%)\n",
            "  adding: content/seqcont_circ_expms/other_nbs_explora/__nbs_as_py/llama2_seqContCircs_explora/ablation prompts/auto_prompt_test_simple_intv_v2.py (deflated 82%)\n",
            "  adding: content/seqcont_circ_expms/other_nbs_explora/__nbs_as_py/llama2_seqContCircs_explora/ablation prompts/llama2_ablate_prompts_diff_circs_v2.py (deflated 83%)\n",
            "  adding: content/seqcont_circ_expms/other_nbs_explora/__nbs_as_py/llama2_seqContCircs_explora/ablation prompts/llama2_testPrompts_gsm8k.py (deflated 80%)\n",
            "  adding: content/seqcont_circ_expms/other_nbs_explora/__nbs_as_py/llama2_seqContCircs_explora/ablation prompts/llama2_ablate_prompts_FRcircs.py (deflated 87%)\n",
            "  adding: content/seqcont_circ_expms/other_nbs_explora/__nbs_as_py/llama2_seqContCircs_explora/ablation prompts/llama2_ablate_prompts_ENcircs.py (deflated 90%)\n",
            "  adding: content/seqcont_circ_expms/other_nbs_explora/__nbs_as_py/llama2_seqContCircs_explora/ablation prompts/auto_prompt_test_simple_arithm.py (deflated 80%)\n",
            "  adding: content/seqcont_circ_expms/other_nbs_explora/__nbs_as_py/llama2_seqContCircs_explora/ablation prompts/llama2_ablate_prompts_SPcircs_v2.py (deflated 82%)\n",
            "  adding: content/seqcont_circ_expms/other_nbs_explora/__nbs_as_py/llama2_seqContCircs_explora/ablation prompts/faster_ablation.py (deflated 76%)\n",
            "  adding: content/seqcont_circ_expms/other_nbs_explora/__nbs_as_py/llama2_seqContCircs_explora/ablation prompts/llama2_ablate_prompts_explora_v1.py (deflated 82%)\n",
            "  adding: content/seqcont_circ_expms/other_nbs_explora/__nbs_as_py/llama2_seqContCircs_explora/ablation prompts/llama2_ablate_prompts_SPcircs.py (deflated 86%)\n",
            "  adding: content/seqcont_circ_expms/other_nbs_explora/__nbs_as_py/llama2_seqContCircs_explora/ablation prompts/Copy of auto_prompt_test_simple_intv_v3.py (deflated 80%)\n",
            "  adding: content/seqcont_circ_expms/other_nbs_explora/__nbs_as_py/llama2_seqContCircs_explora/ablation prompts/llama2_ablate_prompts_explora_v3.py (deflated 91%)\n",
            "  adding: content/seqcont_circ_expms/other_nbs_explora/__nbs_as_py/llama2_seqContCircs_explora/ablation prompts/llama2_ablate_prompts_ENcircs_v2.py (deflated 85%)\n",
            "  adding: content/seqcont_circ_expms/other_nbs_explora/__nbs_as_py/llama2_seqContCircs_explora/ablation prompts/llama2_ablate_prompts_ENcircs_v3.py (deflated 83%)\n",
            "  adding: content/seqcont_circ_expms/other_nbs_explora/__nbs_as_py/llama2_seqContCircs_explora/ablation prompts/Copy of auto_prompt_test_simple_arithm_v2.py (deflated 82%)\n",
            "  adding: content/seqcont_circ_expms/other_nbs_explora/__nbs_as_py/llama2_seqContCircs_explora/ablation prompts/Copy of llama2_ablate_prompts_ENcircs_v4.py (deflated 85%)\n",
            "  adding: content/seqcont_circ_expms/other_nbs_explora/__nbs_as_py/llama2_seqContCircs_explora/ablation prompts/llama2_ablate_prompts_ENcircs_v4.py (deflated 84%)\n",
            "  adding: content/seqcont_circ_expms/other_nbs_explora/__nbs_as_py/llama2_seqContCircs_explora/ablation prompts/auto_prompt_test_simple_intv.py (deflated 80%)\n",
            "  adding: content/seqcont_circ_expms/other_nbs_explora/__nbs_as_py/llama2_seqContCircs_explora/ablation prompts/llama2_ablate_prompts_explora_v2.py (deflated 91%)\n",
            "  adding: content/seqcont_circ_expms/other_nbs_explora/__nbs_as_py/llama2_seqContCircs_explora/ablation prompts/llama2_testPrompts.py (deflated 79%)\n",
            "  adding: content/seqcont_circ_expms/other_nbs_explora/__nbs_as_py/llama2_seqContCircs_explora/ablation prompts/llama2_ablate_prompts_diff_circs.py (deflated 81%)\n",
            "  adding: content/seqcont_circ_expms/other_nbs_explora/__nbs_as_py/llama2_seqContCircs_explora/ablation prompts/auto_prompt_test_simple_intv_v4.py (deflated 80%)\n",
            "  adding: content/seqcont_circ_expms/other_nbs_explora/__nbs_as_py/llama2_seqContCircs_explora/ablation prompts/llama2_ablate_prompts_numwords_circ.py (deflated 83%)\n",
            "  adding: content/seqcont_circ_expms/other_nbs_explora/__nbs_as_py/llama2_seqContCircs_explora/ablation prompts/auto_prompt_test_simple_arithm_v2.py (deflated 82%)\n",
            "  adding: content/seqcont_circ_expms/other_nbs_explora/__nbs_as_py/llama2_seqContCircs_explora/ablation prompts/auto_prompt_test_simple_intv_noSpaceEnd.py (deflated 81%)\n",
            "  adding: content/seqcont_circ_expms/other_nbs_explora/__nbs_as_py/llama2_seqContCircs_explora/attn_pats/ (stored 0%)\n",
            "  adding: content/seqcont_circ_expms/other_nbs_explora/__nbs_as_py/llama2_seqContCircs_explora/attn_pats/Llama2_SPmonths_attnpats.py (deflated 70%)\n",
            "  adding: content/seqcont_circ_expms/other_nbs_explora/__nbs_as_py/llama2_seqContCircs_explora/attn_pats/Llama2_doubleDigitNumerals_attnpats.py (deflated 74%)\n",
            "  adding: content/seqcont_circ_expms/other_nbs_explora/__nbs_as_py/llama2_seqContCircs_explora/attn_pats/Llama2_months_attnpats.py (deflated 72%)\n",
            "  adding: content/seqcont_circ_expms/other_nbs_explora/__nbs_as_py/llama2_seqContCircs_explora/attn_pats/Llama2_intervals_attnpats.py (deflated 86%)\n",
            "  adding: content/seqcont_circ_expms/other_nbs_explora/__nbs_as_py/llama2_seqContCircs_explora/attn_pats/Copy of randOrderDigitsMonths_attnPat.py (deflated 64%)\n",
            "  adding: content/seqcont_circ_expms/other_nbs_explora/__nbs_as_py/llama2_seqContCircs_explora/attn_pats/Llama2_intervals_giveFirstDigit_attnpats.py (deflated 86%)\n",
            "  adding: content/seqcont_circ_expms/other_nbs_explora/__nbs_as_py/llama2_seqContCircs_explora/attn_pats/Llama2_inAndRandOrder_attnPat.py (deflated 63%)\n",
            "  adding: content/seqcont_circ_expms/other_nbs_explora/__nbs_as_py/llama2_seqContCircs_explora/prompt_llama2-7b_TLgen.py (deflated 73%)\n",
            "  adding: content/seqcont_circ_expms/other_nbs_explora/__nbs_as_py/llama2_seqContCircs_explora/iter node pruning/ (stored 0%)\n",
            "  adding: content/seqcont_circ_expms/other_nbs_explora/__nbs_as_py/llama2_seqContCircs_explora/iter node pruning/Llama2_1234.py (deflated 73%)\n",
            "  adding: content/seqcont_circ_expms/other_nbs_explora/__nbs_as_py/llama2_seqContCircs_explora/iter node pruning/Llama2_spanish_nw.py (deflated 76%)\n",
            "  adding: content/seqcont_circ_expms/other_nbs_explora/__nbs_as_py/llama2_seqContCircs_explora/iter node pruning/Llama2_fibonacci.py (deflated 72%)\n",
            "  adding: content/seqcont_circ_expms/other_nbs_explora/__nbs_as_py/llama2_seqContCircs_explora/iter node pruning/Llama2_numerals_1to10.py (deflated 77%)\n",
            "  adding: content/seqcont_circ_expms/other_nbs_explora/__nbs_as_py/llama2_seqContCircs_explora/iter node pruning/Llama2_plus2seq_GiveFirstDigit.py (deflated 81%)\n",
            "  adding: content/seqcont_circ_expms/other_nbs_explora/__nbs_as_py/llama2_seqContCircs_explora/iter node pruning/Llama2_nw.py (deflated 77%)\n",
            "  adding: content/seqcont_circ_expms/other_nbs_explora/__nbs_as_py/llama2_seqContCircs_explora/iter node pruning/Llama2_promptsGiveFirstDigit_draft_v1.py (deflated 80%)\n",
            "  adding: content/seqcont_circ_expms/other_nbs_explora/__nbs_as_py/llama2_seqContCircs_explora/iter node pruning/Llama2_singleTokAddition.py (deflated 81%)\n",
            "  adding: content/seqcont_circ_expms/other_nbs_explora/__nbs_as_py/llama2_seqContCircs_explora/iter node pruning/Llama2_promptsGiveFirstDigit.py (deflated 76%)\n",
            "  adding: content/seqcont_circ_expms/other_nbs_explora/__nbs_as_py/llama2_seqContCircs_explora/iter node pruning/Llama2_months.py (deflated 76%)\n",
            "  adding: content/seqcont_circ_expms/other_nbs_explora/__nbs_as_py/llama2_seqContCircs_explora/iter node pruning/Llama2_124.py (deflated 81%)\n",
            "  adding: content/seqcont_circ_expms/other_nbs_explora/__nbs_as_py/llama2_seqContCircs_explora/iter node pruning/Llama2_numerals_multiTok.py (deflated 80%)\n",
            "  adding: content/seqcont_circ_expms/other_nbs_explora/__nbs_as_py/llama2_seqContCircs_explora/iter node pruning/Llama2_singleDigitFibo.py (deflated 81%)\n",
            "  adding: content/seqcont_circ_expms/other_nbs_explora/__nbs_as_py/llama2_seqContCircs_explora/iter node pruning/Llama2_singleTokMultp.py (deflated 81%)\n",
            "  adding: content/seqcont_circ_expms/other_nbs_explora/__nbs_as_py/llama2_seqContCircs_explora/iter node pruning/Llama_2_multiTok_1234.py (deflated 84%)\n",
            "  adding: content/seqcont_circ_expms/other_nbs_explora/__nbs_as_py/llama2_seqContCircs_explora/iter node pruning/Llama2_036.py (deflated 76%)\n",
            "  adding: content/seqcont_circ_expms/other_nbs_explora/__nbs_as_py/llama2_seqContCircs_explora/iter node pruning/Llama2_2468.py (deflated 73%)\n",
            "  adding: content/seqcont_circ_expms/other_nbs_explora/__nbs_as_py/llama2_seqContCircs_explora/iter node pruning/Llama2_multiTok_logitDiff_+2.py (deflated 85%)\n",
            "  adding: content/seqcont_circ_expms/other_nbs_explora/__nbs_as_py/llama2_seqContCircs_explora/iter node pruning/find_circ_overlap.py (deflated 77%)\n",
            "  adding: content/seqcont_circ_expms/other_nbs_explora/__nbs_as_py/llama2_seqContCircs_explora/iter node pruning/Llama2_spanish_tokenizerV2.py (deflated 72%)\n",
            "  adding: content/seqcont_circ_expms/other_nbs_explora/__nbs_as_py/llama2_seqContCircs_explora/iter node pruning/Llama2_plus3seq_GiveFirstDigit.py (deflated 81%)\n",
            "  adding: content/seqcont_circ_expms/other_nbs_explora/__nbs_as_py/llama2_seqContCircs_explora/iter node pruning/Llama2_spanish_months.py (deflated 76%)\n",
            "  adding: content/seqcont_circ_expms/other_nbs_explora/__nbs_as_py/llama2_seqContCircs_explora/iter node pruning/Llama2_spanish.py (deflated 72%)\n",
            "  adding: content/seqcont_circ_expms/other_nbs_explora/__nbs_as_py/llama2_seqContCircs_explora/iter node pruning/Llama2_numerals.py (deflated 73%)\n",
            "  adding: content/seqcont_circ_expms/other_nbs_explora/__nbs_as_py/llama2_seqContCircs_explora/iter node pruning/Llama2_days.py (deflated 76%)\n",
            "  adding: content/seqcont_circ_expms/other_nbs_explora/__nbs_as_py/llama2_seqContCircs_explora/OV_scores/ (stored 0%)\n",
            "  adding: content/seqcont_circ_expms/other_nbs_explora/__nbs_as_py/llama2_seqContCircs_explora/OV_scores/llama2_plus2_nextScores.py (deflated 79%)\n",
            "  adding: content/seqcont_circ_expms/other_nbs_explora/__nbs_as_py/download_all_as_py.py (deflated 62%)\n",
            "  adding: content/seqcont_circ_expms/other_nbs_explora/__nbs_as_py/gpt2_seqContCircs_explora/ (stored 0%)\n",
            "  adding: content/seqcont_circ_expms/other_nbs_explora/__nbs_as_py/gpt2_seqContCircs_explora/ablate_seqcont_then_math__explora.py (deflated 90%)\n",
            "  adding: content/seqcont_circ_expms/other_nbs_explora/__nbs_as_py/gpt2_seqContCircs_explora/test_logit_diff_multToks.py (deflated 78%)\n",
            "  adding: content/seqcont_circ_expms/other_nbs_explora/__nbs_as_py/gpt2_seqContCircs_explora/ablate_attnLayer_thenHeads/ (stored 0%)\n",
            "  adding: content/seqcont_circ_expms/other_nbs_explora/__nbs_as_py/gpt2_seqContCircs_explora/ablate_attnLayer_thenHeads/ablate_attnLayer_thenHeads_GPT2.py (deflated 76%)\n",
            "  adding: content/seqcont_circ_expms/other_nbs_explora/__nbs_as_py/gpt2_seqContCircs_explora/ablate_seqcont_thenMath_explora_v2.py (deflated 88%)\n",
            "  adding: content/seqcont_circ_expms/other_nbs_explora/__nbs_as_py/gpt2_seqContCircs_explora/test_ablate_then_modelGen.py (deflated 78%)\n",
            "  adding: content/seqcont_circ_expms/other_nbs_explora/__nbs_as_py/seqcont_feature_steer_explora/ (stored 0%)\n",
            "  adding: content/seqcont_circ_expms/other_nbs_explora/__nbs_as_py/seqcont_feature_steer_explora/analogous_domain_steering_gpt2xl_explora.py (deflated 80%)\n",
            "  adding: content/seqcont_circ_expms/other_nbs_explora/__nbs_as_py/seqcont_feature_steer_explora/analogous_domain_steering_llama2_explora.py (deflated 79%)\n",
            "  adding: content/seqcont_circ_expms/other_nbs_explora/__nbs_as_py/seqcont_feature_steer_explora/ActivationAddition_explora.py (deflated 71%)\n",
            "  adding: content/seqcont_circ_expms/other_nbs_explora/seqcont_feature_steer_explora/ (stored 0%)\n",
            "  adding: content/seqcont_circ_expms/other_nbs_explora/seqcont_feature_steer_explora/ActivationAddition_explora.ipynb (deflated 88%)\n",
            "  adding: content/seqcont_circ_expms/other_nbs_explora/seqcont_feature_steer_explora/analogous_domain_steering_llama2_explora.ipynb (deflated 89%)\n",
            "  adding: content/seqcont_circ_expms/other_nbs_explora/seqcont_feature_steer_explora/analogous_domain_steering_gpt2xl_explora.ipynb (deflated 89%)\n",
            "  adding: content/seqcont_circ_expms/requirements.txt (deflated 15%)\n",
            "  adding: content/seqcont_circuits/ (stored 0%)\n",
            "  adding: content/seqcont_circuits/notebooks/ (stored 0%)\n",
            "  adding: content/seqcont_circuits/notebooks/gpt2_expms/ (stored 0%)\n",
            "  adding: content/seqcont_circuits/notebooks/gpt2_expms/generate_data.ipynb (deflated 66%)\n",
            "  adding: content/seqcont_circuits/notebooks/gpt2_expms/seqLen_corrToken_plot.ipynb (deflated 32%)\n",
            "  adding: content/seqcont_circuits/notebooks/gpt2_expms/iter_edge_pruning/ (stored 0%)\n",
            "  adding: content/seqcont_circuits/notebooks/gpt2_expms/iter_edge_pruning/months_iterEdgePruning.ipynb (deflated 84%)\n",
            "  adding: content/seqcont_circuits/notebooks/gpt2_expms/iter_edge_pruning/numerals_iterEdgePruning.ipynb (deflated 92%)\n",
            "  adding: content/seqcont_circuits/notebooks/gpt2_expms/iter_edge_pruning/numwords_iterEdgePruning.ipynb (deflated 92%)\n",
            "  adding: content/seqcont_circuits/notebooks/gpt2_expms/test prompts/ (stored 0%)\n",
            "  adding: content/seqcont_circuits/notebooks/gpt2_expms/test prompts/multiprompt_test_pt1.ipynb (deflated 74%)\n",
            "  adding: content/seqcont_circuits/notebooks/gpt2_expms/test prompts/shorten_len4_multiprompt.ipynb (deflated 88%)\n",
            "  adding: content/seqcont_circuits/notebooks/gpt2_expms/test prompts/multiprompt_test_pt3.ipynb (deflated 90%)\n",
            "  adding: content/seqcont_circuits/notebooks/gpt2_expms/test prompts/multiprompt_test_pt2.ipynb (deflated 88%)\n",
            "  adding: content/seqcont_circuits/notebooks/gpt2_expms/test prompts/numseq_test_prompts_SMALL.ipynb (deflated 93%)\n",
            "  adding: content/seqcont_circuits/notebooks/gpt2_expms/test prompts/numseq_prompts, small, pt2.ipynb (deflated 90%)\n",
            "  adding: content/seqcont_circuits/notebooks/gpt2_expms/attnPat/ (stored 0%)\n",
            "  adding: content/seqcont_circuits/notebooks/gpt2_expms/attnPat/months_attnpats.ipynb (deflated 37%)\n",
            "  adding: content/seqcont_circuits/notebooks/gpt2_expms/attnPat/inOrderDigitsMonths_attnPat.ipynb (deflated 69%)\n",
            "  adding: content/seqcont_circuits/notebooks/gpt2_expms/attnPat/numerals_attnpats.ipynb (deflated 53%)\n",
            "  adding: content/seqcont_circuits/notebooks/gpt2_expms/attnPat/numwords_attnpats.ipynb (deflated 50%)\n",
            "  adding: content/seqcont_circuits/notebooks/gpt2_expms/attnPat/randOrderDigitsMonths_attnPat.ipynb (deflated 69%)\n",
            "  adding: content/seqcont_circuits/notebooks/gpt2_expms/iter_node_pruning/ (stored 0%)\n",
            "  adding: content/seqcont_circuits/notebooks/gpt2_expms/iter_node_pruning/numerals_iterNodePruning.ipynb (deflated 82%)\n",
            "  adding: content/seqcont_circuits/notebooks/gpt2_expms/iter_node_pruning/numwords_iterNodePruning.ipynb (deflated 82%)\n",
            "  adding: content/seqcont_circuits/notebooks/gpt2_expms/iter_node_pruning/months_iterNodePruning.ipynb (deflated 81%)\n",
            "  adding: content/seqcont_circuits/notebooks/gpt2_expms/logit_lens/ (stored 0%)\n",
            "  adding: content/seqcont_circuits/notebooks/gpt2_expms/logit_lens/seq_cont_logit_lens.ipynb (deflated 91%)\n",
            "  adding: content/seqcont_circuits/notebooks/gpt2_expms/OV_scores/ (stored 0%)\n",
            "  adding: content/seqcont_circuits/notebooks/gpt2_expms/OV_scores/allTasks_nextScores.ipynb (deflated 90%)\n",
            "  adding: content/seqcont_circuits/notebooks/gpt2_expms/viz_circuit_diagrams/ (stored 0%)\n",
            "  adding: content/seqcont_circuits/notebooks/gpt2_expms/viz_circuit_diagrams/final_circuit.ipynb (deflated 88%)\n",
            "  adding: content/seqcont_circuits/notebooks/llama2_expms/ (stored 0%)\n",
            "  adding: content/seqcont_circuits/notebooks/llama2_expms/attn_pats/ (stored 0%)\n",
            "  adding: content/seqcont_circuits/notebooks/llama2_expms/attn_pats/Llama2_inAndRandOrder_attnPat.ipynb (deflated 59%)\n",
            "  adding: content/seqcont_circuits/notebooks/llama2_expms/attn_pats/Llama2_SPmonths_attnpats.ipynb (deflated 53%)\n",
            "  adding: content/seqcont_circuits/notebooks/llama2_expms/attn_pats/Llama2_intervals_giveFirstDigit_attnpats.ipynb (deflated 41%)\n",
            "  adding: content/seqcont_circuits/notebooks/llama2_expms/attn_pats/Llama2_intervals_attnpats.ipynb (deflated 41%)\n",
            "  adding: content/seqcont_circuits/notebooks/llama2_expms/attn_pats/Llama2_months_attnpats.ipynb (deflated 48%)\n",
            "  adding: content/seqcont_circuits/notebooks/llama2_expms/iter_node_pruning/ (stored 0%)\n",
            "  adding: content/seqcont_circuits/notebooks/llama2_expms/iter_node_pruning/Llama2_numerals_1to9.ipynb (deflated 81%)\n",
            "  adding: content/seqcont_circuits/notebooks/llama2_expms/iter_node_pruning/Llama2_numwords.ipynb (deflated 76%)\n",
            "  adding: content/seqcont_circuits/notebooks/llama2_expms/iter_node_pruning/Llama2_months.ipynb (deflated 77%)\n",
            "  adding: content/seqcont_circuits/notebooks/llama2_expms/ablate_other_tasks/ (stored 0%)\n",
            "  adding: content/seqcont_circuits/notebooks/llama2_expms/ablate_other_tasks/llama2_ablate_intervaled.ipynb (deflated 83%)\n",
            "  adding: content/seqcont_circuits/notebooks/llama2_expms/ablate_other_tasks/llama2_ablate_spanish.ipynb (deflated 88%)\n",
            "  adding: content/seqcont_circuits/notebooks/llama2_expms/ablate_other_tasks/llama2_ablate_word_problems.ipynb (deflated 88%)\n",
            "  adding: content/seqcont_circuits/notebooks/llama2_expms/ablate_other_tasks/llama2_ablate_arithmetic.ipynb (deflated 81%)\n",
            "  adding: content/seqcont_circuits/notebooks/llama2_expms/OV_scores/ (stored 0%)\n",
            "  adding: content/seqcont_circuits/notebooks/llama2_expms/OV_scores/llama2_plus2_nextScores.ipynb (deflated 89%)\n",
            "  adding: content/seqcont_circuits/data/ (stored 0%)\n",
            "  adding: content/seqcont_circuits/data/numwords/ (stored 0%)\n",
            "  adding: content/seqcont_circuits/data/numwords/randDS_numwords.pkl (deflated 84%)\n",
            "  adding: content/seqcont_circuits/data/numwords/numwords_prompts_done.pkl (deflated 88%)\n",
            "  adding: content/seqcont_circuits/data/numwords/numwords_prompts_lost.pkl (deflated 88%)\n",
            "  adding: content/seqcont_circuits/data/numwords/numwords_prompts_names.pkl (deflated 88%)\n",
            "  adding: content/seqcont_circuits/data/months/ (stored 0%)\n",
            "  adding: content/seqcont_circuits/data/months/months_prompts_lost.pkl (deflated 89%)\n",
            "  adding: content/seqcont_circuits/data/months/months_prompts_names.pkl (deflated 88%)\n",
            "  adding: content/seqcont_circuits/data/months/months_prompts_done.pkl (deflated 89%)\n",
            "  adding: content/seqcont_circuits/data/months/randDS_months.pkl (deflated 85%)\n",
            "  adding: content/seqcont_circuits/data/numerals/ (stored 0%)\n",
            "  adding: content/seqcont_circuits/data/numerals/numerals_prompts_done.pkl (deflated 87%)\n",
            "  adding: content/seqcont_circuits/data/numerals/numerals_prompts_names.pkl (deflated 87%)\n",
            "  adding: content/seqcont_circuits/data/numerals/numerals_prompts_lost.pkl (deflated 87%)\n",
            "  adding: content/seqcont_circuits/data/numerals/randDS_numerals.pkl (deflated 84%)\n",
            "  adding: content/seqcont_circuits/.git/ (stored 0%)\n",
            "  adding: content/seqcont_circuits/.git/refs/ (stored 0%)\n",
            "  adding: content/seqcont_circuits/.git/refs/tags/ (stored 0%)\n",
            "  adding: content/seqcont_circuits/.git/refs/remotes/ (stored 0%)\n",
            "  adding: content/seqcont_circuits/.git/refs/remotes/origin/ (stored 0%)\n",
            "  adding: content/seqcont_circuits/.git/refs/remotes/origin/HEAD (stored 0%)\n",
            "  adding: content/seqcont_circuits/.git/refs/heads/ (stored 0%)\n",
            "  adding: content/seqcont_circuits/.git/refs/heads/main (stored 0%)\n",
            "  adding: content/seqcont_circuits/.git/packed-refs (deflated 9%)\n",
            "  adding: content/seqcont_circuits/.git/config (deflated 35%)\n",
            "  adding: content/seqcont_circuits/.git/hooks/ (stored 0%)\n",
            "  adding: content/seqcont_circuits/.git/hooks/fsmonitor-watchman.sample (deflated 62%)\n",
            "  adding: content/seqcont_circuits/.git/hooks/update.sample (deflated 68%)\n",
            "  adding: content/seqcont_circuits/.git/hooks/push-to-checkout.sample (deflated 55%)\n",
            "  adding: content/seqcont_circuits/.git/hooks/pre-rebase.sample (deflated 59%)\n",
            "  adding: content/seqcont_circuits/.git/hooks/post-update.sample (deflated 27%)\n",
            "  adding: content/seqcont_circuits/.git/hooks/applypatch-msg.sample (deflated 42%)\n",
            "  adding: content/seqcont_circuits/.git/hooks/pre-push.sample (deflated 49%)\n",
            "  adding: content/seqcont_circuits/.git/hooks/pre-applypatch.sample (deflated 38%)\n",
            "  adding: content/seqcont_circuits/.git/hooks/pre-receive.sample (deflated 40%)\n",
            "  adding: content/seqcont_circuits/.git/hooks/pre-commit.sample (deflated 45%)\n",
            "  adding: content/seqcont_circuits/.git/hooks/prepare-commit-msg.sample (deflated 50%)\n",
            "  adding: content/seqcont_circuits/.git/hooks/commit-msg.sample (deflated 44%)\n",
            "  adding: content/seqcont_circuits/.git/hooks/pre-merge-commit.sample (deflated 39%)\n",
            "  adding: content/seqcont_circuits/.git/HEAD (stored 0%)\n",
            "  adding: content/seqcont_circuits/.git/objects/ (stored 0%)\n",
            "  adding: content/seqcont_circuits/.git/objects/pack/ (stored 0%)\n",
            "  adding: content/seqcont_circuits/.git/objects/pack/pack-ef2d03864f30301869b57c121eae99fba7ab8423.idx (deflated 2%)\n",
            "  adding: content/seqcont_circuits/.git/objects/pack/pack-ef2d03864f30301869b57c121eae99fba7ab8423.pack (deflated 0%)\n",
            "  adding: content/seqcont_circuits/.git/objects/info/ (stored 0%)\n",
            "  adding: content/seqcont_circuits/.git/branches/ (stored 0%)\n",
            "  adding: content/seqcont_circuits/.git/description (deflated 14%)\n",
            "  adding: content/seqcont_circuits/.git/logs/ (stored 0%)\n",
            "  adding: content/seqcont_circuits/.git/logs/refs/ (stored 0%)\n",
            "  adding: content/seqcont_circuits/.git/logs/refs/remotes/ (stored 0%)\n",
            "  adding: content/seqcont_circuits/.git/logs/refs/remotes/origin/ (stored 0%)\n",
            "  adding: content/seqcont_circuits/.git/logs/refs/remotes/origin/HEAD (deflated 29%)\n",
            "  adding: content/seqcont_circuits/.git/logs/refs/heads/ (stored 0%)\n",
            "  adding: content/seqcont_circuits/.git/logs/refs/heads/main (deflated 29%)\n",
            "  adding: content/seqcont_circuits/.git/logs/HEAD (deflated 29%)\n",
            "  adding: content/seqcont_circuits/.git/info/ (stored 0%)\n",
            "  adding: content/seqcont_circuits/.git/info/exclude (deflated 28%)\n",
            "  adding: content/seqcont_circuits/.git/index (deflated 57%)\n",
            "  adding: content/seqcont_circuits/LICENSE (deflated 41%)\n",
            "  adding: content/seqcont_circuits/results/ (stored 0%)\n",
            "  adding: content/seqcont_circuits/results/numwords_circuit_thres_0.8.json (deflated 72%)\n",
            "  adding: content/seqcont_circuits/results/numerals_circuit_thres_0.8.json (deflated 69%)\n",
            "  adding: content/seqcont_circuits/results/months_circuit_thres_0.8.json (deflated 68%)\n",
            "  adding: content/seqcont_circuits/.gitignore (deflated 52%)\n",
            "  adding: content/seqcont_circuits/README.md (deflated 52%)\n",
            "  adding: content/seqcont_circuits/src/ (stored 0%)\n",
            "  adding: content/seqcont_circuits/src/iter_edge_pruning/ (stored 0%)\n",
            "  adding: content/seqcont_circuits/src/iter_edge_pruning/edge_pruning_fns.py (deflated 88%)\n",
            "  adding: content/seqcont_circuits/src/iter_edge_pruning/__pycache__/ (stored 0%)\n",
            "  adding: content/seqcont_circuits/src/iter_edge_pruning/__pycache__/edge_pruning_fns.cpython-311.pyc (deflated 68%)\n",
            "  adding: content/seqcont_circuits/src/iter_edge_pruning/__pycache__/viz_circuits.cpython-311.pyc (deflated 64%)\n",
            "  adding: content/seqcont_circuits/src/iter_edge_pruning/__pycache__/metrics.cpython-311.pyc (deflated 41%)\n",
            "  adding: content/seqcont_circuits/src/iter_edge_pruning/__pycache__/dataset.cpython-311.pyc (deflated 55%)\n",
            "  adding: content/seqcont_circuits/src/iter_edge_pruning/metrics.py (deflated 63%)\n",
            "  adding: content/seqcont_circuits/src/iter_edge_pruning/viz_circuits.py (deflated 84%)\n",
            "  adding: content/seqcont_circuits/src/iter_edge_pruning/dataset.py (deflated 70%)\n",
            "  adding: content/seqcont_circuits/src/iter_edge_pruning/run_edge_ablation.py (deflated 79%)\n",
            "  adding: content/seqcont_circuits/src/attn_pats/ (stored 0%)\n",
            "  adding: content/seqcont_circuits/src/attn_pats/run_attn_pats.py (deflated 67%)\n",
            "  adding: content/seqcont_circuits/src/attn_pats/viz_attn_pat.py (deflated 65%)\n",
            "  adding: content/seqcont_circuits/src/iter_node_pruning/ (stored 0%)\n",
            "  adding: content/seqcont_circuits/src/iter_node_pruning/loop_node_ablation_fns.py (deflated 83%)\n",
            "  adding: content/seqcont_circuits/src/iter_node_pruning/__pycache__/ (stored 0%)\n",
            "  adding: content/seqcont_circuits/src/iter_node_pruning/__pycache__/node_ablation_fns.cpython-311.pyc (deflated 57%)\n",
            "  adding: content/seqcont_circuits/src/iter_node_pruning/__pycache__/head_ablation_fns.cpython-311.pyc (deflated 47%)\n",
            "  adding: content/seqcont_circuits/src/iter_node_pruning/__pycache__/loop_node_ablation_fns.cpython-311.pyc (deflated 63%)\n",
            "  adding: content/seqcont_circuits/src/iter_node_pruning/__pycache__/mlp_ablation_fns.cpython-311.pyc (deflated 47%)\n",
            "  adding: content/seqcont_circuits/src/iter_node_pruning/metrics.py (deflated 58%)\n",
            "  adding: content/seqcont_circuits/src/iter_node_pruning/dataset.py (deflated 70%)\n",
            "  adding: content/seqcont_circuits/src/iter_node_pruning/mlp_ablation_fns.py (deflated 67%)\n",
            "  adding: content/seqcont_circuits/src/iter_node_pruning/node_ablation_fns.py (deflated 73%)\n",
            "  adding: content/seqcont_circuits/src/iter_node_pruning/head_ablation_fns.py (deflated 67%)\n",
            "  adding: content/seqcont_circuits/src/iter_node_pruning/run_node_ablation.py (deflated 67%)\n",
            "  adding: content/seqcont_circuits/src/logit_lens/ (stored 0%)\n",
            "  adding: content/seqcont_circuits/src/logit_lens/logit_lens_fns.py (deflated 58%)\n",
            "  adding: content/seqcont_circuits/src/logit_lens/run_logit_lens.py (deflated 61%)\n",
            "  adding: content/seqcont_circuits/src/generate_data/ (stored 0%)\n",
            "  adding: content/seqcont_circuits/src/generate_data/common_words.json (deflated 59%)\n",
            "  adding: content/seqcont_circuits/src/generate_data/run_gen_data.py (deflated 75%)\n",
            "  adding: content/seqcont_circuits/src/generate_data/generate_data.py (deflated 72%)\n",
            "  adding: content/seqcont_circuits/src/OV_scores/ (stored 0%)\n",
            "  adding: content/seqcont_circuits/src/OV_scores/OV_score_fns.py (deflated 74%)\n",
            "  adding: content/seqcont_circuits/requirements.txt (deflated 15%)\n"
          ]
        }
      ]
    },
    {
      "cell_type": "markdown",
      "metadata": {
        "id": "JDwEmd_0hYlS"
      },
      "source": [
        "# Node Pruning"
      ]
    },
    {
      "cell_type": "code",
      "source": [
        "%cd ../../../../../../../../../../../content\n",
        "%ls"
      ],
      "metadata": {
        "colab": {
          "base_uri": "https://localhost:8080/"
        },
        "id": "k93Wr6suR7-_",
        "outputId": "7f94b99d-58f2-459d-ef8e-a37cd2eec7df"
      },
      "execution_count": null,
      "outputs": [
        {
          "output_type": "stream",
          "name": "stdout",
          "text": [
            "/content\n",
            "\u001b[0m\u001b[01;34mseqcont_circ_expms\u001b[0m/\n"
          ]
        }
      ]
    },
    {
      "cell_type": "code",
      "execution_count": null,
      "metadata": {
        "id": "dCQoBgq_iaXX"
      },
      "outputs": [],
      "source": [
        "task = \"numerals\"  # choose: numerals, numwords, months\n",
        "prompt_types = ['done', 'lost', 'names']\n",
        "num_samps_per_ptype = 512 #768 512\n",
        "\n",
        "model_name = \"gpt2-small\"\n",
        "\n",
        "save_files = True\n",
        "run_on_other_tasks = True"
      ]
    },
    {
      "cell_type": "code",
      "execution_count": null,
      "metadata": {
        "colab": {
          "base_uri": "https://localhost:8080/"
        },
        "id": "L0cYG4Bbie6m",
        "outputId": "31b67fe9-d599-4d91-d207-f7b756215e09"
      },
      "outputs": [
        {
          "output_type": "stream",
          "name": "stdout",
          "text": [
            "Collecting git+https://github.com/neelnanda-io/TransformerLens.git\n",
            "  Cloning https://github.com/neelnanda-io/TransformerLens.git to /tmp/pip-req-build-9cun6vs6\n",
            "  Running command git clone --filter=blob:none --quiet https://github.com/neelnanda-io/TransformerLens.git /tmp/pip-req-build-9cun6vs6\n",
            "  Resolved https://github.com/neelnanda-io/TransformerLens.git to commit e65fafb4791c66076bc54ec9731920de1e8c676f\n",
            "  Installing build dependencies ... \u001b[?25l\u001b[?25hdone\n",
            "  Getting requirements to build wheel ... \u001b[?25l\u001b[?25hdone\n",
            "  Preparing metadata (pyproject.toml) ... \u001b[?25l\u001b[?25hdone\n",
            "Requirement already satisfied: accelerate>=0.23.0 in /usr/local/lib/python3.11/dist-packages (from transformer-lens==0.0.0) (1.3.0)\n",
            "Requirement already satisfied: beartype<0.15.0,>=0.14.1 in /usr/local/lib/python3.11/dist-packages (from transformer-lens==0.0.0) (0.14.1)\n",
            "Requirement already satisfied: better-abc<0.0.4,>=0.0.3 in /usr/local/lib/python3.11/dist-packages (from transformer-lens==0.0.0) (0.0.3)\n",
            "Requirement already satisfied: datasets>=2.7.1 in /usr/local/lib/python3.11/dist-packages (from transformer-lens==0.0.0) (3.3.2)\n",
            "Requirement already satisfied: einops>=0.6.0 in /usr/local/lib/python3.11/dist-packages (from transformer-lens==0.0.0) (0.8.1)\n",
            "Requirement already satisfied: fancy-einsum>=0.0.3 in /usr/local/lib/python3.11/dist-packages (from transformer-lens==0.0.0) (0.0.3)\n",
            "Requirement already satisfied: jaxtyping>=0.2.11 in /usr/local/lib/python3.11/dist-packages (from transformer-lens==0.0.0) (0.2.38)\n",
            "Requirement already satisfied: numpy>=1.24 in /usr/local/lib/python3.11/dist-packages (from transformer-lens==0.0.0) (1.26.4)\n",
            "Requirement already satisfied: pandas>=1.1.5 in /usr/local/lib/python3.11/dist-packages (from transformer-lens==0.0.0) (2.2.2)\n",
            "Requirement already satisfied: rich>=12.6.0 in /usr/local/lib/python3.11/dist-packages (from transformer-lens==0.0.0) (13.9.4)\n",
            "Requirement already satisfied: sentencepiece in /usr/local/lib/python3.11/dist-packages (from transformer-lens==0.0.0) (0.2.0)\n",
            "Requirement already satisfied: torch>=2.2 in /usr/local/lib/python3.11/dist-packages (from transformer-lens==0.0.0) (2.5.1+cu124)\n",
            "Requirement already satisfied: tqdm>=4.64.1 in /usr/local/lib/python3.11/dist-packages (from transformer-lens==0.0.0) (4.67.1)\n",
            "Requirement already satisfied: transformers>=4.43 in /usr/local/lib/python3.11/dist-packages (from transformer-lens==0.0.0) (4.48.3)\n",
            "Requirement already satisfied: transformers-stream-generator<0.0.6,>=0.0.5 in /usr/local/lib/python3.11/dist-packages (from transformer-lens==0.0.0) (0.0.5)\n",
            "Requirement already satisfied: typeguard<5.0,>=4.2 in /usr/local/lib/python3.11/dist-packages (from transformer-lens==0.0.0) (4.4.2)\n",
            "Requirement already satisfied: typing-extensions in /usr/local/lib/python3.11/dist-packages (from transformer-lens==0.0.0) (4.12.2)\n",
            "Requirement already satisfied: wandb>=0.13.5 in /usr/local/lib/python3.11/dist-packages (from transformer-lens==0.0.0) (0.19.6)\n",
            "Requirement already satisfied: packaging>=20.0 in /usr/local/lib/python3.11/dist-packages (from accelerate>=0.23.0->transformer-lens==0.0.0) (24.2)\n",
            "Requirement already satisfied: psutil in /usr/local/lib/python3.11/dist-packages (from accelerate>=0.23.0->transformer-lens==0.0.0) (5.9.5)\n",
            "Requirement already satisfied: pyyaml in /usr/local/lib/python3.11/dist-packages (from accelerate>=0.23.0->transformer-lens==0.0.0) (6.0.2)\n",
            "Requirement already satisfied: huggingface-hub>=0.21.0 in /usr/local/lib/python3.11/dist-packages (from accelerate>=0.23.0->transformer-lens==0.0.0) (0.28.1)\n",
            "Requirement already satisfied: safetensors>=0.4.3 in /usr/local/lib/python3.11/dist-packages (from accelerate>=0.23.0->transformer-lens==0.0.0) (0.5.2)\n",
            "Requirement already satisfied: filelock in /usr/local/lib/python3.11/dist-packages (from datasets>=2.7.1->transformer-lens==0.0.0) (3.17.0)\n",
            "Requirement already satisfied: pyarrow>=15.0.0 in /usr/local/lib/python3.11/dist-packages (from datasets>=2.7.1->transformer-lens==0.0.0) (17.0.0)\n",
            "Requirement already satisfied: dill<0.3.9,>=0.3.0 in /usr/local/lib/python3.11/dist-packages (from datasets>=2.7.1->transformer-lens==0.0.0) (0.3.8)\n",
            "Requirement already satisfied: requests>=2.32.2 in /usr/local/lib/python3.11/dist-packages (from datasets>=2.7.1->transformer-lens==0.0.0) (2.32.3)\n",
            "Requirement already satisfied: xxhash in /usr/local/lib/python3.11/dist-packages (from datasets>=2.7.1->transformer-lens==0.0.0) (3.5.0)\n",
            "Requirement already satisfied: multiprocess<0.70.17 in /usr/local/lib/python3.11/dist-packages (from datasets>=2.7.1->transformer-lens==0.0.0) (0.70.16)\n",
            "Requirement already satisfied: fsspec<=2024.12.0,>=2023.1.0 in /usr/local/lib/python3.11/dist-packages (from fsspec[http]<=2024.12.0,>=2023.1.0->datasets>=2.7.1->transformer-lens==0.0.0) (2024.10.0)\n",
            "Requirement already satisfied: aiohttp in /usr/local/lib/python3.11/dist-packages (from datasets>=2.7.1->transformer-lens==0.0.0) (3.11.12)\n",
            "Requirement already satisfied: wadler-lindig>=0.1.3 in /usr/local/lib/python3.11/dist-packages (from jaxtyping>=0.2.11->transformer-lens==0.0.0) (0.1.3)\n",
            "Requirement already satisfied: python-dateutil>=2.8.2 in /usr/local/lib/python3.11/dist-packages (from pandas>=1.1.5->transformer-lens==0.0.0) (2.8.2)\n",
            "Requirement already satisfied: pytz>=2020.1 in /usr/local/lib/python3.11/dist-packages (from pandas>=1.1.5->transformer-lens==0.0.0) (2025.1)\n",
            "Requirement already satisfied: tzdata>=2022.7 in /usr/local/lib/python3.11/dist-packages (from pandas>=1.1.5->transformer-lens==0.0.0) (2025.1)\n",
            "Requirement already satisfied: markdown-it-py>=2.2.0 in /usr/local/lib/python3.11/dist-packages (from rich>=12.6.0->transformer-lens==0.0.0) (3.0.0)\n",
            "Requirement already satisfied: pygments<3.0.0,>=2.13.0 in /usr/local/lib/python3.11/dist-packages (from rich>=12.6.0->transformer-lens==0.0.0) (2.18.0)\n",
            "Requirement already satisfied: networkx in /usr/local/lib/python3.11/dist-packages (from torch>=2.2->transformer-lens==0.0.0) (3.4.2)\n",
            "Requirement already satisfied: jinja2 in /usr/local/lib/python3.11/dist-packages (from torch>=2.2->transformer-lens==0.0.0) (3.1.5)\n",
            "Requirement already satisfied: nvidia-cuda-nvrtc-cu12==12.4.127 in /usr/local/lib/python3.11/dist-packages (from torch>=2.2->transformer-lens==0.0.0) (12.4.127)\n",
            "Requirement already satisfied: nvidia-cuda-runtime-cu12==12.4.127 in /usr/local/lib/python3.11/dist-packages (from torch>=2.2->transformer-lens==0.0.0) (12.4.127)\n",
            "Requirement already satisfied: nvidia-cuda-cupti-cu12==12.4.127 in /usr/local/lib/python3.11/dist-packages (from torch>=2.2->transformer-lens==0.0.0) (12.4.127)\n",
            "Requirement already satisfied: nvidia-cudnn-cu12==9.1.0.70 in /usr/local/lib/python3.11/dist-packages (from torch>=2.2->transformer-lens==0.0.0) (9.1.0.70)\n",
            "Requirement already satisfied: nvidia-cublas-cu12==12.4.5.8 in /usr/local/lib/python3.11/dist-packages (from torch>=2.2->transformer-lens==0.0.0) (12.4.5.8)\n",
            "Requirement already satisfied: nvidia-cufft-cu12==11.2.1.3 in /usr/local/lib/python3.11/dist-packages (from torch>=2.2->transformer-lens==0.0.0) (11.2.1.3)\n",
            "Requirement already satisfied: nvidia-curand-cu12==10.3.5.147 in /usr/local/lib/python3.11/dist-packages (from torch>=2.2->transformer-lens==0.0.0) (10.3.5.147)\n",
            "Requirement already satisfied: nvidia-cusolver-cu12==11.6.1.9 in /usr/local/lib/python3.11/dist-packages (from torch>=2.2->transformer-lens==0.0.0) (11.6.1.9)\n",
            "Requirement already satisfied: nvidia-cusparse-cu12==12.3.1.170 in /usr/local/lib/python3.11/dist-packages (from torch>=2.2->transformer-lens==0.0.0) (12.3.1.170)\n",
            "Requirement already satisfied: nvidia-nccl-cu12==2.21.5 in /usr/local/lib/python3.11/dist-packages (from torch>=2.2->transformer-lens==0.0.0) (2.21.5)\n",
            "Requirement already satisfied: nvidia-nvtx-cu12==12.4.127 in /usr/local/lib/python3.11/dist-packages (from torch>=2.2->transformer-lens==0.0.0) (12.4.127)\n",
            "Requirement already satisfied: nvidia-nvjitlink-cu12==12.4.127 in /usr/local/lib/python3.11/dist-packages (from torch>=2.2->transformer-lens==0.0.0) (12.4.127)\n",
            "Requirement already satisfied: triton==3.1.0 in /usr/local/lib/python3.11/dist-packages (from torch>=2.2->transformer-lens==0.0.0) (3.1.0)\n",
            "Requirement already satisfied: sympy==1.13.1 in /usr/local/lib/python3.11/dist-packages (from torch>=2.2->transformer-lens==0.0.0) (1.13.1)\n",
            "Requirement already satisfied: mpmath<1.4,>=1.1.0 in /usr/local/lib/python3.11/dist-packages (from sympy==1.13.1->torch>=2.2->transformer-lens==0.0.0) (1.3.0)\n",
            "Requirement already satisfied: regex!=2019.12.17 in /usr/local/lib/python3.11/dist-packages (from transformers>=4.43->transformer-lens==0.0.0) (2024.11.6)\n",
            "Requirement already satisfied: tokenizers<0.22,>=0.21 in /usr/local/lib/python3.11/dist-packages (from transformers>=4.43->transformer-lens==0.0.0) (0.21.0)\n",
            "Requirement already satisfied: click!=8.0.0,>=7.1 in /usr/local/lib/python3.11/dist-packages (from wandb>=0.13.5->transformer-lens==0.0.0) (8.1.8)\n",
            "Requirement already satisfied: docker-pycreds>=0.4.0 in /usr/local/lib/python3.11/dist-packages (from wandb>=0.13.5->transformer-lens==0.0.0) (0.4.0)\n",
            "Requirement already satisfied: gitpython!=3.1.29,>=1.0.0 in /usr/local/lib/python3.11/dist-packages (from wandb>=0.13.5->transformer-lens==0.0.0) (3.1.44)\n",
            "Requirement already satisfied: platformdirs in /usr/local/lib/python3.11/dist-packages (from wandb>=0.13.5->transformer-lens==0.0.0) (4.3.6)\n",
            "Requirement already satisfied: protobuf!=4.21.0,!=5.28.0,<6,>=3.19.0 in /usr/local/lib/python3.11/dist-packages (from wandb>=0.13.5->transformer-lens==0.0.0) (4.25.6)\n",
            "Requirement already satisfied: pydantic<3,>=2.6 in /usr/local/lib/python3.11/dist-packages (from wandb>=0.13.5->transformer-lens==0.0.0) (2.10.6)\n",
            "Requirement already satisfied: sentry-sdk>=2.0.0 in /usr/local/lib/python3.11/dist-packages (from wandb>=0.13.5->transformer-lens==0.0.0) (2.22.0)\n",
            "Requirement already satisfied: setproctitle in /usr/local/lib/python3.11/dist-packages (from wandb>=0.13.5->transformer-lens==0.0.0) (1.3.4)\n",
            "Requirement already satisfied: setuptools in /usr/local/lib/python3.11/dist-packages (from wandb>=0.13.5->transformer-lens==0.0.0) (75.1.0)\n",
            "Requirement already satisfied: six>=1.4.0 in /usr/local/lib/python3.11/dist-packages (from docker-pycreds>=0.4.0->wandb>=0.13.5->transformer-lens==0.0.0) (1.17.0)\n",
            "Requirement already satisfied: aiohappyeyeballs>=2.3.0 in /usr/local/lib/python3.11/dist-packages (from aiohttp->datasets>=2.7.1->transformer-lens==0.0.0) (2.4.6)\n",
            "Requirement already satisfied: aiosignal>=1.1.2 in /usr/local/lib/python3.11/dist-packages (from aiohttp->datasets>=2.7.1->transformer-lens==0.0.0) (1.3.2)\n",
            "Requirement already satisfied: attrs>=17.3.0 in /usr/local/lib/python3.11/dist-packages (from aiohttp->datasets>=2.7.1->transformer-lens==0.0.0) (25.1.0)\n",
            "Requirement already satisfied: frozenlist>=1.1.1 in /usr/local/lib/python3.11/dist-packages (from aiohttp->datasets>=2.7.1->transformer-lens==0.0.0) (1.5.0)\n",
            "Requirement already satisfied: multidict<7.0,>=4.5 in /usr/local/lib/python3.11/dist-packages (from aiohttp->datasets>=2.7.1->transformer-lens==0.0.0) (6.1.0)\n",
            "Requirement already satisfied: propcache>=0.2.0 in /usr/local/lib/python3.11/dist-packages (from aiohttp->datasets>=2.7.1->transformer-lens==0.0.0) (0.2.1)\n",
            "Requirement already satisfied: yarl<2.0,>=1.17.0 in /usr/local/lib/python3.11/dist-packages (from aiohttp->datasets>=2.7.1->transformer-lens==0.0.0) (1.18.3)\n",
            "Requirement already satisfied: gitdb<5,>=4.0.1 in /usr/local/lib/python3.11/dist-packages (from gitpython!=3.1.29,>=1.0.0->wandb>=0.13.5->transformer-lens==0.0.0) (4.0.12)\n",
            "Requirement already satisfied: mdurl~=0.1 in /usr/local/lib/python3.11/dist-packages (from markdown-it-py>=2.2.0->rich>=12.6.0->transformer-lens==0.0.0) (0.1.2)\n",
            "Requirement already satisfied: annotated-types>=0.6.0 in /usr/local/lib/python3.11/dist-packages (from pydantic<3,>=2.6->wandb>=0.13.5->transformer-lens==0.0.0) (0.7.0)\n",
            "Requirement already satisfied: pydantic-core==2.27.2 in /usr/local/lib/python3.11/dist-packages (from pydantic<3,>=2.6->wandb>=0.13.5->transformer-lens==0.0.0) (2.27.2)\n",
            "Requirement already satisfied: charset-normalizer<4,>=2 in /usr/local/lib/python3.11/dist-packages (from requests>=2.32.2->datasets>=2.7.1->transformer-lens==0.0.0) (3.4.1)\n",
            "Requirement already satisfied: idna<4,>=2.5 in /usr/local/lib/python3.11/dist-packages (from requests>=2.32.2->datasets>=2.7.1->transformer-lens==0.0.0) (3.10)\n",
            "Requirement already satisfied: urllib3<3,>=1.21.1 in /usr/local/lib/python3.11/dist-packages (from requests>=2.32.2->datasets>=2.7.1->transformer-lens==0.0.0) (2.3.0)\n",
            "Requirement already satisfied: certifi>=2017.4.17 in /usr/local/lib/python3.11/dist-packages (from requests>=2.32.2->datasets>=2.7.1->transformer-lens==0.0.0) (2025.1.31)\n",
            "Requirement already satisfied: MarkupSafe>=2.0 in /usr/local/lib/python3.11/dist-packages (from jinja2->torch>=2.2->transformer-lens==0.0.0) (3.0.2)\n",
            "Requirement already satisfied: smmap<6,>=3.0.1 in /usr/local/lib/python3.11/dist-packages (from gitdb<5,>=4.0.1->gitpython!=3.1.29,>=1.0.0->wandb>=0.13.5->transformer-lens==0.0.0) (5.0.2)\n"
          ]
        }
      ],
      "source": [
        "%pip install git+https://github.com/neelnanda-io/TransformerLens.git"
      ]
    },
    {
      "cell_type": "code",
      "execution_count": null,
      "metadata": {
        "id": "NLlAiywjifqi"
      },
      "outputs": [],
      "source": [
        "import torch\n",
        "import torch.nn as nn\n",
        "import torch.nn.functional as F\n",
        "import torch.optim as optim\n",
        "import numpy as np\n",
        "import einops\n",
        "from fancy_einsum import einsum\n",
        "import tqdm.notebook as tqdm\n",
        "import random\n",
        "from pathlib import Path\n",
        "# import plotly.express as px\n",
        "from torch.utils.data import DataLoader\n",
        "\n",
        "from jaxtyping import Float, Int\n",
        "from typing import List, Union, Optional\n",
        "from functools import partial\n",
        "import copy\n",
        "\n",
        "import itertools\n",
        "from transformers import AutoModelForCausalLM, AutoConfig, AutoTokenizer\n",
        "import dataclasses\n",
        "import datasets\n",
        "from IPython.display import HTML\n",
        "\n",
        "import pickle\n",
        "from google.colab import files\n",
        "\n",
        "import matplotlib.pyplot as plt\n",
        "import statistics"
      ]
    },
    {
      "cell_type": "code",
      "execution_count": null,
      "metadata": {
        "id": "xmp2SjdQigfz"
      },
      "outputs": [],
      "source": [
        "import transformer_lens\n",
        "import transformer_lens.utils as utils\n",
        "from transformer_lens.hook_points import (\n",
        "    HookedRootModule,\n",
        "    HookPoint,\n",
        ")  # Hooking utilities\n",
        "from transformer_lens import HookedTransformer, HookedTransformerConfig, FactoredMatrix, ActivationCache"
      ]
    },
    {
      "cell_type": "code",
      "execution_count": null,
      "metadata": {
        "colab": {
          "base_uri": "https://localhost:8080/"
        },
        "id": "uc9uORojihTM",
        "outputId": "56e25428-6bf6-4dcd-af74-8f3660831a89"
      },
      "outputs": [
        {
          "output_type": "execute_result",
          "data": {
            "text/plain": [
              "<torch.autograd.grad_mode.set_grad_enabled at 0x7f706a82a990>"
            ]
          },
          "metadata": {},
          "execution_count": 21
        }
      ],
      "source": [
        "torch.set_grad_enabled(False)"
      ]
    },
    {
      "cell_type": "code",
      "execution_count": null,
      "metadata": {
        "colab": {
          "base_uri": "https://localhost:8080/"
        },
        "id": "rIzqoLRQih8r",
        "outputId": "63518ced-148b-430e-e97a-4a81ba92b953"
      },
      "outputs": [
        {
          "output_type": "stream",
          "name": "stdout",
          "text": [
            "Loaded pretrained model gpt2-small into HookedTransformer\n"
          ]
        }
      ],
      "source": [
        "model = HookedTransformer.from_pretrained(\n",
        "    model_name,\n",
        "    center_unembed=True,\n",
        "    center_writing_weights=True,\n",
        "    fold_ln=True,\n",
        "    refactor_factored_attn_matrices=True,\n",
        ")"
      ]
    },
    {
      "cell_type": "code",
      "execution_count": null,
      "metadata": {
        "colab": {
          "base_uri": "https://localhost:8080/"
        },
        "id": "G5rDOUaOii8i",
        "outputId": "9a941c1e-5f07-4ea4-f466-9efb4ff901b6"
      },
      "outputs": [
        {
          "output_type": "stream",
          "name": "stdout",
          "text": [
            "Cloning into 'seqcont_circuits'...\n",
            "remote: Enumerating objects: 1098, done.\u001b[K\n",
            "remote: Counting objects: 100% (564/564), done.\u001b[K\n",
            "remote: Compressing objects: 100% (327/327), done.\u001b[K\n",
            "remote: Total 1098 (delta 353), reused 430 (delta 226), pack-reused 534 (from 1)\u001b[K\n",
            "Receiving objects: 100% (1098/1098), 19.99 MiB | 17.08 MiB/s, done.\n",
            "Resolving deltas: 100% (716/716), done.\n"
          ]
        }
      ],
      "source": [
        "!git clone https://github.com/apartresearch/seqcont_circuits.git"
      ]
    },
    {
      "cell_type": "code",
      "execution_count": null,
      "metadata": {
        "colab": {
          "base_uri": "https://localhost:8080/"
        },
        "id": "AdGdFHArijoX",
        "outputId": "c67e436d-fc9a-495c-80fb-9ef2d8a93c90"
      },
      "outputs": [
        {
          "output_type": "stream",
          "name": "stdout",
          "text": [
            "/content/seqcont_circuits/src/iter_node_pruning\n",
            "/content/seqcont_circuits/src\n",
            "/content/seqcont_circuits/src/iter_node_pruning\n"
          ]
        }
      ],
      "source": [
        "%cd seqcont_circuits/src/iter_node_pruning\n",
        "from dataset import Dataset\n",
        "%cd ..\n",
        "from generate_data import *\n",
        "%cd iter_node_pruning\n",
        "from metrics import *\n",
        "from head_ablation_fns import *\n",
        "from mlp_ablation_fns import *\n",
        "from node_ablation_fns import *\n",
        "from loop_node_ablation_fns import *"
      ]
    },
    {
      "cell_type": "code",
      "execution_count": null,
      "metadata": {
        "colab": {
          "base_uri": "https://localhost:8080/"
        },
        "id": "l0Lj1G7OikT4",
        "outputId": "b166d8d6-1c15-4d3e-9ca6-4c642c8e89e0"
      },
      "outputs": [
        {
          "output_type": "stream",
          "name": "stdout",
          "text": [
            "Van done in 1. Hat done in 2. Ring done in 3. Desk done in 4. Sun done in\n",
            "Oil lost in 1. Apple lost in 2. Tree lost in 3. Snow lost in 4. Apple lost in\n",
            "Marcus born in 1. Victoria born in 2. George born in 3. Brandon born in 4. Jamie born in\n"
          ]
        },
        {
          "output_type": "execute_result",
          "data": {
            "text/plain": [
              "1536"
            ]
          },
          "metadata": {},
          "execution_count": 25
        }
      ],
      "source": [
        "prompts_list = []\n",
        "\n",
        "for i in prompt_types:\n",
        "    file_name = f'/content/seqcont_circuits/data/{task}/{task}_prompts_{i}.pkl'\n",
        "    with open(file_name, 'rb') as file:\n",
        "        filelist = pickle.load(file)\n",
        "\n",
        "    print(filelist[0]['text'])\n",
        "    prompts_list += filelist [:num_samps_per_ptype]\n",
        "\n",
        "len(prompts_list)"
      ]
    },
    {
      "cell_type": "code",
      "execution_count": null,
      "metadata": {
        "id": "-SRgJ4wRilE1"
      },
      "outputs": [],
      "source": [
        "pos_dict = {}\n",
        "for i in range(len(model.tokenizer.tokenize(prompts_list[0]['text']))):\n",
        "    pos_dict['S'+str(i)] = i"
      ]
    },
    {
      "cell_type": "code",
      "execution_count": null,
      "metadata": {
        "id": "LPyB0KVhilwK"
      },
      "outputs": [],
      "source": [
        "dataset = Dataset(prompts_list, pos_dict, model.tokenizer)"
      ]
    },
    {
      "cell_type": "code",
      "execution_count": null,
      "metadata": {
        "id": "-k5bBgmaimVj"
      },
      "outputs": [],
      "source": [
        "file_name = f'/content/seqcont_circuits/data/{task}/randDS_{task}.pkl'\n",
        "with open(file_name, 'rb') as file:\n",
        "    prompts_list_2 = pickle.load(file)"
      ]
    },
    {
      "cell_type": "code",
      "execution_count": null,
      "metadata": {
        "id": "pBk9yQ_tinFE"
      },
      "outputs": [],
      "source": [
        "dataset_2 = Dataset(prompts_list_2, pos_dict, model.tokenizer)"
      ]
    },
    {
      "cell_type": "markdown",
      "metadata": {
        "id": "8ewV3lErinY0"
      },
      "source": [
        "## Get Original Score"
      ]
    },
    {
      "cell_type": "code",
      "execution_count": null,
      "metadata": {
        "id": "ouww1uEDipCS"
      },
      "outputs": [],
      "source": [
        "model.reset_hooks(including_permanent=True)\n",
        "logits_original = model(dataset.toks)\n",
        "orig_score = get_logit_diff(logits_original, dataset)"
      ]
    },
    {
      "cell_type": "code",
      "execution_count": null,
      "metadata": {
        "colab": {
          "base_uri": "https://localhost:8080/"
        },
        "id": "Scswl8GriqYz",
        "outputId": "dac14da6-c93c-4a77-8524-295b6f753305"
      },
      "outputs": [
        {
          "output_type": "execute_result",
          "data": {
            "text/plain": [
              "319"
            ]
          },
          "metadata": {},
          "execution_count": 31
        }
      ],
      "source": [
        "import gc\n",
        "\n",
        "del(logits_original)\n",
        "torch.cuda.empty_cache()\n",
        "gc.collect()"
      ]
    },
    {
      "cell_type": "markdown",
      "metadata": {
        "id": "4L8gIIByirbm"
      },
      "source": [
        "## Find important attention heads from full"
      ]
    },
    {
      "cell_type": "code",
      "execution_count": null,
      "metadata": {
        "colab": {
          "base_uri": "https://localhost:8080/"
        },
        "id": "rfPxoCq-iqxU",
        "outputId": "4396e6d9-697c-41fc-9e0f-256000aa4003"
      },
      "outputs": [
        {
          "output_type": "stream",
          "name": "stdout",
          "text": [
            "removed: (0, 0)\n",
            "Average logit difference (circuit / full) %: 100.5297\n",
            "removed: (0, 1)\n",
            "Average logit difference (circuit / full) %: 95.4027\n",
            "removed: (0, 2)\n",
            "Average logit difference (circuit / full) %: 99.8729\n",
            "removed: (0, 3)\n",
            "Average logit difference (circuit / full) %: 99.8523\n",
            "removed: (0, 4)\n",
            "Average logit difference (circuit / full) %: 100.4899\n",
            "removed: (0, 5)\n",
            "Average logit difference (circuit / full) %: 99.5256\n",
            "removed: (0, 6)\n",
            "Average logit difference (circuit / full) %: 100.4831\n",
            "removed: (0, 7)\n",
            "Average logit difference (circuit / full) %: 100.5415\n",
            "removed: (0, 8)\n",
            "Average logit difference (circuit / full) %: 100.3577\n",
            "removed: (0, 9)\n",
            "Average logit difference (circuit / full) %: 99.3904\n",
            "removed: (0, 10)\n",
            "Average logit difference (circuit / full) %: 100.0237\n",
            "removed: (0, 11)\n",
            "Average logit difference (circuit / full) %: 99.9453\n",
            "removed: (1, 0)\n",
            "Average logit difference (circuit / full) %: 100.4371\n",
            "removed: (1, 1)\n",
            "Average logit difference (circuit / full) %: 100.0699\n",
            "removed: (1, 2)\n",
            "Average logit difference (circuit / full) %: 99.9659\n",
            "removed: (1, 3)\n",
            "Average logit difference (circuit / full) %: 99.9729\n",
            "removed: (1, 4)\n",
            "Average logit difference (circuit / full) %: 99.7193\n",
            "removed: (1, 5)\n",
            "Average logit difference (circuit / full) %: 85.6988\n",
            "removed: (1, 6)\n",
            "Average logit difference (circuit / full) %: 100.7026\n",
            "removed: (1, 7)\n",
            "Average logit difference (circuit / full) %: 100.9377\n",
            "removed: (1, 8)\n",
            "Average logit difference (circuit / full) %: 100.1227\n",
            "removed: (1, 9)\n",
            "Average logit difference (circuit / full) %: 99.8413\n",
            "removed: (1, 10)\n",
            "Average logit difference (circuit / full) %: 100.1293\n",
            "removed: (1, 11)\n",
            "Average logit difference (circuit / full) %: 99.4119\n",
            "removed: (2, 0)\n",
            "Average logit difference (circuit / full) %: 99.6492\n",
            "removed: (2, 1)\n",
            "Average logit difference (circuit / full) %: 100.3600\n",
            "removed: (2, 2)\n",
            "Average logit difference (circuit / full) %: 98.9365\n",
            "removed: (2, 3)\n",
            "Average logit difference (circuit / full) %: 99.9558\n",
            "removed: (2, 4)\n",
            "Average logit difference (circuit / full) %: 100.4106\n",
            "removed: (2, 5)\n",
            "Average logit difference (circuit / full) %: 99.8299\n",
            "removed: (2, 6)\n",
            "Average logit difference (circuit / full) %: 99.5089\n",
            "removed: (2, 7)\n",
            "Average logit difference (circuit / full) %: 99.8105\n",
            "removed: (2, 8)\n",
            "Average logit difference (circuit / full) %: 99.5664\n",
            "removed: (2, 9)\n",
            "Average logit difference (circuit / full) %: 100.2645\n",
            "removed: (2, 10)\n",
            "Average logit difference (circuit / full) %: 99.7989\n",
            "removed: (2, 11)\n",
            "Average logit difference (circuit / full) %: 99.9415\n",
            "removed: (3, 0)\n",
            "Average logit difference (circuit / full) %: 98.0508\n",
            "removed: (3, 1)\n",
            "Average logit difference (circuit / full) %: 99.9271\n",
            "removed: (3, 2)\n",
            "Average logit difference (circuit / full) %: 99.8502\n",
            "removed: (3, 3)\n",
            "Average logit difference (circuit / full) %: 99.5719\n",
            "removed: (3, 4)\n",
            "Average logit difference (circuit / full) %: 100.2785\n",
            "removed: (3, 5)\n",
            "Average logit difference (circuit / full) %: 100.3090\n",
            "removed: (3, 6)\n",
            "Average logit difference (circuit / full) %: 99.4938\n",
            "removed: (3, 7)\n",
            "Average logit difference (circuit / full) %: 99.9877\n",
            "removed: (3, 8)\n",
            "Average logit difference (circuit / full) %: 100.1828\n",
            "removed: (3, 9)\n",
            "Average logit difference (circuit / full) %: 100.4102\n",
            "removed: (3, 10)\n",
            "Average logit difference (circuit / full) %: 100.7613\n",
            "removed: (3, 11)\n",
            "Average logit difference (circuit / full) %: 100.5216\n",
            "removed: (4, 0)\n",
            "Average logit difference (circuit / full) %: 100.2260\n",
            "removed: (4, 1)\n",
            "Average logit difference (circuit / full) %: 100.3601\n",
            "removed: (4, 2)\n",
            "Average logit difference (circuit / full) %: 100.3210\n",
            "removed: (4, 3)\n",
            "Average logit difference (circuit / full) %: 100.4623\n",
            "removed: (4, 4)\n",
            "Average logit difference (circuit / full) %: 86.8991\n",
            "removed: (4, 5)\n",
            "Average logit difference (circuit / full) %: 100.0024\n",
            "removed: (4, 6)\n",
            "Average logit difference (circuit / full) %: 100.5750\n",
            "removed: (4, 7)\n",
            "Average logit difference (circuit / full) %: 97.3680\n",
            "removed: (4, 8)\n",
            "Average logit difference (circuit / full) %: 99.5027\n",
            "removed: (4, 9)\n",
            "Average logit difference (circuit / full) %: 100.3500\n",
            "removed: (4, 10)\n",
            "Average logit difference (circuit / full) %: 100.5333\n",
            "removed: (4, 11)\n",
            "Average logit difference (circuit / full) %: 99.9012\n",
            "removed: (5, 0)\n",
            "Average logit difference (circuit / full) %: 96.1368\n",
            "removed: (5, 1)\n",
            "Average logit difference (circuit / full) %: 102.2062\n",
            "removed: (5, 2)\n",
            "Average logit difference (circuit / full) %: 100.4144\n",
            "removed: (5, 3)\n",
            "Average logit difference (circuit / full) %: 100.5682\n",
            "removed: (5, 4)\n",
            "Average logit difference (circuit / full) %: 99.6591\n",
            "removed: (5, 5)\n",
            "Average logit difference (circuit / full) %: 99.9049\n",
            "removed: (5, 6)\n",
            "Average logit difference (circuit / full) %: 100.3228\n",
            "removed: (5, 7)\n",
            "Average logit difference (circuit / full) %: 100.2777\n",
            "removed: (5, 8)\n",
            "Average logit difference (circuit / full) %: 99.9153\n",
            "removed: (5, 9)\n",
            "Average logit difference (circuit / full) %: 98.9406\n",
            "removed: (5, 10)\n",
            "Average logit difference (circuit / full) %: 100.3626\n",
            "removed: (5, 11)\n",
            "Average logit difference (circuit / full) %: 98.5479\n",
            "removed: (6, 0)\n",
            "Average logit difference (circuit / full) %: 100.0226\n",
            "removed: (6, 1)\n",
            "Average logit difference (circuit / full) %: 97.8721\n",
            "removed: (6, 2)\n",
            "Average logit difference (circuit / full) %: 100.0328\n",
            "removed: (6, 3)\n",
            "Average logit difference (circuit / full) %: 100.3975\n",
            "removed: (6, 4)\n",
            "Average logit difference (circuit / full) %: 100.9319\n",
            "removed: (6, 5)\n",
            "Average logit difference (circuit / full) %: 99.4345\n",
            "removed: (6, 6)\n",
            "Average logit difference (circuit / full) %: 92.8436\n",
            "removed: (6, 7)\n",
            "Average logit difference (circuit / full) %: 99.8137\n",
            "removed: (6, 8)\n",
            "Average logit difference (circuit / full) %: 99.3121\n",
            "removed: (6, 9)\n",
            "Average logit difference (circuit / full) %: 98.9078\n",
            "removed: (6, 10)\n",
            "Average logit difference (circuit / full) %: 93.2873\n",
            "removed: (6, 11)\n",
            "Average logit difference (circuit / full) %: 100.4142\n",
            "removed: (7, 0)\n",
            "Average logit difference (circuit / full) %: 99.5564\n",
            "removed: (7, 1)\n",
            "Average logit difference (circuit / full) %: 99.9810\n",
            "removed: (7, 2)\n",
            "Average logit difference (circuit / full) %: 97.7879\n",
            "removed: (7, 3)\n",
            "Average logit difference (circuit / full) %: 104.8632\n",
            "removed: (7, 4)\n",
            "Average logit difference (circuit / full) %: 99.7314\n",
            "removed: (7, 5)\n",
            "Average logit difference (circuit / full) %: 99.3929\n",
            "removed: (7, 6)\n",
            "Average logit difference (circuit / full) %: 98.3774\n",
            "removed: (7, 7)\n",
            "Average logit difference (circuit / full) %: 96.5233\n",
            "removed: (7, 8)\n",
            "Average logit difference (circuit / full) %: 99.3671\n",
            "removed: (7, 9)\n",
            "Average logit difference (circuit / full) %: 99.3561\n",
            "removed: (7, 10)\n",
            "Average logit difference (circuit / full) %: 103.3687\n",
            "removed: (7, 11)\n",
            "Average logit difference (circuit / full) %: 52.8823\n",
            "removed: (8, 0)\n",
            "Average logit difference (circuit / full) %: 100.9265\n",
            "removed: (8, 1)\n",
            "Average logit difference (circuit / full) %: 94.2443\n",
            "removed: (8, 2)\n",
            "Average logit difference (circuit / full) %: 100.5161\n",
            "removed: (8, 3)\n",
            "Average logit difference (circuit / full) %: 99.0917\n",
            "removed: (8, 4)\n",
            "Average logit difference (circuit / full) %: 99.9383\n",
            "removed: (8, 5)\n",
            "Average logit difference (circuit / full) %: 99.4102\n",
            "removed: (8, 6)\n",
            "Average logit difference (circuit / full) %: 89.1019\n",
            "removed: (8, 7)\n",
            "Average logit difference (circuit / full) %: 99.1433\n",
            "removed: (8, 8)\n",
            "Average logit difference (circuit / full) %: 86.6820\n",
            "removed: (8, 9)\n",
            "Average logit difference (circuit / full) %: 99.0696\n",
            "removed: (8, 10)\n",
            "Average logit difference (circuit / full) %: 101.3947\n",
            "removed: (8, 11)\n",
            "Average logit difference (circuit / full) %: 114.0474\n",
            "removed: (9, 0)\n",
            "Average logit difference (circuit / full) %: 99.8367\n",
            "removed: (9, 1)\n",
            "Average logit difference (circuit / full) %: 91.2204\n",
            "removed: (9, 2)\n",
            "Average logit difference (circuit / full) %: 99.9261\n",
            "removed: (9, 3)\n",
            "Average logit difference (circuit / full) %: 100.7567\n",
            "removed: (9, 4)\n",
            "Average logit difference (circuit / full) %: 99.6322\n",
            "removed: (9, 5)\n",
            "Average logit difference (circuit / full) %: 97.8036\n",
            "removed: (9, 6)\n",
            "Average logit difference (circuit / full) %: 99.9328\n",
            "removed: (9, 7)\n",
            "Average logit difference (circuit / full) %: 97.5391\n",
            "removed: (9, 8)\n",
            "Average logit difference (circuit / full) %: 100.0787\n",
            "removed: (9, 9)\n",
            "Average logit difference (circuit / full) %: 100.5625\n",
            "removed: (9, 10)\n",
            "Average logit difference (circuit / full) %: 99.7719\n",
            "removed: (9, 11)\n",
            "Average logit difference (circuit / full) %: 98.1062\n",
            "removed: (10, 0)\n",
            "Average logit difference (circuit / full) %: 100.1010\n",
            "removed: (10, 1)\n",
            "Average logit difference (circuit / full) %: 99.3078\n",
            "removed: (10, 2)\n",
            "Average logit difference (circuit / full) %: 102.6475\n",
            "removed: (10, 3)\n",
            "Average logit difference (circuit / full) %: 100.1492\n",
            "removed: (10, 4)\n",
            "Average logit difference (circuit / full) %: 100.0651\n",
            "removed: (10, 5)\n",
            "Average logit difference (circuit / full) %: 100.7215\n",
            "removed: (10, 6)\n",
            "Average logit difference (circuit / full) %: 100.0672\n",
            "removed: (10, 7)\n",
            "Average logit difference (circuit / full) %: 84.9889\n",
            "removed: (10, 8)\n",
            "Average logit difference (circuit / full) %: 100.4798\n",
            "removed: (10, 9)\n",
            "Average logit difference (circuit / full) %: 100.1998\n",
            "removed: (10, 10)\n",
            "Average logit difference (circuit / full) %: 100.8325\n",
            "removed: (10, 11)\n",
            "Average logit difference (circuit / full) %: 100.1883\n",
            "removed: (11, 0)\n",
            "Average logit difference (circuit / full) %: 99.7405\n",
            "removed: (11, 1)\n",
            "Average logit difference (circuit / full) %: 100.5139\n",
            "removed: (11, 2)\n",
            "Average logit difference (circuit / full) %: 100.4411\n",
            "removed: (11, 3)\n",
            "Average logit difference (circuit / full) %: 100.6580\n",
            "removed: (11, 4)\n",
            "Average logit difference (circuit / full) %: 100.1767\n",
            "removed: (11, 5)\n",
            "Average logit difference (circuit / full) %: 100.2704\n",
            "removed: (11, 6)\n",
            "Average logit difference (circuit / full) %: 100.2234\n",
            "removed: (11, 7)\n",
            "Average logit difference (circuit / full) %: 100.2467\n",
            "removed: (11, 8)\n",
            "Average logit difference (circuit / full) %: 99.0514\n",
            "removed: (11, 9)\n",
            "Average logit difference (circuit / full) %: 99.4772\n",
            "removed: (11, 10)\n",
            "Average logit difference (circuit / full) %: 98.7228\n",
            "removed: (11, 11)\n",
            "Average logit difference (circuit / full) %: 101.6702\n"
          ]
        }
      ],
      "source": [
        "circ = [(layer, head) for layer in range(12) for head in range(12)]\n",
        "to_loop = [(layer, head) for layer in range(12) for head in range(12)]\n",
        "\n",
        "lh_scores = {}\n",
        "for lh in to_loop:\n",
        "    copy_circuit = circ.copy()\n",
        "    copy_circuit.remove(lh)\n",
        "    print(\"removed: \" + str(lh))\n",
        "    new_score = ablate_head_from_full(copy_circuit, model, dataset, dataset_2, orig_score, print_output=True).item()\n",
        "    lh_scores[lh] = new_score"
      ]
    },
    {
      "cell_type": "code",
      "execution_count": null,
      "metadata": {
        "colab": {
          "base_uri": "https://localhost:8080/"
        },
        "id": "vskB46WUiwr_",
        "outputId": "b605e9ea-425f-42a4-f671-986c8b88163c"
      },
      "outputs": [
        {
          "output_type": "stream",
          "name": "stdout",
          "text": [
            "(7, 11) -47.12\n",
            "(10, 7) -15.01\n",
            "(1, 5) -14.3\n",
            "(8, 8) -13.32\n",
            "(4, 4) -13.1\n",
            "(8, 6) -10.9\n",
            "(9, 1) -8.78\n",
            "(6, 6) -7.16\n",
            "(6, 10) -6.71\n",
            "(8, 1) -5.76\n"
          ]
        }
      ],
      "source": [
        "# Sort the dictionary by values in descending order\n",
        "sorted_lh_scores = sorted(lh_scores.items(), key=lambda item: -item[1], reverse=True)\n",
        "\n",
        "# Iterate over the top 10 items and print them\n",
        "for lh, score in sorted_lh_scores[:10]:\n",
        "    modified_score = -round(100 - score, 2)\n",
        "    print(lh, modified_score)"
      ]
    },
    {
      "cell_type": "code",
      "execution_count": null,
      "metadata": {
        "colab": {
          "base_uri": "https://localhost:8080/",
          "height": 453
        },
        "id": "0DAqYoOXixWG",
        "outputId": "d54f76cf-7430-4533-96de-b38439a4a17b"
      },
      "outputs": [
        {
          "output_type": "display_data",
          "data": {
            "text/plain": [
              "<IPython.core.display.Javascript object>"
            ],
            "application/javascript": [
              "\n",
              "    async function download(id, filename, size) {\n",
              "      if (!google.colab.kernel.accessAllowed) {\n",
              "        return;\n",
              "      }\n",
              "      const div = document.createElement('div');\n",
              "      const label = document.createElement('label');\n",
              "      label.textContent = `Downloading \"${filename}\": `;\n",
              "      div.appendChild(label);\n",
              "      const progress = document.createElement('progress');\n",
              "      progress.max = size;\n",
              "      div.appendChild(progress);\n",
              "      document.body.appendChild(div);\n",
              "\n",
              "      const buffers = [];\n",
              "      let downloaded = 0;\n",
              "\n",
              "      const channel = await google.colab.kernel.comms.open(id);\n",
              "      // Send a message to notify the kernel that we're ready.\n",
              "      channel.send({})\n",
              "\n",
              "      for await (const message of channel.messages) {\n",
              "        // Send a message to notify the kernel that we're ready.\n",
              "        channel.send({})\n",
              "        if (message.buffers) {\n",
              "          for (const buffer of message.buffers) {\n",
              "            buffers.push(buffer);\n",
              "            downloaded += buffer.byteLength;\n",
              "            progress.value = downloaded;\n",
              "          }\n",
              "        }\n",
              "      }\n",
              "      const blob = new Blob(buffers, {type: 'application/binary'});\n",
              "      const a = document.createElement('a');\n",
              "      a.href = window.URL.createObjectURL(blob);\n",
              "      a.download = filename;\n",
              "      div.appendChild(a);\n",
              "      a.click();\n",
              "      div.remove();\n",
              "    }\n",
              "  "
            ]
          },
          "metadata": {}
        },
        {
          "output_type": "display_data",
          "data": {
            "text/plain": [
              "<IPython.core.display.Javascript object>"
            ],
            "application/javascript": [
              "download(\"download_b4762891-b3be-4174-bcc3-ddc318dae3f1\", \"lh_scores_distribution.pdf\", 14753)"
            ]
          },
          "metadata": {}
        },
        {
          "output_type": "display_data",
          "data": {
            "text/plain": [
              "<Figure size 640x480 with 1 Axes>"
            ],
            "image/png": "[encoded data removed]"
          },
          "metadata": {}
        }
      ],
      "source": [
        "lh_scores_drop = {key: min(0, val-100) for key, val in lh_scores.items()}\n",
        "scores = list(lh_scores_drop.values())\n",
        "plt.hist(scores, bins=10, edgecolor='black')\n",
        "n, bins, patches = plt.hist(scores, bins=10, edgecolor='black')\n",
        "\n",
        "for i in range(len(n)):\n",
        "    plt.text(bins[i]+5, n[i], str(int(n[i])), va='bottom', ha='center')\n",
        "\n",
        "plt.xticks(range(-100, 0, 10))\n",
        "plt.xlabel('Percentage Drop from Full Performance')\n",
        "plt.ylabel('Number of Attention Heads')\n",
        "\n",
        "if save_files:\n",
        "    pdf_filename = 'lh_scores_distribution.pdf'\n",
        "    plt.savefig(pdf_filename)\n",
        "    files.download(pdf_filename)"
      ]
    },
    {
      "cell_type": "code",
      "execution_count": null,
      "metadata": {
        "colab": {
          "base_uri": "https://localhost:8080/",
          "height": 35
        },
        "id": "bmaZsKm5iyHD",
        "outputId": "cefce6da-2238-4f0e-d123-a524b60c5c08"
      },
      "outputs": [
        {
          "output_type": "stream",
          "name": "stdout",
          "text": [
            "Mean of the scores: -1.3512518670823839\n"
          ]
        },
        {
          "output_type": "display_data",
          "data": {
            "text/plain": [
              "<IPython.core.display.Javascript object>"
            ],
            "application/javascript": [
              "\n",
              "    async function download(id, filename, size) {\n",
              "      if (!google.colab.kernel.accessAllowed) {\n",
              "        return;\n",
              "      }\n",
              "      const div = document.createElement('div');\n",
              "      const label = document.createElement('label');\n",
              "      label.textContent = `Downloading \"${filename}\": `;\n",
              "      div.appendChild(label);\n",
              "      const progress = document.createElement('progress');\n",
              "      progress.max = size;\n",
              "      div.appendChild(progress);\n",
              "      document.body.appendChild(div);\n",
              "\n",
              "      const buffers = [];\n",
              "      let downloaded = 0;\n",
              "\n",
              "      const channel = await google.colab.kernel.comms.open(id);\n",
              "      // Send a message to notify the kernel that we're ready.\n",
              "      channel.send({})\n",
              "\n",
              "      for await (const message of channel.messages) {\n",
              "        // Send a message to notify the kernel that we're ready.\n",
              "        channel.send({})\n",
              "        if (message.buffers) {\n",
              "          for (const buffer of message.buffers) {\n",
              "            buffers.push(buffer);\n",
              "            downloaded += buffer.byteLength;\n",
              "            progress.value = downloaded;\n",
              "          }\n",
              "        }\n",
              "      }\n",
              "      const blob = new Blob(buffers, {type: 'application/binary'});\n",
              "      const a = document.createElement('a');\n",
              "      a.href = window.URL.createObjectURL(blob);\n",
              "      a.download = filename;\n",
              "      div.appendChild(a);\n",
              "      a.click();\n",
              "      div.remove();\n",
              "    }\n",
              "  "
            ]
          },
          "metadata": {}
        },
        {
          "output_type": "display_data",
          "data": {
            "text/plain": [
              "<IPython.core.display.Javascript object>"
            ],
            "application/javascript": [
              "download(\"download_ca413254-9469-418a-ae14-d57c0d0f9077\", \"numerals_lh_scores.pkl\", 0)"
            ]
          },
          "metadata": {}
        }
      ],
      "source": [
        "scores = list(lh_scores_drop.values())\n",
        "mean_score = statistics.mean(scores)\n",
        "print(\"Mean of the scores:\", mean_score)\n",
        "if save_files:\n",
        "    with open('numerals_lh_scores.pkl', 'wb') as file:\n",
        "        pickle.dump(lh_scores, file)\n",
        "        files.download('numerals_lh_scores.pkl')"
      ]
    },
    {
      "cell_type": "markdown",
      "metadata": {
        "id": "MXmQATU2iyyi"
      },
      "source": [
        "## Find important MLPs from Full"
      ]
    },
    {
      "cell_type": "code",
      "execution_count": null,
      "metadata": {
        "colab": {
          "base_uri": "https://localhost:8080/"
        },
        "id": "YDgZkpuni04h",
        "outputId": "1992123d-65d1-419d-cc90-85385948ebb5"
      },
      "outputs": [
        {
          "output_type": "stream",
          "name": "stdout",
          "text": [
            "0 37.41879653930664\n",
            "1 90.71995544433594\n",
            "2 97.31859588623047\n",
            "3 97.33329772949219\n",
            "4 85.80693817138672\n",
            "5 87.35527038574219\n",
            "6 84.16661834716797\n",
            "7 88.09789276123047\n",
            "8 74.81220245361328\n",
            "9 28.667808532714844\n",
            "10 67.2945785522461\n",
            "11 78.8353271484375\n"
          ]
        }
      ],
      "source": [
        "for i in range(12):\n",
        "    lst = [layer for layer in range(12) if layer != i]\n",
        "    perc_of_orig = ablate_MLP_from_full(lst, model, dataset, dataset_2, orig_score, print_output=False).item()\n",
        "    print(i, perc_of_orig)"
      ]
    },
    {
      "cell_type": "markdown",
      "metadata": {
        "id": "k7Kf8Jm4i3YC"
      },
      "source": [
        "## Node Ablation Iteration"
      ]
    },
    {
      "cell_type": "code",
      "execution_count": null,
      "metadata": {
        "id": "3Z8MWExCi286",
        "colab": {
          "base_uri": "https://localhost:8080/"
        },
        "outputId": "28f8dd85-5401-4eb7-d2d4-6d7ccfb507b0"
      },
      "outputs": [
        {
          "output_type": "stream",
          "name": "stdout",
          "text": [
            "\n",
            "backw prune, iter  1\n",
            "11\n",
            "(cand circuit / full) %: 78.8353\n",
            "11 0\n",
            "(cand circuit / full) %: 99.7405\n",
            "Removed: (11, 0)\n",
            "11 1\n",
            "(cand circuit / full) %: 100.1990\n",
            "Removed: (11, 1)\n",
            "11 2\n",
            "(cand circuit / full) %: 100.6725\n",
            "Removed: (11, 2)\n",
            "11 3\n",
            "(cand circuit / full) %: 101.3111\n",
            "Removed: (11, 3)\n",
            "11 4\n",
            "(cand circuit / full) %: 101.5750\n",
            "Removed: (11, 4)\n",
            "11 5\n",
            "(cand circuit / full) %: 101.8257\n",
            "Removed: (11, 5)\n",
            "11 6\n",
            "(cand circuit / full) %: 102.0605\n",
            "Removed: (11, 6)\n",
            "11 7\n",
            "(cand circuit / full) %: 102.3035\n",
            "Removed: (11, 7)\n",
            "11 8\n",
            "(cand circuit / full) %: 100.9598\n",
            "Removed: (11, 8)\n",
            "11 9\n",
            "(cand circuit / full) %: 100.5795\n",
            "Removed: (11, 9)\n",
            "11 10\n",
            "(cand circuit / full) %: 99.2775\n",
            "Removed: (11, 10)\n",
            "11 11\n",
            "(cand circuit / full) %: 100.1831\n",
            "Removed: (11, 11)\n",
            "10\n",
            "(cand circuit / full) %: 63.1566\n",
            "10 0\n",
            "(cand circuit / full) %: 100.2874\n",
            "Removed: (10, 0)\n",
            "10 1\n",
            "(cand circuit / full) %: 99.4857\n",
            "Removed: (10, 1)\n",
            "10 2\n",
            "(cand circuit / full) %: 101.9173\n",
            "Removed: (10, 2)\n",
            "10 3\n",
            "(cand circuit / full) %: 102.0514\n",
            "Removed: (10, 3)\n",
            "10 4\n",
            "(cand circuit / full) %: 102.1214\n",
            "Removed: (10, 4)\n",
            "10 5\n",
            "(cand circuit / full) %: 102.7281\n",
            "Removed: (10, 5)\n",
            "10 6\n",
            "(cand circuit / full) %: 102.7854\n",
            "Removed: (10, 6)\n",
            "10 7\n",
            "(cand circuit / full) %: 87.9690\n",
            "Removed: (10, 7)\n",
            "10 8\n",
            "(cand circuit / full) %: 88.3446\n",
            "Removed: (10, 8)\n",
            "10 9\n",
            "(cand circuit / full) %: 88.4842\n",
            "Removed: (10, 9)\n",
            "10 10\n",
            "(cand circuit / full) %: 89.1500\n",
            "Removed: (10, 10)\n",
            "10 11\n",
            "(cand circuit / full) %: 89.3088\n",
            "Removed: (10, 11)\n",
            "9\n",
            "(cand circuit / full) %: 7.2906\n",
            "9 0\n",
            "(cand circuit / full) %: 89.2181\n",
            "Removed: (9, 0)\n",
            "9 1\n",
            "(cand circuit / full) %: 76.5487\n",
            "9 2\n",
            "(cand circuit / full) %: 89.0497\n",
            "Removed: (9, 2)\n",
            "9 3\n",
            "(cand circuit / full) %: 89.5788\n",
            "Removed: (9, 3)\n",
            "9 4\n",
            "(cand circuit / full) %: 89.5640\n",
            "Removed: (9, 4)\n",
            "9 5\n",
            "(cand circuit / full) %: 87.9644\n",
            "Removed: (9, 5)\n",
            "9 6\n",
            "(cand circuit / full) %: 87.3495\n",
            "Removed: (9, 6)\n",
            "9 7\n",
            "(cand circuit / full) %: 84.7396\n",
            "Removed: (9, 7)\n",
            "9 8\n",
            "(cand circuit / full) %: 84.8474\n",
            "Removed: (9, 8)\n",
            "9 9\n",
            "(cand circuit / full) %: 85.2287\n",
            "Removed: (9, 9)\n",
            "9 10\n",
            "(cand circuit / full) %: 85.1704\n",
            "Removed: (9, 10)\n",
            "9 11\n",
            "(cand circuit / full) %: 83.2985\n",
            "Removed: (9, 11)\n",
            "8\n",
            "(cand circuit / full) %: 58.9837\n",
            "8 0\n",
            "(cand circuit / full) %: 83.9423\n",
            "Removed: (8, 0)\n",
            "8 1\n",
            "(cand circuit / full) %: 77.5018\n",
            "8 2\n",
            "(cand circuit / full) %: 84.3554\n",
            "Removed: (8, 2)\n",
            "8 3\n",
            "(cand circuit / full) %: 83.8644\n",
            "Removed: (8, 3)\n",
            "8 4\n",
            "(cand circuit / full) %: 83.8362\n",
            "Removed: (8, 4)\n",
            "8 5\n",
            "(cand circuit / full) %: 83.2035\n",
            "Removed: (8, 5)\n",
            "8 6\n",
            "(cand circuit / full) %: 75.7697\n",
            "8 7\n",
            "(cand circuit / full) %: 82.4115\n",
            "Removed: (8, 7)\n",
            "8 8\n",
            "(cand circuit / full) %: 70.4846\n",
            "8 9\n",
            "(cand circuit / full) %: 79.8673\n",
            "8 10\n",
            "(cand circuit / full) %: 82.5255\n",
            "Removed: (8, 10)\n",
            "8 11\n",
            "(cand circuit / full) %: 93.9727\n",
            "Removed: (8, 11)\n",
            "7\n",
            "(cand circuit / full) %: 79.2130\n",
            "7 0\n",
            "(cand circuit / full) %: 93.2301\n",
            "Removed: (7, 0)\n",
            "7 1\n",
            "(cand circuit / full) %: 93.0061\n",
            "Removed: (7, 1)\n",
            "7 2\n",
            "(cand circuit / full) %: 90.0640\n",
            "Removed: (7, 2)\n",
            "7 3\n",
            "(cand circuit / full) %: 92.8428\n",
            "Removed: (7, 3)\n",
            "7 4\n",
            "(cand circuit / full) %: 92.6525\n",
            "Removed: (7, 4)\n",
            "7 5\n",
            "(cand circuit / full) %: 92.6146\n",
            "Removed: (7, 5)\n",
            "7 6\n",
            "(cand circuit / full) %: 91.3160\n",
            "Removed: (7, 6)\n",
            "7 7\n",
            "(cand circuit / full) %: 86.7922\n",
            "Removed: (7, 7)\n",
            "7 8\n",
            "(cand circuit / full) %: 86.5060\n",
            "Removed: (7, 8)\n",
            "7 9\n",
            "(cand circuit / full) %: 86.2513\n",
            "Removed: (7, 9)\n",
            "7 10\n",
            "(cand circuit / full) %: 83.9025\n",
            "Removed: (7, 10)\n",
            "7 11\n",
            "(cand circuit / full) %: 33.9563\n",
            "6\n",
            "(cand circuit / full) %: 62.7068\n",
            "6 0\n",
            "(cand circuit / full) %: 82.7805\n",
            "Removed: (6, 0)\n",
            "6 1\n",
            "(cand circuit / full) %: 73.4219\n",
            "6 2\n",
            "(cand circuit / full) %: 83.1813\n",
            "Removed: (6, 2)\n",
            "6 3\n",
            "(cand circuit / full) %: 83.1815\n",
            "Removed: (6, 3)\n",
            "6 4\n",
            "(cand circuit / full) %: 83.4584\n",
            "Removed: (6, 4)\n",
            "6 5\n",
            "(cand circuit / full) %: 84.5836\n",
            "Removed: (6, 5)\n",
            "6 6\n",
            "(cand circuit / full) %: 76.9781\n",
            "6 7\n",
            "(cand circuit / full) %: 84.7219\n",
            "Removed: (6, 7)\n",
            "6 8\n",
            "(cand circuit / full) %: 82.8792\n",
            "Removed: (6, 8)\n",
            "6 9\n",
            "(cand circuit / full) %: 79.5551\n",
            "6 10\n",
            "(cand circuit / full) %: 70.1768\n",
            "6 11\n",
            "(cand circuit / full) %: 82.7208\n",
            "Removed: (6, 11)\n",
            "5\n",
            "(cand circuit / full) %: 75.7128\n",
            "5 0\n",
            "(cand circuit / full) %: 75.1566\n",
            "5 1\n",
            "(cand circuit / full) %: 83.7863\n",
            "Removed: (5, 1)\n",
            "5 2\n",
            "(cand circuit / full) %: 83.4425\n",
            "Removed: (5, 2)\n",
            "5 3\n",
            "(cand circuit / full) %: 83.7751\n",
            "Removed: (5, 3)\n",
            "5 4\n",
            "(cand circuit / full) %: 83.0334\n",
            "Removed: (5, 4)\n",
            "5 5\n",
            "(cand circuit / full) %: 82.0712\n",
            "Removed: (5, 5)\n",
            "5 6\n",
            "(cand circuit / full) %: 82.7019\n",
            "Removed: (5, 6)\n",
            "5 7\n",
            "(cand circuit / full) %: 82.8125\n",
            "Removed: (5, 7)\n",
            "5 8\n",
            "(cand circuit / full) %: 80.0634\n",
            "Removed: (5, 8)\n",
            "5 9\n",
            "(cand circuit / full) %: 80.4637\n",
            "Removed: (5, 9)\n",
            "5 10\n",
            "(cand circuit / full) %: 80.6981\n",
            "Removed: (5, 10)\n",
            "5 11\n",
            "(cand circuit / full) %: 80.1010\n",
            "Removed: (5, 11)\n",
            "4\n",
            "(cand circuit / full) %: 57.8921\n",
            "4 0\n",
            "(cand circuit / full) %: 80.5547\n",
            "Removed: (4, 0)\n",
            "4 1\n",
            "(cand circuit / full) %: 80.6452\n",
            "Removed: (4, 1)\n",
            "4 2\n",
            "(cand circuit / full) %: 80.8853\n",
            "Removed: (4, 2)\n",
            "4 3\n",
            "(cand circuit / full) %: 81.2020\n",
            "Removed: (4, 3)\n",
            "4 4\n",
            "(cand circuit / full) %: 54.1250\n",
            "4 5\n",
            "(cand circuit / full) %: 81.4822\n",
            "Removed: (4, 5)\n",
            "4 6\n",
            "(cand circuit / full) %: 81.7582\n",
            "Removed: (4, 6)\n",
            "4 7\n",
            "(cand circuit / full) %: 80.9895\n",
            "Removed: (4, 7)\n",
            "4 8\n",
            "(cand circuit / full) %: 78.5300\n",
            "4 9\n",
            "(cand circuit / full) %: 81.4836\n",
            "Removed: (4, 9)\n",
            "4 10\n",
            "(cand circuit / full) %: 77.6425\n",
            "4 11\n",
            "(cand circuit / full) %: 80.5392\n",
            "Removed: (4, 11)\n",
            "3\n",
            "(cand circuit / full) %: 68.1245\n",
            "3 0\n",
            "(cand circuit / full) %: 80.8176\n",
            "Removed: (3, 0)\n",
            "3 1\n",
            "(cand circuit / full) %: 80.7236\n",
            "Removed: (3, 1)\n",
            "3 2\n",
            "(cand circuit / full) %: 80.8938\n",
            "Removed: (3, 2)\n",
            "3 3\n",
            "(cand circuit / full) %: 80.0888\n",
            "Removed: (3, 3)\n",
            "3 4\n",
            "(cand circuit / full) %: 79.8912\n",
            "3 5\n",
            "(cand circuit / full) %: 80.8782\n",
            "Removed: (3, 5)\n",
            "3 6\n",
            "(cand circuit / full) %: 80.0131\n",
            "Removed: (3, 6)\n",
            "3 7\n",
            "(cand circuit / full) %: 80.5511\n",
            "Removed: (3, 7)\n",
            "3 8\n",
            "(cand circuit / full) %: 80.6104\n",
            "Removed: (3, 8)\n",
            "3 9\n",
            "(cand circuit / full) %: 80.9137\n",
            "Removed: (3, 9)\n",
            "3 10\n",
            "(cand circuit / full) %: 81.8252\n",
            "Removed: (3, 10)\n",
            "3 11\n",
            "(cand circuit / full) %: 82.2588\n",
            "Removed: (3, 11)\n",
            "2\n",
            "(cand circuit / full) %: 66.0290\n",
            "2 0\n",
            "(cand circuit / full) %: 82.0752\n",
            "Removed: (2, 0)\n",
            "2 1\n",
            "(cand circuit / full) %: 82.8679\n",
            "Removed: (2, 1)\n",
            "2 2\n",
            "(cand circuit / full) %: 81.1715\n",
            "Removed: (2, 2)\n",
            "2 3\n",
            "(cand circuit / full) %: 81.3382\n",
            "Removed: (2, 3)\n",
            "2 4\n",
            "(cand circuit / full) %: 81.4675\n",
            "Removed: (2, 4)\n",
            "2 5\n",
            "(cand circuit / full) %: 81.3118\n",
            "Removed: (2, 5)\n",
            "2 6\n",
            "(cand circuit / full) %: 81.3443\n",
            "Removed: (2, 6)\n",
            "2 7\n",
            "(cand circuit / full) %: 81.4746\n",
            "Removed: (2, 7)\n",
            "2 8\n",
            "(cand circuit / full) %: 81.6282\n",
            "Removed: (2, 8)\n",
            "2 9\n",
            "(cand circuit / full) %: 81.6046\n",
            "Removed: (2, 9)\n",
            "2 10\n",
            "(cand circuit / full) %: 82.0036\n",
            "Removed: (2, 10)\n",
            "2 11\n",
            "(cand circuit / full) %: 82.1621\n",
            "Removed: (2, 11)\n",
            "1\n",
            "(cand circuit / full) %: 61.8230\n",
            "1 0\n",
            "(cand circuit / full) %: 81.3402\n",
            "Removed: (1, 0)\n",
            "1 1\n",
            "(cand circuit / full) %: 81.2229\n",
            "Removed: (1, 1)\n",
            "1 2\n",
            "(cand circuit / full) %: 81.1837\n",
            "Removed: (1, 2)\n",
            "1 3\n",
            "(cand circuit / full) %: 81.2042\n",
            "Removed: (1, 3)\n",
            "1 4\n",
            "(cand circuit / full) %: 81.1466\n",
            "Removed: (1, 4)\n",
            "1 5\n",
            "(cand circuit / full) %: 60.1738\n",
            "1 6\n",
            "(cand circuit / full) %: 81.6546\n",
            "Removed: (1, 6)\n",
            "1 7\n",
            "(cand circuit / full) %: 82.4752\n",
            "Removed: (1, 7)\n",
            "1 8\n",
            "(cand circuit / full) %: 82.5528\n",
            "Removed: (1, 8)\n",
            "1 9\n",
            "(cand circuit / full) %: 82.3159\n",
            "Removed: (1, 9)\n",
            "1 10\n",
            "(cand circuit / full) %: 82.3293\n",
            "Removed: (1, 10)\n",
            "1 11\n",
            "(cand circuit / full) %: 82.6571\n",
            "Removed: (1, 11)\n",
            "0\n",
            "(cand circuit / full) %: -1.6948\n",
            "0 0\n",
            "(cand circuit / full) %: 82.9212\n",
            "Removed: (0, 0)\n",
            "0 1\n",
            "(cand circuit / full) %: 36.6125\n",
            "0 2\n",
            "(cand circuit / full) %: 82.3847\n",
            "Removed: (0, 2)\n",
            "0 3\n",
            "(cand circuit / full) %: 80.5301\n",
            "Removed: (0, 3)\n",
            "0 4\n",
            "(cand circuit / full) %: 80.7124\n",
            "Removed: (0, 4)\n",
            "0 5\n",
            "(cand circuit / full) %: 78.1188\n",
            "0 6\n",
            "(cand circuit / full) %: 80.2959\n",
            "Removed: (0, 6)\n",
            "0 7\n",
            "(cand circuit / full) %: 80.3493\n",
            "Removed: (0, 7)\n",
            "0 8\n",
            "(cand circuit / full) %: 79.6707\n",
            "0 9\n",
            "(cand circuit / full) %: 78.5906\n",
            "0 10\n",
            "(cand circuit / full) %: 83.0135\n",
            "Removed: (0, 10)\n",
            "0 11\n",
            "(cand circuit / full) %: 82.9602\n",
            "Removed: (0, 11)\n",
            "\n",
            "fwd prune, iter  1\n",
            "0 0\n",
            "0 1\n",
            "(cand circuit / full) %: 43.3923\n",
            "0 2\n",
            "0 3\n",
            "0 4\n",
            "0 5\n",
            "(cand circuit / full) %: 80.5831\n",
            "Removed: (0, 5)\n",
            "0 6\n",
            "0 7\n",
            "0 8\n",
            "(cand circuit / full) %: 80.1685\n",
            "Removed: (0, 8)\n",
            "0 9\n",
            "(cand circuit / full) %: 81.2234\n",
            "Removed: (0, 9)\n",
            "0 10\n",
            "0 11\n",
            "0\n",
            "(cand circuit / full) %: -2.2386\n",
            "1 0\n",
            "1 1\n",
            "1 2\n",
            "1 3\n",
            "1 4\n",
            "1 5\n",
            "(cand circuit / full) %: 58.1016\n",
            "1 6\n",
            "1 7\n",
            "1 8\n",
            "1 9\n",
            "1 10\n",
            "1 11\n",
            "1\n",
            "(cand circuit / full) %: 58.3629\n",
            "2 0\n",
            "2 1\n",
            "2 2\n",
            "2 3\n",
            "2 4\n",
            "2 5\n",
            "2 6\n",
            "2 7\n",
            "2 8\n",
            "2 9\n",
            "2 10\n",
            "2 11\n",
            "2\n",
            "(cand circuit / full) %: 63.8373\n",
            "3 0\n",
            "3 1\n",
            "3 2\n",
            "3 3\n",
            "3 4\n",
            "(cand circuit / full) %: 80.2160\n",
            "Removed: (3, 4)\n",
            "3 5\n",
            "3 6\n",
            "3 7\n",
            "3 8\n",
            "3 9\n",
            "3 10\n",
            "3 11\n",
            "3\n",
            "(cand circuit / full) %: 66.9697\n",
            "4 0\n",
            "4 1\n",
            "4 2\n",
            "4 3\n",
            "4 4\n",
            "(cand circuit / full) %: 57.9989\n",
            "4 5\n",
            "4 6\n",
            "4 7\n",
            "4 8\n",
            "(cand circuit / full) %: 79.4665\n",
            "4 9\n",
            "4 10\n",
            "(cand circuit / full) %: 77.4528\n",
            "4 11\n",
            "4\n",
            "(cand circuit / full) %: 60.0644\n",
            "5 0\n",
            "(cand circuit / full) %: 75.2499\n",
            "5 1\n",
            "5 2\n",
            "5 3\n",
            "5 4\n",
            "5 5\n",
            "5 6\n",
            "5 7\n",
            "5 8\n",
            "5 9\n",
            "5 10\n",
            "5 11\n",
            "5\n",
            "(cand circuit / full) %: 82.5971\n",
            "Removed: MLP  5\n",
            "6 0\n",
            "6 1\n",
            "(cand circuit / full) %: 71.9324\n",
            "6 2\n",
            "6 3\n",
            "6 4\n",
            "6 5\n",
            "6 6\n",
            "(cand circuit / full) %: 76.0174\n",
            "6 7\n",
            "6 8\n",
            "6 9\n",
            "(cand circuit / full) %: 82.8842\n",
            "Removed: (6, 9)\n",
            "6 10\n",
            "(cand circuit / full) %: 69.3326\n",
            "6 11\n",
            "6\n",
            "(cand circuit / full) %: 65.4700\n",
            "7 0\n",
            "7 1\n",
            "7 2\n",
            "7 3\n",
            "7 4\n",
            "7 5\n",
            "7 6\n",
            "7 7\n",
            "7 8\n",
            "7 9\n",
            "7 10\n",
            "7 11\n",
            "(cand circuit / full) %: 40.8702\n",
            "7\n",
            "(cand circuit / full) %: 69.4214\n",
            "8 0\n",
            "8 1\n",
            "(cand circuit / full) %: 69.6507\n",
            "8 2\n",
            "8 3\n",
            "8 4\n",
            "8 5\n",
            "8 6\n",
            "(cand circuit / full) %: 71.7775\n",
            "8 7\n",
            "8 8\n",
            "(cand circuit / full) %: 67.3842\n",
            "8 9\n",
            "(cand circuit / full) %: 78.8629\n",
            "8 10\n",
            "8 11\n",
            "8\n",
            "(cand circuit / full) %: 39.5595\n",
            "9 0\n",
            "9 1\n",
            "(cand circuit / full) %: 47.5652\n",
            "9 2\n",
            "9 3\n",
            "9 4\n",
            "9 5\n",
            "9 6\n",
            "9 7\n",
            "9 8\n",
            "9 9\n",
            "9 10\n",
            "9 11\n",
            "9\n",
            "(cand circuit / full) %: 22.2729\n",
            "10 0\n",
            "10 1\n",
            "10 2\n",
            "10 3\n",
            "10 4\n",
            "10 5\n",
            "10 6\n",
            "10 7\n",
            "10 8\n",
            "10 9\n",
            "10 10\n",
            "10 11\n",
            "10\n",
            "(cand circuit / full) %: 43.1090\n",
            "11 0\n",
            "11 1\n",
            "11 2\n",
            "11 3\n",
            "11 4\n",
            "11 5\n",
            "11 6\n",
            "11 7\n",
            "11 8\n",
            "11 9\n",
            "11 10\n",
            "11 11\n",
            "11\n",
            "(cand circuit / full) %: 58.2555\n",
            "\n",
            "backw prune, iter  2\n",
            "11\n",
            "(cand circuit / full) %: 58.2555\n",
            "11 0\n",
            "11 1\n",
            "11 2\n",
            "11 3\n",
            "11 4\n",
            "11 5\n",
            "11 6\n",
            "11 7\n",
            "11 8\n",
            "11 9\n",
            "11 10\n",
            "11 11\n",
            "10\n",
            "(cand circuit / full) %: 43.1090\n",
            "10 0\n",
            "10 1\n",
            "10 2\n",
            "10 3\n",
            "10 4\n",
            "10 5\n",
            "10 6\n",
            "10 7\n",
            "10 8\n",
            "10 9\n",
            "10 10\n",
            "10 11\n",
            "9\n",
            "(cand circuit / full) %: 22.2729\n",
            "9 0\n",
            "9 1\n",
            "(cand circuit / full) %: 47.5652\n",
            "9 2\n",
            "9 3\n",
            "9 4\n",
            "9 5\n",
            "9 6\n",
            "9 7\n",
            "9 8\n",
            "9 9\n",
            "9 10\n",
            "9 11\n",
            "8\n",
            "(cand circuit / full) %: 39.5595\n",
            "8 0\n",
            "8 1\n",
            "(cand circuit / full) %: 69.6507\n",
            "8 2\n",
            "8 3\n",
            "8 4\n",
            "8 5\n",
            "8 6\n",
            "(cand circuit / full) %: 71.7775\n",
            "8 7\n",
            "8 8\n",
            "(cand circuit / full) %: 67.3842\n",
            "8 9\n",
            "(cand circuit / full) %: 78.8629\n",
            "8 10\n",
            "8 11\n",
            "7\n",
            "(cand circuit / full) %: 69.4214\n",
            "7 0\n",
            "7 1\n",
            "7 2\n",
            "7 3\n",
            "7 4\n",
            "7 5\n",
            "7 6\n",
            "7 7\n",
            "7 8\n",
            "7 9\n",
            "7 10\n",
            "7 11\n",
            "(cand circuit / full) %: 40.8702\n",
            "6\n",
            "(cand circuit / full) %: 65.4700\n",
            "6 0\n",
            "6 1\n",
            "(cand circuit / full) %: 72.3136\n",
            "6 2\n",
            "6 3\n",
            "6 4\n",
            "6 5\n",
            "6 6\n",
            "(cand circuit / full) %: 75.6003\n",
            "6 7\n",
            "6 8\n",
            "6 9\n",
            "6 10\n",
            "(cand circuit / full) %: 69.3326\n",
            "6 11\n",
            "5\n",
            "5 0\n",
            "(cand circuit / full) %: 77.5448\n",
            "5 1\n",
            "5 2\n",
            "5 3\n",
            "5 4\n",
            "5 5\n",
            "5 6\n",
            "5 7\n",
            "5 8\n",
            "5 9\n",
            "5 10\n",
            "5 11\n",
            "4\n",
            "(cand circuit / full) %: 49.8689\n",
            "4 0\n",
            "4 1\n",
            "4 2\n",
            "4 3\n",
            "4 4\n",
            "(cand circuit / full) %: 51.5662\n",
            "4 5\n",
            "4 6\n",
            "4 7\n",
            "4 8\n",
            "(cand circuit / full) %: 81.0075\n",
            "Removed: (4, 8)\n",
            "4 9\n",
            "4 10\n",
            "(cand circuit / full) %: 76.1406\n",
            "4 11\n",
            "3\n",
            "(cand circuit / full) %: 66.3454\n",
            "3 0\n",
            "3 1\n",
            "3 2\n",
            "3 3\n",
            "3 4\n",
            "3 5\n",
            "3 6\n",
            "3 7\n",
            "3 8\n",
            "3 9\n",
            "3 10\n",
            "3 11\n",
            "2\n",
            "(cand circuit / full) %: 58.5339\n",
            "2 0\n",
            "2 1\n",
            "2 2\n",
            "2 3\n",
            "2 4\n",
            "2 5\n",
            "2 6\n",
            "2 7\n",
            "2 8\n",
            "2 9\n",
            "2 10\n",
            "2 11\n",
            "1\n",
            "(cand circuit / full) %: 49.0648\n",
            "1 0\n",
            "1 1\n",
            "1 2\n",
            "1 3\n",
            "1 4\n",
            "1 5\n",
            "(cand circuit / full) %: 53.1753\n",
            "1 6\n",
            "1 7\n",
            "1 8\n",
            "1 9\n",
            "1 10\n",
            "1 11\n",
            "0\n",
            "(cand circuit / full) %: -1.7543\n",
            "0 0\n",
            "0 1\n",
            "(cand circuit / full) %: 36.7205\n",
            "0 2\n",
            "0 3\n",
            "0 4\n",
            "0 5\n",
            "0 6\n",
            "0 7\n",
            "0 8\n",
            "0 9\n",
            "0 10\n",
            "0 11\n",
            "\n",
            "fwd prune, iter  2\n",
            "0 0\n",
            "0 1\n",
            "(cand circuit / full) %: 36.7205\n",
            "0 2\n",
            "0 3\n",
            "0 4\n",
            "0 5\n",
            "0 6\n",
            "0 7\n",
            "0 8\n",
            "0 9\n",
            "0 10\n",
            "0 11\n",
            "0\n",
            "(cand circuit / full) %: -1.7543\n",
            "1 0\n",
            "1 1\n",
            "1 2\n",
            "1 3\n",
            "1 4\n",
            "1 5\n",
            "(cand circuit / full) %: 53.1753\n",
            "1 6\n",
            "1 7\n",
            "1 8\n",
            "1 9\n",
            "1 10\n",
            "1 11\n",
            "1\n",
            "(cand circuit / full) %: 49.0648\n",
            "2 0\n",
            "2 1\n",
            "2 2\n",
            "2 3\n",
            "2 4\n",
            "2 5\n",
            "2 6\n",
            "2 7\n",
            "2 8\n",
            "2 9\n",
            "2 10\n",
            "2 11\n",
            "2\n",
            "(cand circuit / full) %: 58.5339\n",
            "3 0\n",
            "3 1\n",
            "3 2\n",
            "3 3\n",
            "3 4\n",
            "3 5\n",
            "3 6\n",
            "3 7\n",
            "3 8\n",
            "3 9\n",
            "3 10\n",
            "3 11\n",
            "3\n",
            "(cand circuit / full) %: 66.3454\n",
            "4 0\n",
            "4 1\n",
            "4 2\n",
            "4 3\n",
            "4 4\n",
            "(cand circuit / full) %: 47.8225\n",
            "4 5\n",
            "4 6\n",
            "4 7\n",
            "4 8\n",
            "4 9\n",
            "4 10\n",
            "(cand circuit / full) %: 76.1406\n",
            "4 11\n",
            "4\n",
            "(cand circuit / full) %: 48.1642\n",
            "5 0\n",
            "(cand circuit / full) %: 75.9875\n",
            "5 1\n",
            "5 2\n",
            "5 3\n",
            "5 4\n",
            "5 5\n",
            "5 6\n",
            "5 7\n",
            "5 8\n",
            "5 9\n",
            "5 10\n",
            "5 11\n",
            "5\n",
            "6 0\n",
            "6 1\n",
            "(cand circuit / full) %: 70.7260\n",
            "6 2\n",
            "6 3\n",
            "6 4\n",
            "6 5\n",
            "6 6\n",
            "(cand circuit / full) %: 73.4449\n",
            "6 7\n",
            "6 8\n",
            "6 9\n",
            "6 10\n",
            "(cand circuit / full) %: 67.0089\n",
            "6 11\n",
            "6\n",
            "(cand circuit / full) %: 62.8362\n",
            "7 0\n",
            "7 1\n",
            "7 2\n",
            "7 3\n",
            "7 4\n",
            "7 5\n",
            "7 6\n",
            "7 7\n",
            "7 8\n",
            "7 9\n",
            "7 10\n",
            "7 11\n",
            "(cand circuit / full) %: 39.3698\n",
            "7\n",
            "(cand circuit / full) %: 67.3300\n",
            "8 0\n",
            "8 1\n",
            "(cand circuit / full) %: 68.0800\n",
            "8 2\n",
            "8 3\n",
            "8 4\n",
            "8 5\n",
            "8 6\n",
            "(cand circuit / full) %: 69.9912\n",
            "8 7\n",
            "8 8\n",
            "(cand circuit / full) %: 65.7819\n",
            "8 9\n",
            "(cand circuit / full) %: 76.9148\n",
            "8 10\n",
            "8 11\n",
            "8\n",
            "(cand circuit / full) %: 38.9964\n",
            "9 0\n",
            "9 1\n",
            "(cand circuit / full) %: 46.0633\n",
            "9 2\n",
            "9 3\n",
            "9 4\n",
            "9 5\n",
            "9 6\n",
            "9 7\n",
            "9 8\n",
            "9 9\n",
            "9 10\n",
            "9 11\n",
            "9\n",
            "(cand circuit / full) %: 21.7066\n",
            "10 0\n",
            "10 1\n",
            "10 2\n",
            "10 3\n",
            "10 4\n",
            "10 5\n",
            "10 6\n",
            "10 7\n",
            "10 8\n",
            "10 9\n",
            "10 10\n",
            "10 11\n",
            "10\n",
            "(cand circuit / full) %: 42.1984\n",
            "11 0\n",
            "11 1\n",
            "11 2\n",
            "11 3\n",
            "11 4\n",
            "11 5\n",
            "11 6\n",
            "11 7\n",
            "11 8\n",
            "11 9\n",
            "11 10\n",
            "11 11\n",
            "11\n",
            "(cand circuit / full) %: 57.4376\n"
          ]
        }
      ],
      "source": [
        "threshold = 20\n",
        "curr_circ_heads = []\n",
        "curr_circ_mlps = []\n",
        "prev_score = 100\n",
        "new_score = 0\n",
        "iter = 1\n",
        "all_comp_scores = []\n",
        "while prev_score != new_score:\n",
        "    print('\\nbackw prune, iter ', str(iter))\n",
        "    old_circ_heads = curr_circ_heads.copy() # save old before finding new one\n",
        "    old_circ_mlps = curr_circ_mlps.copy()\n",
        "    curr_circ_heads, curr_circ_mlps, new_score, comp_scores = find_circuit_backw(model, dataset, dataset_2, curr_circ_heads, curr_circ_mlps, orig_score, threshold)\n",
        "    if old_circ_heads == curr_circ_heads and old_circ_mlps == curr_circ_mlps:\n",
        "        break\n",
        "    all_comp_scores.append(comp_scores)\n",
        "    print('\\nfwd prune, iter ', str(iter))\n",
        "    # track changes in circuit as for some reason it doesn't work with scores\n",
        "    old_circ_heads = curr_circ_heads.copy()\n",
        "    old_circ_mlps = curr_circ_mlps.copy()\n",
        "    curr_circ_heads, curr_circ_mlps, new_score, comp_scores = find_circuit_forw(model, dataset, dataset_2, curr_circ_heads, curr_circ_mlps, orig_score, threshold)\n",
        "    if old_circ_heads == curr_circ_heads and old_circ_mlps == curr_circ_mlps:\n",
        "        break\n",
        "    all_comp_scores.append(comp_scores)\n",
        "    iter += 1"
      ]
    },
    {
      "cell_type": "code",
      "execution_count": null,
      "metadata": {
        "id": "BEJ92wzUi6fK",
        "colab": {
          "base_uri": "https://localhost:8080/",
          "height": 17
        },
        "outputId": "8fb397d3-c118-4804-d36d-131dd2cb8fd8"
      },
      "outputs": [
        {
          "output_type": "display_data",
          "data": {
            "text/plain": [
              "<IPython.core.display.Javascript object>"
            ],
            "application/javascript": [
              "\n",
              "    async function download(id, filename, size) {\n",
              "      if (!google.colab.kernel.accessAllowed) {\n",
              "        return;\n",
              "      }\n",
              "      const div = document.createElement('div');\n",
              "      const label = document.createElement('label');\n",
              "      label.textContent = `Downloading \"${filename}\": `;\n",
              "      div.appendChild(label);\n",
              "      const progress = document.createElement('progress');\n",
              "      progress.max = size;\n",
              "      div.appendChild(progress);\n",
              "      document.body.appendChild(div);\n",
              "\n",
              "      const buffers = [];\n",
              "      let downloaded = 0;\n",
              "\n",
              "      const channel = await google.colab.kernel.comms.open(id);\n",
              "      // Send a message to notify the kernel that we're ready.\n",
              "      channel.send({})\n",
              "\n",
              "      for await (const message of channel.messages) {\n",
              "        // Send a message to notify the kernel that we're ready.\n",
              "        channel.send({})\n",
              "        if (message.buffers) {\n",
              "          for (const buffer of message.buffers) {\n",
              "            buffers.push(buffer);\n",
              "            downloaded += buffer.byteLength;\n",
              "            progress.value = downloaded;\n",
              "          }\n",
              "        }\n",
              "      }\n",
              "      const blob = new Blob(buffers, {type: 'application/binary'});\n",
              "      const a = document.createElement('a');\n",
              "      a.href = window.URL.createObjectURL(blob);\n",
              "      a.download = filename;\n",
              "      div.appendChild(a);\n",
              "      a.click();\n",
              "      div.remove();\n",
              "    }\n",
              "  "
            ]
          },
          "metadata": {}
        },
        {
          "output_type": "display_data",
          "data": {
            "text/plain": [
              "<IPython.core.display.Javascript object>"
            ],
            "application/javascript": [
              "download(\"download_580a282a-617b-492c-8e12-bb4b21cdbca5\", \"numerals_bf_20_scores.pkl\", 56977)"
            ]
          },
          "metadata": {}
        }
      ],
      "source": [
        "with open('numerals_bf_20_scores.pkl', 'wb') as file:\n",
        "    pickle.dump(all_comp_scores, file)\n",
        "files.download('numerals_bf_20_scores.pkl')"
      ]
    },
    {
      "cell_type": "code",
      "execution_count": null,
      "metadata": {
        "id": "EHTtHhZwSG9N",
        "colab": {
          "base_uri": "https://localhost:8080/",
          "height": 71
        },
        "outputId": "ce442e04-18d5-4369-b2e7-2033be072a03"
      },
      "outputs": [
        {
          "output_type": "stream",
          "name": "stdout",
          "text": [
            "\n",
            "zip error: Nothing to do! (/content/seqcont_circuits.zip)\n"
          ]
        },
        {
          "output_type": "display_data",
          "data": {
            "text/plain": [
              "<IPython.core.display.Javascript object>"
            ],
            "application/javascript": [
              "\n",
              "    async function download(id, filename, size) {\n",
              "      if (!google.colab.kernel.accessAllowed) {\n",
              "        return;\n",
              "      }\n",
              "      const div = document.createElement('div');\n",
              "      const label = document.createElement('label');\n",
              "      label.textContent = `Downloading \"${filename}\": `;\n",
              "      div.appendChild(label);\n",
              "      const progress = document.createElement('progress');\n",
              "      progress.max = size;\n",
              "      div.appendChild(progress);\n",
              "      document.body.appendChild(div);\n",
              "\n",
              "      const buffers = [];\n",
              "      let downloaded = 0;\n",
              "\n",
              "      const channel = await google.colab.kernel.comms.open(id);\n",
              "      // Send a message to notify the kernel that we're ready.\n",
              "      channel.send({})\n",
              "\n",
              "      for await (const message of channel.messages) {\n",
              "        // Send a message to notify the kernel that we're ready.\n",
              "        channel.send({})\n",
              "        if (message.buffers) {\n",
              "          for (const buffer of message.buffers) {\n",
              "            buffers.push(buffer);\n",
              "            downloaded += buffer.byteLength;\n",
              "            progress.value = downloaded;\n",
              "          }\n",
              "        }\n",
              "      }\n",
              "      const blob = new Blob(buffers, {type: 'application/binary'});\n",
              "      const a = document.createElement('a');\n",
              "      a.href = window.URL.createObjectURL(blob);\n",
              "      a.download = filename;\n",
              "      div.appendChild(a);\n",
              "      a.click();\n",
              "      div.remove();\n",
              "    }\n",
              "  "
            ]
          },
          "metadata": {}
        },
        {
          "output_type": "display_data",
          "data": {
            "text/plain": [
              "<IPython.core.display.Javascript object>"
            ],
            "application/javascript": [
              "download(\"download_8c5bed0b-5d6a-48e0-9a4b-fc06b8f3a1b9\", \"seqcont_circuits\", 4096)"
            ]
          },
          "metadata": {}
        }
      ],
      "source": [
        "!zip -r /content/seqcont_circuits\n",
        "from google.colab import files\n",
        "files.download(\"/content/seqcont_circuits\")"
      ]
    },
    {
      "cell_type": "code",
      "execution_count": null,
      "metadata": {
        "id": "5BCkixCJi7WT",
        "colab": {
          "base_uri": "https://localhost:8080/"
        },
        "outputId": "bda5211d-e76e-4dd1-8770-918185c43c8b"
      },
      "outputs": [
        {
          "output_type": "execute_result",
          "data": {
            "text/plain": [
              "[(0, 1),\n",
              " (1, 5),\n",
              " (4, 4),\n",
              " (4, 10),\n",
              " (5, 0),\n",
              " (6, 1),\n",
              " (6, 6),\n",
              " (6, 10),\n",
              " (7, 11),\n",
              " (8, 1),\n",
              " (8, 6),\n",
              " (8, 8),\n",
              " (8, 9),\n",
              " (9, 1)]"
            ]
          },
          "metadata": {},
          "execution_count": 40
        }
      ],
      "source": [
        "curr_circ_heads"
      ]
    },
    {
      "cell_type": "code",
      "execution_count": null,
      "metadata": {
        "id": "lERKLc0ci78s",
        "colab": {
          "base_uri": "https://localhost:8080/"
        },
        "outputId": "d14de9ca-77cc-4a45-d336-65af85e8072b"
      },
      "outputs": [
        {
          "output_type": "execute_result",
          "data": {
            "text/plain": [
              "[0, 1, 2, 3, 4, 6, 7, 8, 9, 10, 11]"
            ]
          },
          "metadata": {},
          "execution_count": 41
        }
      ],
      "source": [
        "curr_circ_mlps"
      ]
    },
    {
      "cell_type": "code",
      "execution_count": null,
      "metadata": {
        "id": "reNRoAgcxatI"
      },
      "outputs": [],
      "source": [
        "curr_circ_heads = [(0, 1),\n",
        " (1, 5),\n",
        " (4, 4),\n",
        " (4, 10),\n",
        " (5, 0),\n",
        " (6, 1),\n",
        " (6, 6),\n",
        " (6, 10),\n",
        " (7, 11),\n",
        " (8, 1),\n",
        " (8, 6),\n",
        " (8, 8),\n",
        " (8, 9),\n",
        " (9, 1)]\n",
        "\n",
        "curr_circ_mlps = [0, 1, 2, 3, 4, 6, 7, 8, 9, 10, 11]"
      ]
    },
    {
      "cell_type": "markdown",
      "metadata": {
        "id": "aYdAMIY6i8ly"
      },
      "source": [
        "## Find most important heads from circuit"
      ]
    },
    {
      "cell_type": "code",
      "execution_count": null,
      "metadata": {
        "id": "LG3ug2IUi90B",
        "colab": {
          "base_uri": "https://localhost:8080/"
        },
        "outputId": "57c3a4bf-099d-452e-dbd5-44b555dcd24c"
      },
      "outputs": [
        {
          "output_type": "stream",
          "name": "stdout",
          "text": [
            "(cand circuit / full) %: 81.0075\n"
          ]
        }
      ],
      "source": [
        "model.reset_hooks(including_permanent=True)  #must do this after running with mean ablation hook\n",
        "model = add_ablation_hook_MLP_head(model, dataset_2, curr_circ_heads, curr_circ_mlps)\n",
        "\n",
        "new_logits = model(dataset.toks)\n",
        "new_score = get_logit_diff(new_logits, dataset)\n",
        "circ_score = (100 * new_score / orig_score).item()\n",
        "print(f\"(cand circuit / full) %: {circ_score:.4f}\")\n",
        "\n",
        "#81"
      ]
    },
    {
      "cell_type": "code",
      "execution_count": null,
      "metadata": {
        "id": "HSdjTIEti-lo",
        "colab": {
          "base_uri": "https://localhost:8080/"
        },
        "outputId": "c9839ef1-077e-4ead-bfc1-4cee6c26e623"
      },
      "outputs": [
        {
          "output_type": "stream",
          "name": "stdout",
          "text": [
            "removed: (0, 1)\n",
            "(cand circuit / full) %: 36.7205\n",
            "removed: (1, 5)\n",
            "(cand circuit / full) %: 53.1753\n",
            "removed: (4, 4)\n",
            "(cand circuit / full) %: 47.8225\n",
            "removed: (4, 10)\n",
            "(cand circuit / full) %: 76.1406\n",
            "removed: (5, 0)\n",
            "(cand circuit / full) %: 75.9875\n",
            "removed: (6, 1)\n",
            "(cand circuit / full) %: 70.7260\n",
            "removed: (6, 6)\n",
            "(cand circuit / full) %: 73.4449\n",
            "removed: (6, 10)\n",
            "(cand circuit / full) %: 67.0089\n",
            "removed: (7, 11)\n",
            "(cand circuit / full) %: 39.3698\n",
            "removed: (8, 1)\n",
            "(cand circuit / full) %: 68.0800\n",
            "removed: (8, 6)\n",
            "(cand circuit / full) %: 69.9912\n",
            "removed: (8, 8)\n",
            "(cand circuit / full) %: 65.7819\n",
            "removed: (8, 9)\n",
            "(cand circuit / full) %: 76.9148\n",
            "removed: (9, 1)\n",
            "(cand circuit / full) %: 46.0633\n"
          ]
        }
      ],
      "source": [
        "lh_scores = {}\n",
        "for lh in curr_circ_heads:\n",
        "    copy_circuit = curr_circ_heads.copy()\n",
        "    copy_circuit.remove(lh)\n",
        "    print(\"removed: \" + str(lh))\n",
        "    model.reset_hooks(including_permanent=True)  #must do this after running with mean ablation hook\n",
        "    model = add_ablation_hook_MLP_head(model, dataset_2, copy_circuit, curr_circ_mlps)\n",
        "\n",
        "    new_logits = model(dataset.toks)\n",
        "    new_score = get_logit_diff(new_logits, dataset).item()\n",
        "    new_perc = 100 * new_score / orig_score\n",
        "    print(f\"(cand circuit / full) %: {new_perc:.4f}\")\n",
        "    lh_scores[lh] = new_perc"
      ]
    },
    {
      "cell_type": "code",
      "execution_count": null,
      "metadata": {
        "id": "w4xmW64ri_tz",
        "colab": {
          "base_uri": "https://localhost:8080/"
        },
        "outputId": "95e684fe-196c-40f4-dc14-ea44d96d036e"
      },
      "outputs": [
        {
          "output_type": "stream",
          "name": "stdout",
          "text": [
            "(0, 1) -44.29\n",
            "(7, 11) -41.64\n",
            "(9, 1) -34.94\n",
            "(4, 4) -33.18\n",
            "(1, 5) -27.83\n",
            "(8, 8) -15.23\n",
            "(6, 10) -14.0\n",
            "(8, 1) -12.93\n",
            "(8, 6) -11.02\n",
            "(6, 1) -10.28\n",
            "(6, 6) -7.56\n",
            "(5, 0) -5.02\n",
            "(4, 10) -4.87\n",
            "(8, 9) -4.09\n"
          ]
        }
      ],
      "source": [
        "sorted_lh_scores = dict(sorted(lh_scores.items(), key=lambda item: item[1]))\n",
        "for lh, score in sorted_lh_scores.items():\n",
        "    print(lh, -round(circ_score-score.item(), 2))"
      ]
    },
    {
      "cell_type": "markdown",
      "metadata": {
        "id": "SeCIIT1pdbU1"
      },
      "source": [
        "# Attention Pattern Analysis"
      ]
    },
    {
      "cell_type": "markdown",
      "metadata": {
        "id": "BSP2bz2zddfH"
      },
      "source": [
        "## Early Heads"
      ]
    },
    {
      "cell_type": "markdown",
      "metadata": {
        "id": "TRUg0nHZdelx"
      },
      "source": [
        "### Number Detection Heads"
      ]
    },
    {
      "cell_type": "code",
      "execution_count": null,
      "metadata": {
        "id": "kX4HhEFadgIK",
        "colab": {
          "base_uri": "https://localhost:8080/",
          "height": 767
        },
        "outputId": "e5da19d5-0516-4345-c6c8-7b53ca7228ba"
      },
      "outputs": [
        {
          "output_type": "display_data",
          "data": {
            "text/plain": [
              "<Figure size 1000x800 with 2 Axes>"
            ],
            "image/png": "[encoded data removed]"
          },
          "metadata": {}
        }
      ],
      "source": [
        "layer = 1\n",
        "head_ind = 5\n",
        "viz_attn_pat(\n",
        "    model,\n",
        "    tokens,\n",
        "    local_cache,\n",
        "    layer,\n",
        "    head_ind,\n",
        "    highlightLines = 'early',\n",
        "    savePlotName = f'attnpat{layer}_{head_ind}_{task}'\n",
        ")"
      ]
    },
    {
      "cell_type": "code",
      "execution_count": null,
      "metadata": {
        "id": "QcWvNfTcdjGJ",
        "colab": {
          "base_uri": "https://localhost:8080/",
          "height": 767
        },
        "outputId": "a0b1ceb4-c71b-4fd4-e269-cdad77ede3a8"
      },
      "outputs": [
        {
          "output_type": "display_data",
          "data": {
            "text/plain": [
              "<Figure size 1000x800 with 2 Axes>"
            ],
            "image/png": "[encoded data removed]"
          },
          "metadata": {}
        }
      ],
      "source": [
        "layer = 4\n",
        "head_ind = 4\n",
        "viz_attn_pat(\n",
        "    model,\n",
        "    tokens,\n",
        "    local_cache,\n",
        "    layer,\n",
        "    head_ind,\n",
        "    task,\n",
        "    highlightLines = 'early',\n",
        "    savePlotName = f'attnpat{layer}_{head_ind}_{task}'\n",
        ")"
      ]
    },
    {
      "cell_type": "markdown",
      "metadata": {
        "id": "U10KvVrxdkUZ"
      },
      "source": [
        "### Duplicate Heads"
      ]
    },
    {
      "cell_type": "code",
      "execution_count": null,
      "metadata": {
        "id": "GzVUbxkidlOc"
      },
      "outputs": [],
      "source": [
        "def viz_attnPat_dupl(\n",
        "    layer, head_index,\n",
        "    highlightLines = True\n",
        "):\n",
        "    patterns = local_cache[\"attn\", layer][:, head_index].mean(dim=0)\n",
        "    patterns_np = patterns.cpu().numpy()\n",
        "\n",
        "    str_tokens = model.to_str_tokens(tokens[0])\n",
        "    str_tokens[0] = '<END>'\n",
        "\n",
        "    mask = np.triu(np.ones_like(patterns_np, dtype=bool), k=1)\n",
        "\n",
        "    plt.figure(figsize=(10, 8))\n",
        "    ax = sns.heatmap(\n",
        "        patterns_np,\n",
        "        xticklabels=str_tokens,\n",
        "        yticklabels=str_tokens,\n",
        "        # cmap='viridis',\n",
        "        cmap = 'inferno',\n",
        "        annot=False,\n",
        "        fmt='.2f',\n",
        "        linewidths=0.1,\n",
        "        linecolor='white',\n",
        "        mask=mask\n",
        "    )\n",
        "\n",
        "    ax.set_xlabel('Key', fontsize=16, fontweight='bold')\n",
        "    ax.set_ylabel('Query', fontsize=16, fontweight='bold')\n",
        "\n",
        "    if highlightLines:\n",
        "        for i in range(0, 19):\n",
        "            rect = patches.Rectangle((i, i), 1, 1, linewidth=3.5, edgecolor='lime', facecolor='none')\n",
        "            ax.add_patch(rect)\n",
        "            rect = patches.Rectangle((i, i+5), 1, 1, linewidth=3.5, edgecolor='lime', facecolor='none')\n",
        "            ax.add_patch(rect)\n",
        "            rect = patches.Rectangle((i, i+10), 1, 1, linewidth=3.5, edgecolor='lime', facecolor='none')\n",
        "            ax.add_patch(rect)\n",
        "\n",
        "    plt.show()"
      ]
    },
    {
      "cell_type": "code",
      "execution_count": null,
      "metadata": {
        "id": "bLeL8o8NdnDD",
        "colab": {
          "base_uri": "https://localhost:8080/",
          "height": 746
        },
        "outputId": "a91813c2-e11e-4064-ffd0-c781635bd465"
      },
      "outputs": [
        {
          "output_type": "display_data",
          "data": {
            "text/plain": [
              "<Figure size 1000x800 with 2 Axes>"
            ],
            "image/png": "[encoded data removed]"
          },
          "metadata": {}
        }
      ],
      "source": [
        "def viz_attnPat_dupl(\n",
        "    layer, head_index,\n",
        "    highlightLines = True\n",
        "):\n",
        "    patterns = local_cache[\"attn\", layer][:, head_index].mean(dim=0)\n",
        "    patterns_np = patterns.cpu().numpy()\n",
        "\n",
        "    str_tokens = model.to_str_tokens(tokens[0])\n",
        "    str_tokens[0] = '<END>'\n",
        "\n",
        "    mask = np.triu(np.ones_like(patterns_np, dtype=bool), k=1)\n",
        "\n",
        "    plt.figure(figsize=(10, 8))\n",
        "    ax = sns.heatmap(\n",
        "        patterns_np,\n",
        "        xticklabels=str_tokens,\n",
        "        yticklabels=str_tokens,\n",
        "        # cmap='viridis',\n",
        "        cmap = 'inferno',\n",
        "        annot=False,\n",
        "        fmt='.2f',\n",
        "        linewidths=0.1,\n",
        "        linecolor='white',\n",
        "        # cbar_kws={'label': 'Attention Weight'}\n",
        "        mask=mask\n",
        "    )\n",
        "\n",
        "    ax.set_xlabel('Key', fontsize=16, fontweight='bold')\n",
        "    ax.set_ylabel('Query', fontsize=16, fontweight='bold')\n",
        "\n",
        "    if highlightLines:\n",
        "        import matplotlib.patches as mpatches\n",
        "\n",
        "        for i in range(0, 19):\n",
        "            rect = mpatches.Rectangle((i, i), 1, 1, linewidth=3.5, edgecolor='lime', facecolor='none')\n",
        "            ax.add_patch(rect)\n",
        "            rect = mpatches.Rectangle((i, i+5), 1, 1, linewidth=3.5, edgecolor='lime', facecolor='none')\n",
        "            ax.add_patch(rect)\n",
        "            rect = mpatches.Rectangle((i, i+10), 1, 1, linewidth=3.5, edgecolor='lime', facecolor='none')\n",
        "            ax.add_patch(rect)\n",
        "\n",
        "    plt.show()\n",
        "\n",
        "viz_attnPat_dupl(layer = 0, head_index = 1)"
      ]
    },
    {
      "cell_type": "markdown",
      "metadata": {
        "id": "c-Oo5hRAdyAJ"
      },
      "source": [
        "## Middle Heads"
      ]
    },
    {
      "cell_type": "code",
      "execution_count": null,
      "metadata": {
        "id": "tscXwwRUdz74",
        "colab": {
          "base_uri": "https://localhost:8080/",
          "height": 767
        },
        "outputId": "9852b0a9-c1eb-4a63-c606-03a415bd01eb"
      },
      "outputs": [
        {
          "output_type": "display_data",
          "data": {
            "text/plain": [
              "<Figure size 1000x800 with 2 Axes>"
            ],
            "image/png": "[encoded data removed]"
          },
          "metadata": {}
        }
      ],
      "source": [
        "layer = 7\n",
        "head_ind = 11\n",
        "viz_attn_pat(\n",
        "    model,\n",
        "    tokens,\n",
        "    local_cache,\n",
        "    layer,\n",
        "    head_ind,\n",
        "    task,\n",
        "    highlightLines = 'mid',\n",
        "    savePlotName = f'attnpat{layer}_{head_ind}_{task}'\n",
        ")"
      ]
    },
    {
      "cell_type": "markdown",
      "metadata": {
        "id": "20ty8_fjd260"
      },
      "source": [
        "Pays attention to all numbers except for the first seq member. More recent numbers are stronger."
      ]
    },
    {
      "cell_type": "markdown",
      "metadata": {
        "id": "MpJAhW6leGRq"
      },
      "source": [
        "## Late Heads"
      ]
    },
    {
      "cell_type": "code",
      "execution_count": null,
      "metadata": {
        "id": "QsGy8w7_eHn5",
        "colab": {
          "base_uri": "https://localhost:8080/",
          "height": 766
        },
        "outputId": "267b0c3f-6486-4c81-c07d-87c373f83b33"
      },
      "outputs": [
        {
          "output_type": "display_data",
          "data": {
            "text/plain": [
              "<Figure size 1000x800 with 2 Axes>"
            ],
            "image/png": "[encoded data removed]"
          },
          "metadata": {}
        }
      ],
      "source": [
        "layer = 9\n",
        "head_ind = 1\n",
        "viz_attn_pat(\n",
        "    model,\n",
        "    tokens,\n",
        "    local_cache,\n",
        "    layer,\n",
        "    head_ind,\n",
        "    task,\n",
        "    highlightLines = 'late',\n",
        "    savePlotName = f'attnpat{layer}_{head_ind}_{task}'\n",
        ")"
      ]
    },
    {
      "cell_type": "markdown",
      "metadata": {
        "id": "BfwfZvqWeJiQ"
      },
      "source": [
        "The last token pays attention to ONLY the most-recent number token"
      ]
    },
    {
      "cell_type": "code",
      "source": [
        "%cd ../../../../../../../../../../../../../../../../../../\n",
        "!zip -r /content/seqcont_circ_expms.zip /content/seqcont_circuits\n",
        "from google.colab import files\n",
        "files.download(\"/content/seqcont_circ_expms.zip\")\n",
        "files.download(\"/content/seqcont_circuits\")"
      ],
      "metadata": {
        "colab": {
          "base_uri": "https://localhost:8080/",
          "height": 1000
        },
        "id": "ORqMwt8NgQJe",
        "outputId": "304aadb9-2d6c-4d45-edf6-adadc897f4f6"
      },
      "execution_count": null,
      "outputs": [
        {
          "output_type": "stream",
          "name": "stdout",
          "text": [
            "/\n",
            "  adding: content/seqcont_circuits/ (stored 0%)\n",
            "  adding: content/seqcont_circuits/notebooks/ (stored 0%)\n",
            "  adding: content/seqcont_circuits/notebooks/gpt2_expms/ (stored 0%)\n",
            "  adding: content/seqcont_circuits/notebooks/gpt2_expms/generate_data.ipynb (deflated 66%)\n",
            "  adding: content/seqcont_circuits/notebooks/gpt2_expms/seqLen_corrToken_plot.ipynb (deflated 32%)\n",
            "  adding: content/seqcont_circuits/notebooks/gpt2_expms/iter_edge_pruning/ (stored 0%)\n",
            "  adding: content/seqcont_circuits/notebooks/gpt2_expms/iter_edge_pruning/months_iterEdgePruning.ipynb (deflated 84%)\n",
            "  adding: content/seqcont_circuits/notebooks/gpt2_expms/iter_edge_pruning/numerals_iterEdgePruning.ipynb (deflated 92%)\n",
            "  adding: content/seqcont_circuits/notebooks/gpt2_expms/iter_edge_pruning/numwords_iterEdgePruning.ipynb (deflated 92%)\n",
            "  adding: content/seqcont_circuits/notebooks/gpt2_expms/test prompts/ (stored 0%)\n",
            "  adding: content/seqcont_circuits/notebooks/gpt2_expms/test prompts/multiprompt_test_pt1.ipynb (deflated 74%)\n",
            "  adding: content/seqcont_circuits/notebooks/gpt2_expms/test prompts/shorten_len4_multiprompt.ipynb (deflated 88%)\n",
            "  adding: content/seqcont_circuits/notebooks/gpt2_expms/test prompts/multiprompt_test_pt3.ipynb (deflated 90%)\n",
            "  adding: content/seqcont_circuits/notebooks/gpt2_expms/test prompts/multiprompt_test_pt2.ipynb (deflated 88%)\n",
            "  adding: content/seqcont_circuits/notebooks/gpt2_expms/test prompts/numseq_test_prompts_SMALL.ipynb (deflated 93%)\n",
            "  adding: content/seqcont_circuits/notebooks/gpt2_expms/test prompts/numseq_prompts, small, pt2.ipynb (deflated 90%)\n",
            "  adding: content/seqcont_circuits/notebooks/gpt2_expms/attnPat/ (stored 0%)\n",
            "  adding: content/seqcont_circuits/notebooks/gpt2_expms/attnPat/months_attnpats.ipynb (deflated 37%)\n",
            "  adding: content/seqcont_circuits/notebooks/gpt2_expms/attnPat/inOrderDigitsMonths_attnPat.ipynb (deflated 69%)\n",
            "  adding: content/seqcont_circuits/notebooks/gpt2_expms/attnPat/numerals_attnpats.ipynb (deflated 53%)\n",
            "  adding: content/seqcont_circuits/notebooks/gpt2_expms/attnPat/numwords_attnpats.ipynb (deflated 50%)\n",
            "  adding: content/seqcont_circuits/notebooks/gpt2_expms/attnPat/randOrderDigitsMonths_attnPat.ipynb (deflated 69%)\n",
            "  adding: content/seqcont_circuits/notebooks/gpt2_expms/iter_node_pruning/ (stored 0%)\n",
            "  adding: content/seqcont_circuits/notebooks/gpt2_expms/iter_node_pruning/numerals_iterNodePruning.ipynb (deflated 82%)\n",
            "  adding: content/seqcont_circuits/notebooks/gpt2_expms/iter_node_pruning/numwords_iterNodePruning.ipynb (deflated 82%)\n",
            "  adding: content/seqcont_circuits/notebooks/gpt2_expms/iter_node_pruning/months_iterNodePruning.ipynb (deflated 81%)\n",
            "  adding: content/seqcont_circuits/notebooks/gpt2_expms/logit_lens/ (stored 0%)\n",
            "  adding: content/seqcont_circuits/notebooks/gpt2_expms/logit_lens/seq_cont_logit_lens.ipynb (deflated 91%)\n",
            "  adding: content/seqcont_circuits/notebooks/gpt2_expms/OV_scores/ (stored 0%)\n",
            "  adding: content/seqcont_circuits/notebooks/gpt2_expms/OV_scores/allTasks_nextScores.ipynb (deflated 90%)\n",
            "  adding: content/seqcont_circuits/notebooks/gpt2_expms/viz_circuit_diagrams/ (stored 0%)\n",
            "  adding: content/seqcont_circuits/notebooks/gpt2_expms/viz_circuit_diagrams/final_circuit.ipynb (deflated 88%)\n",
            "  adding: content/seqcont_circuits/notebooks/llama2_expms/ (stored 0%)\n",
            "  adding: content/seqcont_circuits/notebooks/llama2_expms/attn_pats/ (stored 0%)\n",
            "  adding: content/seqcont_circuits/notebooks/llama2_expms/attn_pats/Llama2_inAndRandOrder_attnPat.ipynb (deflated 59%)\n",
            "  adding: content/seqcont_circuits/notebooks/llama2_expms/attn_pats/Llama2_SPmonths_attnpats.ipynb (deflated 53%)\n",
            "  adding: content/seqcont_circuits/notebooks/llama2_expms/attn_pats/Llama2_intervals_giveFirstDigit_attnpats.ipynb (deflated 41%)\n",
            "  adding: content/seqcont_circuits/notebooks/llama2_expms/attn_pats/Llama2_intervals_attnpats.ipynb (deflated 41%)\n",
            "  adding: content/seqcont_circuits/notebooks/llama2_expms/attn_pats/Llama2_months_attnpats.ipynb (deflated 48%)\n",
            "  adding: content/seqcont_circuits/notebooks/llama2_expms/iter_node_pruning/ (stored 0%)\n",
            "  adding: content/seqcont_circuits/notebooks/llama2_expms/iter_node_pruning/Llama2_numerals_1to9.ipynb (deflated 81%)\n",
            "  adding: content/seqcont_circuits/notebooks/llama2_expms/iter_node_pruning/Llama2_numwords.ipynb (deflated 76%)\n",
            "  adding: content/seqcont_circuits/notebooks/llama2_expms/iter_node_pruning/Llama2_months.ipynb (deflated 77%)\n",
            "  adding: content/seqcont_circuits/notebooks/llama2_expms/ablate_other_tasks/ (stored 0%)\n",
            "  adding: content/seqcont_circuits/notebooks/llama2_expms/ablate_other_tasks/llama2_ablate_intervaled.ipynb (deflated 83%)\n",
            "  adding: content/seqcont_circuits/notebooks/llama2_expms/ablate_other_tasks/llama2_ablate_spanish.ipynb (deflated 88%)\n",
            "  adding: content/seqcont_circuits/notebooks/llama2_expms/ablate_other_tasks/llama2_ablate_word_problems.ipynb (deflated 88%)\n",
            "  adding: content/seqcont_circuits/notebooks/llama2_expms/ablate_other_tasks/llama2_ablate_arithmetic.ipynb (deflated 81%)\n",
            "  adding: content/seqcont_circuits/notebooks/llama2_expms/OV_scores/ (stored 0%)\n",
            "  adding: content/seqcont_circuits/notebooks/llama2_expms/OV_scores/llama2_plus2_nextScores.ipynb (deflated 89%)\n",
            "  adding: content/seqcont_circuits/data/ (stored 0%)\n",
            "  adding: content/seqcont_circuits/data/numwords/ (stored 0%)\n",
            "  adding: content/seqcont_circuits/data/numwords/randDS_numwords.pkl (deflated 84%)\n",
            "  adding: content/seqcont_circuits/data/numwords/numwords_prompts_done.pkl (deflated 88%)\n",
            "  adding: content/seqcont_circuits/data/numwords/numwords_prompts_lost.pkl (deflated 88%)\n",
            "  adding: content/seqcont_circuits/data/numwords/numwords_prompts_names.pkl (deflated 88%)\n",
            "  adding: content/seqcont_circuits/data/months/ (stored 0%)\n",
            "  adding: content/seqcont_circuits/data/months/months_prompts_lost.pkl (deflated 89%)\n",
            "  adding: content/seqcont_circuits/data/months/months_prompts_names.pkl (deflated 88%)\n",
            "  adding: content/seqcont_circuits/data/months/months_prompts_done.pkl (deflated 89%)\n",
            "  adding: content/seqcont_circuits/data/months/randDS_months.pkl (deflated 85%)\n",
            "  adding: content/seqcont_circuits/data/numerals/ (stored 0%)\n",
            "  adding: content/seqcont_circuits/data/numerals/numerals_prompts_done.pkl (deflated 87%)\n",
            "  adding: content/seqcont_circuits/data/numerals/numerals_prompts_names.pkl (deflated 87%)\n",
            "  adding: content/seqcont_circuits/data/numerals/numerals_prompts_lost.pkl (deflated 87%)\n",
            "  adding: content/seqcont_circuits/data/numerals/randDS_numerals.pkl (deflated 84%)\n",
            "  adding: content/seqcont_circuits/.git/ (stored 0%)\n",
            "  adding: content/seqcont_circuits/.git/refs/ (stored 0%)\n",
            "  adding: content/seqcont_circuits/.git/refs/tags/ (stored 0%)\n",
            "  adding: content/seqcont_circuits/.git/refs/remotes/ (stored 0%)\n",
            "  adding: content/seqcont_circuits/.git/refs/remotes/origin/ (stored 0%)\n",
            "  adding: content/seqcont_circuits/.git/refs/remotes/origin/HEAD (stored 0%)\n",
            "  adding: content/seqcont_circuits/.git/refs/heads/ (stored 0%)\n",
            "  adding: content/seqcont_circuits/.git/refs/heads/main (stored 0%)\n",
            "  adding: content/seqcont_circuits/.git/packed-refs (deflated 9%)\n",
            "  adding: content/seqcont_circuits/.git/config (deflated 35%)\n",
            "  adding: content/seqcont_circuits/.git/hooks/ (stored 0%)\n",
            "  adding: content/seqcont_circuits/.git/hooks/fsmonitor-watchman.sample (deflated 62%)\n",
            "  adding: content/seqcont_circuits/.git/hooks/update.sample (deflated 68%)\n",
            "  adding: content/seqcont_circuits/.git/hooks/push-to-checkout.sample (deflated 55%)\n",
            "  adding: content/seqcont_circuits/.git/hooks/pre-rebase.sample (deflated 59%)\n",
            "  adding: content/seqcont_circuits/.git/hooks/post-update.sample (deflated 27%)\n",
            "  adding: content/seqcont_circuits/.git/hooks/applypatch-msg.sample (deflated 42%)\n",
            "  adding: content/seqcont_circuits/.git/hooks/pre-push.sample (deflated 49%)\n",
            "  adding: content/seqcont_circuits/.git/hooks/pre-applypatch.sample (deflated 38%)\n",
            "  adding: content/seqcont_circuits/.git/hooks/pre-receive.sample (deflated 40%)\n",
            "  adding: content/seqcont_circuits/.git/hooks/pre-commit.sample (deflated 45%)\n",
            "  adding: content/seqcont_circuits/.git/hooks/prepare-commit-msg.sample (deflated 50%)\n",
            "  adding: content/seqcont_circuits/.git/hooks/commit-msg.sample (deflated 44%)\n",
            "  adding: content/seqcont_circuits/.git/hooks/pre-merge-commit.sample (deflated 39%)\n",
            "  adding: content/seqcont_circuits/.git/HEAD (stored 0%)\n",
            "  adding: content/seqcont_circuits/.git/objects/ (stored 0%)\n",
            "  adding: content/seqcont_circuits/.git/objects/pack/ (stored 0%)\n",
            "  adding: content/seqcont_circuits/.git/objects/pack/pack-ef2d03864f30301869b57c121eae99fba7ab8423.idx (deflated 2%)\n",
            "  adding: content/seqcont_circuits/.git/objects/pack/pack-ef2d03864f30301869b57c121eae99fba7ab8423.pack (deflated 0%)\n",
            "  adding: content/seqcont_circuits/.git/objects/info/ (stored 0%)\n",
            "  adding: content/seqcont_circuits/.git/branches/ (stored 0%)\n",
            "  adding: content/seqcont_circuits/.git/description (deflated 14%)\n",
            "  adding: content/seqcont_circuits/.git/logs/ (stored 0%)\n",
            "  adding: content/seqcont_circuits/.git/logs/refs/ (stored 0%)\n",
            "  adding: content/seqcont_circuits/.git/logs/refs/remotes/ (stored 0%)\n",
            "  adding: content/seqcont_circuits/.git/logs/refs/remotes/origin/ (stored 0%)\n",
            "  adding: content/seqcont_circuits/.git/logs/refs/remotes/origin/HEAD (deflated 29%)\n",
            "  adding: content/seqcont_circuits/.git/logs/refs/heads/ (stored 0%)\n",
            "  adding: content/seqcont_circuits/.git/logs/refs/heads/main (deflated 29%)\n",
            "  adding: content/seqcont_circuits/.git/logs/HEAD (deflated 29%)\n",
            "  adding: content/seqcont_circuits/.git/info/ (stored 0%)\n",
            "  adding: content/seqcont_circuits/.git/info/exclude (deflated 28%)\n",
            "  adding: content/seqcont_circuits/.git/index (deflated 57%)\n",
            "  adding: content/seqcont_circuits/LICENSE (deflated 41%)\n",
            "  adding: content/seqcont_circuits/results/ (stored 0%)\n",
            "  adding: content/seqcont_circuits/results/numwords_circuit_thres_0.8.json (deflated 72%)\n",
            "  adding: content/seqcont_circuits/results/numerals_circuit_thres_0.8.json (deflated 69%)\n",
            "  adding: content/seqcont_circuits/results/months_circuit_thres_0.8.json (deflated 68%)\n",
            "  adding: content/seqcont_circuits/.gitignore (deflated 52%)\n",
            "  adding: content/seqcont_circuits/README.md (deflated 52%)\n",
            "  adding: content/seqcont_circuits/src/ (stored 0%)\n",
            "  adding: content/seqcont_circuits/src/iter_edge_pruning/ (stored 0%)\n",
            "  adding: content/seqcont_circuits/src/iter_edge_pruning/edge_pruning_fns.py (deflated 88%)\n",
            "  adding: content/seqcont_circuits/src/iter_edge_pruning/metrics.py (deflated 63%)\n",
            "  adding: content/seqcont_circuits/src/iter_edge_pruning/viz_circuits.py (deflated 84%)\n",
            "  adding: content/seqcont_circuits/src/iter_edge_pruning/dataset.py (deflated 70%)\n",
            "  adding: content/seqcont_circuits/src/iter_edge_pruning/run_edge_ablation.py (deflated 79%)\n",
            "  adding: content/seqcont_circuits/src/attn_pats/ (stored 0%)\n",
            "  adding: content/seqcont_circuits/src/attn_pats/run_attn_pats.py (deflated 67%)\n",
            "  adding: content/seqcont_circuits/src/attn_pats/viz_attn_pat.py (deflated 65%)\n",
            "  adding: content/seqcont_circuits/src/iter_node_pruning/ (stored 0%)\n",
            "  adding: content/seqcont_circuits/src/iter_node_pruning/attnpat4_4_numerals.png (deflated 17%)\n",
            "  adding: content/seqcont_circuits/src/iter_node_pruning/loop_node_ablation_fns.py (deflated 83%)\n",
            "  adding: content/seqcont_circuits/src/iter_node_pruning/numerals_bf_20_scores.pkl (deflated 93%)\n",
            "  adding: content/seqcont_circuits/src/iter_node_pruning/__pycache__/ (stored 0%)\n",
            "  adding: content/seqcont_circuits/src/iter_node_pruning/__pycache__/node_ablation_fns.cpython-311.pyc (deflated 57%)\n",
            "  adding: content/seqcont_circuits/src/iter_node_pruning/__pycache__/head_ablation_fns.cpython-311.pyc (deflated 47%)\n",
            "  adding: content/seqcont_circuits/src/iter_node_pruning/__pycache__/metrics.cpython-311.pyc (deflated 41%)\n",
            "  adding: content/seqcont_circuits/src/iter_node_pruning/__pycache__/dataset.cpython-311.pyc (deflated 55%)\n",
            "  adding: content/seqcont_circuits/src/iter_node_pruning/__pycache__/loop_node_ablation_fns.cpython-311.pyc (deflated 63%)\n",
            "  adding: content/seqcont_circuits/src/iter_node_pruning/__pycache__/mlp_ablation_fns.cpython-311.pyc (deflated 47%)\n",
            "  adding: content/seqcont_circuits/src/iter_node_pruning/metrics.py (deflated 58%)\n",
            "  adding: content/seqcont_circuits/src/iter_node_pruning/numerals_lh_scores.pkl (deflated 60%)\n",
            "  adding: content/seqcont_circuits/src/iter_node_pruning/dataset.py (deflated 70%)\n",
            "  adding: content/seqcont_circuits/src/iter_node_pruning/mlp_ablation_fns.py (deflated 67%)\n",
            "  adding: content/seqcont_circuits/src/iter_node_pruning/node_ablation_fns.py (deflated 73%)\n",
            "  adding: content/seqcont_circuits/src/iter_node_pruning/lh_scores_distribution.pdf (deflated 31%)\n",
            "  adding: content/seqcont_circuits/src/iter_node_pruning/attnpat9_1_numerals.png (deflated 18%)\n",
            "  adding: content/seqcont_circuits/src/iter_node_pruning/head_ablation_fns.py (deflated 67%)\n",
            "  adding: content/seqcont_circuits/src/iter_node_pruning/attnpat7_11_numerals.png (deflated 18%)\n",
            "  adding: content/seqcont_circuits/src/iter_node_pruning/run_node_ablation.py (deflated 67%)\n",
            "  adding: content/seqcont_circuits/src/iter_node_pruning/attnpat1_5_numerals.png (deflated 18%)\n",
            "  adding: content/seqcont_circuits/src/logit_lens/ (stored 0%)\n",
            "  adding: content/seqcont_circuits/src/logit_lens/logit_lens_fns.py (deflated 58%)\n",
            "  adding: content/seqcont_circuits/src/logit_lens/run_logit_lens.py (deflated 61%)\n",
            "  adding: content/seqcont_circuits/src/generate_data/ (stored 0%)\n",
            "  adding: content/seqcont_circuits/src/generate_data/common_words.json (deflated 59%)\n",
            "  adding: content/seqcont_circuits/src/generate_data/run_gen_data.py (deflated 75%)\n",
            "  adding: content/seqcont_circuits/src/generate_data/generate_data.py (deflated 72%)\n",
            "  adding: content/seqcont_circuits/src/OV_scores/ (stored 0%)\n",
            "  adding: content/seqcont_circuits/src/OV_scores/OV_score_fns.py (deflated 74%)\n",
            "  adding: content/seqcont_circuits/requirements.txt (deflated 15%)\n"
          ]
        },
        {
          "output_type": "display_data",
          "data": {
            "text/plain": [
              "<IPython.core.display.Javascript object>"
            ],
            "application/javascript": [
              "\n",
              "    async function download(id, filename, size) {\n",
              "      if (!google.colab.kernel.accessAllowed) {\n",
              "        return;\n",
              "      }\n",
              "      const div = document.createElement('div');\n",
              "      const label = document.createElement('label');\n",
              "      label.textContent = `Downloading \"${filename}\": `;\n",
              "      div.appendChild(label);\n",
              "      const progress = document.createElement('progress');\n",
              "      progress.max = size;\n",
              "      div.appendChild(progress);\n",
              "      document.body.appendChild(div);\n",
              "\n",
              "      const buffers = [];\n",
              "      let downloaded = 0;\n",
              "\n",
              "      const channel = await google.colab.kernel.comms.open(id);\n",
              "      // Send a message to notify the kernel that we're ready.\n",
              "      channel.send({})\n",
              "\n",
              "      for await (const message of channel.messages) {\n",
              "        // Send a message to notify the kernel that we're ready.\n",
              "        channel.send({})\n",
              "        if (message.buffers) {\n",
              "          for (const buffer of message.buffers) {\n",
              "            buffers.push(buffer);\n",
              "            downloaded += buffer.byteLength;\n",
              "            progress.value = downloaded;\n",
              "          }\n",
              "        }\n",
              "      }\n",
              "      const blob = new Blob(buffers, {type: 'application/binary'});\n",
              "      const a = document.createElement('a');\n",
              "      a.href = window.URL.createObjectURL(blob);\n",
              "      a.download = filename;\n",
              "      div.appendChild(a);\n",
              "      a.click();\n",
              "      div.remove();\n",
              "    }\n",
              "  "
            ]
          },
          "metadata": {}
        },
        {
          "output_type": "display_data",
          "data": {
            "text/plain": [
              "<IPython.core.display.Javascript object>"
            ],
            "application/javascript": [
              "download(\"download_597574b5-434e-4e71-8858-d4c31d33f2c9\", \"seqcont_circ_expms.zip\", 26267075)"
            ]
          },
          "metadata": {}
        },
        {
          "output_type": "display_data",
          "data": {
            "text/plain": [
              "<IPython.core.display.Javascript object>"
            ],
            "application/javascript": [
              "\n",
              "    async function download(id, filename, size) {\n",
              "      if (!google.colab.kernel.accessAllowed) {\n",
              "        return;\n",
              "      }\n",
              "      const div = document.createElement('div');\n",
              "      const label = document.createElement('label');\n",
              "      label.textContent = `Downloading \"${filename}\": `;\n",
              "      div.appendChild(label);\n",
              "      const progress = document.createElement('progress');\n",
              "      progress.max = size;\n",
              "      div.appendChild(progress);\n",
              "      document.body.appendChild(div);\n",
              "\n",
              "      const buffers = [];\n",
              "      let downloaded = 0;\n",
              "\n",
              "      const channel = await google.colab.kernel.comms.open(id);\n",
              "      // Send a message to notify the kernel that we're ready.\n",
              "      channel.send({})\n",
              "\n",
              "      for await (const message of channel.messages) {\n",
              "        // Send a message to notify the kernel that we're ready.\n",
              "        channel.send({})\n",
              "        if (message.buffers) {\n",
              "          for (const buffer of message.buffers) {\n",
              "            buffers.push(buffer);\n",
              "            downloaded += buffer.byteLength;\n",
              "            progress.value = downloaded;\n",
              "          }\n",
              "        }\n",
              "      }\n",
              "      const blob = new Blob(buffers, {type: 'application/binary'});\n",
              "      const a = document.createElement('a');\n",
              "      a.href = window.URL.createObjectURL(blob);\n",
              "      a.download = filename;\n",
              "      div.appendChild(a);\n",
              "      a.click();\n",
              "      div.remove();\n",
              "    }\n",
              "  "
            ]
          },
          "metadata": {}
        },
        {
          "output_type": "display_data",
          "data": {
            "text/plain": [
              "<IPython.core.display.Javascript object>"
            ],
            "application/javascript": [
              "download(\"download_93dad64e-b605-44a5-8283-f364ee391b14\", \"seqcont_circuits\", 4096)"
            ]
          },
          "metadata": {}
        }
      ]
    },
    {
      "cell_type": "code",
      "source": [
        "%cd ../../../../../../../../../../../../../../../../../../\n",
        "!zip -r /content/seqcont_circ_expms_zip.zip /content/seqcont_circ_expms\n",
        "\n"
      ],
      "metadata": {
        "colab": {
          "base_uri": "https://localhost:8080/"
        },
        "id": "3l5D3wwPg9hU",
        "outputId": "abf72e6c-3cdc-46af-934f-33c3c892077d"
      },
      "execution_count": null,
      "outputs": [
        {
          "output_type": "stream",
          "name": "stdout",
          "text": [
            "/\n",
            "  adding: content/seqcont_circ_expms/ (stored 0%)\n",
            "  adding: content/seqcont_circ_expms/nbs_as_py/ (stored 0%)\n",
            "  adding: content/seqcont_circ_expms/nbs_as_py/iter_edge_pruning/ (stored 0%)\n",
            "  adding: content/seqcont_circ_expms/nbs_as_py/iter_edge_pruning/numwords_iteredgepruning.py (deflated 80%)\n",
            "  adding: content/seqcont_circ_expms/nbs_as_py/iter_edge_pruning/numerals_iteredgepruning.py (deflated 77%)\n",
            "  adding: content/seqcont_circ_expms/nbs_as_py/iter_edge_pruning/months_iteredgepruning.py (deflated 77%)\n",
            "  adding: content/seqcont_circ_expms/nbs_as_py/attn_pats/ (stored 0%)\n",
            "  adding: content/seqcont_circ_expms/nbs_as_py/attn_pats/randorderdigitsmonths_attnpat.py (deflated 63%)\n",
            "  adding: content/seqcont_circ_expms/nbs_as_py/attn_pats/months_attnpats.py (deflated 64%)\n",
            "  adding: content/seqcont_circ_expms/nbs_as_py/attn_pats/inorderdigitsmonths_attnpat.py (deflated 59%)\n",
            "  adding: content/seqcont_circ_expms/nbs_as_py/attn_pats/numerals_attnpats.py (deflated 66%)\n",
            "  adding: content/seqcont_circ_expms/nbs_as_py/attn_pats/numwords_attnpats.py (deflated 65%)\n",
            "  adding: content/seqcont_circ_expms/nbs_as_py/iter_node_pruning/ (stored 0%)\n",
            "  adding: content/seqcont_circ_expms/nbs_as_py/iter_node_pruning/numerals_iternodepruning.py (deflated 71%)\n",
            "  adding: content/seqcont_circ_expms/nbs_as_py/iter_node_pruning/numwords_iternodepruning.py (deflated 71%)\n",
            "  adding: content/seqcont_circ_expms/nbs_as_py/iter_node_pruning/months_iternodepruning.py (deflated 71%)\n",
            "  adding: content/seqcont_circ_expms/nbs_as_py/_run_scripts/ (stored 0%)\n",
            "  adding: content/seqcont_circ_expms/nbs_as_py/_run_scripts/run_attn_pats.py (deflated 44%)\n",
            "  adding: content/seqcont_circ_expms/nbs_as_py/_run_scripts/run_node_ablation.py (deflated 53%)\n",
            "  adding: content/seqcont_circ_expms/nbs_as_py/logit_lens/ (stored 0%)\n",
            "  adding: content/seqcont_circ_expms/nbs_as_py/logit_lens/seq_cont_logit_lens.py (deflated 80%)\n",
            "  adding: content/seqcont_circ_expms/nbs_as_py/generate_data.py (deflated 73%)\n",
            "  adding: content/seqcont_circ_expms/nbs_as_py/OV_scores/ (stored 0%)\n",
            "  adding: content/seqcont_circ_expms/nbs_as_py/OV_scores/alltasks_nextscores.py (deflated 76%)\n",
            "  adding: content/seqcont_circ_expms/notebooks/ (stored 0%)\n",
            "  adding: content/seqcont_circ_expms/notebooks/gpt2_expms/ (stored 0%)\n",
            "  adding: content/seqcont_circ_expms/notebooks/gpt2_expms/generate_data.ipynb (deflated 66%)\n",
            "  adding: content/seqcont_circ_expms/notebooks/gpt2_expms/seqLen_corrToken_plot.ipynb (deflated 32%)\n",
            "  adding: content/seqcont_circ_expms/notebooks/gpt2_expms/iter_edge_pruning/ (stored 0%)\n",
            "  adding: content/seqcont_circ_expms/notebooks/gpt2_expms/iter_edge_pruning/months_iterEdgePruning.ipynb (deflated 84%)\n",
            "  adding: content/seqcont_circ_expms/notebooks/gpt2_expms/iter_edge_pruning/numerals_iterEdgePruning.ipynb (deflated 92%)\n",
            "  adding: content/seqcont_circ_expms/notebooks/gpt2_expms/iter_edge_pruning/numwords_iterEdgePruning.ipynb (deflated 92%)\n",
            "  adding: content/seqcont_circ_expms/notebooks/gpt2_expms/test prompts/ (stored 0%)\n",
            "  adding: content/seqcont_circ_expms/notebooks/gpt2_expms/test prompts/multiprompt_test_pt1.ipynb (deflated 74%)\n",
            "  adding: content/seqcont_circ_expms/notebooks/gpt2_expms/test prompts/shorten_len4_multiprompt.ipynb (deflated 88%)\n",
            "  adding: content/seqcont_circ_expms/notebooks/gpt2_expms/test prompts/multiprompt_test_pt3.ipynb (deflated 90%)\n",
            "  adding: content/seqcont_circ_expms/notebooks/gpt2_expms/test prompts/multiprompt_test_pt2.ipynb (deflated 88%)\n",
            "  adding: content/seqcont_circ_expms/notebooks/gpt2_expms/test prompts/numseq_test_prompts_SMALL.ipynb (deflated 93%)\n",
            "  adding: content/seqcont_circ_expms/notebooks/gpt2_expms/test prompts/numseq_prompts, small, pt2.ipynb (deflated 90%)\n",
            "  adding: content/seqcont_circ_expms/notebooks/gpt2_expms/attnPat/ (stored 0%)\n",
            "  adding: content/seqcont_circ_expms/notebooks/gpt2_expms/attnPat/months_attnpats.ipynb (deflated 37%)\n",
            "  adding: content/seqcont_circ_expms/notebooks/gpt2_expms/attnPat/inOrderDigitsMonths_attnPat.ipynb (deflated 69%)\n",
            "  adding: content/seqcont_circ_expms/notebooks/gpt2_expms/attnPat/numerals_attnpats.ipynb (deflated 53%)\n",
            "  adding: content/seqcont_circ_expms/notebooks/gpt2_expms/attnPat/numwords_attnpats.ipynb (deflated 50%)\n",
            "  adding: content/seqcont_circ_expms/notebooks/gpt2_expms/attnPat/randOrderDigitsMonths_attnPat.ipynb (deflated 69%)\n",
            "  adding: content/seqcont_circ_expms/notebooks/gpt2_expms/iter_node_pruning/ (stored 0%)\n",
            "  adding: content/seqcont_circ_expms/notebooks/gpt2_expms/iter_node_pruning/numerals_iterNodePruning.ipynb (deflated 82%)\n",
            "  adding: content/seqcont_circ_expms/notebooks/gpt2_expms/iter_node_pruning/numwords_iterNodePruning.ipynb (deflated 82%)\n",
            "  adding: content/seqcont_circ_expms/notebooks/gpt2_expms/iter_node_pruning/months_iterNodePruning.ipynb (deflated 81%)\n",
            "  adding: content/seqcont_circ_expms/notebooks/gpt2_expms/logit_lens/ (stored 0%)\n",
            "  adding: content/seqcont_circ_expms/notebooks/gpt2_expms/logit_lens/seq_cont_logit_lens.ipynb (deflated 91%)\n",
            "  adding: content/seqcont_circ_expms/notebooks/gpt2_expms/OV_scores/ (stored 0%)\n",
            "  adding: content/seqcont_circ_expms/notebooks/gpt2_expms/OV_scores/allTasks_nextScores.ipynb (deflated 90%)\n",
            "  adding: content/seqcont_circ_expms/notebooks/gpt2_expms/viz_circuit_diagrams/ (stored 0%)\n",
            "  adding: content/seqcont_circ_expms/notebooks/gpt2_expms/viz_circuit_diagrams/final_circuit.ipynb (deflated 88%)\n",
            "  adding: content/seqcont_circ_expms/notebooks/llama2_expms/ (stored 0%)\n",
            "  adding: content/seqcont_circ_expms/notebooks/llama2_expms/attn_pats/ (stored 0%)\n",
            "  adding: content/seqcont_circ_expms/notebooks/llama2_expms/attn_pats/Llama2_inAndRandOrder_attnPat.ipynb (deflated 59%)\n",
            "  adding: content/seqcont_circ_expms/notebooks/llama2_expms/attn_pats/Llama2_SPmonths_attnpats.ipynb (deflated 53%)\n",
            "  adding: content/seqcont_circ_expms/notebooks/llama2_expms/attn_pats/Llama2_intervals_giveFirstDigit_attnpats.ipynb (deflated 41%)\n",
            "  adding: content/seqcont_circ_expms/notebooks/llama2_expms/attn_pats/Llama2_intervals_attnpats.ipynb (deflated 41%)\n",
            "  adding: content/seqcont_circ_expms/notebooks/llama2_expms/attn_pats/Llama2_months_attnpats.ipynb (deflated 48%)\n",
            "  adding: content/seqcont_circ_expms/notebooks/llama2_expms/iter_node_pruning/ (stored 0%)\n",
            "  adding: content/seqcont_circ_expms/notebooks/llama2_expms/iter_node_pruning/Llama2_numerals_1to9.ipynb (deflated 81%)\n",
            "  adding: content/seqcont_circ_expms/notebooks/llama2_expms/iter_node_pruning/Llama2_numwords.ipynb (deflated 76%)\n",
            "  adding: content/seqcont_circ_expms/notebooks/llama2_expms/iter_node_pruning/Llama2_months.ipynb (deflated 77%)\n",
            "  adding: content/seqcont_circ_expms/notebooks/llama2_expms/ablate_other_tasks/ (stored 0%)\n",
            "  adding: content/seqcont_circ_expms/notebooks/llama2_expms/ablate_other_tasks/llama2_ablate_intervaled.ipynb (deflated 83%)\n",
            "  adding: content/seqcont_circ_expms/notebooks/llama2_expms/ablate_other_tasks/llama2_ablate_spanish.ipynb (deflated 88%)\n",
            "  adding: content/seqcont_circ_expms/notebooks/llama2_expms/ablate_other_tasks/llama2_ablate_word_problems.ipynb (deflated 88%)\n",
            "  adding: content/seqcont_circ_expms/notebooks/llama2_expms/ablate_other_tasks/llama2_ablate_arithmetic.ipynb (deflated 81%)\n",
            "  adding: content/seqcont_circ_expms/notebooks/llama2_expms/OV_scores/ (stored 0%)\n",
            "  adding: content/seqcont_circ_expms/notebooks/llama2_expms/OV_scores/llama2_plus2_nextScores.ipynb (deflated 89%)\n",
            "  adding: content/seqcont_circ_expms/data/ (stored 0%)\n",
            "  adding: content/seqcont_circ_expms/data/numwords/ (stored 0%)\n",
            "  adding: content/seqcont_circ_expms/data/numwords/randDS_numwords.pkl (deflated 84%)\n",
            "  adding: content/seqcont_circ_expms/data/numwords/numwords_prompts_done.pkl (deflated 88%)\n",
            "  adding: content/seqcont_circ_expms/data/numwords/numwords_prompts_lost.pkl (deflated 88%)\n",
            "  adding: content/seqcont_circ_expms/data/numwords/numwords_prompts_names.pkl (deflated 88%)\n",
            "  adding: content/seqcont_circ_expms/data/months/ (stored 0%)\n",
            "  adding: content/seqcont_circ_expms/data/months/months_prompts_lost.pkl (deflated 89%)\n",
            "  adding: content/seqcont_circ_expms/data/months/months_prompts_names.pkl (deflated 88%)\n",
            "  adding: content/seqcont_circ_expms/data/months/months_prompts_done.pkl (deflated 89%)\n",
            "  adding: content/seqcont_circ_expms/data/months/randDS_months.pkl (deflated 85%)\n",
            "  adding: content/seqcont_circ_expms/data/numerals/ (stored 0%)\n",
            "  adding: content/seqcont_circ_expms/data/numerals/numerals_prompts_done.pkl (deflated 87%)\n",
            "  adding: content/seqcont_circ_expms/data/numerals/numerals_prompts_names.pkl (deflated 87%)\n",
            "  adding: content/seqcont_circ_expms/data/numerals/numerals_prompts_lost.pkl (deflated 87%)\n",
            "  adding: content/seqcont_circ_expms/data/numerals/randDS_numerals.pkl (deflated 84%)\n",
            "  adding: content/seqcont_circ_expms/.git/ (stored 0%)\n",
            "  adding: content/seqcont_circ_expms/.git/refs/ (stored 0%)\n",
            "  adding: content/seqcont_circ_expms/.git/refs/tags/ (stored 0%)\n",
            "  adding: content/seqcont_circ_expms/.git/refs/remotes/ (stored 0%)\n",
            "  adding: content/seqcont_circ_expms/.git/refs/remotes/origin/ (stored 0%)\n",
            "  adding: content/seqcont_circ_expms/.git/refs/remotes/origin/HEAD (stored 0%)\n",
            "  adding: content/seqcont_circ_expms/.git/refs/heads/ (stored 0%)\n",
            "  adding: content/seqcont_circ_expms/.git/refs/heads/main (stored 0%)\n",
            "  adding: content/seqcont_circ_expms/.git/packed-refs (deflated 8%)\n",
            "  adding: content/seqcont_circ_expms/.git/config (deflated 33%)\n",
            "  adding: content/seqcont_circ_expms/.git/hooks/ (stored 0%)\n",
            "  adding: content/seqcont_circ_expms/.git/hooks/fsmonitor-watchman.sample (deflated 62%)\n",
            "  adding: content/seqcont_circ_expms/.git/hooks/update.sample (deflated 68%)\n",
            "  adding: content/seqcont_circ_expms/.git/hooks/push-to-checkout.sample (deflated 55%)\n",
            "  adding: content/seqcont_circ_expms/.git/hooks/pre-rebase.sample (deflated 59%)\n",
            "  adding: content/seqcont_circ_expms/.git/hooks/post-update.sample (deflated 27%)\n",
            "  adding: content/seqcont_circ_expms/.git/hooks/applypatch-msg.sample (deflated 42%)\n",
            "  adding: content/seqcont_circ_expms/.git/hooks/pre-push.sample (deflated 49%)\n",
            "  adding: content/seqcont_circ_expms/.git/hooks/pre-applypatch.sample (deflated 38%)\n",
            "  adding: content/seqcont_circ_expms/.git/hooks/pre-receive.sample (deflated 40%)\n",
            "  adding: content/seqcont_circ_expms/.git/hooks/pre-commit.sample (deflated 45%)\n",
            "  adding: content/seqcont_circ_expms/.git/hooks/prepare-commit-msg.sample (deflated 50%)\n",
            "  adding: content/seqcont_circ_expms/.git/hooks/commit-msg.sample (deflated 44%)\n",
            "  adding: content/seqcont_circ_expms/.git/hooks/pre-merge-commit.sample (deflated 39%)\n",
            "  adding: content/seqcont_circ_expms/.git/HEAD (stored 0%)\n",
            "  adding: content/seqcont_circ_expms/.git/objects/ (stored 0%)\n",
            "  adding: content/seqcont_circ_expms/.git/objects/pack/ (stored 0%)\n",
            "  adding: content/seqcont_circ_expms/.git/objects/pack/pack-3923c9cace6294ceac6061079456df3763e099f4.pack (deflated 0%)\n",
            "  adding: content/seqcont_circ_expms/.git/objects/pack/pack-3923c9cace6294ceac6061079456df3763e099f4.idx (deflated 2%)\n",
            "  adding: content/seqcont_circ_expms/.git/objects/info/ (stored 0%)\n",
            "  adding: content/seqcont_circ_expms/.git/branches/ (stored 0%)\n",
            "  adding: content/seqcont_circ_expms/.git/description (deflated 14%)\n",
            "  adding: content/seqcont_circ_expms/.git/logs/ (stored 0%)\n",
            "  adding: content/seqcont_circ_expms/.git/logs/refs/ (stored 0%)\n",
            "  adding: content/seqcont_circ_expms/.git/logs/refs/remotes/ (stored 0%)\n",
            "  adding: content/seqcont_circ_expms/.git/logs/refs/remotes/origin/ (stored 0%)\n",
            "  adding: content/seqcont_circ_expms/.git/logs/refs/remotes/origin/HEAD (deflated 27%)\n",
            "  adding: content/seqcont_circ_expms/.git/logs/refs/heads/ (stored 0%)\n",
            "  adding: content/seqcont_circ_expms/.git/logs/refs/heads/main (deflated 27%)\n",
            "  adding: content/seqcont_circ_expms/.git/logs/HEAD (deflated 27%)\n",
            "  adding: content/seqcont_circ_expms/.git/info/ (stored 0%)\n",
            "  adding: content/seqcont_circ_expms/.git/info/exclude (deflated 28%)\n",
            "  adding: content/seqcont_circ_expms/.git/index (deflated 69%)\n",
            "  adding: content/seqcont_circ_expms/LICENSE (deflated 41%)\n",
            "  adding: content/seqcont_circ_expms/results/ (stored 0%)\n",
            "  adding: content/seqcont_circ_expms/results/numwords_circuit_thres_0.8.json (deflated 72%)\n",
            "  adding: content/seqcont_circ_expms/results/numerals_circuit_thres_0.8.json (deflated 69%)\n",
            "  adding: content/seqcont_circ_expms/results/months_circuit_thres_0.8.json (deflated 68%)\n",
            "  adding: content/seqcont_circ_expms/.gitignore (deflated 52%)\n",
            "  adding: content/seqcont_circ_expms/README.md (deflated 52%)\n",
            "  adding: content/seqcont_circ_expms/src/ (stored 0%)\n",
            "  adding: content/seqcont_circ_expms/src/iter_edge_pruning/ (stored 0%)\n",
            "  adding: content/seqcont_circ_expms/src/iter_edge_pruning/edge_pruning_fns.py (deflated 88%)\n",
            "  adding: content/seqcont_circ_expms/src/iter_edge_pruning/metrics.py (deflated 63%)\n",
            "  adding: content/seqcont_circ_expms/src/iter_edge_pruning/viz_circuits.py (deflated 84%)\n",
            "  adding: content/seqcont_circ_expms/src/iter_edge_pruning/dataset.py (deflated 70%)\n",
            "  adding: content/seqcont_circ_expms/src/iter_edge_pruning/run_edge_ablation.py (deflated 79%)\n",
            "  adding: content/seqcont_circ_expms/src/attn_pats/ (stored 0%)\n",
            "  adding: content/seqcont_circ_expms/src/attn_pats/__pycache__/ (stored 0%)\n",
            "  adding: content/seqcont_circ_expms/src/attn_pats/__pycache__/viz_attn_pat.cpython-311.pyc (deflated 46%)\n",
            "  adding: content/seqcont_circ_expms/src/attn_pats/run_attn_pats.py (deflated 67%)\n",
            "  adding: content/seqcont_circ_expms/src/attn_pats/viz_attn_pat.py (deflated 65%)\n",
            "  adding: content/seqcont_circ_expms/src/iter_node_pruning/ (stored 0%)\n",
            "  adding: content/seqcont_circ_expms/src/iter_node_pruning/loop_node_ablation_fns.py (deflated 83%)\n",
            "  adding: content/seqcont_circ_expms/src/iter_node_pruning/metrics.py (deflated 58%)\n",
            "  adding: content/seqcont_circ_expms/src/iter_node_pruning/dataset.py (deflated 70%)\n",
            "  adding: content/seqcont_circ_expms/src/iter_node_pruning/mlp_ablation_fns.py (deflated 67%)\n",
            "  adding: content/seqcont_circ_expms/src/iter_node_pruning/node_ablation_fns.py (deflated 73%)\n",
            "  adding: content/seqcont_circ_expms/src/iter_node_pruning/head_ablation_fns.py (deflated 68%)\n",
            "  adding: content/seqcont_circ_expms/src/iter_node_pruning/run_node_ablation.py (deflated 67%)\n",
            "  adding: content/seqcont_circ_expms/src/logit_lens/ (stored 0%)\n",
            "  adding: content/seqcont_circ_expms/src/logit_lens/logit_lens_fns.py (deflated 58%)\n",
            "  adding: content/seqcont_circ_expms/src/logit_lens/run_logit_lens.py (deflated 61%)\n",
            "  adding: content/seqcont_circ_expms/src/generate_data/ (stored 0%)\n",
            "  adding: content/seqcont_circ_expms/src/generate_data/common_words.json (deflated 59%)\n",
            "  adding: content/seqcont_circ_expms/src/generate_data/run_gen_data.py (deflated 75%)\n",
            "  adding: content/seqcont_circ_expms/src/generate_data/generate_data.py (deflated 72%)\n",
            "  adding: content/seqcont_circ_expms/src/OV_scores/ (stored 0%)\n",
            "  adding: content/seqcont_circ_expms/src/OV_scores/OV_score_fns.py (deflated 74%)\n",
            "  adding: content/seqcont_circ_expms/other_nbs_explora/ (stored 0%)\n",
            "  adding: content/seqcont_circ_expms/other_nbs_explora/llama2_seqContCircs_explora/ (stored 0%)\n",
            "  adding: content/seqcont_circ_expms/other_nbs_explora/llama2_seqContCircs_explora/lllama2_plus2_logit_lens.ipynb (deflated 88%)\n",
            "  adding: content/seqcont_circ_expms/other_nbs_explora/llama2_seqContCircs_explora/llama2_.ipynb (deflated 29%)\n",
            "  adding: content/seqcont_circ_expms/other_nbs_explora/llama2_seqContCircs_explora/ablation prompts/ (stored 0%)\n",
            "  adding: content/seqcont_circ_expms/other_nbs_explora/llama2_seqContCircs_explora/ablation prompts/llama2_ablate_prompts_explora_v2.ipynb (deflated 91%)\n",
            "  adding: content/seqcont_circ_expms/other_nbs_explora/llama2_seqContCircs_explora/ablation prompts/llama2_ablate_prompts_FRcircs.ipynb (deflated 89%)\n",
            "  adding: content/seqcont_circ_expms/other_nbs_explora/llama2_seqContCircs_explora/ablation prompts/auto_prompt_test_simple_intv_v4.ipynb (deflated 83%)\n",
            "  adding: content/seqcont_circ_expms/other_nbs_explora/llama2_seqContCircs_explora/ablation prompts/Copy of auto_prompt_test_simple_arithm_v2.ipynb (deflated 87%)\n",
            "  adding: content/seqcont_circ_expms/other_nbs_explora/llama2_seqContCircs_explora/ablation prompts/llama2_ablate_prompts_SPcircs.ipynb (deflated 89%)\n",
            "  adding: content/seqcont_circ_expms/other_nbs_explora/llama2_seqContCircs_explora/ablation prompts/llama2_ablate_prompts_explora_v1.ipynb (deflated 88%)\n",
            "  adding: content/seqcont_circ_expms/other_nbs_explora/llama2_seqContCircs_explora/ablation prompts/Copy of llama2_ablate_prompts_ENcircs_v4.ipynb (deflated 87%)\n",
            "  adding: content/seqcont_circ_expms/other_nbs_explora/llama2_seqContCircs_explora/ablation prompts/faster_ablation.ipynb (deflated 77%)\n",
            "  adding: content/seqcont_circ_expms/other_nbs_explora/llama2_seqContCircs_explora/ablation prompts/llama2_ablate_prompts_ENcircs.ipynb (deflated 89%)\n",
            "  adding: content/seqcont_circ_expms/other_nbs_explora/llama2_seqContCircs_explora/ablation prompts/auto_prompt_test_simple_arithm_v2.ipynb (deflated 83%)\n",
            "  adding: content/seqcont_circ_expms/other_nbs_explora/llama2_seqContCircs_explora/ablation prompts/llama2_ablate_prompts_SPcircs_v2.ipynb (deflated 88%)\n",
            "  adding: content/seqcont_circ_expms/other_nbs_explora/llama2_seqContCircs_explora/ablation prompts/llama2_ablate_prompts_ENcircs_v3.ipynb (deflated 86%)\n",
            "  adding: content/seqcont_circ_expms/other_nbs_explora/llama2_seqContCircs_explora/ablation prompts/llama2_testPrompts.ipynb (deflated 88%)\n",
            "  adding: content/seqcont_circ_expms/other_nbs_explora/llama2_seqContCircs_explora/ablation prompts/llama2_ablate_prompts_numwords_circ.ipynb (deflated 90%)\n",
            "  adding: content/seqcont_circ_expms/other_nbs_explora/llama2_seqContCircs_explora/ablation prompts/llama2_ablate_prompts_explora_v3.ipynb (deflated 91%)\n",
            "  adding: content/seqcont_circ_expms/other_nbs_explora/llama2_seqContCircs_explora/ablation prompts/auto_prompt_test_simple_intv_v2.ipynb (deflated 87%)\n",
            "  adding: content/seqcont_circ_expms/other_nbs_explora/llama2_seqContCircs_explora/ablation prompts/llama2_ablate_prompts_diff_circs_v2.ipynb (deflated 90%)\n",
            "  adding: content/seqcont_circ_expms/other_nbs_explora/llama2_seqContCircs_explora/ablation prompts/llama2_testPrompts_gsm8k.ipynb (deflated 87%)\n",
            "  adding: content/seqcont_circ_expms/other_nbs_explora/llama2_seqContCircs_explora/ablation prompts/Copy of auto_prompt_test_simple_intv_v3.ipynb (deflated 79%)\n",
            "  adding: content/seqcont_circ_expms/other_nbs_explora/llama2_seqContCircs_explora/ablation prompts/auto_prompt_test_simple_arithm.ipynb (deflated 87%)\n",
            "  adding: content/seqcont_circ_expms/other_nbs_explora/llama2_seqContCircs_explora/ablation prompts/llama2_ablate_prompts_ENcircs_v4.ipynb (deflated 87%)\n",
            "  adding: content/seqcont_circ_expms/other_nbs_explora/llama2_seqContCircs_explora/ablation prompts/llama2_ablate_prompts_diff_circs.ipynb (deflated 90%)\n",
            "  adding: content/seqcont_circ_expms/other_nbs_explora/llama2_seqContCircs_explora/ablation prompts/auto_prompt_test_simple_intv.ipynb (deflated 87%)\n",
            "  adding: content/seqcont_circ_expms/other_nbs_explora/llama2_seqContCircs_explora/ablation prompts/auto_prompt_test_simple_intv_noSpaceEnd.ipynb (deflated 87%)\n",
            "  adding: content/seqcont_circ_expms/other_nbs_explora/llama2_seqContCircs_explora/ablation prompts/llama2_ablate_prompts_ENcircs_v2.ipynb (deflated 86%)\n",
            "  adding: content/seqcont_circ_expms/other_nbs_explora/llama2_seqContCircs_explora/attn_pats/ (stored 0%)\n",
            "  adding: content/seqcont_circ_expms/other_nbs_explora/llama2_seqContCircs_explora/attn_pats/Llama2_inAndRandOrder_attnPat.ipynb (deflated 58%)\n",
            "  adding: content/seqcont_circ_expms/other_nbs_explora/llama2_seqContCircs_explora/attn_pats/Llama2_SPmonths_attnpats.ipynb (deflated 53%)\n",
            "  adding: content/seqcont_circ_expms/other_nbs_explora/llama2_seqContCircs_explora/attn_pats/Llama2_intervals_giveFirstDigit_attnpats.ipynb (deflated 41%)\n",
            "  adding: content/seqcont_circ_expms/other_nbs_explora/llama2_seqContCircs_explora/attn_pats/Llama2_doubleDigitNumerals_attnpats.ipynb (deflated 54%)\n",
            "  adding: content/seqcont_circ_expms/other_nbs_explora/llama2_seqContCircs_explora/attn_pats/Copy of randOrderDigitsMonths_attnPat.ipynb (deflated 62%)\n",
            "  adding: content/seqcont_circ_expms/other_nbs_explora/llama2_seqContCircs_explora/attn_pats/Llama2_intervals_attnpats.ipynb (deflated 41%)\n",
            "  adding: content/seqcont_circ_expms/other_nbs_explora/llama2_seqContCircs_explora/attn_pats/Llama2_months_attnpats.ipynb (deflated 48%)\n",
            "  adding: content/seqcont_circ_expms/other_nbs_explora/llama2_seqContCircs_explora/iter node pruning/ (stored 0%)\n",
            "  adding: content/seqcont_circ_expms/other_nbs_explora/llama2_seqContCircs_explora/iter node pruning/Llama2_singleTokMultp.ipynb (deflated 76%)\n",
            "  adding: content/seqcont_circ_expms/other_nbs_explora/llama2_seqContCircs_explora/iter node pruning/Llama2_singleDigitFibo.ipynb (deflated 78%)\n",
            "  adding: content/seqcont_circ_expms/other_nbs_explora/llama2_seqContCircs_explora/iter node pruning/Llama2_2468.ipynb (deflated 82%)\n",
            "  adding: content/seqcont_circ_expms/other_nbs_explora/llama2_seqContCircs_explora/iter node pruning/Llama2_spanish.ipynb (deflated 75%)\n",
            "  adding: content/seqcont_circ_expms/other_nbs_explora/llama2_seqContCircs_explora/iter node pruning/Llama2_numerals_multiTok.ipynb (deflated 76%)\n",
            "  adding: content/seqcont_circ_expms/other_nbs_explora/llama2_seqContCircs_explora/iter node pruning/Llama2_spanish_tokenizerV2.ipynb (deflated 75%)\n",
            "  adding: content/seqcont_circ_expms/other_nbs_explora/llama2_seqContCircs_explora/iter node pruning/Llama2_1234.ipynb (deflated 82%)\n",
            "  adding: content/seqcont_circ_expms/other_nbs_explora/llama2_seqContCircs_explora/iter node pruning/Llama2_singleTokAddition.ipynb (deflated 76%)\n",
            "  adding: content/seqcont_circ_expms/other_nbs_explora/llama2_seqContCircs_explora/iter node pruning/Llama2_numerals_1to10.ipynb (deflated 77%)\n",
            "  adding: content/seqcont_circ_expms/other_nbs_explora/llama2_seqContCircs_explora/iter node pruning/Llama_2_multiTok_1234.ipynb (deflated 76%)\n",
            "  adding: content/seqcont_circ_expms/other_nbs_explora/llama2_seqContCircs_explora/iter node pruning/Llama2_days.ipynb (deflated 75%)\n",
            "  adding: content/seqcont_circ_expms/other_nbs_explora/llama2_seqContCircs_explora/iter node pruning/Llama2_nw.ipynb (deflated 76%)\n",
            "  adding: content/seqcont_circ_expms/other_nbs_explora/llama2_seqContCircs_explora/iter node pruning/Llama2_promptsGiveFirstDigit_draft_v1.ipynb (deflated 76%)\n",
            "  adding: content/seqcont_circ_expms/other_nbs_explora/llama2_seqContCircs_explora/iter node pruning/Llama2_036.ipynb (deflated 75%)\n",
            "  adding: content/seqcont_circ_expms/other_nbs_explora/llama2_seqContCircs_explora/iter node pruning/Llama2_fibonacci.ipynb (deflated 87%)\n",
            "  adding: content/seqcont_circ_expms/other_nbs_explora/llama2_seqContCircs_explora/iter node pruning/Llama2_numerals.ipynb (deflated 75%)\n",
            "  adding: content/seqcont_circ_expms/other_nbs_explora/llama2_seqContCircs_explora/iter node pruning/Llama2_spanish_months.ipynb (deflated 79%)\n",
            "  adding: content/seqcont_circ_expms/other_nbs_explora/llama2_seqContCircs_explora/iter node pruning/Llama2_spanish_nw.ipynb (deflated 77%)\n",
            "  adding: content/seqcont_circ_expms/other_nbs_explora/llama2_seqContCircs_explora/iter node pruning/Llama2_124.ipynb (deflated 77%)\n",
            "  adding: content/seqcont_circ_expms/other_nbs_explora/llama2_seqContCircs_explora/iter node pruning/Llama2_months.ipynb (deflated 77%)\n",
            "  adding: content/seqcont_circ_expms/other_nbs_explora/llama2_seqContCircs_explora/iter node pruning/Llama2_promptsGiveFirstDigit.ipynb (deflated 75%)\n",
            "  adding: content/seqcont_circ_expms/other_nbs_explora/llama2_seqContCircs_explora/iter node pruning/Llama2_multiTok_logitDiff_+2.ipynb (deflated 77%)\n",
            "  adding: content/seqcont_circ_expms/other_nbs_explora/llama2_seqContCircs_explora/iter node pruning/Llama2_plus3seq_GiveFirstDigit.ipynb (deflated 73%)\n",
            "  adding: content/seqcont_circ_expms/other_nbs_explora/llama2_seqContCircs_explora/iter node pruning/find_circ_overlap.ipynb (deflated 79%)\n",
            "  adding: content/seqcont_circ_expms/other_nbs_explora/llama2_seqContCircs_explora/iter node pruning/Llama2_plus2seq_GiveFirstDigit.ipynb (deflated 73%)\n",
            "  adding: content/seqcont_circ_expms/other_nbs_explora/llama2_seqContCircs_explora/prompt_llama2-7b_TLgen.ipynb (deflated 91%)\n",
            "  adding: content/seqcont_circ_expms/other_nbs_explora/llama2_seqContCircs_explora/OV_scores/ (stored 0%)\n",
            "  adding: content/seqcont_circ_expms/other_nbs_explora/llama2_seqContCircs_explora/OV_scores/llama2_plus2_nextScores.ipynb (deflated 89%)\n",
            "  adding: content/seqcont_circ_expms/other_nbs_explora/gpt2_seqContCircs_explora/ (stored 0%)\n",
            "  adding: content/seqcont_circ_expms/other_nbs_explora/gpt2_seqContCircs_explora/ablate_seqcont_then_math__explora.ipynb (deflated 89%)\n",
            "  adding: content/seqcont_circ_expms/other_nbs_explora/gpt2_seqContCircs_explora/ablate_attnLayer_thenHeads/ (stored 0%)\n",
            "  adding: content/seqcont_circ_expms/other_nbs_explora/gpt2_seqContCircs_explora/ablate_attnLayer_thenHeads/ablate_attnLayer_thenHeads_GPT2.ipynb (deflated 86%)\n",
            "  adding: content/seqcont_circ_expms/other_nbs_explora/gpt2_seqContCircs_explora/test_ablate_then_modelGen.ipynb (deflated 89%)\n",
            "  adding: content/seqcont_circ_expms/other_nbs_explora/gpt2_seqContCircs_explora/test_logit_diff_multToks.ipynb (deflated 89%)\n",
            "  adding: content/seqcont_circ_expms/other_nbs_explora/gpt2_seqContCircs_explora/ablate_seqcont_thenMath_explora_v2.ipynb (deflated 89%)\n",
            "  adding: content/seqcont_circ_expms/other_nbs_explora/__nbs_as_py/ (stored 0%)\n",
            "  adding: content/seqcont_circ_expms/other_nbs_explora/__nbs_as_py/llama2_seqContCircs_explora/ (stored 0%)\n",
            "  adding: content/seqcont_circ_expms/other_nbs_explora/__nbs_as_py/llama2_seqContCircs_explora/llama2_.py (deflated 4%)\n",
            "  adding: content/seqcont_circ_expms/other_nbs_explora/__nbs_as_py/llama2_seqContCircs_explora/lllama2_plus2_logit_lens.py (deflated 71%)\n",
            "  adding: content/seqcont_circ_expms/other_nbs_explora/__nbs_as_py/llama2_seqContCircs_explora/ablation prompts/ (stored 0%)\n",
            "  adding: content/seqcont_circ_expms/other_nbs_explora/__nbs_as_py/llama2_seqContCircs_explora/ablation prompts/auto_prompt_test_simple_intv_v2.py (deflated 82%)\n",
            "  adding: content/seqcont_circ_expms/other_nbs_explora/__nbs_as_py/llama2_seqContCircs_explora/ablation prompts/llama2_ablate_prompts_diff_circs_v2.py (deflated 83%)\n",
            "  adding: content/seqcont_circ_expms/other_nbs_explora/__nbs_as_py/llama2_seqContCircs_explora/ablation prompts/llama2_testPrompts_gsm8k.py (deflated 80%)\n",
            "  adding: content/seqcont_circ_expms/other_nbs_explora/__nbs_as_py/llama2_seqContCircs_explora/ablation prompts/llama2_ablate_prompts_FRcircs.py (deflated 87%)\n",
            "  adding: content/seqcont_circ_expms/other_nbs_explora/__nbs_as_py/llama2_seqContCircs_explora/ablation prompts/llama2_ablate_prompts_ENcircs.py (deflated 90%)\n",
            "  adding: content/seqcont_circ_expms/other_nbs_explora/__nbs_as_py/llama2_seqContCircs_explora/ablation prompts/auto_prompt_test_simple_arithm.py (deflated 80%)\n",
            "  adding: content/seqcont_circ_expms/other_nbs_explora/__nbs_as_py/llama2_seqContCircs_explora/ablation prompts/llama2_ablate_prompts_SPcircs_v2.py (deflated 82%)\n",
            "  adding: content/seqcont_circ_expms/other_nbs_explora/__nbs_as_py/llama2_seqContCircs_explora/ablation prompts/faster_ablation.py (deflated 76%)\n",
            "  adding: content/seqcont_circ_expms/other_nbs_explora/__nbs_as_py/llama2_seqContCircs_explora/ablation prompts/llama2_ablate_prompts_explora_v1.py (deflated 82%)\n",
            "  adding: content/seqcont_circ_expms/other_nbs_explora/__nbs_as_py/llama2_seqContCircs_explora/ablation prompts/llama2_ablate_prompts_SPcircs.py (deflated 86%)\n",
            "  adding: content/seqcont_circ_expms/other_nbs_explora/__nbs_as_py/llama2_seqContCircs_explora/ablation prompts/Copy of auto_prompt_test_simple_intv_v3.py (deflated 80%)\n",
            "  adding: content/seqcont_circ_expms/other_nbs_explora/__nbs_as_py/llama2_seqContCircs_explora/ablation prompts/llama2_ablate_prompts_explora_v3.py (deflated 91%)\n",
            "  adding: content/seqcont_circ_expms/other_nbs_explora/__nbs_as_py/llama2_seqContCircs_explora/ablation prompts/llama2_ablate_prompts_ENcircs_v2.py (deflated 85%)\n",
            "  adding: content/seqcont_circ_expms/other_nbs_explora/__nbs_as_py/llama2_seqContCircs_explora/ablation prompts/llama2_ablate_prompts_ENcircs_v3.py (deflated 83%)\n",
            "  adding: content/seqcont_circ_expms/other_nbs_explora/__nbs_as_py/llama2_seqContCircs_explora/ablation prompts/Copy of auto_prompt_test_simple_arithm_v2.py (deflated 82%)\n",
            "  adding: content/seqcont_circ_expms/other_nbs_explora/__nbs_as_py/llama2_seqContCircs_explora/ablation prompts/Copy of llama2_ablate_prompts_ENcircs_v4.py (deflated 85%)\n",
            "  adding: content/seqcont_circ_expms/other_nbs_explora/__nbs_as_py/llama2_seqContCircs_explora/ablation prompts/llama2_ablate_prompts_ENcircs_v4.py (deflated 84%)\n",
            "  adding: content/seqcont_circ_expms/other_nbs_explora/__nbs_as_py/llama2_seqContCircs_explora/ablation prompts/auto_prompt_test_simple_intv.py (deflated 80%)\n",
            "  adding: content/seqcont_circ_expms/other_nbs_explora/__nbs_as_py/llama2_seqContCircs_explora/ablation prompts/llama2_ablate_prompts_explora_v2.py (deflated 91%)\n",
            "  adding: content/seqcont_circ_expms/other_nbs_explora/__nbs_as_py/llama2_seqContCircs_explora/ablation prompts/llama2_testPrompts.py (deflated 79%)\n",
            "  adding: content/seqcont_circ_expms/other_nbs_explora/__nbs_as_py/llama2_seqContCircs_explora/ablation prompts/llama2_ablate_prompts_diff_circs.py (deflated 81%)\n",
            "  adding: content/seqcont_circ_expms/other_nbs_explora/__nbs_as_py/llama2_seqContCircs_explora/ablation prompts/auto_prompt_test_simple_intv_v4.py (deflated 80%)\n",
            "  adding: content/seqcont_circ_expms/other_nbs_explora/__nbs_as_py/llama2_seqContCircs_explora/ablation prompts/llama2_ablate_prompts_numwords_circ.py (deflated 83%)\n",
            "  adding: content/seqcont_circ_expms/other_nbs_explora/__nbs_as_py/llama2_seqContCircs_explora/ablation prompts/auto_prompt_test_simple_arithm_v2.py (deflated 82%)\n",
            "  adding: content/seqcont_circ_expms/other_nbs_explora/__nbs_as_py/llama2_seqContCircs_explora/ablation prompts/auto_prompt_test_simple_intv_noSpaceEnd.py (deflated 81%)\n",
            "  adding: content/seqcont_circ_expms/other_nbs_explora/__nbs_as_py/llama2_seqContCircs_explora/attn_pats/ (stored 0%)\n",
            "  adding: content/seqcont_circ_expms/other_nbs_explora/__nbs_as_py/llama2_seqContCircs_explora/attn_pats/Llama2_SPmonths_attnpats.py (deflated 70%)\n",
            "  adding: content/seqcont_circ_expms/other_nbs_explora/__nbs_as_py/llama2_seqContCircs_explora/attn_pats/Llama2_doubleDigitNumerals_attnpats.py (deflated 74%)\n",
            "  adding: content/seqcont_circ_expms/other_nbs_explora/__nbs_as_py/llama2_seqContCircs_explora/attn_pats/Llama2_months_attnpats.py (deflated 72%)\n",
            "  adding: content/seqcont_circ_expms/other_nbs_explora/__nbs_as_py/llama2_seqContCircs_explora/attn_pats/Llama2_intervals_attnpats.py (deflated 86%)\n",
            "  adding: content/seqcont_circ_expms/other_nbs_explora/__nbs_as_py/llama2_seqContCircs_explora/attn_pats/Copy of randOrderDigitsMonths_attnPat.py (deflated 64%)\n",
            "  adding: content/seqcont_circ_expms/other_nbs_explora/__nbs_as_py/llama2_seqContCircs_explora/attn_pats/Llama2_intervals_giveFirstDigit_attnpats.py (deflated 86%)\n",
            "  adding: content/seqcont_circ_expms/other_nbs_explora/__nbs_as_py/llama2_seqContCircs_explora/attn_pats/Llama2_inAndRandOrder_attnPat.py (deflated 63%)\n",
            "  adding: content/seqcont_circ_expms/other_nbs_explora/__nbs_as_py/llama2_seqContCircs_explora/prompt_llama2-7b_TLgen.py (deflated 73%)\n",
            "  adding: content/seqcont_circ_expms/other_nbs_explora/__nbs_as_py/llama2_seqContCircs_explora/iter node pruning/ (stored 0%)\n",
            "  adding: content/seqcont_circ_expms/other_nbs_explora/__nbs_as_py/llama2_seqContCircs_explora/iter node pruning/Llama2_1234.py (deflated 73%)\n",
            "  adding: content/seqcont_circ_expms/other_nbs_explora/__nbs_as_py/llama2_seqContCircs_explora/iter node pruning/Llama2_spanish_nw.py (deflated 76%)\n",
            "  adding: content/seqcont_circ_expms/other_nbs_explora/__nbs_as_py/llama2_seqContCircs_explora/iter node pruning/Llama2_fibonacci.py (deflated 72%)\n",
            "  adding: content/seqcont_circ_expms/other_nbs_explora/__nbs_as_py/llama2_seqContCircs_explora/iter node pruning/Llama2_numerals_1to10.py (deflated 77%)\n",
            "  adding: content/seqcont_circ_expms/other_nbs_explora/__nbs_as_py/llama2_seqContCircs_explora/iter node pruning/Llama2_plus2seq_GiveFirstDigit.py (deflated 81%)\n",
            "  adding: content/seqcont_circ_expms/other_nbs_explora/__nbs_as_py/llama2_seqContCircs_explora/iter node pruning/Llama2_nw.py (deflated 77%)\n",
            "  adding: content/seqcont_circ_expms/other_nbs_explora/__nbs_as_py/llama2_seqContCircs_explora/iter node pruning/Llama2_promptsGiveFirstDigit_draft_v1.py (deflated 80%)\n",
            "  adding: content/seqcont_circ_expms/other_nbs_explora/__nbs_as_py/llama2_seqContCircs_explora/iter node pruning/Llama2_singleTokAddition.py (deflated 81%)\n",
            "  adding: content/seqcont_circ_expms/other_nbs_explora/__nbs_as_py/llama2_seqContCircs_explora/iter node pruning/Llama2_promptsGiveFirstDigit.py (deflated 76%)\n",
            "  adding: content/seqcont_circ_expms/other_nbs_explora/__nbs_as_py/llama2_seqContCircs_explora/iter node pruning/Llama2_months.py (deflated 76%)\n",
            "  adding: content/seqcont_circ_expms/other_nbs_explora/__nbs_as_py/llama2_seqContCircs_explora/iter node pruning/Llama2_124.py (deflated 81%)\n",
            "  adding: content/seqcont_circ_expms/other_nbs_explora/__nbs_as_py/llama2_seqContCircs_explora/iter node pruning/Llama2_numerals_multiTok.py (deflated 80%)\n",
            "  adding: content/seqcont_circ_expms/other_nbs_explora/__nbs_as_py/llama2_seqContCircs_explora/iter node pruning/Llama2_singleDigitFibo.py (deflated 81%)\n",
            "  adding: content/seqcont_circ_expms/other_nbs_explora/__nbs_as_py/llama2_seqContCircs_explora/iter node pruning/Llama2_singleTokMultp.py (deflated 81%)\n",
            "  adding: content/seqcont_circ_expms/other_nbs_explora/__nbs_as_py/llama2_seqContCircs_explora/iter node pruning/Llama_2_multiTok_1234.py (deflated 84%)\n",
            "  adding: content/seqcont_circ_expms/other_nbs_explora/__nbs_as_py/llama2_seqContCircs_explora/iter node pruning/Llama2_036.py (deflated 76%)\n",
            "  adding: content/seqcont_circ_expms/other_nbs_explora/__nbs_as_py/llama2_seqContCircs_explora/iter node pruning/Llama2_2468.py (deflated 73%)\n",
            "  adding: content/seqcont_circ_expms/other_nbs_explora/__nbs_as_py/llama2_seqContCircs_explora/iter node pruning/Llama2_multiTok_logitDiff_+2.py (deflated 85%)\n",
            "  adding: content/seqcont_circ_expms/other_nbs_explora/__nbs_as_py/llama2_seqContCircs_explora/iter node pruning/find_circ_overlap.py (deflated 77%)\n",
            "  adding: content/seqcont_circ_expms/other_nbs_explora/__nbs_as_py/llama2_seqContCircs_explora/iter node pruning/Llama2_spanish_tokenizerV2.py (deflated 72%)\n",
            "  adding: content/seqcont_circ_expms/other_nbs_explora/__nbs_as_py/llama2_seqContCircs_explora/iter node pruning/Llama2_plus3seq_GiveFirstDigit.py (deflated 81%)\n",
            "  adding: content/seqcont_circ_expms/other_nbs_explora/__nbs_as_py/llama2_seqContCircs_explora/iter node pruning/Llama2_spanish_months.py (deflated 76%)\n",
            "  adding: content/seqcont_circ_expms/other_nbs_explora/__nbs_as_py/llama2_seqContCircs_explora/iter node pruning/Llama2_spanish.py (deflated 72%)\n",
            "  adding: content/seqcont_circ_expms/other_nbs_explora/__nbs_as_py/llama2_seqContCircs_explora/iter node pruning/Llama2_numerals.py (deflated 73%)\n",
            "  adding: content/seqcont_circ_expms/other_nbs_explora/__nbs_as_py/llama2_seqContCircs_explora/iter node pruning/Llama2_days.py (deflated 76%)\n",
            "  adding: content/seqcont_circ_expms/other_nbs_explora/__nbs_as_py/llama2_seqContCircs_explora/OV_scores/ (stored 0%)\n",
            "  adding: content/seqcont_circ_expms/other_nbs_explora/__nbs_as_py/llama2_seqContCircs_explora/OV_scores/llama2_plus2_nextScores.py (deflated 79%)\n",
            "  adding: content/seqcont_circ_expms/other_nbs_explora/__nbs_as_py/download_all_as_py.py (deflated 62%)\n",
            "  adding: content/seqcont_circ_expms/other_nbs_explora/__nbs_as_py/gpt2_seqContCircs_explora/ (stored 0%)\n",
            "  adding: content/seqcont_circ_expms/other_nbs_explora/__nbs_as_py/gpt2_seqContCircs_explora/ablate_seqcont_then_math__explora.py (deflated 90%)\n",
            "  adding: content/seqcont_circ_expms/other_nbs_explora/__nbs_as_py/gpt2_seqContCircs_explora/test_logit_diff_multToks.py (deflated 78%)\n",
            "  adding: content/seqcont_circ_expms/other_nbs_explora/__nbs_as_py/gpt2_seqContCircs_explora/ablate_attnLayer_thenHeads/ (stored 0%)\n",
            "  adding: content/seqcont_circ_expms/other_nbs_explora/__nbs_as_py/gpt2_seqContCircs_explora/ablate_attnLayer_thenHeads/ablate_attnLayer_thenHeads_GPT2.py (deflated 76%)\n",
            "  adding: content/seqcont_circ_expms/other_nbs_explora/__nbs_as_py/gpt2_seqContCircs_explora/ablate_seqcont_thenMath_explora_v2.py (deflated 88%)\n",
            "  adding: content/seqcont_circ_expms/other_nbs_explora/__nbs_as_py/gpt2_seqContCircs_explora/test_ablate_then_modelGen.py (deflated 78%)\n",
            "  adding: content/seqcont_circ_expms/other_nbs_explora/__nbs_as_py/seqcont_feature_steer_explora/ (stored 0%)\n",
            "  adding: content/seqcont_circ_expms/other_nbs_explora/__nbs_as_py/seqcont_feature_steer_explora/analogous_domain_steering_gpt2xl_explora.py (deflated 80%)\n",
            "  adding: content/seqcont_circ_expms/other_nbs_explora/__nbs_as_py/seqcont_feature_steer_explora/analogous_domain_steering_llama2_explora.py (deflated 79%)\n",
            "  adding: content/seqcont_circ_expms/other_nbs_explora/__nbs_as_py/seqcont_feature_steer_explora/ActivationAddition_explora.py (deflated 71%)\n",
            "  adding: content/seqcont_circ_expms/other_nbs_explora/seqcont_feature_steer_explora/ (stored 0%)\n",
            "  adding: content/seqcont_circ_expms/other_nbs_explora/seqcont_feature_steer_explora/ActivationAddition_explora.ipynb (deflated 88%)\n",
            "  adding: content/seqcont_circ_expms/other_nbs_explora/seqcont_feature_steer_explora/analogous_domain_steering_llama2_explora.ipynb (deflated 89%)\n",
            "  adding: content/seqcont_circ_expms/other_nbs_explora/seqcont_feature_steer_explora/analogous_domain_steering_gpt2xl_explora.ipynb (deflated 89%)\n",
            "  adding: content/seqcont_circ_expms/requirements.txt (deflated 15%)\n"
          ]
        }
      ]
    }
  ],
  "metadata": {
    "accelerator": "GPU",
    "colab": {
      "gpuType": "A100",
      "machine_shape": "hm",
      "provenance": [],
      "toc_visible": true
    },
    "kernelspec": {
      "display_name": "Python 3",
      "name": "python3"
    },
    "language_info": {
      "name": "python"
    }
  },
  "nbformat": 4,
  "nbformat_minor": 0
}